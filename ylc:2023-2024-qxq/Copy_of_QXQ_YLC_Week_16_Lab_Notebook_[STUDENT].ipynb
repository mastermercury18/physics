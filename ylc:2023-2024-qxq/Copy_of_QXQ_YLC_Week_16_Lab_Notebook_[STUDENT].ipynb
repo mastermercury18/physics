{
  "cells": [
    {
      "cell_type": "markdown",
      "metadata": {
        "id": "mbZXQ3rA3NwL"
      },
      "source": [
        "# **Lab 16: Grover's Search**\n",
        "---\n",
        "\n",
        "### **Description**\n",
        "In the first three parts of today's lab, we will implement Grover's Algorithm in Cirq. Here, instead of creating the circuit gate-by-gate, we are going to use functions that are pre-defined to make the circuit for us. This approach will allow us to focus on Grover's search at a high-level. In the fourth part we will dive a little deeper and analyze the algorithm using kets.\n",
        "\n",
        "<br>\n",
        "\n",
        "### **Lab Structure**\n",
        "**Part 1**: [Defining the Size of the Problem](#p1)\n",
        "\n",
        "**Part 2**: [Setting up the Grover Problem](#p2)\n",
        "\n",
        "**Part 3**: [Visualizing the Results of Grover's Algorithm](#p3)\n",
        "\n",
        "<br>\n",
        "\n",
        "### **Learning Objectives**\n",
        "By the end of this lab, you will:\n",
        "* Understand the Grover's search algorithm.\n",
        "* Implement Grover's search from scratch for two qubits.\n",
        "\n",
        "\n",
        "<br>\n",
        "\n",
        "###**Resources**\n",
        "<br>\n",
        "\n",
        "**Before starting, run the code below to import all necessary functions and libraries.**"
      ]
    },
    {
      "cell_type": "code",
      "execution_count": null,
      "metadata": {
        "id": "YAvvLhRIoqYp",
        "colab": {
          "base_uri": "https://localhost:8080/"
        },
        "outputId": "f711d453-ec0c-47e9-a70a-3ca117aa05c8"
      },
      "outputs": [
        {
          "output_type": "stream",
          "name": "stdout",
          "text": [
            "installing cirq...\n",
            "\u001b[2K     \u001b[90m━━━━━━━━━━━━━━━━━━━━━━━━━━━━━━━━━━━━━━━━\u001b[0m \u001b[32m1.8/1.8 MB\u001b[0m \u001b[31m8.6 MB/s\u001b[0m eta \u001b[36m0:00:00\u001b[0m\n",
            "\u001b[2K     \u001b[90m━━━━━━━━━━━━━━━━━━━━━━━━━━━━━━━━━━━━━━━━\u001b[0m \u001b[32m143.1/143.1 kB\u001b[0m \u001b[31m12.4 MB/s\u001b[0m eta \u001b[36m0:00:00\u001b[0m\n",
            "\u001b[2K     \u001b[90m━━━━━━━━━━━━━━━━━━━━━━━━━━━━━━━━━━━━━━━━\u001b[0m \u001b[32m598.8/598.8 kB\u001b[0m \u001b[31m12.6 MB/s\u001b[0m eta \u001b[36m0:00:00\u001b[0m\n",
            "\u001b[2K     \u001b[90m━━━━━━━━━━━━━━━━━━━━━━━━━━━━━━━━━━━━━━━━\u001b[0m \u001b[32m60.9/60.9 kB\u001b[0m \u001b[31m6.5 MB/s\u001b[0m eta \u001b[36m0:00:00\u001b[0m\n",
            "\u001b[2K     \u001b[90m━━━━━━━━━━━━━━━━━━━━━━━━━━━━━━━━━━━━━━━━\u001b[0m \u001b[32m66.2/66.2 kB\u001b[0m \u001b[31m7.3 MB/s\u001b[0m eta \u001b[36m0:00:00\u001b[0m\n",
            "\u001b[2K     \u001b[90m━━━━━━━━━━━━━━━━━━━━━━━━━━━━━━━━━━━━━━━━\u001b[0m \u001b[32m596.5/596.5 kB\u001b[0m \u001b[31m16.2 MB/s\u001b[0m eta \u001b[36m0:00:00\u001b[0m\n",
            "\u001b[2K     \u001b[90m━━━━━━━━━━━━━━━━━━━━━━━━━━━━━━━━━━━━━━━━\u001b[0m \u001b[32m223.8/223.8 kB\u001b[0m \u001b[31m14.5 MB/s\u001b[0m eta \u001b[36m0:00:00\u001b[0m\n",
            "\u001b[2K     \u001b[90m━━━━━━━━━━━━━━━━━━━━━━━━━━━━━━━━━━━━━━━━\u001b[0m \u001b[32m229.9/229.9 kB\u001b[0m \u001b[31m14.6 MB/s\u001b[0m eta \u001b[36m0:00:00\u001b[0m\n",
            "\u001b[?25h  Preparing metadata (setup.py) ... \u001b[?25l\u001b[?25hdone\n",
            "\u001b[2K     \u001b[90m━━━━━━━━━━━━━━━━━━━━━━━━━━━━━━━━━━━━━━━━\u001b[0m \u001b[32m151.7/151.7 kB\u001b[0m \u001b[31m16.6 MB/s\u001b[0m eta \u001b[36m0:00:00\u001b[0m\n",
            "\u001b[2K     \u001b[90m━━━━━━━━━━━━━━━━━━━━━━━━━━━━━━━━━━━━━━━━\u001b[0m \u001b[32m45.6/45.6 kB\u001b[0m \u001b[31m5.4 MB/s\u001b[0m eta \u001b[36m0:00:00\u001b[0m\n",
            "\u001b[?25h  Preparing metadata (setup.py) ... \u001b[?25l\u001b[?25hdone\n",
            "\u001b[2K     \u001b[90m━━━━━━━━━━━━━━━━━━━━━━━━━━━━━━━━━━━━━━━━\u001b[0m \u001b[32m1.6/1.6 MB\u001b[0m \u001b[31m19.9 MB/s\u001b[0m eta \u001b[36m0:00:00\u001b[0m\n",
            "\u001b[2K     \u001b[90m━━━━━━━━━━━━━━━━━━━━━━━━━━━━━━━━━━━━━━━━\u001b[0m \u001b[32m151.7/151.7 kB\u001b[0m \u001b[31m12.0 MB/s\u001b[0m eta \u001b[36m0:00:00\u001b[0m\n",
            "\u001b[2K     \u001b[90m━━━━━━━━━━━━━━━━━━━━━━━━━━━━━━━━━━━━━━━━\u001b[0m \u001b[32m151.7/151.7 kB\u001b[0m \u001b[31m11.3 MB/s\u001b[0m eta \u001b[36m0:00:00\u001b[0m\n",
            "\u001b[2K     \u001b[90m━━━━━━━━━━━━━━━━━━━━━━━━━━━━━━━━━━━━━━━━\u001b[0m \u001b[32m147.4/147.4 kB\u001b[0m \u001b[31m11.5 MB/s\u001b[0m eta \u001b[36m0:00:00\u001b[0m\n",
            "\u001b[2K     \u001b[90m━━━━━━━━━━━━━━━━━━━━━━━━━━━━━━━━━━━━━━━━\u001b[0m \u001b[32m147.4/147.4 kB\u001b[0m \u001b[31m17.0 MB/s\u001b[0m eta \u001b[36m0:00:00\u001b[0m\n",
            "\u001b[2K     \u001b[90m━━━━━━━━━━━━━━━━━━━━━━━━━━━━━━━━━━━━━━━━\u001b[0m \u001b[32m147.4/147.4 kB\u001b[0m \u001b[31m17.6 MB/s\u001b[0m eta \u001b[36m0:00:00\u001b[0m\n",
            "\u001b[2K     \u001b[90m━━━━━━━━━━━━━━━━━━━━━━━━━━━━━━━━━━━━━━━━\u001b[0m \u001b[32m142.7/142.7 kB\u001b[0m \u001b[31m16.3 MB/s\u001b[0m eta \u001b[36m0:00:00\u001b[0m\n",
            "\u001b[2K     \u001b[90m━━━━━━━━━━━━━━━━━━━━━━━━━━━━━━━━━━━━━━━━\u001b[0m \u001b[32m85.5/85.5 kB\u001b[0m \u001b[31m7.3 MB/s\u001b[0m eta \u001b[36m0:00:00\u001b[0m\n",
            "\u001b[2K     \u001b[90m━━━━━━━━━━━━━━━━━━━━━━━━━━━━━━━━━━━━━━━━\u001b[0m \u001b[32m85.1/85.1 kB\u001b[0m \u001b[31m6.7 MB/s\u001b[0m eta \u001b[36m0:00:00\u001b[0m\n",
            "\u001b[2K     \u001b[90m━━━━━━━━━━━━━━━━━━━━━━━━━━━━━━━━━━━━━━━━\u001b[0m \u001b[32m84.7/84.7 kB\u001b[0m \u001b[31m10.3 MB/s\u001b[0m eta \u001b[36m0:00:00\u001b[0m\n",
            "\u001b[2K     \u001b[90m━━━━━━━━━━━━━━━━━━━━━━━━━━━━━━━━━━━━━━━━\u001b[0m \u001b[32m83.6/83.6 kB\u001b[0m \u001b[31m8.0 MB/s\u001b[0m eta \u001b[36m0:00:00\u001b[0m\n",
            "\u001b[2K     \u001b[90m━━━━━━━━━━━━━━━━━━━━━━━━━━━━━━━━━━━━━━━━\u001b[0m \u001b[32m83.3/83.3 kB\u001b[0m \u001b[31m10.0 MB/s\u001b[0m eta \u001b[36m0:00:00\u001b[0m\n",
            "\u001b[2K     \u001b[90m━━━━━━━━━━━━━━━━━━━━━━━━━━━━━━━━━━━━━━━━\u001b[0m \u001b[32m83.4/83.4 kB\u001b[0m \u001b[31m8.3 MB/s\u001b[0m eta \u001b[36m0:00:00\u001b[0m\n",
            "\u001b[2K     \u001b[90m━━━━━━━━━━━━━━━━━━━━━━━━━━━━━━━━━━━━━━━━\u001b[0m \u001b[32m83.2/83.2 kB\u001b[0m \u001b[31m9.7 MB/s\u001b[0m eta \u001b[36m0:00:00\u001b[0m\n",
            "\u001b[2K     \u001b[90m━━━━━━━━━━━━━━━━━━━━━━━━━━━━━━━━━━━━━━━━\u001b[0m \u001b[32m82.5/82.5 kB\u001b[0m \u001b[31m9.3 MB/s\u001b[0m eta \u001b[36m0:00:00\u001b[0m\n",
            "\u001b[2K     \u001b[90m━━━━━━━━━━━━━━━━━━━━━━━━━━━━━━━━━━━━━━━━\u001b[0m \u001b[32m81.0/81.0 kB\u001b[0m \u001b[31m9.8 MB/s\u001b[0m eta \u001b[36m0:00:00\u001b[0m\n",
            "\u001b[2K     \u001b[90m━━━━━━━━━━━━━━━━━━━━━━━━━━━━━━━━━━━━━━━━\u001b[0m \u001b[32m81.0/81.0 kB\u001b[0m \u001b[31m8.5 MB/s\u001b[0m eta \u001b[36m0:00:00\u001b[0m\n",
            "\u001b[2K     \u001b[90m━━━━━━━━━━━━━━━━━━━━━━━━━━━━━━━━━━━━━━━━\u001b[0m \u001b[32m80.8/80.8 kB\u001b[0m \u001b[31m7.8 MB/s\u001b[0m eta \u001b[36m0:00:00\u001b[0m\n",
            "\u001b[2K     \u001b[90m━━━━━━━━━━━━━━━━━━━━━━━━━━━━━━━━━━━━━━━━\u001b[0m \u001b[32m80.7/80.7 kB\u001b[0m \u001b[31m9.3 MB/s\u001b[0m eta \u001b[36m0:00:00\u001b[0m\n",
            "\u001b[2K     \u001b[90m━━━━━━━━━━━━━━━━━━━━━━━━━━━━━━━━━━━━━━━━\u001b[0m \u001b[32m81.5/81.5 kB\u001b[0m \u001b[31m7.3 MB/s\u001b[0m eta \u001b[36m0:00:00\u001b[0m\n",
            "\u001b[2K     \u001b[90m━━━━━━━━━━━━━━━━━━━━━━━━━━━━━━━━━━━━━━━━\u001b[0m \u001b[32m90.4/90.4 kB\u001b[0m \u001b[31m10.2 MB/s\u001b[0m eta \u001b[36m0:00:00\u001b[0m\n",
            "\u001b[2K     \u001b[90m━━━━━━━━━━━━━━━━━━━━━━━━━━━━━━━━━━━━━━━━\u001b[0m \u001b[32m117.7/117.7 kB\u001b[0m \u001b[31m12.3 MB/s\u001b[0m eta \u001b[36m0:00:00\u001b[0m\n",
            "\u001b[2K     \u001b[90m━━━━━━━━━━━━━━━━━━━━━━━━━━━━━━━━━━━━━━━━\u001b[0m \u001b[32m60.6/60.6 kB\u001b[0m \u001b[31m6.9 MB/s\u001b[0m eta \u001b[36m0:00:00\u001b[0m\n",
            "\u001b[2K     \u001b[90m━━━━━━━━━━━━━━━━━━━━━━━━━━━━━━━━━━━━━━━━\u001b[0m \u001b[32m71.5/71.5 kB\u001b[0m \u001b[31m8.3 MB/s\u001b[0m eta \u001b[36m0:00:00\u001b[0m\n",
            "\u001b[2K     \u001b[90m━━━━━━━━━━━━━━━━━━━━━━━━━━━━━━━━━━━━━━━━\u001b[0m \u001b[32m3.1/3.1 MB\u001b[0m \u001b[31m27.6 MB/s\u001b[0m eta \u001b[36m0:00:00\u001b[0m\n",
            "\u001b[2K     \u001b[90m━━━━━━━━━━━━━━━━━━━━━━━━━━━━━━━━━━━━━━━━\u001b[0m \u001b[32m1.7/1.7 MB\u001b[0m \u001b[31m31.6 MB/s\u001b[0m eta \u001b[36m0:00:00\u001b[0m\n",
            "\u001b[2K     \u001b[90m━━━━━━━━━━━━━━━━━━━━━━━━━━━━━━━━━━━━━━━━\u001b[0m \u001b[32m117.8/117.8 kB\u001b[0m \u001b[31m12.4 MB/s\u001b[0m eta \u001b[36m0:00:00\u001b[0m\n",
            "\u001b[2K     \u001b[90m━━━━━━━━━━━━━━━━━━━━━━━━━━━━━━━━━━━━━━━━\u001b[0m \u001b[32m69.6/69.6 kB\u001b[0m \u001b[31m6.7 MB/s\u001b[0m eta \u001b[36m0:00:00\u001b[0m\n",
            "\u001b[2K     \u001b[90m━━━━━━━━━━━━━━━━━━━━━━━━━━━━━━━━━━━━━━━━\u001b[0m \u001b[32m526.7/526.7 kB\u001b[0m \u001b[31m35.4 MB/s\u001b[0m eta \u001b[36m0:00:00\u001b[0m\n",
            "\u001b[2K     \u001b[90m━━━━━━━━━━━━━━━━━━━━━━━━━━━━━━━━━━━━━━━━\u001b[0m \u001b[32m58.3/58.3 kB\u001b[0m \u001b[31m7.0 MB/s\u001b[0m eta \u001b[36m0:00:00\u001b[0m\n",
            "\u001b[?25h  Building wheel for lark (setup.py) ... \u001b[?25l\u001b[?25hdone\n",
            "  Building wheel for rpcq (setup.py) ... \u001b[?25l\u001b[?25hdone\n",
            "\u001b[31mERROR: pip's dependency resolver does not currently take into account all the packages that are installed. This behaviour is the source of the following dependency conflicts.\n",
            "lida 0.0.10 requires fastapi, which is not installed.\n",
            "lida 0.0.10 requires kaleido, which is not installed.\n",
            "lida 0.0.10 requires python-multipart, which is not installed.\n",
            "lida 0.0.10 requires uvicorn, which is not installed.\n",
            "llmx 0.0.15a0 requires cohere, which is not installed.\n",
            "llmx 0.0.15a0 requires openai, which is not installed.\n",
            "llmx 0.0.15a0 requires tiktoken, which is not installed.\n",
            "referencing 0.33.0 requires attrs>=22.2.0, but you have attrs 21.4.0 which is incompatible.\u001b[0m\u001b[31m\n",
            "\u001b[0minstalled cirq.\n",
            "Libraries Imported Successfully!\n"
          ]
        }
      ],
      "source": [
        "import numpy as np\n",
        "import math\n",
        "import scipy\n",
        "try:\n",
        "    import cirq\n",
        "except ImportError:\n",
        "    print(\"installing cirq...\")\n",
        "    !pip install cirq --quiet\n",
        "    import cirq\n",
        "    print(\"installed cirq.\")\n",
        "\n",
        "import random\n",
        "import matplotlib.pyplot as plt\n",
        "\n",
        "import warnings\n",
        "warnings.filterwarnings(\"ignore\")\n",
        "\n",
        "print(\"Libraries Imported Successfully!\")"
      ]
    },
    {
      "cell_type": "markdown",
      "metadata": {
        "id": "idga37M2FsMR"
      },
      "source": [
        "<a name=\"p1\"></a>\n",
        "\n",
        "---\n",
        "## **Part 1: Defining the size of the problem**\n",
        "---\n",
        "\n",
        "In this part, we will set up the search problem by specifying the number of choices we are searching through, and the choice we are searching for. Remember that in a search problem, we know what we are looking for - we just don't know where it is located."
      ]
    },
    {
      "cell_type": "markdown",
      "metadata": {
        "id": "E90o2LJcwsMI"
      },
      "source": [
        "#### **Problem #1.1**\n",
        "**Together,** let's create a variable named `number_choices` and set it equal to 4. This is the total number of choices we will search through.\n",
        "\n",
        "Let's create a second variable named `correct_choice` and set it equal to 2. This is the number of the choice you are searching for."
      ]
    },
    {
      "cell_type": "code",
      "execution_count": null,
      "metadata": {
        "id": "ef77ha0_x9a_"
      },
      "outputs": [],
      "source": [
        "number_choices = 4\n",
        "correct_choice = 2"
      ]
    },
    {
      "cell_type": "markdown",
      "metadata": {
        "id": "qu9c5nvQCBPX"
      },
      "source": [
        "#### **Problem #1.2**\n",
        "**Together**, let's determine how many qubits would be needed in Grover's algorithm for the number of choices we entered."
      ]
    },
    {
      "cell_type": "code",
      "execution_count": null,
      "metadata": {
        "id": "GK5ZFdtCvLmu"
      },
      "outputs": [],
      "source": [
        "\"Get qubits to use in the circuit for Grover's algorithm.\"\n",
        "nqubits = 2"
      ]
    },
    {
      "cell_type": "markdown",
      "metadata": {
        "id": "H7ORnYAOEVNk"
      },
      "source": [
        "#### **Problem #1.3**\n",
        "\n",
        "**Together**, let's run the code below to create a binary representation of each of the `number_choices` that you entered.\n",
        "\n",
        "**This is important** because these binary representations will then get encoded into the corresponding quantum state."
      ]
    },
    {
      "cell_type": "code",
      "execution_count": null,
      "metadata": {
        "id": "Rv91EPyiEYO2"
      },
      "outputs": [],
      "source": [
        "def generate_binary_strings(number_choices):\n",
        "    n = int(math.log(number_choices,2))\n",
        "    binary_strings = []\n",
        "    for i in range(2**n):\n",
        "        binary_string = bin(i)[2:].zfill(n)\n",
        "        binary_strings.append(binary_string)\n",
        "    return binary_strings"
      ]
    },
    {
      "cell_type": "markdown",
      "metadata": {
        "id": "AV_AWeU7Lt6H"
      },
      "source": [
        "#### **Problem #1.4**\n",
        "**Independently,** utilizing the provided function, generate a list named `ls`, that contains the binary representation of each of the`number_choices`."
      ]
    },
    {
      "cell_type": "code",
      "execution_count": null,
      "metadata": {
        "id": "FIczCG-TLpB1",
        "colab": {
          "base_uri": "https://localhost:8080/"
        },
        "outputId": "bd164596-3823-407f-ef1c-750a74e7118d"
      },
      "outputs": [
        {
          "output_type": "execute_result",
          "data": {
            "text/plain": [
              "['00', '01', '10', '11']"
            ]
          },
          "metadata": {},
          "execution_count": 10
        }
      ],
      "source": [
        "ls = generate_binary_strings(number_choices) # COMPLETE THIS CODE\n",
        "ls"
      ]
    },
    {
      "cell_type": "markdown",
      "metadata": {
        "id": "XvDIuw6vlsKN"
      },
      "source": [
        "<a name=\"p2\"></a>\n",
        "\n",
        "---\n",
        "## **Part 2: Setting up the Grover Problem**\n",
        "---\n",
        "\n",
        "In this part, we will create the oracle that sets the marked item. This oracle use an extra qubit (called an \"ancilla\").\n"
      ]
    },
    {
      "cell_type": "markdown",
      "metadata": {
        "id": "ApCmfZIh-ecP"
      },
      "source": [
        "#### **Problem #2.1**\n",
        "\n",
        "**Together**, let's run the code below to create the oracle, and then use it to create the search problem."
      ]
    },
    {
      "cell_type": "code",
      "execution_count": null,
      "metadata": {
        "id": "_TvLwwZv-ecQ"
      },
      "outputs": [],
      "source": [
        "def make_oracle(qubits, ancilla, marked_bitstring):\n",
        "    \"\"\"Implements the function {f(x) = 1 if x == x', f(x) = 0 if x != x'}.\"\"\"\n",
        "    # For x' = (1, 1), the oracle is just a Toffoli gate.\n",
        "    # For a general x', we negate the zero bits and implement a Toffoli.\n",
        "\n",
        "    # Negate zero bits, if necessary.\n",
        "    for (q, bit) in zip(qubits, marked_bitstring):\n",
        "        if not bit:\n",
        "            yield (cirq.X(q))\n",
        "    # Do the Toffoli. change this to MCX for a generalized oracle\n",
        "    #yield (cirq.TOFFOLI(qubits[0], qubits[1], ancilla))\n",
        "    # controls = len(qubits) -1\n",
        "    controls = len(qubits)\n",
        "    mcx_gate = cirq.ControlledGate(sub_gate=cirq.X, num_controls=controls)\n",
        "    yield (mcx_gate(*qubits, ancilla))\n",
        "\n",
        "    # Negate zero bits, if necessary.\n",
        "    for (q, bit) in zip(qubits, marked_bitstring):\n",
        "        if not bit:\n",
        "            yield (cirq.X(q))"
      ]
    },
    {
      "cell_type": "markdown",
      "metadata": {
        "id": "9JhE3WYLQCUi"
      },
      "source": [
        "#### **Problem #2.2**\n",
        "\n",
        "**Together**, let's run the code below to create the Grover iteration, that appends `reps` repititions of the oracle and the diffuser to the circuit."
      ]
    },
    {
      "cell_type": "code",
      "execution_count": null,
      "metadata": {
        "id": "U8_LavcnQCUi"
      },
      "outputs": [],
      "source": [
        "def grover_iteration(qubits, ancilla, marked_bitstring, reps=1):\n",
        "    \"\"\"Performs one round of the Grover iteration.\"\"\"\n",
        "    circuit = cirq.Circuit()\n",
        "\n",
        "    # Create an equal superposition over input qubits.\n",
        "    circuit.append(cirq.H.on_each(*qubits))\n",
        "\n",
        "    # Put the output qubit in the |-⟩ state.\n",
        "    circuit.append([cirq.X(ancilla), cirq.H(ancilla)])\n",
        "    for r in range(reps):\n",
        "        # Query the oracle.\n",
        "        # circuit.append(oracle)\n",
        "        for (q, bit) in zip(qubits, marked_bitstring):\n",
        "            if not bit:\n",
        "                circuit.append([cirq.X(q)])\n",
        "        # Do the Toffoli. change this to MCX for a generalized oracle\n",
        "        #yield (cirq.TOFFOLI(qubits[0], qubits[1], ancilla))\n",
        "        # controls = len(qubits) -1\n",
        "        controls = len(qubits)\n",
        "        mcx_gate = cirq.ControlledGate(sub_gate=cirq.X, num_controls=controls)\n",
        "        circuit.append([mcx_gate(*qubits, ancilla)])\n",
        "\n",
        "        # Negate zero bits, if necessary.\n",
        "        for (q, bit) in zip(qubits, marked_bitstring):\n",
        "            if not bit:\n",
        "                circuit.append([cirq.X(q)])\n",
        "\n",
        "        # Construct Grover operator.\n",
        "        circuit.append(cirq.H.on_each(*qubits))\n",
        "        circuit.append(cirq.X.on_each(*qubits))\n",
        "\n",
        "        # circuit.append(cirq.H.on(qubits[-1]))\n",
        "        controls = len(qubits)\n",
        "        mcx_gate = cirq.ControlledGate(sub_gate=cirq.X, num_controls=controls)\n",
        "        mcx_op = mcx_gate(*qubits, ancilla)\n",
        "        circuit.append(mcx_op)\n",
        "        # circuit.append(cirq.H.on(qubits[-1]))\n",
        "\n",
        "        circuit.append(cirq.X.on_each(*qubits))\n",
        "        circuit.append(cirq.H.on_each(*qubits))\n",
        "\n",
        "    # Measure the input register.\n",
        "    circuit.append(cirq.measure(*qubits, key=\"result\"))\n",
        "\n",
        "    return circuit"
      ]
    },
    {
      "cell_type": "markdown",
      "metadata": {
        "id": "VndiLqlpQCUj"
      },
      "source": [
        "#### **Problem #2.3**\n",
        "\n",
        "**Together**, initialize two qubit registers:\n",
        "- `qubits`: a `LineQubit` of size `nqubits`\n",
        "- `ancilla`: a `NamedQubit` with the name \"Ancilla\""
      ]
    },
    {
      "cell_type": "code",
      "execution_count": null,
      "metadata": {
        "id": "udXe3kIIQCUj"
      },
      "outputs": [],
      "source": [
        "# Get qubit registers.\n",
        "qubits = cirq.LineQubit.range(nqubits)\n",
        "ancilla = cirq.NamedQubit(\"Ancilla\")"
      ]
    },
    {
      "cell_type": "code",
      "source": [],
      "metadata": {
        "id": "6FfF1Hd9nwYY"
      },
      "execution_count": null,
      "outputs": []
    },
    {
      "cell_type": "markdown",
      "metadata": {
        "id": "shtA8rbfQCUj"
      },
      "source": [
        "#### **Problem #2.4**\n",
        "**Together**, let's run the code below to prepare a state `marked_bitstring` which converts our choice to a list of bits denoting the binary representation of the number choice. Then, print `marked_bitstring`."
      ]
    },
    {
      "cell_type": "code",
      "execution_count": null,
      "metadata": {
        "id": "wDdRIcskQCUj"
      },
      "outputs": [],
      "source": [
        "def get_marked_bitstring(correct_choice, nqubits):\n",
        "    binary_representation = list(bin(correct_choice)[2:])\n",
        "    marked_bitstring = [eval(i) for i in binary_representation]\n",
        "    desired_length = nqubits\n",
        "    marked_bitstring = [0] * (desired_length - len(marked_bitstring)) + marked_bitstring\n",
        "    return marked_bitstring"
      ]
    },
    {
      "cell_type": "code",
      "execution_count": null,
      "metadata": {
        "id": "gsen5HSfQCUk"
      },
      "outputs": [],
      "source": [
        "marked_bitstring = get_marked_bitstring(correct_choice, nqubits)"
      ]
    },
    {
      "cell_type": "code",
      "source": [
        "print(marked_bitstring) # COMPLETE THIS CODE"
      ],
      "metadata": {
        "id": "mJgj-wgaVJYl",
        "colab": {
          "base_uri": "https://localhost:8080/"
        },
        "outputId": "2188af58-7c0a-4f6a-d679-859d7ef38777"
      },
      "execution_count": null,
      "outputs": [
        {
          "output_type": "stream",
          "name": "stdout",
          "text": [
            "[1, 0]\n"
          ]
        }
      ]
    },
    {
      "cell_type": "markdown",
      "metadata": {
        "id": "CH7NyKWPQCUk"
      },
      "source": [
        "#### **Problem #2.5**\n",
        "\n",
        "**Independently**, let's create the Grover circuit using the functions defined above.\n"
      ]
    },
    {
      "cell_type": "code",
      "execution_count": null,
      "metadata": {
        "id": "ob_foOQ2QCUk"
      },
      "outputs": [],
      "source": [
        "\"\"\"Create the circuit for Grover's algorithm.\"\"\"\n",
        "# Make oracle (black box)\n",
        "oracle = make_oracle(qubits, ancilla, marked_bitstring) # COMPLETE THIS CODE\n",
        "\n",
        "# Embed the oracle into a quantum circuit implementing Grover's algorithm.\n",
        "circuit = grover_iteration(qubits, ancilla, marked_bitstring, reps = 2)# COMPLETE THIS CODE\n",
        "\n"
      ]
    },
    {
      "cell_type": "markdown",
      "metadata": {
        "id": "M6H_u-SG8LPU"
      },
      "source": [
        "#### **Problem #2.6**\n",
        "\n",
        "**Independently**, print our circuit."
      ]
    },
    {
      "cell_type": "code",
      "execution_count": null,
      "metadata": {
        "id": "Eh0t0-d-wbW9",
        "colab": {
          "base_uri": "https://localhost:8080/"
        },
        "outputId": "3e5e9af8-bb50-4416-8788-cc08e7b7973d"
      },
      "outputs": [
        {
          "output_type": "stream",
          "name": "stdout",
          "text": [
            "Circuit for Grover's algorithm:\n",
            "0: ─────────H───────@───H───X───────@───X───H───────@───H───X───────@───X───H───M('result')───\n",
            "                    │               │               │               │           │\n",
            "1: ─────────H───X───@───X───H───X───@───X───H───X───@───X───H───X───@───X───H───M─────────────\n",
            "                    │               │               │               │\n",
            "Ancilla: ───X───H───X───────────────X───────────────X───────────────X─────────────────────────\n"
          ]
        }
      ],
      "source": [
        "print(\"Circuit for Grover's algorithm:\")\n",
        "print(circuit)"
      ]
    },
    {
      "cell_type": "markdown",
      "metadata": {
        "id": "rK_mBaHsJjC-"
      },
      "source": [
        "<a name=\"p3\"></a>\n",
        "\n",
        "---\n",
        "## **Part 3: Visualizing the Results of Grover's Algorithm**\n",
        "---\n",
        "In the final part of implementing Grover's Algorithm, we will extract the results from running the algorithm and plot the results. The results will be shown in the form of the measurement probabilities of all the different choices."
      ]
    },
    {
      "cell_type": "markdown",
      "source": [
        "####**Problem #3.1**\n",
        "**Together**, run the cell below to see the first measurement results."
      ],
      "metadata": {
        "id": "ub2BVmsiaBtB"
      }
    },
    {
      "cell_type": "code",
      "source": [
        "\"\"\"Simulate the circuit for Grover's algorithm and check the output.\"\"\"\n",
        "# Helper function.\n",
        "def bitstring(bits):\n",
        "    return \"\".join(str(int(b)) for b in bits)\n",
        "\n",
        "def binary_labels(num_qubits):\n",
        "    return [bin(x)[2:].zfill(num_qubits) for x in range(2 ** num_qubits)]\n",
        "\n",
        "# Sample from the circuit a couple times.\n",
        "simulator = cirq.Simulator()\n",
        "result = simulator.run(circuit, repetitions = 1024)\n",
        "\n",
        "# Look at the sampled bitstrings.\n",
        "frequencies = result.histogram(key=\"result\", fold_func=bitstring)\n",
        "print('Sampled results:\\n{}'.format(frequencies))\n",
        "\n",
        "# Check if we actually found the secret value.\n",
        "most_common_bitstring = frequencies.most_common(1)[0][0]\n",
        "print(\"\\nMost common bitstring: {}\".format(most_common_bitstring))\n",
        "print(\"Found a match? {}\".format(most_common_bitstring == bitstring(marked_bitstring)))"
      ],
      "metadata": {
        "id": "wtYqcLmTZ3DT",
        "colab": {
          "base_uri": "https://localhost:8080/"
        },
        "outputId": "dc58404b-e09c-4183-8fd2-77672507e2ec"
      },
      "execution_count": null,
      "outputs": [
        {
          "output_type": "stream",
          "name": "stdout",
          "text": [
            "Sampled results:\n",
            "Counter({'10': 279, '00': 274, '11': 242, '01': 229})\n",
            "\n",
            "Most common bitstring: 10\n",
            "Found a match? True\n"
          ]
        }
      ]
    },
    {
      "cell_type": "markdown",
      "metadata": {
        "id": "hWUj2KtsNA5I"
      },
      "source": [
        "#### **Problem #3.2**\n",
        "**Independently**, visualize the measurement outcomes you get with zero grover iterations on a histogram. Do the results make sense?"
      ]
    },
    {
      "cell_type": "code",
      "execution_count": null,
      "metadata": {
        "id": "RmG8d_-ZmBxz",
        "colab": {
          "base_uri": "https://localhost:8080/",
          "height": 579
        },
        "outputId": "bb78bff7-35cf-42a8-a39f-7e8b21c75e90"
      },
      "outputs": [
        {
          "output_type": "stream",
          "name": "stdout",
          "text": [
            "Circuit for Grover's algorithm:\n",
            "0: ─────────H───────@───H───X───────@───X───H───M('result')───\n",
            "                    │               │           │\n",
            "1: ─────────H───X───@───X───H───X───@───X───H───M─────────────\n",
            "                    │               │\n",
            "Ancilla: ───X───H───X───────────────X─────────────────────────\n"
          ]
        },
        {
          "output_type": "display_data",
          "data": {
            "text/plain": [
              "<Figure size 640x480 with 1 Axes>"
            ],
            "image/png": "[encoded data removed]"
          },
          "metadata": {}
        }
      ],
      "source": [
        "\"\"\"Create the circuit for Grover's algorithm.\"\"\"\n",
        "\n",
        "# Embed the oracle into a quantum circuit implementing Grover's algorithm.\n",
        "circuit = grover_iteration(qubits, ancilla, marked_bitstring, reps = 1) # COMPLETE THIS CODE\n",
        "print(\"Circuit for Grover's algorithm:\")\n",
        "print(circuit)\n",
        "# Sample from the circuit a couple times.\n",
        "simulator = cirq.Simulator()\n",
        "result = simulator.run(circuit, repetitions = 1024)\n",
        "\n",
        "_ = cirq.plot_state_histogram(result, plt.subplot(), title = 'Grover\\'s Search', xlabel = 'Choice Number', ylabel = 'Result count', tick_label=range(2**nqubits))\n",
        "plt.show()"
      ]
    },
    {
      "cell_type": "markdown",
      "metadata": {
        "id": "Whhj0tVANYFl"
      },
      "source": [
        "#### **Problem #3.3**\n",
        "\n",
        "**Independently**, visualize the results for Grover's algorithm on this problem for 0 to 3 iterations. For each number of iterations, notice the histogram. What changes do you observe? Do you see amplitude amplification? Does the right choice's amplitude get amplified?\n",
        "\n",
        "**Using these results, answer what is the optimal number of iterations that maximizes the amplification of the right choice's amplitude?**"
      ]
    },
    {
      "cell_type": "code",
      "execution_count": null,
      "metadata": {
        "id": "b4rXtyjy0t-G"
      },
      "outputs": [],
      "source": [
        "# COMPLETE THIS CODE FOR 0 ITERATIONS"
      ]
    },
    {
      "cell_type": "code",
      "execution_count": null,
      "metadata": {
        "id": "Ju-NUVwY0t56"
      },
      "outputs": [],
      "source": [
        "# COMPLETE THIS CODE FOR 1 ITERATIONS"
      ]
    },
    {
      "cell_type": "code",
      "execution_count": null,
      "metadata": {
        "id": "zd_AJgZj0t1x"
      },
      "outputs": [],
      "source": [
        "# COMPLETE THIS CODE FOR 2 ITERATIONS"
      ]
    },
    {
      "cell_type": "code",
      "execution_count": null,
      "metadata": {
        "id": "686u4KXp0tzL"
      },
      "outputs": [],
      "source": [
        "# COMPLETE THIS CODE FOR 3 ITERATIONS"
      ]
    },
    {
      "cell_type": "markdown",
      "metadata": {
        "id": "7dzC09dLlEhm"
      },
      "source": [
        "#End of notebook\n",
        "---\n",
        "© 2024 The Coding School, All rights reserved"
      ]
    }
  ],
  "metadata": {
    "colab": {
      "collapsed_sections": [
        "Whhj0tVANYFl"
      ],
      "provenance": [],
      "toc_visible": true
    },
    "kernelspec": {
      "display_name": "Python 3 (ipykernel)",
      "language": "python",
      "name": "python3"
    },
    "language_info": {
      "codemirror_mode": {
        "name": "ipython",
        "version": 3
      },
      "file_extension": ".py",
      "mimetype": "text/x-python",
      "name": "python",
      "nbconvert_exporter": "python",
      "pygments_lexer": "ipython3",
      "version": "3.10.8"
    }
  },
  "nbformat": 4,
  "nbformat_minor": 0
}