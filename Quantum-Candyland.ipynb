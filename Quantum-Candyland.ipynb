{
 "cells": [
  {
   "cell_type": "code",
   "execution_count": 14,
   "id": "2f1db6b1",
   "metadata": {},
   "outputs": [
    {
     "name": "stderr",
     "output_type": "stream",
     "text": [
      "ibmqfactory.load_account:WARNING:2022-07-09 21:54:49,664: Credentials are already in use. The existing account in the session will be replaced.\n"
     ]
    }
   ],
   "source": [
    "from qiskit import QuantumCircuit, execute, Aer, IBMQ\n",
    "from qiskit.compiler import transpile, assemble\n",
    "from qiskit.tools.jupyter import *\n",
    "from qiskit.visualization import *\n",
    "from ibm_quantum_widgets import *\n",
    "import random\n",
    "from qiskit_textbook.tools import array_to_latex\n",
    "\n",
    "# Loading your IBM Q account(s)\n",
    "provider = IBMQ.load_account()"
   ]
  },
  {
   "cell_type": "markdown",
   "id": "1195aefb",
   "metadata": {},
   "source": [
    "# Quantum Candyland"
   ]
  },
  {
   "cell_type": "markdown",
   "id": "f5b4db60",
   "metadata": {},
   "source": [
    "## Instructions\n",
    "\n",
    "Welcome to Quantum Candyland! It's like regular Candyland, but a little bit quantum-ish! \n",
    "\n",
    "To play the game, the first player should run the cell right under this one to draw their color. Next, go back to the game board and move to the first space of this color. Continue to the next player's turn.\n",
    "\n",
    "-------------------------------------------------------------------------------------------------------------------\n",
    "\n",
    "If a player draws a superposition \"card\", they must run the cell two more times to establish which colors are in superposiiton. \n",
    "\n",
    "The first color chosen will be represented as a state |0⟩, and the next color will be state |1⟩. \n",
    "\n",
    "The code below places the color in superposition, then collapses it revealing whether the state is 0 or 1. \n",
    "\n",
    "Based on the bar graph below, the bar with greater probability depicts which color the state collapsed into. This is the color the player moves for their turn. \n",
    "\n",
    "-------------------------------------------------------------------------------------------------------------------\n",
    "\n",
    "If a player lands on the space marked as a candy, the player automatically teleports to the second space with a candy by the rules of quantum entanglement! These two spaces are entangled, so the information in one will be reflected in the other :) \n",
    "\n",
    "The first player to reach the end wins! Have fun!\n",
    "\n",
    "Link to game board : https://tinyurl.com/QuantumCandyland"
   ]
  },
  {
   "cell_type": "code",
   "execution_count": 40,
   "id": "66e23ad8",
   "metadata": {},
   "outputs": [
    {
     "name": "stdout",
     "output_type": "stream",
     "text": [
      "superposition\n"
     ]
    }
   ],
   "source": [
    "color_list = [\"superposition\", \"purple\", \"pink\", \"blue\", \"yellow\", \"green\", \"red\", \"orange\"]\n",
    "# random item from list\n",
    "print(random.choice(color_list))"
   ]
  },
  {
   "cell_type": "code",
   "execution_count": 7,
   "id": "ae2bd4b6",
   "metadata": {},
   "outputs": [
    {
     "data": {
      "image/png": "[encoded data removed]",
      "text/plain": [
       "<Figure size 504x360 with 1 Axes>"
      ]
     },
     "execution_count": 7,
     "metadata": {},
     "output_type": "execute_result"
    }
   ],
   "source": [
    "# BLOCK 1 - Create a single-qubit quantum circuit with an H gate on the first qubit.\n",
    "# Loading your IBM Quantum account(s)\n",
    "\n",
    "qc = QuantumCircuit(1)\n",
    "qc.h(0)\n",
    "qc.measure_all()\n",
    "\n",
    "svsim = Aer.get_backend('statevector_simulator')\n",
    "job = execute(qc,svsim,shots=100)\n",
    "result = job.result()\n",
    "counts = result.get_counts(qc)\n",
    "plot_histogram(counts)\n"
   ]
  }
 ],
 "metadata": {
  "kernelspec": {
   "display_name": "Python 3 (ipykernel)",
   "language": "python",
   "name": "python3"
  },
  "language_info": {
   "codemirror_mode": {
    "name": "ipython",
    "version": 3
   },
   "file_extension": ".py",
   "mimetype": "text/x-python",
   "name": "python",
   "nbconvert_exporter": "python",
   "pygments_lexer": "ipython3",
   "version": "3.8.15"
  },
  "widgets": {
   "application/vnd.jupyter.widget-state+json": {
    "state": {},
    "version_major": 2,
    "version_minor": 0
   }
  }
 },
 "nbformat": 4,
 "nbformat_minor": 5
}
