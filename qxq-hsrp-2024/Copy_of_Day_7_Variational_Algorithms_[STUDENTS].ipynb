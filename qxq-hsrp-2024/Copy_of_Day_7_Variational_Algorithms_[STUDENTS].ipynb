{
  "nbformat": 4,
  "nbformat_minor": 0,
  "metadata": {
    "colab": {
      "provenance": []
    },
    "kernelspec": {
      "name": "python3",
      "display_name": "Python 3"
    },
    "language_info": {
      "name": "python"
    }
  },
  "cells": [
    {
      "cell_type": "markdown",
      "source": [
        "# **Day 7 : Variational Algorithms**\n",
        "---\n",
        "\n",
        "### **Description**\n",
        "\n",
        "This notebook will explore various optimization problems which can be solved using variational algorithms.\n",
        "\n",
        "<br>\n",
        "\n",
        "### **Lab Structure**\n",
        "**Part 1**: [Variational Algorithms](#p1)\n",
        "\n",
        "<br>\n",
        "\n",
        "### **Goals**\n",
        "By the end of today, you will:\n",
        "*\n",
        "<br>\n",
        "\n",
        "**Before starting, run the code below to import all necessary functions and libraries.**"
      ],
      "metadata": {
        "id": "UwtPF2zEPv4O"
      }
    },
    {
      "cell_type": "code",
      "execution_count": null,
      "metadata": {
        "id": "ZhzStjm4Pp7g"
      },
      "outputs": [],
      "source": [
        "import numpy as np\n",
        "import matplotlib.pyplot as plt\n",
        "import matplotlib\n",
        "import math\n",
        "from scipy.optimize import minimize\n",
        "def binary_labels(num_qubits):\n",
        "    return [bin(x)[2:].zfill(num_qubits) for x in range(2 ** num_qubits)]\n",
        "I = np.array([[1,0],[0,1]])\n",
        "X = np.array([[0,1],[1,0]])\n",
        "Y = np.array([[0,-1j],[1j,0]])\n",
        "Z = np.array([[1,0],[0,-1]])\n",
        "H = 1/2**(1/2) * np.array([[1, 1], [1, -1]])\n",
        "CNOT = np.array([[1,0,0,0], [0,1,0,0], [0,0,0,1], [0,0,1,0]])\n",
        "\n",
        "def RX(angle):\n",
        "  return np.array([[np.cos(math.radians(angle)/2), -1j * np.sin(math.radians(angle)/2)], [-1j * np.sin(math.radians(angle)/2), np.cos(math.radians(angle)/2)]])\n",
        "def RY(angle):\n",
        "  return np.array([[np.cos(radians(angle)/2), -np.sin(radians(angle)/2)], [np.sin(radians(angle)/2), np.cos(radians(angle)/2)]])\n",
        "def RZ(angle):\n",
        "  return np.array([[np.exp(-1j * radians(angle)/2), 0], [0, np.exp(1j * radians(angle)/2)]])\n",
        "\n",
        "zero_state = np.array([1, 0])\n",
        "one_state = np.array([0, 1])\n",
        "plus_state = 1/(2)**(1/2) * np.array([1, 1])\n",
        "minus_state = 1/(2)**(1/2) * np.array([1, -1])\n",
        "i_state = 1/(2)**(1/2) * (zero_state + 1j * one_state)\n",
        "minus_i_state = 1/(2)**(1/2) * (zero_state - 1j * one_state)\n",
        "\n",
        "def probabilities(state_vector):\n",
        "  probabilities = state_vector * np.conjugate(state_vector)\n",
        "  return probabilities\n",
        "\n",
        "def counts(shots, state_vector):\n",
        "  prob = np.real(state_vector * np.conjugate(state_vector))\n",
        "  counts = np.random.multinomial(shots, np.real(state_vector * np.conjugate(state_vector)))\n",
        "  return counts\n",
        "\n",
        "def simulate(shots, state_vector, qubits):\n",
        "  plt.bar(binary_labels(qubits), np.random.multinomial(shots, state_vector * np.conjugate(state_vector)))\n",
        "\n",
        "  plt.xlabel('State')\n",
        "  plt.ylabel('Count')\n",
        "  plt.title('Histogram of Measurement Results')\n",
        "  plt.show()"
      ]
    },
    {
      "cell_type": "markdown",
      "source": [
        "<a name=\"p1\"></a>\n",
        "\n",
        "---\n",
        "## **Part 1: Creating a Variational Quantum Algorithm in our State Vector Simulator.**\n"
      ],
      "metadata": {
        "id": "yytL3_PQmgdw"
      }
    },
    {
      "cell_type": "markdown",
      "source": [
        "####**Creating our Circuit**\n",
        "Create a circuit starting with a qubit in the zero state and an RX gate which rotates a qubit 45 degrees."
      ],
      "metadata": {
        "id": "_tumjhBnmwH1"
      }
    },
    {
      "cell_type": "code",
      "source": [
        "state_vector = zero_state\n",
        "circuit = [RX(45)]\n",
        "for gate in circuit:\n",
        "  state_vector = np.dot(gate, state_vector)\n",
        "print(state_vector)"
      ],
      "metadata": {
        "id": "9QFlrYpXsWHc",
        "colab": {
          "base_uri": "https://localhost:8080/"
        },
        "outputId": "f76b275a-b687-4c89-b80f-5e72b2beb3ca"
      },
      "execution_count": null,
      "outputs": [
        {
          "output_type": "stream",
          "name": "stdout",
          "text": [
            "[0.92387953+0.j         0.        -0.38268343j]\n"
          ]
        }
      ]
    },
    {
      "cell_type": "markdown",
      "source": [
        "####**Simulating the Results**\n",
        "Simulate the results of the circuit 100 times to get the counts of the qubit in the zero and one state."
      ],
      "metadata": {
        "id": "VKGbB_ONnROp"
      }
    },
    {
      "cell_type": "code",
      "source": [
        "# COMPLETE THIS CODE\n",
        "ncounts = counts(100, state_vector)"
      ],
      "metadata": {
        "id": "yydur49isbk8"
      },
      "execution_count": null,
      "outputs": []
    },
    {
      "cell_type": "markdown",
      "source": [
        "####**Calculate the expected state**\n",
        "Determine the average state of your circuit."
      ],
      "metadata": {
        "id": "KXApBqf6ng2S"
      }
    },
    {
      "cell_type": "code",
      "source": [
        "# COMPLETE THIS CODE\n",
        "average_state = 0 * ncounts[0]/100 + 1* ncounts[1]/100\n",
        "print(average_state)"
      ],
      "metadata": {
        "id": "WYBM61Risdxl",
        "colab": {
          "base_uri": "https://localhost:8080/"
        },
        "outputId": "76dcdb18-a0f0-4831-c284-0d1ad8f9c20f"
      },
      "execution_count": null,
      "outputs": [
        {
          "output_type": "stream",
          "name": "stdout",
          "text": [
            "0.12\n"
          ]
        }
      ]
    },
    {
      "cell_type": "markdown",
      "source": [
        "####**Define the average cost of the state**\n",
        "Define an average cost such that the 1 state optimizes the equation."
      ],
      "metadata": {
        "id": "IZYJSDKrntPb"
      }
    },
    {
      "cell_type": "code",
      "source": [
        "# COMPLETE THIS CODE\n",
        "average_cost = ncounts[0]/100\n",
        "\n",
        "print('Average Cost: ', average_cost)"
      ],
      "metadata": {
        "id": "8UE7o0NWsgL0",
        "colab": {
          "base_uri": "https://localhost:8080/"
        },
        "outputId": "530e8929-9612-4c07-da7a-d62446d23b21"
      },
      "execution_count": null,
      "outputs": [
        {
          "output_type": "stream",
          "name": "stdout",
          "text": [
            "Average Cost:  0.88\n"
          ]
        }
      ]
    },
    {
      "cell_type": "markdown",
      "source": [
        "####**Define an `average_cost` function**"
      ],
      "metadata": {
        "id": "t74_RJ7DolJG"
      }
    },
    {
      "cell_type": "code",
      "source": [
        "def average_cost(angle):\n",
        "  state_vector = zero_state\n",
        "  circuit = [RX(angle)]\n",
        "  for gate in circuit:\n",
        "    state_vector = np.dot(gate, state_vector)\n",
        "  ncounts = counts(100, state_vector)\n",
        "  average_state = 0 * ncounts[0]/100 + 1* ncounts[1]/100\n",
        "  average_cost = 1 - average_state\n",
        "  print('Attempt:', angle, 'produces average cost: ', average_cost)\n",
        "  return average_cost\n"
      ],
      "metadata": {
        "id": "Ba_CNIgCsktW"
      },
      "execution_count": null,
      "outputs": []
    },
    {
      "cell_type": "markdown",
      "source": [
        "####**Test your function**\n",
        "Run your function with an initial guess of 45 degrees."
      ],
      "metadata": {
        "id": "S36Yi--CpW62"
      }
    },
    {
      "cell_type": "code",
      "source": [
        "initial_guess = 45\n",
        "\n",
        "result = minimize(average_cost, initial_guess, method = 'Powell')\n",
        "\n",
        "# Output the optimized parameter\n",
        "print('\\nOptimized Angle(s) in Degrees:', [a % 360 for a in result.x])"
      ],
      "metadata": {
        "id": "-fEX1-u8sods",
        "colab": {
          "base_uri": "https://localhost:8080/"
        },
        "outputId": "3683541d-6be2-4f33-9640-682d425a0536"
      },
      "execution_count": null,
      "outputs": [
        {
          "output_type": "stream",
          "name": "stdout",
          "text": [
            "Attempt: [45.] produces average cost:  0.85\n",
            "Attempt: [45.] produces average cost:  0.83\n",
            "Attempt: [46.] produces average cost:  0.78\n",
            "Attempt: [47.618034] produces average cost:  0.76\n",
            "Attempt: [47.23889564] produces average cost:  0.86\n",
            "Attempt: [46.47321601] produces average cost:  0.79\n",
            "Attempt: [45.618034] produces average cost:  0.85\n",
            "Attempt: [46.19240008] produces average cost:  0.91\n",
            "Attempt: [45.85410197] produces average cost:  0.91\n",
            "Attempt: [46.07349029] produces average cost:  0.85\n",
            "Attempt: [45.94427191] produces average cost:  0.85\n",
            "Attempt: [46.02807079] produces average cost:  0.85\n",
            "Attempt: [45.97871377] produces average cost:  0.8200000000000001\n",
            "Attempt: [46.01072209] produces average cost:  0.88\n",
            "Attempt: [45.99] produces average cost:  0.81\n",
            "Attempt: [47.] produces average cost:  0.84\n",
            "Attempt: [46.] produces average cost:  0.87\n",
            "Attempt: [47.] produces average cost:  0.87\n",
            "Attempt: [48.618034] produces average cost:  0.87\n",
            "Attempt: [46.] produces average cost:  0.8\n",
            "Attempt: [47.] produces average cost:  0.81\n",
            "Attempt: [44.381966] produces average cost:  0.85\n",
            "Attempt: [45.38196603] produces average cost:  0.85\n",
            "Attempt: [46.381966] produces average cost:  0.87\n",
            "Attempt: [45.84411075] produces average cost:  0.84\n",
            "Attempt: [46.14589803] produces average cost:  0.85\n",
            "Attempt: [45.98666129] produces average cost:  0.87\n",
            "Attempt: [46.05572809] produces average cost:  0.91\n",
            "Attempt: [46.02128623] produces average cost:  0.89\n",
            "Attempt: [46.00813062] produces average cost:  0.87\n",
            "Attempt: [45.99490507] produces average cost:  0.89\n",
            "Attempt: [46.00310562] produces average cost:  0.84\n",
            "Attempt: [45.99805391] produces average cost:  0.8200000000000001\n",
            "Attempt: [46.00014793] produces average cost:  0.85\n",
            "Attempt: [45.99925666] produces average cost:  0.8200000000000001\n",
            "Attempt: [45.99971607] produces average cost:  0.87\n",
            "Attempt: [45.99989155] produces average cost:  0.76\n",
            "Attempt: [45.99982452] produces average cost:  0.86\n",
            "Attempt: [45.99993297] produces average cost:  0.84\n",
            "Attempt: [45.99986595] produces average cost:  0.84\n",
            "Attempt: [45.99990737] produces average cost:  0.86\n",
            "Attempt: [45.99988177] produces average cost:  0.8200000000000001\n",
            "Attempt: [45.99989759] produces average cost:  0.9299999999999999\n",
            "Attempt: [45.99988781] produces average cost:  0.89\n",
            "Attempt: [45.99989386] produces average cost:  0.83\n",
            "Attempt: [45.99989012] produces average cost:  0.83\n",
            "Attempt: [45.99989263] produces average cost:  0.87\n",
            "Attempt: [45.9997831] produces average cost:  0.85\n",
            "Attempt: [45.99989155] produces average cost:  0.87\n",
            "Attempt: [45.9997831] produces average cost:  0.84\n",
            "Attempt: [45.99960762] produces average cost:  0.87\n",
            "Attempt: [45.99971607] produces average cost:  0.87\n",
            "Attempt: [45.99982452] produces average cost:  0.86\n",
            "Attempt: [45.99977567] produces average cost:  0.89\n",
            "Attempt: [45.99979892] produces average cost:  0.86\n",
            "Attempt: [45.99978914] produces average cost:  0.88\n",
            "Attempt: [45.99978026] produces average cost:  0.84\n",
            "Attempt: [45.99977915] produces average cost:  0.84\n",
            "Attempt: [45.99977782] produces average cost:  0.9\n",
            "Attempt: [45.99977915] produces average cost:  0.81\n",
            "Attempt: [45.99966674] produces average cost:  0.81\n",
            "Attempt: [45.99948487] produces average cost:  0.87\n",
            "Attempt: [45.99959728] produces average cost:  0.85\n",
            "Attempt: [45.99970968] produces average cost:  0.84\n",
            "Attempt: [45.9996574] produces average cost:  0.9\n",
            "Attempt: [45.99966787] produces average cost:  0.84\n",
            "Attempt: [45.99966318] produces average cost:  0.92\n",
            "Attempt: [45.99966538] produces average cost:  0.79\n",
            "Attempt: [45.99943921] produces average cost:  0.88\n",
            "Attempt: [45.99966538] produces average cost:  0.84\n",
            "Attempt: [45.99955298] produces average cost:  0.86\n",
            "Attempt: [45.99984725] produces average cost:  0.8\n",
            "Attempt: [46.00014152] produces average cost:  0.84\n",
            "Attempt: [45.99995965] produces average cost:  0.87\n",
            "Attempt: [45.99977778] produces average cost:  0.83\n",
            "Attempt: [45.99984975] produces average cost:  0.84\n",
            "Attempt: [45.99981346] produces average cost:  0.86\n",
            "Attempt: [45.99983435] produces average cost:  0.84\n",
            "Attempt: [45.99984232] produces average cost:  0.84\n",
            "Attempt: [45.99984537] produces average cost:  0.85\n",
            "\n",
            "Optimized Angle(s) in Degrees: [45.99984725110584]\n"
          ]
        },
        {
          "output_type": "stream",
          "name": "stderr",
          "text": [
            "<ipython-input-37-1d6a8342d4e8>:16: DeprecationWarning: Conversion of an array with ndim > 0 to a scalar is deprecated, and will error in future. Ensure you extract a single element from your array before performing this operation. (Deprecated NumPy 1.25.)\n",
            "  return np.array([[np.cos(math.radians(angle)/2), -1j * np.sin(math.radians(angle)/2)], [-1j * np.sin(math.radians(angle)/2), np.cos(math.radians(angle)/2)]])\n"
          ]
        }
      ]
    },
    {
      "cell_type": "markdown",
      "source": [
        "####**Test your function again**\n",
        "Run your function with an initial guess of 180 degrees."
      ],
      "metadata": {
        "id": "zkvnchNdp6GQ"
      }
    },
    {
      "cell_type": "code",
      "source": [
        "# COMPLETE THIS CODE\n",
        "initial_guess = 180\n",
        "\n",
        "result = minimize(average_cost, initial_guess, method = 'Powell')\n",
        "\n",
        "# Output the optimized parameter\n",
        "print('\\nOptimized Angle(s) in Degrees:', [a % 360 for a in result.x])"
      ],
      "metadata": {
        "id": "tnRvnigZs1Uu",
        "colab": {
          "base_uri": "https://localhost:8080/"
        },
        "outputId": "836a6609-e090-4bfd-df85-9a4d91037162"
      },
      "execution_count": null,
      "outputs": [
        {
          "output_type": "stream",
          "name": "stdout",
          "text": [
            "Attempt: [180.] produces average cost:  0.0\n",
            "Attempt: [180.] produces average cost:  0.0\n",
            "Attempt: [181.] produces average cost:  0.0\n",
            "Attempt: [182.618034] produces average cost:  0.010000000000000009\n",
            "Attempt: [181.61803397] produces average cost:  0.0\n",
            "Attempt: [181.99999998] produces average cost:  0.0\n",
            "Attempt: [182.23606797] produces average cost:  0.0\n",
            "Attempt: [182.381966] produces average cost:  0.0\n",
            "Attempt: [182.47213595] produces average cost:  0.0\n",
            "Attempt: [182.52786405] produces average cost:  0.0\n",
            "Attempt: [182.5623059] produces average cost:  0.0\n",
            "Attempt: [182.58792896] produces average cost:  0.0\n",
            "\n",
            "Optimized Angle(s) in Degrees: [182.58792896154586]\n"
          ]
        },
        {
          "output_type": "stream",
          "name": "stderr",
          "text": [
            "<ipython-input-37-1d6a8342d4e8>:16: DeprecationWarning: Conversion of an array with ndim > 0 to a scalar is deprecated, and will error in future. Ensure you extract a single element from your array before performing this operation. (Deprecated NumPy 1.25.)\n",
            "  return np.array([[np.cos(math.radians(angle)/2), -1j * np.sin(math.radians(angle)/2)], [-1j * np.sin(math.radians(angle)/2), np.cos(math.radians(angle)/2)]])\n"
          ]
        }
      ]
    },
    {
      "cell_type": "markdown",
      "source": [
        "####**Updating your function**\n",
        "Update your function such that the state you are trying to minimize is as close to an equal superposition as possible. Begin with an angle of 0 degrees as your initial guess."
      ],
      "metadata": {
        "id": "85eG_oNjqGNe"
      }
    },
    {
      "cell_type": "code",
      "source": [
        "# COMPLETE THIS CODE\n",
        "def average_cost(angle):\n",
        "  state_vector = zero_state\n",
        "  circuit = [RX(angle)]\n",
        "  for gate in circuit:\n",
        "    state_vector = np.dot(gate, state_vector)\n",
        "  ncounts = counts(100, state_vector)\n",
        "  average_state = 0 * ncounts[0]/100 + 1* ncounts[1]/100\n",
        "  average_cost = (average_state - 0.5) ** 2\n",
        "  print('Attempt:', angle, 'produces average cost: ', average_cost)\n",
        "  return average_cost"
      ],
      "metadata": {
        "id": "Nr-8DTVus3xG"
      },
      "execution_count": null,
      "outputs": []
    },
    {
      "cell_type": "markdown",
      "source": [
        "####**Giving a better initial guess**\n",
        "This time, use the initial guess of 90 degrees."
      ],
      "metadata": {
        "id": "PJBbseFvrItW"
      }
    },
    {
      "cell_type": "code",
      "source": [
        "# COMPLETE THIS CODE\n",
        "initial_guess = 90\n",
        "\n",
        "result = minimize(average_cost, initial_guess, method = 'Powell')\n",
        "\n",
        "# Output the optimized parameter\n",
        "print('\\nOptimized Angle(s) in Degrees:', [a % 360 for a in result.x])"
      ],
      "metadata": {
        "id": "YrVHIAfPs8wo",
        "colab": {
          "base_uri": "https://localhost:8080/"
        },
        "outputId": "9093b923-1c02-407e-aa11-f6148db22c35"
      },
      "execution_count": null,
      "outputs": [
        {
          "output_type": "stream",
          "name": "stdout",
          "text": [
            "Attempt: [90.] produces average cost:  0.00010000000000000018\n",
            "Attempt: [90.] produces average cost:  0.0036000000000000064\n",
            "Attempt: [91.] produces average cost:  0.009999999999999995\n",
            "Attempt: [88.381966] produces average cost:  0.00010000000000000018\n",
            "Attempt: [88.52267076] produces average cost:  0.00010000000000000018\n",
            "Attempt: [85.76393197] produces average cost:  0.0024999999999999988\n",
            "Attempt: [87.38196602] produces average cost:  0.008099999999999994\n",
            "Attempt: [88.99999997] produces average cost:  0.00010000000000000018\n",
            "Attempt: [88.69098299] produces average cost:  0.00010000000000000018\n",
            "Attempt: [88.572949] produces average cost:  0.008100000000000005\n",
            "Attempt: [88.80901697] produces average cost:  0.0009000000000000016\n",
            "Attempt: [88.64589802] produces average cost:  0.0144\n",
            "Attempt: [88.73606796] produces average cost:  0.00010000000000000018\n",
            "Attempt: [88.763932] produces average cost:  0.0004000000000000007\n",
            "Attempt: [88.71884703] produces average cost:  0.0009000000000000016\n",
            "Attempt: [88.74870728] produces average cost:  0.006400000000000003\n",
            "\n",
            "Optimized Angle(s) in Degrees: [88.73606795562652]\n"
          ]
        },
        {
          "output_type": "stream",
          "name": "stderr",
          "text": [
            "<ipython-input-37-1d6a8342d4e8>:16: DeprecationWarning: Conversion of an array with ndim > 0 to a scalar is deprecated, and will error in future. Ensure you extract a single element from your array before performing this operation. (Deprecated NumPy 1.25.)\n",
            "  return np.array([[np.cos(math.radians(angle)/2), -1j * np.sin(math.radians(angle)/2)], [-1j * np.sin(math.radians(angle)/2), np.cos(math.radians(angle)/2)]])\n"
          ]
        }
      ]
    },
    {
      "cell_type": "markdown",
      "source": [
        "####**Defining your own cost function**\n",
        "This time, define your own cost function and make your own initial guess."
      ],
      "metadata": {
        "id": "yIaL3dIzrh5K"
      }
    },
    {
      "cell_type": "code",
      "source": [
        "# COMPLETE THIS CODE\n",
        "def average_cost(angle):\n",
        "  state_vector = zero_state\n",
        "  circuit = [RX(angle)]\n",
        "  for gate in circuit:\n",
        "    state_vector = np.dot(gate, state_vector)\n",
        "  ncounts = counts(100, state_vector)\n",
        "  average_state = 0 * ncounts[0]/100 + 1* ncounts[1]/100\n",
        "  average_cost = (average_state - 0.25) ** 2\n",
        "  print('Attempt:', angle, 'produces average cost: ', average_cost)\n",
        "  return average_cost\n",
        "\n",
        "initial_guess = 45\n",
        "\n",
        "result = minimize(average_cost, initial_guess, method = 'Powell')\n",
        "\n",
        "# Output the optimized parameter\n",
        "print('\\nOptimized Angle(s) in Degrees:', [a % 360 for a in result.x])"
      ],
      "metadata": {
        "id": "zsE5JxsxsH9e",
        "colab": {
          "base_uri": "https://localhost:8080/"
        },
        "outputId": "9b180a30-655c-4ca9-e9c2-0245bdcb9bb3"
      },
      "execution_count": null,
      "outputs": [
        {
          "output_type": "stream",
          "name": "stdout",
          "text": [
            "Attempt: [45.] produces average cost:  0.028899999999999995\n",
            "Attempt: [45.] produces average cost:  0.012099999999999998\n",
            "Attempt: [46.] produces average cost:  0.016900000000000002\n",
            "Attempt: [43.381966] produces average cost:  0.0256\n",
            "Attempt: [44.38196603] produces average cost:  0.012099999999999998\n",
            "Attempt: [44.00000002] produces average cost:  0.006399999999999998\n",
            "Attempt: [43.76393203] produces average cost:  0.0036\n",
            "Attempt: [43.618034] produces average cost:  0.0081\n",
            "Attempt: [43.82892126] produces average cost:  0.0081\n",
            "Attempt: [43.70820394] produces average cost:  0.006399999999999998\n",
            "Attempt: [43.78875571] produces average cost:  0.019600000000000003\n",
            "Attempt: [43.7426458] produces average cost:  0.004900000000000001\n",
            "Attempt: [43.77629271] produces average cost:  0.0144\n",
            "Attempt: [42.52786407] produces average cost:  0.010000000000000002\n",
            "Attempt: [43.76393203] produces average cost:  0.016900000000000002\n",
            "Attempt: [42.52786407] produces average cost:  0.012099999999999998\n",
            "Attempt: [40.52786408] produces average cost:  0.0225\n",
            "Attempt: [41.76393207] produces average cost:  0.019600000000000003\n",
            "Attempt: [43.00000001] produces average cost:  0.0225\n",
            "Attempt: [42.33643325] produces average cost:  0.0144\n",
            "Attempt: [42.70820394] produces average cost:  0.0324\n",
            "Attempt: [42.454744] produces average cost:  0.010000000000000002\n",
            "Attempt: [42.44165212] produces average cost:  0.004900000000000001\n",
            "Attempt: [42.40146209] produces average cost:  0.012099999999999998\n",
            "Attempt: [42.42842933] produces average cost:  0.0256\n",
            "Attempt: [42.44165212] produces average cost:  0.0036\n",
            "Attempt: [41.11937221] produces average cost:  0.012099999999999998\n",
            "Attempt: [44.58114598] produces average cost:  0.010000000000000002\n",
            "Attempt: [43.25886603] produces average cost:  0.010000000000000002\n",
            "Attempt: [41.93658616] produces average cost:  0.012099999999999998\n",
            "Attempt: [42.64030349] produces average cost:  0.016900000000000002\n",
            "Attempt: [42.2487341] produces average cost:  0.0144\n",
            "Attempt: [42.51753019] produces average cost:  0.012099999999999998\n",
            "Attempt: [42.367964] produces average cost:  0.0036\n",
            "Attempt: [42.40480806] produces average cost:  0.0144\n",
            "Attempt: [42.32242223] produces average cost:  0.016900000000000002\n",
            "Attempt: [42.35056859] produces average cost:  0.016900000000000002\n",
            "Attempt: [42.38203718] produces average cost:  0.019600000000000003\n",
            "Attempt: [42.36131954] produces average cost:  0.0144\n",
            "Attempt: [42.37333947] produces average cost:  0.006399999999999998\n",
            "Attempt: [42.36542604] produces average cost:  0.010000000000000002\n",
            "Attempt: [42.37001725] produces average cost:  0.00010000000000000018\n",
            "Attempt: [42.37128622] produces average cost:  0.019600000000000003\n",
            "Attempt: [42.36923297] produces average cost:  0.010000000000000002\n",
            "Attempt: [40.97610246] produces average cost:  0.016900000000000002\n",
            "Attempt: [42.37001725] produces average cost:  0.004900000000000001\n",
            "Attempt: [41.04773734] produces average cost:  0.0225\n",
            "Attempt: [44.5095111] produces average cost:  0.012099999999999998\n",
            "Attempt: [43.18723115] produces average cost:  0.016900000000000002\n",
            "Attempt: [41.86495128] produces average cost:  0.0361\n",
            "Attempt: [42.65165011] produces average cost:  0.004900000000000001\n",
            "Attempt: [42.51083368] produces average cost:  0.010000000000000002\n",
            "Attempt: [42.85622386] produces average cost:  0.012099999999999998\n",
            "Attempt: [42.72979032] produces average cost:  0.019600000000000003\n",
            "Attempt: [42.59786302] produces average cost:  0.0225\n",
            "Attempt: [42.68149701] produces average cost:  0.0081\n",
            "Attempt: [42.63110527] produces average cost:  0.010000000000000002\n",
            "Attempt: [42.66305061] produces average cost:  0.010000000000000002\n",
            "Attempt: [42.64380268] produces average cost:  0.0256\n",
            "Attempt: [42.65600471] produces average cost:  0.0256\n",
            "Attempt: [42.64865265] produces average cost:  0.004900000000000001\n",
            "\n",
            "Optimized Angle(s) in Degrees: [42.648652654766]\n"
          ]
        },
        {
          "output_type": "stream",
          "name": "stderr",
          "text": [
            "<ipython-input-37-1d6a8342d4e8>:16: DeprecationWarning: Conversion of an array with ndim > 0 to a scalar is deprecated, and will error in future. Ensure you extract a single element from your array before performing this operation. (Deprecated NumPy 1.25.)\n",
            "  return np.array([[np.cos(math.radians(angle)/2), -1j * np.sin(math.radians(angle)/2)], [-1j * np.sin(math.radians(angle)/2), np.cos(math.radians(angle)/2)]])\n"
          ]
        }
      ]
    },
    {
      "cell_type": "markdown",
      "metadata": {
        "jp-MarkdownHeadingCollapsed": true,
        "tags": [],
        "id": "c9d991df-ad9b-4187-b9b4-318af12763f3"
      },
      "source": [
        "#End of notebook\n",
        "---\n",
        "© 2024 The Coding School, All rights reserved"
      ]
    }
  ]
}