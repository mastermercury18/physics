{
  "cells": [
    {
      "cell_type": "markdown",
      "id": "e013572e-d2c0-47ea-a725-58df28e2e43d",
      "metadata": {
        "tags": [],
        "id": "e013572e-d2c0-47ea-a725-58df28e2e43d"
      },
      "source": [
        "# **Statevector Simulator Challenge**\n",
        "---\n",
        "\n",
        "### **Description**\n",
        "\n",
        "So far, our statevector simulator has only had very basic capabilities. In this activity, we will be focusing on expanding the capabilities of the statevector simulator.\n",
        "\n",
        "<br>\n",
        "\n",
        "### **Lab Structure**\n",
        "**Part 1**: [Multi-Qubit Circuits](#p1)\n",
        "\n",
        "**Part 2**: [Putting it All Together](#p2)\n",
        "\n",
        "<br>\n",
        "\n",
        "### **Goals**\n",
        "By the end of this activity, you will:\n",
        "* Modify the Statevector Simulator to take a `QuantumCircuit` object as an input\n",
        "* Process gates we have never seen before using Qiskit's `Operator` class\n",
        "* Implement miscellaneous features that require a deep understanding of specific libraries and objects\n",
        "\n",
        "<br>\n",
        "\n",
        "**Before starting, run the code below to import all necessary functions and libraries.**\n",
        "\n",
        "Notice how short this import block is! So far, we have been importing specific functions, so we don't have to type out the full function name. You are free to figure out how to do this for the functions you need! If you choose not to, note that you will have to refer to functions by their full names (for example, `QuantumCircuit()` will become `qiskit.QuantumCircuit()`). To find the full name of a function, look up the name of the function in the documentation."
      ]
    },
    {
      "cell_type": "code",
      "execution_count": null,
      "metadata": {
        "id": "OgRJMrtBCgQl"
      },
      "outputs": [],
      "source": [
        "import numpy as np\n",
        "import matplotlib.pyplot as plt\n",
        "import matplotlib\n",
        "import math\n",
        "def binary_labels(num_qubits):\n",
        "    return [bin(x)[2:].zfill(num_qubits) for x in range(2 ** num_qubits)]"
      ],
      "id": "OgRJMrtBCgQl"
    },
    {
      "cell_type": "markdown",
      "source": [
        "<a name=\"p1\"></a>\n",
        "\n",
        "---\n",
        "## **Part 1: Adding Remaining Gates**\n",
        "This section will focus on filling out our library of quantum gates in our statevector simulator. Define the below gates using arrays."
      ],
      "metadata": {
        "id": "e8-xdYSWbC4i"
      },
      "id": "e8-xdYSWbC4i"
    },
    {
      "cell_type": "markdown",
      "source": [
        "####**The Y Gate**"
      ],
      "metadata": {
        "id": "M0la35iPcFcf"
      },
      "id": "M0la35iPcFcf"
    },
    {
      "cell_type": "code",
      "source": [
        "Y = np.array([[0, -1j], [1j, 0]]\n",
        "                  )\n",
        "Y"
      ],
      "metadata": {
        "id": "SP6aLLgsuC0d",
        "colab": {
          "base_uri": "https://localhost:8080/"
        },
        "outputId": "53599000-c907-475e-a32a-3ed82b0adda3"
      },
      "id": "SP6aLLgsuC0d",
      "execution_count": null,
      "outputs": [
        {
          "output_type": "execute_result",
          "data": {
            "text/plain": [
              "array([[ 0.+0.j, -0.-1.j],\n",
              "       [ 0.+1.j,  0.+0.j]])"
            ]
          },
          "metadata": {},
          "execution_count": 2
        }
      ]
    },
    {
      "cell_type": "markdown",
      "source": [
        "####**The CNOT Gate**"
      ],
      "metadata": {
        "id": "bwuEaFlHd7h3"
      },
      "id": "bwuEaFlHd7h3"
    },
    {
      "cell_type": "markdown",
      "source": [],
      "metadata": {
        "id": "rXwuQsU5gOLB"
      },
      "id": "rXwuQsU5gOLB"
    },
    {
      "cell_type": "code",
      "source": [
        "CNOT = np.array([[1, 0, 0, 0], [0, 1, 0, 0], [0, 0, 0, 1], [0, 0, 1, 0]]\n",
        "                  )\n",
        "CNOT"
      ],
      "metadata": {
        "id": "5_0cysf4uGcr",
        "colab": {
          "base_uri": "https://localhost:8080/"
        },
        "outputId": "568cd36d-b62e-474a-e15c-e095086318f0"
      },
      "id": "5_0cysf4uGcr",
      "execution_count": null,
      "outputs": [
        {
          "output_type": "execute_result",
          "data": {
            "text/plain": [
              "array([[1, 0, 0, 0],\n",
              "       [0, 1, 0, 0],\n",
              "       [0, 0, 0, 1],\n",
              "       [0, 0, 1, 0]])"
            ]
          },
          "metadata": {},
          "execution_count": 3
        }
      ]
    },
    {
      "cell_type": "markdown",
      "source": [
        "####**The Rotational X Gate**"
      ],
      "metadata": {
        "id": "hC8s0AGrcNer"
      },
      "id": "hC8s0AGrcNer"
    },
    {
      "cell_type": "code",
      "source": [
        "# COMPLETE THIS CODE\n",
        "def RX(theta):\n",
        "  return np.array([[np.cos(theta/2), -1j *np.sin(theta/2)], [-1j *np.sin(theta/2), np.cos(theta/2)]]\n",
        "                  )\n",
        "print(RX(np.pi))\n"
      ],
      "metadata": {
        "id": "zoCsbo7ouJhD",
        "colab": {
          "base_uri": "https://localhost:8080/"
        },
        "outputId": "062bca7b-3c95-4f4d-a546-aeef1de53e05"
      },
      "id": "zoCsbo7ouJhD",
      "execution_count": null,
      "outputs": [
        {
          "output_type": "stream",
          "name": "stdout",
          "text": [
            "[[6.123234e-17+0.j 0.000000e+00-1.j]\n",
            " [0.000000e+00-1.j 6.123234e-17+0.j]]\n"
          ]
        }
      ]
    },
    {
      "cell_type": "markdown",
      "source": [
        "####**The Rotational Y Gate**"
      ],
      "metadata": {
        "id": "KljUP6JqcN4D"
      },
      "id": "KljUP6JqcN4D"
    },
    {
      "cell_type": "code",
      "source": [
        "# COMPLETE THIS CODE\n",
        "def RY(theta):\n",
        "  return np.array([[np.cos(theta/2), -np.sin(theta/2)], [np.sin(theta/2), np.cos(theta/2)]]\n",
        "                  )\n",
        "print(RY(np.pi))"
      ],
      "metadata": {
        "id": "RSNxCXHcuLgP",
        "colab": {
          "base_uri": "https://localhost:8080/"
        },
        "outputId": "1fd4c2db-1650-4c96-9d6b-ac7e9835b215"
      },
      "id": "RSNxCXHcuLgP",
      "execution_count": null,
      "outputs": [
        {
          "output_type": "stream",
          "name": "stdout",
          "text": [
            "[[ 6.123234e-17 -1.000000e+00]\n",
            " [ 1.000000e+00  6.123234e-17]]\n"
          ]
        }
      ]
    },
    {
      "cell_type": "code",
      "source": [],
      "metadata": {
        "colab": {
          "base_uri": "https://localhost:8080/"
        },
        "id": "XpkC5FyhgqxZ",
        "outputId": "d8803fcc-08d3-4d3e-ab85-59d383150e17"
      },
      "id": "XpkC5FyhgqxZ",
      "execution_count": null,
      "outputs": [
        {
          "output_type": "stream",
          "name": "stdout",
          "text": [
            "-1.0\n"
          ]
        }
      ]
    },
    {
      "cell_type": "markdown",
      "source": [
        "####**The Rotational Z Gate**"
      ],
      "metadata": {
        "id": "W4aYGKLTd7bk"
      },
      "id": "W4aYGKLTd7bk"
    },
    {
      "cell_type": "code",
      "source": [
        "# COMPLETE THIS CODE\n",
        "import cmath\n",
        "def RZ(theta):\n",
        "  return np.array([[cmath.exp(-1j * theta/2), 0], [0, cmath.exp(1j * theta/2)]]\n",
        "                  )\n",
        "print(RZ(np.pi))"
      ],
      "metadata": {
        "id": "ydaQun6tuOZZ",
        "colab": {
          "base_uri": "https://localhost:8080/"
        },
        "outputId": "a7cef418-1365-4198-d685-7ea6d896888c"
      },
      "id": "ydaQun6tuOZZ",
      "execution_count": null,
      "outputs": [
        {
          "output_type": "stream",
          "name": "stdout",
          "text": [
            "[[6.123234e-17-1.j 0.000000e+00+0.j]\n",
            " [0.000000e+00+0.j 6.123234e-17+1.j]]\n"
          ]
        }
      ]
    },
    {
      "cell_type": "markdown",
      "source": [
        "<a name=\"p2\"></a>\n",
        "\n",
        "---\n",
        "## **Part 2: Putting it All Together**\n",
        "---"
      ],
      "metadata": {
        "id": "qmbBX-G1aOom"
      },
      "id": "qmbBX-G1aOom"
    },
    {
      "cell_type": "code",
      "source": [
        "I = np.array([[1, 0], [0, 1]]\n",
        "                  )\n",
        "X = np.array([[0, 1], [1, 0]]\n",
        "                  )\n",
        "Y = np.array([[0, -1j], [1j, 0]]\n",
        "                  )\n",
        "Z = np.array([[1, 0], [0, -1]]\n",
        "                  )\n",
        "H = 1/math.sqrt(2) * np.array([[1, 1], [1, -1]]\n",
        "                  )\n",
        "CNOT = np.array([[1, 0, 0, 0], [0, 1, 0, 0], [0, 0, 0, 1], [0, 0, 1, 0]])\n",
        "\n",
        "def RX(theta):\n",
        "  theta = np.radians(theta)\n",
        "  return np.array([[np.cos(theta/2), -1j *np.sin(theta/2)], [-1j *np.sin(theta/2), np.cos(theta/2)]])\n",
        "def RY(theta):\n",
        "  theta = np.radians(theta)\n",
        "  return np.array([[np.cos(theta/2), -np.sin(theta/2)], [np.sin(theta/2), np.cos(theta/2)]])\n",
        "def RZ(theta):\n",
        "  theta = np.radians(theta)\n",
        "  return np.array([[cmath.exp(-1j * theta/2), 0], [0, cmath.exp(1j * theta/2)]])\n",
        "\n",
        "zero_state = np.array([1, 0])\n",
        "one_state = np.array([0, 1])\n",
        "plus_state = 1/math.sqrt(2) * np.array([1, 1])\n",
        "minus_state = 1/math.sqrt(2) * np.array([1, -1])\n",
        "i_state = 1/math.sqrt(2) * np.array([1, 1j])\n",
        "minus_i_state = 1/math.sqrt(2) * np.array([1, -1j])\n",
        "\n",
        "def probabilities(state_vector):\n",
        "  probabilities = state_vector * np.conjugate(state_vector)\n",
        "  return probabilities\n",
        "\n",
        "def counts(shots, state_vector):\n",
        "  counts = np.random.multinomial(shots, state_vector * np.conjugate(state_vector))\n",
        "  return counts\n",
        "\n",
        "def simulate(shots, state_vector, qubits):\n",
        "  plt.bar(binary_labels(qubits), np.random.multinomial(shots, state_vector * np.conjugate(state_vector)))\n",
        "\n",
        "  plt.xlabel('State')\n",
        "  plt.ylabel('Count')\n",
        "  plt.title('Histogram of Measurement Results')\n",
        "  plt.show()"
      ],
      "metadata": {
        "id": "ImHO7GWHuRWw"
      },
      "id": "ImHO7GWHuRWw",
      "execution_count": null,
      "outputs": []
    },
    {
      "cell_type": "code",
      "source": [
        "I = np.array([[1,0],[0,1]])\n",
        "X = np.array([[0,1],[1,0]])\n",
        "Y = np.array([[0,-1j],[1j,0]])\n",
        "Z = np.array([[1,0],[0,-1]])\n",
        "H = 1/2**(1/2) * np.array([[1, 1], [1, -1]])\n",
        "CNOT = np.array([[1,0,0,0], [0,1,0,0], [0,0,0,1], [0,0,1,0]])\n",
        "\n",
        "def RX(angle):\n",
        "  return np.array([[np.cos(radians(angle)/2), -1j * np.sin(radians(angle)/2)], [-1j * np.sin(radians(angle)/2), np.cos(radians(angle)/2)]])\n",
        "def RY(angle):\n",
        "  return np.array([[np.cos(radians(angle)/2), -np.sin(radians(angle)/2)], [np.sin(radians(angle)/2), np.cos(radians(angle)/2)]])\n",
        "def RZ(angle):\n",
        "  return np.array([[np.exp(-1j * radians(angle)/2), 0], [0, np.exp(1j * radians(angle)/2)]])\n",
        "\n",
        "zero_state = np.array([1, 0])\n",
        "one_state = np.array([0, 1])\n",
        "plus_state = 1/(2)**(1/2) * np.array([1, 1])\n",
        "minus_state = 1/(2)**(1/2) * np.array([1, -1])\n",
        "i_state = 1/(2)**(1/2) * (zero_state + 1j * one_state)\n",
        "minus_i_state = 1/(2)**(1/2) * (zero_state - 1j * one_state)\n",
        "\n",
        "def probabilities(state_vector):\n",
        "  probabilities = state_vector * np.conjugate(state_vector)\n",
        "  return probabilities\n",
        "\n",
        "def counts(shots, state_vector):\n",
        "  counts = np.random.multinomial(shots, state_vector * np.conjugate(state_vector))\n",
        "  return counts\n",
        "\n",
        "def simulate(shots, state_vector, qubits):\n",
        "  plt.bar(binary_labels(qubits), np.random.multinomial(shots, state_vector * np.conjugate(state_vector)))\n",
        "\n",
        "  plt.xlabel('State')\n",
        "  plt.ylabel('Count')\n",
        "  plt.title('Histogram of Measurement Results')\n",
        "  plt.show()"
      ],
      "metadata": {
        "id": "jikaP-3gYaCT"
      },
      "id": "jikaP-3gYaCT",
      "execution_count": null,
      "outputs": []
    },
    {
      "cell_type": "markdown",
      "source": [
        "####**Single Qubit Quantum Circuit**\n",
        "Create a quantum circuit with an H gate applied to a single qubit. Output the probabilities and simulate the results 100 times."
      ],
      "metadata": {
        "id": "zerNGrB_zN4k"
      },
      "id": "zerNGrB_zN4k"
    },
    {
      "cell_type": "code",
      "source": [
        "# COMPLETE THIS CODE\n",
        "print(probabilities(plus_state))\n",
        "print(simulate(1000000000000, plus_state, 1))"
      ],
      "metadata": {
        "id": "Bx3BxIaN1_VQ",
        "colab": {
          "base_uri": "https://localhost:8080/",
          "height": 508
        },
        "outputId": "6fb9b62c-a5c3-41b6-9338-97d91b5bdb57"
      },
      "id": "Bx3BxIaN1_VQ",
      "execution_count": null,
      "outputs": [
        {
          "output_type": "stream",
          "name": "stdout",
          "text": [
            "[0.5 0.5]\n"
          ]
        },
        {
          "output_type": "display_data",
          "data": {
            "text/plain": [
              "<Figure size 640x480 with 1 Axes>"
            ],
            "image/png": "[encoded data removed]"
          },
          "metadata": {}
        },
        {
          "output_type": "stream",
          "name": "stdout",
          "text": [
            "None\n"
          ]
        }
      ]
    },
    {
      "cell_type": "markdown",
      "source": [
        "####**Two Qubit Quantum Circuit**\n",
        "Create a two quantum circuit with an H gate applied to each qubit. Output the probabilities and simulate the results 100 times."
      ],
      "metadata": {
        "id": "VNO5uMf00nuJ"
      },
      "id": "VNO5uMf00nuJ"
    },
    {
      "cell_type": "code",
      "source": [
        "# COMPLETE THIS CODE\n",
        "two_qub_state = np.kron(plus_state, plus_state)\n",
        "print(simulate(100, two_qub_state, 2))"
      ],
      "metadata": {
        "id": "XxEN3uuM2D75",
        "colab": {
          "base_uri": "https://localhost:8080/",
          "height": 490
        },
        "outputId": "bb8a51e8-b7e1-4e15-9842-4ebf33bc7082"
      },
      "execution_count": null,
      "outputs": [
        {
          "output_type": "display_data",
          "data": {
            "text/plain": [
              "<Figure size 640x480 with 1 Axes>"
            ],
            "image/png": "[encoded data removed]"
          },
          "metadata": {}
        },
        {
          "output_type": "stream",
          "name": "stdout",
          "text": [
            "None\n"
          ]
        }
      ],
      "id": "XxEN3uuM2D75"
    },
    {
      "cell_type": "markdown",
      "source": [
        "####**Three Qubit Quantum Circuit**\n",
        "Create a three qubit quantum circuit with an H gate applied to the first and third, and an X gate applied to the second. Output the probabilities and simulate the results 100 times."
      ],
      "metadata": {
        "id": "BbNl5ac9094v"
      },
      "id": "BbNl5ac9094v"
    },
    {
      "cell_type": "code",
      "source": [
        "# COMPLETE THIS CODE\n",
        "three_qub_state = np.kron(np.kron(plus_state, one_state), plus_state)\n",
        "print(simulate(100000000000, three_qub_state, 3))"
      ],
      "metadata": {
        "id": "ytXdaSAE2Ewn",
        "colab": {
          "base_uri": "https://localhost:8080/",
          "height": 490
        },
        "outputId": "31536b9b-432e-47a4-b3f3-ae0e4ce615a7"
      },
      "execution_count": null,
      "outputs": [
        {
          "output_type": "display_data",
          "data": {
            "text/plain": [
              "<Figure size 640x480 with 1 Axes>"
            ],
            "image/png": "[encoded data removed]"
          },
          "metadata": {}
        },
        {
          "output_type": "stream",
          "name": "stdout",
          "text": [
            "None\n"
          ]
        }
      ],
      "id": "ytXdaSAE2Ewn"
    },
    {
      "cell_type": "markdown",
      "id": "c9d991df-ad9b-4187-b9b4-318af12763f3",
      "metadata": {
        "jp-MarkdownHeadingCollapsed": true,
        "tags": [],
        "id": "c9d991df-ad9b-4187-b9b4-318af12763f3"
      },
      "source": [
        "#End of notebook\n",
        "---\n",
        "© 2024 The Coding School, All rights reserved"
      ]
    }
  ],
  "metadata": {
    "kernelspec": {
      "display_name": "Python 3 (ipykernel)",
      "language": "python",
      "name": "python3"
    },
    "language_info": {
      "codemirror_mode": {
        "name": "ipython",
        "version": 3
      },
      "file_extension": ".py",
      "mimetype": "text/x-python",
      "name": "python",
      "nbconvert_exporter": "python",
      "pygments_lexer": "ipython3",
      "version": "3.9.5"
    },
    "colab": {
      "provenance": []
    }
  },
  "nbformat": 4,
  "nbformat_minor": 5
}