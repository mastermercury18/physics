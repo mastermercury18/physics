{
  "cells": [
    {
      "cell_type": "markdown",
      "id": "e013572e-d2c0-47ea-a725-58df28e2e43d",
      "metadata": {
        "tags": [],
        "id": "e013572e-d2c0-47ea-a725-58df28e2e43d"
      },
      "source": [
        "# **Lab 2: Numpy statevector simulator**\n",
        "---\n",
        "\n",
        "### **Description**\n",
        "\n",
        "Numpy is the core library for scientific computing in Python. Some key highlights of numpy:\n",
        "* Python library containing math functions.\n",
        "* Written in C so it runs really fast!\n",
        "* Contains lots of helper functions allowing for shorter, more readable code.\n",
        "* Contains fantastic documentation. See: [numpy documentation](https://numpy.org/doc/stable/).\n",
        "\n",
        "\n",
        "This notebook will show you how to create NumPy arrays, use arrays to make your own quantum circuit states and gates, and visualize probability distributions for those quantum operations.\n",
        "\n",
        "<br>\n",
        "\n",
        "### **Lab Structure**\n",
        "**Part 1**: [Arrays](#p1)\n",
        "\n",
        "**Part 2**: [Vectors & Matrices](#p2)\n",
        "> **Part 2.1**: [Making Vectors in Numpy](#p21)\n",
        "\n",
        "> **Part 2.2**: [Making Matrices in Numpy](#p22)\n",
        "\n",
        "> **Part 2.3**: [Dot Product: Multiplying Vectors and Matrices](#p23)\n",
        "\n",
        "**Part 3**: [Quantum Computing operations](#p3)\n",
        "> **Part 3.1**: [Defining States](#p31)\n",
        "\n",
        "> **Part 3.2**: [Defining Gates](#p32)\n",
        "\n",
        "> **Part 3.3**: [Preparing States](#p33)\n",
        "\n",
        "**Part 4**: [Building a Statevector Simulator](#p4)\n",
        "\n",
        "<br>\n",
        "\n",
        "### **Goals**\n",
        "By the end of this lab, you will:\n",
        "* Be able to interact with lists, vectors and matrix operations using NumPy.\n",
        "* Be familiar with some basis states and gates used in quantum computing.\n",
        "* Be able to make your own gate functions.\n",
        "* Learn how to plot statevector values as probability historgrams.\n",
        "\n",
        "<br>\n",
        "\n",
        "**Before starting, run the code below to import all necessary functions and libraries.**\n",
        "\n",
        "While not required, the general consensus is to import the whole numpy library and set it as the name `np`:"
      ]
    },
    {
      "cell_type": "code",
      "execution_count": null,
      "id": "96f72aac-f14e-479a-821b-5874199715a4",
      "metadata": {
        "id": "96f72aac-f14e-479a-821b-5874199715a4"
      },
      "outputs": [],
      "source": [
        "import numpy as np\n",
        "import matplotlib.pyplot as plt"
      ]
    },
    {
      "cell_type": "markdown",
      "id": "2828b504-3597-4923-9672-ab7b52275b0e",
      "metadata": {
        "id": "2828b504-3597-4923-9672-ab7b52275b0e"
      },
      "source": [
        "<a name=\"p1\"></a>\n",
        "\n",
        "---\n",
        "## **Part 1: Arrays**\n",
        "---\n",
        "\n",
        "Numpy provides a high-performance multidimensional array object and tools for working with these arrays.\n",
        "\n"
      ]
    },
    {
      "cell_type": "markdown",
      "source": [
        "#### **Problem #1.1**\n",
        "\n",
        "**Together**, let's create a numpy array from this list."
      ],
      "metadata": {
        "id": "JGNTrtNE9U1J"
      },
      "id": "JGNTrtNE9U1J"
    },
    {
      "cell_type": "code",
      "source": [
        "# Python List (mutable)\n",
        "example_list = [0,1,2,3,4]\n",
        "\n",
        "numpy_list = np.array(example_list)\n",
        "\n",
        "print(example_list)\n",
        "print(numpy_list)"
      ],
      "metadata": {
        "id": "PAyX7rpgMatl",
        "colab": {
          "base_uri": "https://localhost:8080/"
        },
        "outputId": "0ad9758e-0503-43e7-93b9-943d3b0bc978"
      },
      "id": "PAyX7rpgMatl",
      "execution_count": null,
      "outputs": [
        {
          "output_type": "stream",
          "name": "stdout",
          "text": [
            "[0, 1, 2, 3, 4]\n",
            "[0 1 2 3 4]\n"
          ]
        }
      ]
    },
    {
      "cell_type": "markdown",
      "source": [
        "#### **Problem #1.2**\n",
        "\n",
        "**Together**, let's create a numpy array from the list: `[2, 4, 6, 8]`."
      ],
      "metadata": {
        "id": "ORfMRRrhMuWi"
      },
      "id": "ORfMRRrhMuWi"
    },
    {
      "cell_type": "code",
      "source": [
        "example_list = [2, 4, 6, 8]\n",
        "\n",
        "numpy_list = np.array(example_list)\n",
        "\n",
        "print(example_list)\n",
        "print(numpy_list)"
      ],
      "metadata": {
        "id": "GaPveHOuMuWj",
        "colab": {
          "base_uri": "https://localhost:8080/"
        },
        "outputId": "3c6cb68f-9c95-4adc-925c-8b9c3052cb4a"
      },
      "execution_count": null,
      "outputs": [
        {
          "output_type": "stream",
          "name": "stdout",
          "text": [
            "[2, 4, 6, 8]\n",
            "[2 4 6 8]\n"
          ]
        }
      ],
      "id": "GaPveHOuMuWj"
    },
    {
      "cell_type": "markdown",
      "source": [
        "#### **Problem #1.3**\n",
        "\n",
        "**Independently**, create a numpy array with any arrangement of any 10 numbers and print as a NumPy list."
      ],
      "metadata": {
        "id": "11XTrDGuMbtl"
      },
      "id": "11XTrDGuMbtl"
    },
    {
      "cell_type": "code",
      "source": [
        "# COMPLETE THIS CODE\n",
        "list_form = [1, 2, 3, 4, 5, 6, 7, 8, 9, 10]\n",
        "numpy_list = np.array(list_form)\n"
      ],
      "metadata": {
        "id": "nhyCom2XNclb"
      },
      "id": "nhyCom2XNclb",
      "execution_count": null,
      "outputs": []
    },
    {
      "cell_type": "markdown",
      "source": [
        "#### **Problem #1.4**\n",
        "\n",
        "**Independently**, create a numpy array with any arrangement of any 10 numbers and print as a NumPy list."
      ],
      "metadata": {
        "id": "q-RTQflkNiLS"
      },
      "id": "q-RTQflkNiLS"
    },
    {
      "cell_type": "markdown",
      "source": [
        "Make a list of the first 10 natural numbers and print an array of even numbers only."
      ],
      "metadata": {
        "id": "9XtSwWE8GJ5n"
      },
      "id": "9XtSwWE8GJ5n"
    },
    {
      "cell_type": "code",
      "source": [
        "# COMPLETE THIS CODE\n",
        "lst = []\n",
        "for i in range(1, 11):\n",
        "  if i % 2 == 0:\n",
        "    lst.append(i)\n",
        "print(np.array(lst))\n"
      ],
      "metadata": {
        "id": "ppoC3lgOp6my",
        "colab": {
          "base_uri": "https://localhost:8080/"
        },
        "outputId": "2aaec02e-3c2e-4d80-ba17-e989d3cae176"
      },
      "id": "ppoC3lgOp6my",
      "execution_count": null,
      "outputs": [
        {
          "output_type": "stream",
          "name": "stdout",
          "text": [
            "[ 2  4  6  8 10]\n"
          ]
        }
      ]
    },
    {
      "cell_type": "markdown",
      "source": [
        "#### **Problem #1.5**\n",
        "\n",
        "Make a list of first 10 natural numbers and print a NumPy array in reverse order."
      ],
      "metadata": {
        "id": "_NAKddyGHk3F"
      },
      "id": "_NAKddyGHk3F"
    },
    {
      "cell_type": "code",
      "source": [
        "# COMPLETE THIS SOLUTION\n",
        "lst = []\n",
        "for i in range(10, 0, -1):\n",
        "  lst.append(i)\n",
        "print(np.array(lst))\n"
      ],
      "metadata": {
        "id": "RWsAKGdbJap9",
        "colab": {
          "base_uri": "https://localhost:8080/"
        },
        "outputId": "fb56d62f-9c35-4d4f-97c0-e782ce936799"
      },
      "id": "RWsAKGdbJap9",
      "execution_count": null,
      "outputs": [
        {
          "output_type": "stream",
          "name": "stdout",
          "text": [
            "[10  9  8  7  6  5  4  3  2  1]\n"
          ]
        }
      ]
    },
    {
      "cell_type": "markdown",
      "source": [
        "#### **Problem #1.6**\n",
        "\n",
        "Make a list of first 10 whole numbers and print a NumPy array with odd numbers only in reverse order."
      ],
      "metadata": {
        "id": "aLVzegz2IbZS"
      },
      "id": "aLVzegz2IbZS"
    },
    {
      "cell_type": "code",
      "source": [
        "# COMPLETE THIS SOLUTION\n",
        "\n",
        "lst = []\n",
        "for i in range(10):\n",
        "  if i % 2 == 1:\n",
        "    lst.append(i)\n",
        "print(np.array(lst))"
      ],
      "metadata": {
        "id": "nJh75O-fJIf_",
        "colab": {
          "base_uri": "https://localhost:8080/"
        },
        "outputId": "b91965e1-4e21-43a3-d176-687e4acce42a"
      },
      "id": "nJh75O-fJIf_",
      "execution_count": null,
      "outputs": [
        {
          "output_type": "stream",
          "name": "stdout",
          "text": [
            "[1 3 5 7 9]\n"
          ]
        }
      ]
    },
    {
      "cell_type": "markdown",
      "id": "ccc7555a-8408-4c54-9b6e-ece719d269cb",
      "metadata": {
        "id": "ccc7555a-8408-4c54-9b6e-ece719d269cb"
      },
      "source": [
        "<a name=\"p2\"></a>\n",
        "\n",
        "---\n",
        "## **Part 2: Vectors & Matrices**\n",
        "---\n",
        "\n",
        "Arrays, matrices, and vectors are one and the same - these elements all describe dimension and space.\n",
        "\n",
        "\n",
        "*   1-Dimension = Array\n",
        "*   2-Dimension = Vector or Matrix\n",
        "\n",
        "\n",
        "### Example 1\n",
        "\n",
        "Dimension of A = (2,1):\n",
        "\n",
        "$$\n",
        "\\begin{bmatrix}\n",
        "12 \\\\\n",
        "20\n",
        "\\end{bmatrix}\n",
        "$$\n",
        "\n",
        "A is therefore a column vector as the Column dimensions = 1\n",
        "\n",
        "### Example 2\n",
        "\n",
        "Dimension of B = (2,2):\n",
        "\n",
        "$$\n",
        "\\begin{bmatrix}\n",
        "5 & 8 \\\\\n",
        "12 & 2\n",
        "\\end{bmatrix}\n",
        "$$\n",
        "\n",
        "B is therefore a Matrix as the Column dimensions = 2, and the Row dimensions = 2\n"
      ]
    },
    {
      "cell_type": "markdown",
      "id": "b9ad3863-dc3e-41e6-bbd3-5383ab233917",
      "metadata": {
        "id": "b9ad3863-dc3e-41e6-bbd3-5383ab233917"
      },
      "source": [
        "<a name=\"p21\"></a>\n",
        "\n",
        "---\n",
        "### **Part 2.1: Making Vectors in Numpy**\n",
        "---\n",
        "\n",
        "```python\n",
        "vector_name = np.array([[Value],\n",
        "                        [Value]])\n",
        "```"
      ]
    },
    {
      "cell_type": "markdown",
      "source": [
        "#### **Problem #2.1.1**\n",
        "\n",
        "Make the vector given below as a NumPy array:\n",
        "\n",
        "$$\n",
        "\\begin{bmatrix}\n",
        "1 \\\\\n",
        "0 \\\\\n",
        "1\n",
        "\\end{bmatrix}\n",
        "$$"
      ],
      "metadata": {
        "id": "A7hi99HNVD6W"
      },
      "id": "A7hi99HNVD6W"
    },
    {
      "cell_type": "code",
      "source": [
        "# COMPLETE THIS SOLUTION\n",
        "\n",
        "vector1 = np.array([[1], [0], [1]]\n",
        "                  )\n",
        "vector1"
      ],
      "metadata": {
        "id": "TU5vGGH4hGJ7",
        "colab": {
          "base_uri": "https://localhost:8080/"
        },
        "outputId": "c4b1e4a2-a9b5-44d3-9535-bedd9b8e91af"
      },
      "id": "TU5vGGH4hGJ7",
      "execution_count": null,
      "outputs": [
        {
          "output_type": "execute_result",
          "data": {
            "text/plain": [
              "array([[1],\n",
              "       [0],\n",
              "       [1]])"
            ]
          },
          "metadata": {},
          "execution_count": 10
        }
      ]
    },
    {
      "cell_type": "markdown",
      "source": [
        "#### **Problem #2.1.2**\n",
        "\n",
        "Make the vector given below as a NumPy array:\n",
        "\n",
        "$$\n",
        "\\begin{bmatrix}\n",
        "0 \\\\\n",
        "1\n",
        "\\end{bmatrix}\n",
        "$$"
      ],
      "metadata": {
        "id": "897RsS_8J-Uw"
      },
      "id": "897RsS_8J-Uw"
    },
    {
      "cell_type": "code",
      "source": [
        "# COMPLETE THIS SOLUTION\n",
        "\n",
        "vector2 = np.array([[0], [1]]\n",
        "                  )\n",
        "vector2"
      ],
      "metadata": {
        "id": "Wtfje7VyKTVD",
        "colab": {
          "base_uri": "https://localhost:8080/"
        },
        "outputId": "948216c4-9549-485d-a7a2-d9ad0d061e97"
      },
      "id": "Wtfje7VyKTVD",
      "execution_count": null,
      "outputs": [
        {
          "output_type": "execute_result",
          "data": {
            "text/plain": [
              "array([[0],\n",
              "       [1]])"
            ]
          },
          "metadata": {},
          "execution_count": 11
        }
      ]
    },
    {
      "cell_type": "markdown",
      "source": [
        "#### **Problem #2.1.3**\n",
        "\n",
        "Make a vector with the first 5 natural numbers in descending order."
      ],
      "metadata": {
        "id": "o348ym1rK2wW"
      },
      "id": "o348ym1rK2wW"
    },
    {
      "cell_type": "code",
      "source": [
        "# COMPLETE THIS SOLUTION\n",
        "\n",
        "natural_vector = np.array([[5], [4], [3], [2], [1]])\n",
        "natural_vector"
      ],
      "metadata": {
        "id": "7hR77lsbMTma",
        "colab": {
          "base_uri": "https://localhost:8080/"
        },
        "outputId": "0de73bbc-313d-4502-a08b-ac625f1eea08"
      },
      "id": "7hR77lsbMTma",
      "execution_count": null,
      "outputs": [
        {
          "output_type": "execute_result",
          "data": {
            "text/plain": [
              "array([[5],\n",
              "       [4],\n",
              "       [3],\n",
              "       [2],\n",
              "       [1]])"
            ]
          },
          "metadata": {},
          "execution_count": 13
        }
      ]
    },
    {
      "cell_type": "markdown",
      "source": [
        "#### **Problem #2.1.4**\n",
        "\n",
        "Make a vector for the two sides of a triangle, with a hypotenuse value of 5."
      ],
      "metadata": {
        "id": "2uGDpP0ZSUzI"
      },
      "id": "2uGDpP0ZSUzI"
    },
    {
      "cell_type": "code",
      "source": [
        "# COMPLETE THIS SOLUTION\n",
        "# 3 - 4 - 5\n",
        "triangle_sides = np.array([[3], [4]])\n",
        "triangle_sides"
      ],
      "metadata": {
        "id": "fN6UrXMqS7rY",
        "colab": {
          "base_uri": "https://localhost:8080/"
        },
        "outputId": "b736912e-68bd-44d7-84fb-ae905e4f759b"
      },
      "id": "fN6UrXMqS7rY",
      "execution_count": null,
      "outputs": [
        {
          "output_type": "execute_result",
          "data": {
            "text/plain": [
              "array([[3],\n",
              "       [4]])"
            ]
          },
          "metadata": {},
          "execution_count": 15
        }
      ]
    },
    {
      "cell_type": "markdown",
      "source": [
        "#### **Problem #2.1.5**\n",
        "\n",
        "Make a three-dimensional vector v1 with horizontal and vertical components as\n",
        "$$\n",
        "\\begin{bmatrix}\n",
        "x \\\\\n",
        "y \\\\\n",
        "z \\\\\n",
        "\\end{bmatrix}\n",
        "$$."
      ],
      "metadata": {
        "id": "f-wkwz29M44N"
      },
      "id": "f-wkwz29M44N"
    },
    {
      "cell_type": "code",
      "source": [
        "# COMPLETE THIS SOLUTION\n",
        "\n",
        "v1 = np.array([[\"x\"], [\"y\"], [\"z\"]])\n",
        "v1"
      ],
      "metadata": {
        "id": "ztxbHoIHNXdz",
        "colab": {
          "base_uri": "https://localhost:8080/"
        },
        "outputId": "9ffbc998-f8ed-48e0-d291-44a9eff4a946"
      },
      "id": "ztxbHoIHNXdz",
      "execution_count": null,
      "outputs": [
        {
          "output_type": "execute_result",
          "data": {
            "text/plain": [
              "array([['x'],\n",
              "       ['y'],\n",
              "       ['z']], dtype='<U1')"
            ]
          },
          "metadata": {},
          "execution_count": 17
        }
      ]
    },
    {
      "cell_type": "markdown",
      "id": "db3d5275-04f5-49bd-9f34-d33e777424a2",
      "metadata": {
        "id": "db3d5275-04f5-49bd-9f34-d33e777424a2"
      },
      "source": [
        "<a name=\"p22\"></a>\n",
        "\n",
        "---\n",
        "### **Part 2.2: Making Matrices in Numpy**\n",
        "---\n",
        "\n",
        "```python\n",
        "matrix_name = np.array([[row],\n",
        "                        [row]])\n",
        "```"
      ]
    },
    {
      "cell_type": "markdown",
      "source": [
        "#### **Problem #2.2.1**\n",
        "\n",
        "Make a 2x2 identity matrix."
      ],
      "metadata": {
        "id": "U-9p28CBOYsj"
      },
      "id": "U-9p28CBOYsj"
    },
    {
      "cell_type": "code",
      "source": [
        "# row 1 = 1 0\n",
        "# row 2 = 0 1\n",
        "matrix1 = np.array([[1, 0], [0, 1]]\n",
        "                  )\n",
        "matrix1"
      ],
      "metadata": {
        "id": "UJ4aPyiROqU9",
        "colab": {
          "base_uri": "https://localhost:8080/"
        },
        "outputId": "dbf6b61d-9f00-4bc2-a6de-dd569db7c330"
      },
      "id": "UJ4aPyiROqU9",
      "execution_count": null,
      "outputs": [
        {
          "output_type": "execute_result",
          "data": {
            "text/plain": [
              "array([[1, 0],\n",
              "       [0, 1]])"
            ]
          },
          "metadata": {},
          "execution_count": 19
        }
      ]
    },
    {
      "cell_type": "markdown",
      "source": [
        "#### **Problem #2.2.2**\n",
        "\n",
        "Make a 3x3 matrix with all diagonal elements as 1 and the rest as 0."
      ],
      "metadata": {
        "id": "rJHwKn8LN7oN"
      },
      "id": "rJHwKn8LN7oN"
    },
    {
      "cell_type": "code",
      "source": [
        "# COMPLETE THIS SOLUTION\n",
        "\n",
        "matrix2 = np.array([[1, 0, 0], [0, 1, 0], [0, 0, 1]]\n",
        "                  )\n",
        "\n",
        "matrix2"
      ],
      "metadata": {
        "id": "husBnG0xPUB-",
        "colab": {
          "base_uri": "https://localhost:8080/"
        },
        "outputId": "3e51b272-7a02-43cd-ea69-2925c1e37d81"
      },
      "id": "husBnG0xPUB-",
      "execution_count": null,
      "outputs": [
        {
          "output_type": "execute_result",
          "data": {
            "text/plain": [
              "array([[1, 0, 0],\n",
              "       [0, 1, 0],\n",
              "       [0, 0, 1]])"
            ]
          },
          "metadata": {},
          "execution_count": 20
        }
      ]
    },
    {
      "cell_type": "markdown",
      "source": [
        "#### **Problem #2.2.3**\n",
        "\n",
        "You can also create this matrix from a python list! Convert the python list given below to a matrix."
      ],
      "metadata": {
        "id": "mi-9lku0TUGe"
      },
      "id": "mi-9lku0TUGe"
    },
    {
      "cell_type": "code",
      "execution_count": null,
      "id": "5ad9240d-0591-4640-8022-7a10e1bd8a73",
      "metadata": {
        "id": "5ad9240d-0591-4640-8022-7a10e1bd8a73",
        "colab": {
          "base_uri": "https://localhost:8080/"
        },
        "outputId": "046eec9f-23a2-4a26-f433-7d9fa0fbe872"
      },
      "outputs": [
        {
          "output_type": "execute_result",
          "data": {
            "text/plain": [
              "[[0, 1, 0], [1, 0, 1], [4, 5, 4]]"
            ]
          },
          "metadata": {},
          "execution_count": 21
        }
      ],
      "source": [
        "plist = [[0,1,0],\n",
        "         [1,0,1],\n",
        "         [4,5,4]]\n",
        "plist\n"
      ]
    },
    {
      "cell_type": "code",
      "source": [
        "# COMPLETE THIS SOLUTION\n",
        "\n",
        "matrix3 = np.array(plist)\n",
        "matrix3"
      ],
      "metadata": {
        "id": "ctpFpIwSTYgR",
        "colab": {
          "base_uri": "https://localhost:8080/"
        },
        "outputId": "fc5f8f4b-559f-46e0-c3d5-aa94dded0fa6"
      },
      "id": "ctpFpIwSTYgR",
      "execution_count": null,
      "outputs": [
        {
          "output_type": "execute_result",
          "data": {
            "text/plain": [
              "array([[0, 1, 0],\n",
              "       [1, 0, 1],\n",
              "       [4, 5, 4]])"
            ]
          },
          "metadata": {},
          "execution_count": 23
        }
      ]
    },
    {
      "cell_type": "markdown",
      "source": [
        "#### **Problem #2.2.4**\n",
        "\n",
        "Write a list for a 3x3 Identity Matrix and convert to a NumPy matrix"
      ],
      "metadata": {
        "id": "8vcqnVJhTqjd"
      },
      "id": "8vcqnVJhTqjd"
    },
    {
      "cell_type": "code",
      "source": [
        "# COMPLETE THIS SOLUTION\n",
        "\n",
        "id_list = [[1,0,0],\n",
        "         [0,1,0],\n",
        "         [0,0,1]]\n",
        "\n",
        "id_matrix = np.array(id_list)\n",
        "id_matrix"
      ],
      "metadata": {
        "id": "x7kpjch1Tyvr",
        "colab": {
          "base_uri": "https://localhost:8080/"
        },
        "outputId": "2d737570-2d45-4535-ec18-4f39e6cf0323"
      },
      "id": "x7kpjch1Tyvr",
      "execution_count": null,
      "outputs": [
        {
          "output_type": "execute_result",
          "data": {
            "text/plain": [
              "array([[1, 0, 0],\n",
              "       [0, 1, 0],\n",
              "       [0, 0, 1]])"
            ]
          },
          "metadata": {},
          "execution_count": 24
        }
      ]
    },
    {
      "cell_type": "markdown",
      "source": [
        "#### **Problem #2.2.5**\n",
        "\n",
        "Make a 3x3 list for a matrix with all values as the number 10, and convert to a NumPy matrix."
      ],
      "metadata": {
        "id": "61IQJG0EPyOr"
      },
      "id": "61IQJG0EPyOr"
    },
    {
      "cell_type": "code",
      "source": [
        "# COMPLETE THIS SOLUTION\n",
        "\n",
        "list_10 = [[10, 10, 10],\n",
        "         [10, 10, 10],\n",
        "         [10, 10, 10]]\n",
        "list_10 = np.array(list_10)"
      ],
      "metadata": {
        "id": "MpIr3i73SZRj"
      },
      "id": "MpIr3i73SZRj",
      "execution_count": null,
      "outputs": []
    },
    {
      "cell_type": "markdown",
      "id": "74493d56-b3b5-4f02-abe7-fc693a7f7340",
      "metadata": {
        "tags": [],
        "id": "74493d56-b3b5-4f02-abe7-fc693a7f7340"
      },
      "source": [
        "<a name=\"p23\"></a>\n",
        "\n",
        "---\n",
        "### **Part 2.3: Dot Product: Multiplying Matrices & Vectors**\n",
        "---\n",
        "\n",
        "Let's take a look at how to multiply vectors and matrices."
      ]
    },
    {
      "cell_type": "markdown",
      "source": [
        "#### **Problem #2.3.1**\n",
        "\n",
        "Multiply Matrix 1 and Vector 2 from Part #2.1 and #2.2"
      ],
      "metadata": {
        "id": "mSH7ea0UTw70"
      },
      "id": "mSH7ea0UTw70"
    },
    {
      "cell_type": "code",
      "source": [
        "print(\"matrix 1: \")\n",
        "display(matrix1)\n",
        "print(\"vector 2: \")\n",
        "display(vector2)"
      ],
      "metadata": {
        "id": "MnMFWuNDUHVF",
        "colab": {
          "base_uri": "https://localhost:8080/",
          "height": 124
        },
        "outputId": "84ba79ab-1084-4ce1-e937-cb53f3f64818"
      },
      "id": "MnMFWuNDUHVF",
      "execution_count": null,
      "outputs": [
        {
          "output_type": "stream",
          "name": "stdout",
          "text": [
            "matrix 1: \n"
          ]
        },
        {
          "output_type": "display_data",
          "data": {
            "text/plain": [
              "array([[1, 0],\n",
              "       [0, 1]])"
            ]
          },
          "metadata": {}
        },
        {
          "output_type": "stream",
          "name": "stdout",
          "text": [
            "vector 2: \n"
          ]
        },
        {
          "output_type": "display_data",
          "data": {
            "text/plain": [
              "array([[0],\n",
              "       [1]])"
            ]
          },
          "metadata": {}
        }
      ]
    },
    {
      "cell_type": "code",
      "source": [
        "print(f\"shape of matrix1 {matrix1.shape}\")\n",
        "print(f\"shape of vector2 {vector2.shape}\")\n",
        "print(f\"M x N Matrix can dot with and N x L vector\")\n",
        "np.dot(matrix1, vector2)"
      ],
      "metadata": {
        "id": "o1X8PS66VW-Z",
        "colab": {
          "base_uri": "https://localhost:8080/"
        },
        "outputId": "84de93a5-90bb-4d4c-e03d-4327b25b157e"
      },
      "id": "o1X8PS66VW-Z",
      "execution_count": null,
      "outputs": [
        {
          "output_type": "stream",
          "name": "stdout",
          "text": [
            "shape of matrix1 (2, 2)\n",
            "shape of vector2 (2, 1)\n",
            "M x N Matrix can dot with and N x L vector\n"
          ]
        },
        {
          "output_type": "execute_result",
          "data": {
            "text/plain": [
              "array([[0],\n",
              "       [1]])"
            ]
          },
          "metadata": {},
          "execution_count": 28
        }
      ]
    },
    {
      "cell_type": "markdown",
      "source": [
        "#### **Problem #2.3.2**\n",
        "\n",
        "Do a dot product for matrix 1 and vector 1 from Part #2.1 and #2.2, and observe."
      ],
      "metadata": {
        "id": "aOoW5fJDUl1h"
      },
      "id": "aOoW5fJDUl1h"
    },
    {
      "cell_type": "code",
      "execution_count": null,
      "id": "f2a2a73d-dbd2-4d0e-a16e-07dfa0647427",
      "metadata": {
        "id": "f2a2a73d-dbd2-4d0e-a16e-07dfa0647427",
        "colab": {
          "base_uri": "https://localhost:8080/",
          "height": 178
        },
        "outputId": "ea1ff850-291b-4811-f984-9c191b71a67f"
      },
      "outputs": [
        {
          "output_type": "stream",
          "name": "stdout",
          "text": [
            "matrix 1: \n"
          ]
        },
        {
          "output_type": "display_data",
          "data": {
            "text/plain": [
              "array([[1, 0],\n",
              "       [0, 1]])"
            ]
          },
          "metadata": {}
        },
        {
          "output_type": "stream",
          "name": "stdout",
          "text": [
            "vector 1: \n"
          ]
        },
        {
          "output_type": "display_data",
          "data": {
            "text/plain": [
              "array([[1],\n",
              "       [0],\n",
              "       [1]])"
            ]
          },
          "metadata": {}
        },
        {
          "output_type": "stream",
          "name": "stdout",
          "text": [
            "shape of matrix1 (2, 2)\n",
            "shape of vector1 (3, 1)\n"
          ]
        }
      ],
      "source": [
        "print(\"matrix 1: \")\n",
        "display(matrix1)\n",
        "print(\"vector 1: \")\n",
        "display(vector1)\n",
        "print(f\"shape of matrix1 {matrix1.shape}\")\n",
        "print(f\"shape of vector1 {vector1.shape}\")"
      ]
    },
    {
      "cell_type": "code",
      "source": [
        "# COMPLETE THIS SOLUTION\n",
        "\n",
        "dot_1 = np.dot(matrix1, vector1)"
      ],
      "metadata": {
        "id": "A6NFeIZRWYGw",
        "colab": {
          "base_uri": "https://localhost:8080/",
          "height": 180
        },
        "outputId": "d1fb6eb3-156d-4736-83cd-e62331ffa495"
      },
      "id": "A6NFeIZRWYGw",
      "execution_count": null,
      "outputs": [
        {
          "output_type": "error",
          "ename": "ValueError",
          "evalue": "shapes (2,2) and (3,1) not aligned: 2 (dim 1) != 3 (dim 0)",
          "traceback": [
            "\u001b[0;31m---------------------------------------------------------------------------\u001b[0m",
            "\u001b[0;31mValueError\u001b[0m                                Traceback (most recent call last)",
            "\u001b[0;32m<ipython-input-30-4c676f10ab75>\u001b[0m in \u001b[0;36m<cell line: 3>\u001b[0;34m()\u001b[0m\n\u001b[1;32m      1\u001b[0m \u001b[0;31m# COMPLETE THIS SOLUTION\u001b[0m\u001b[0;34m\u001b[0m\u001b[0;34m\u001b[0m\u001b[0m\n\u001b[1;32m      2\u001b[0m \u001b[0;34m\u001b[0m\u001b[0m\n\u001b[0;32m----> 3\u001b[0;31m \u001b[0mdot_1\u001b[0m \u001b[0;34m=\u001b[0m \u001b[0mnp\u001b[0m\u001b[0;34m.\u001b[0m\u001b[0mdot\u001b[0m\u001b[0;34m(\u001b[0m\u001b[0mmatrix1\u001b[0m\u001b[0;34m,\u001b[0m \u001b[0mvector1\u001b[0m\u001b[0;34m)\u001b[0m\u001b[0;34m\u001b[0m\u001b[0;34m\u001b[0m\u001b[0m\n\u001b[0m",
            "\u001b[0;31mValueError\u001b[0m: shapes (2,2) and (3,1) not aligned: 2 (dim 1) != 3 (dim 0)"
          ]
        }
      ]
    },
    {
      "cell_type": "markdown",
      "source": [
        "#### **Problem #2.3.3**\n",
        "\n",
        "Multiply (matrix_2) with (vector_1) from previous parts."
      ],
      "metadata": {
        "id": "dAJu6h0xWvFV"
      },
      "id": "dAJu6h0xWvFV"
    },
    {
      "cell_type": "code",
      "source": [
        "# COMPLETE THIS SOLUTION\n",
        "dot_2 = np.dot(matrix2, vector1)\n"
      ],
      "metadata": {
        "id": "dLT5bDaIXWTX"
      },
      "id": "dLT5bDaIXWTX",
      "execution_count": null,
      "outputs": []
    },
    {
      "cell_type": "markdown",
      "source": [
        "#### **Problem #2.3.4**\n",
        "\n",
        "\n",
        "Make a 3x3 matrix, \"dot3\", with the dot product of (matrix2) and (list_10) matrices from Part #2.2."
      ],
      "metadata": {
        "id": "EqJSVfEVYOaS"
      },
      "id": "EqJSVfEVYOaS"
    },
    {
      "cell_type": "code",
      "source": [
        "# COMPLETE THIS SOLUTION\n",
        "dot_3 = np.dot(matrix2, list_10)\n"
      ],
      "metadata": {
        "id": "Ea1MEhNWYm78"
      },
      "id": "Ea1MEhNWYm78",
      "execution_count": null,
      "outputs": []
    },
    {
      "cell_type": "markdown",
      "source": [
        "#### **Problem #2.3.5**\n",
        "\n",
        "Make a 3x3 matrix, \"dot_id\", with the dot product of the identity matrix and \"matrix3\" from Part #2.2."
      ],
      "metadata": {
        "id": "OjVkUzapZcNc"
      },
      "id": "OjVkUzapZcNc"
    },
    {
      "cell_type": "code",
      "source": [
        "# COMPLETE YOUR SOLUTION\n",
        "\n",
        "dot_id = np.dot(id_matrix, matrix3)"
      ],
      "metadata": {
        "id": "ZDaCdiHMZ26j"
      },
      "id": "ZDaCdiHMZ26j",
      "execution_count": null,
      "outputs": []
    },
    {
      "cell_type": "markdown",
      "id": "3360f6b7-e646-449b-896e-2be69345fe6c",
      "metadata": {
        "id": "3360f6b7-e646-449b-896e-2be69345fe6c"
      },
      "source": [
        "<a name=\"p3\"></a>\n",
        "\n",
        "---\n",
        "## **Part 3: Quantum Computing operations**\n",
        "---\n",
        "\n",
        "Cool, so let's do some Quantum Computing with that!"
      ]
    },
    {
      "cell_type": "markdown",
      "source": [
        "<a name=\"p31\"></a>\n",
        "\n",
        "---\n",
        "### **Part 3.1: Defining States**\n",
        "---"
      ],
      "metadata": {
        "id": "7uFtMxpqjbzc"
      },
      "id": "7uFtMxpqjbzc"
    },
    {
      "cell_type": "markdown",
      "id": "133cb077-4716-4753-a49c-377fad022bc3",
      "metadata": {
        "id": "133cb077-4716-4753-a49c-377fad022bc3"
      },
      "source": [
        "#### **Problem #3.1.1: Define the $\\lvert 0 \\rangle$ State**\n",
        "\n",
        "This is one of the basis states that you can use to initialize the state of your quantum circuit. You can define it by creating the vector below:\n",
        "\n",
        "$$\n",
        "\\begin{bmatrix}\n",
        "1 \\\\\n",
        "0\n",
        "\\end{bmatrix}\n",
        "$$"
      ]
    },
    {
      "cell_type": "code",
      "source": [
        "# COMPLETE THIS SOLUTION\n",
        "\n",
        "basis_state_0 = np.array([[1], [0]])\n",
        "basis_state_0"
      ],
      "metadata": {
        "id": "-wHy0I-vlZSV",
        "colab": {
          "base_uri": "https://localhost:8080/"
        },
        "outputId": "cb486649-c1d5-42dc-bb53-63c9da2a0e38"
      },
      "id": "-wHy0I-vlZSV",
      "execution_count": null,
      "outputs": [
        {
          "output_type": "execute_result",
          "data": {
            "text/plain": [
              "array([[1],\n",
              "       [0]])"
            ]
          },
          "metadata": {},
          "execution_count": 35
        }
      ]
    },
    {
      "cell_type": "markdown",
      "source": [
        "#### **Problem #3.1.2: Define the $\\lvert 1 \\rangle$ State**\n",
        "\n",
        "\n",
        "This is one of the other basis states used commonly. You can define it by creating the following vector:\n",
        "\n",
        "$$\n",
        "\\begin{bmatrix}\n",
        "0 \\\\\n",
        "1\n",
        "\\end{bmatrix}\n",
        "$$"
      ],
      "metadata": {
        "id": "_e_Mnug9_RPX"
      },
      "id": "_e_Mnug9_RPX"
    },
    {
      "cell_type": "code",
      "source": [
        "# COMPLETE THIS SOLUTION\n",
        "\n",
        "basis_state_1 = np.array([[0], [1]])\n",
        "basis_state_1\n"
      ],
      "metadata": {
        "id": "aELMV55X_O9R",
        "colab": {
          "base_uri": "https://localhost:8080/"
        },
        "outputId": "d6ae2d25-5b4e-410c-f97c-1ceb0e3558d6"
      },
      "id": "aELMV55X_O9R",
      "execution_count": null,
      "outputs": [
        {
          "output_type": "execute_result",
          "data": {
            "text/plain": [
              "array([[0],\n",
              "       [1]])"
            ]
          },
          "metadata": {},
          "execution_count": 36
        }
      ]
    },
    {
      "cell_type": "markdown",
      "source": [
        "<a name=\"p32\"></a>\n",
        "\n",
        "---\n",
        "### **Part 3.2: Defining Gates**\n",
        "---"
      ],
      "metadata": {
        "id": "2yprCnzwj4hA"
      },
      "id": "2yprCnzwj4hA"
    },
    {
      "cell_type": "markdown",
      "id": "6980eaa5-a492-48a3-9435-f5ef9210851d",
      "metadata": {
        "id": "6980eaa5-a492-48a3-9435-f5ef9210851d"
      },
      "source": [
        "#### **Problem #3.2.1: Define the X Gate**\n",
        "\n",
        "The X gate performs a rotation of pi radians on your quantum state over the x-axis of the Bloch sphere. It can be defined using the following matrix:\n",
        "\n",
        "$$\n",
        "\\begin{bmatrix}\n",
        "0 & 1 \\\\\n",
        "1 & 0\n",
        "\\end{bmatrix}\n",
        "$$"
      ]
    },
    {
      "cell_type": "code",
      "source": [
        "# COMPLETE THIS SOLUTION\n",
        "\n",
        "X = np.array([[0, 1], [1, 0]])"
      ],
      "metadata": {
        "id": "dHrl2Gr2lpaJ"
      },
      "id": "dHrl2Gr2lpaJ",
      "execution_count": null,
      "outputs": []
    },
    {
      "cell_type": "markdown",
      "id": "8c2c8c9c-64ce-46ba-a5c1-e34b02ca1afb",
      "metadata": {
        "id": "8c2c8c9c-64ce-46ba-a5c1-e34b02ca1afb"
      },
      "source": [
        "#### **Problem #3.2.2: Define the Z Gate**\n",
        "\n",
        "The X gate performs a rotation of pi radians on your quantum state over the x-axis of the Bloch sphere. It can be defined using the following matrix:\n",
        "\n",
        "$$\n",
        "\\begin{bmatrix}\n",
        "1 & 0 \\\\\n",
        "0 & -1\n",
        "\\end{bmatrix}\n",
        "$$"
      ]
    },
    {
      "cell_type": "code",
      "source": [
        "# COMPLETE THE SOLUTION\n",
        "\n",
        "Z = np.array([[1, 0], [0, -1]])\n",
        "Z"
      ],
      "metadata": {
        "id": "8ThAOsw8-fRt",
        "colab": {
          "base_uri": "https://localhost:8080/"
        },
        "outputId": "f5c28e4c-806c-4a15-b811-ceaa6ba1741a"
      },
      "id": "8ThAOsw8-fRt",
      "execution_count": null,
      "outputs": [
        {
          "output_type": "execute_result",
          "data": {
            "text/plain": [
              "array([[ 1,  0],\n",
              "       [ 0, -1]])"
            ]
          },
          "metadata": {},
          "execution_count": 38
        }
      ]
    },
    {
      "cell_type": "markdown",
      "id": "d9ff36e7-9df0-4870-bddd-7fb67ff136c6",
      "metadata": {
        "id": "d9ff36e7-9df0-4870-bddd-7fb67ff136c6"
      },
      "source": [
        "#### **Problem #3.2.3: Define the H Gate**\n",
        "\n",
        "The H gate or \"Hadamard gate\" can be applied on a quantum state in your circuit to create a superposition of states. It can be defined using the following matrix:\n",
        "\n",
        "$$\n",
        "\\frac{1}{\\sqrt{2}}\n",
        "\\begin{bmatrix}\n",
        "1 & 1 \\\\\n",
        "1 & -1\n",
        "\\end{bmatrix}\n",
        "$$"
      ]
    },
    {
      "cell_type": "code",
      "source": [
        "# COMPLETE THIS SOLUTION\n",
        "\n",
        "# Note that numbers can be multiplied outside of matrices and vectors\n",
        "H = (1/np.sqrt(2)) * np.array([[1, 1], [1, -1]]\n",
        "                              )\n",
        "H"
      ],
      "metadata": {
        "id": "57jIbnuAl10a",
        "colab": {
          "base_uri": "https://localhost:8080/"
        },
        "outputId": "9519d58c-a763-4b00-ae45-ba37bda79903"
      },
      "id": "57jIbnuAl10a",
      "execution_count": null,
      "outputs": [
        {
          "output_type": "execute_result",
          "data": {
            "text/plain": [
              "array([[ 0.70710678,  0.70710678],\n",
              "       [ 0.70710678, -0.70710678]])"
            ]
          },
          "metadata": {},
          "execution_count": 40
        }
      ]
    },
    {
      "cell_type": "markdown",
      "source": [
        "<a name=\"p33\"></a>\n",
        "\n",
        "---\n",
        "### **Part 3.3: Preparing States**\n",
        "---"
      ],
      "metadata": {
        "id": "MEvYExm7kSTz"
      },
      "id": "MEvYExm7kSTz"
    },
    {
      "cell_type": "markdown",
      "source": [
        "#### **Problem #3.3.1: Prepare the $\\lvert + \\rangle$ State**\n",
        "\n",
        "\n",
        "The $\\lvert + \\rangle$ state is a state that is prepared by applying a Hadamard gate to the $\\lvert 0 \\rangle$ state in a quantum circuit. It can be represented as a linear combination of the $\\lvert 0 \\rangle$ and the $\\lvert 1 \\rangle$ states in the same phase, as given below:\n",
        "\n",
        "$$\n",
        "\\frac{1}{\\sqrt{2}}\n",
        "(\\lvert 0 \\rangle + \\lvert 1 \\rangle)\n",
        "$$\n",
        "\n",
        "When preparing this state using only basis states and gates, you can do that by:\n",
        "* creating an initial state that's always $\\lvert 0 \\rangle$.\n",
        "* applying a H-gate (matrix) to create the given final state.\n"
      ],
      "metadata": {
        "id": "5hQRZOc9C8K3"
      },
      "id": "5hQRZOc9C8K3"
    },
    {
      "cell_type": "code",
      "source": [
        "# COMPLETE YOUR SOLUTION\n",
        "\n",
        "# Note that matrices and vectors with the same dimensions can be linearly combined\n",
        "state_zero = np.array([[1], [0]])\n",
        "State_plus = np.dot(H, state_zero)\n",
        "print(State_plus)"
      ],
      "metadata": {
        "id": "QqouJ0rBFjNM",
        "colab": {
          "base_uri": "https://localhost:8080/"
        },
        "outputId": "231a594c-96e3-413c-ddb8-ea73557863fd"
      },
      "id": "QqouJ0rBFjNM",
      "execution_count": null,
      "outputs": [
        {
          "output_type": "stream",
          "name": "stdout",
          "text": [
            "[[0.70710678]\n",
            " [0.70710678]]\n"
          ]
        }
      ]
    },
    {
      "cell_type": "markdown",
      "source": [
        "#### **Problem #3.3.2: Prepare the $\\lvert - \\rangle$ State**\n",
        "\n",
        "\n",
        "The $\\lvert - \\rangle$ state is a state that is prepared by applying a Hadamard gate to the $\\lvert 1 \\rangle$ state in a quantum circuit. It can be represented as a linear combination of the $\\lvert 0 \\rangle$ and the $\\lvert 1 \\rangle$ states in the opposite phase, as given below:\n",
        "\n",
        "$$\n",
        "\\frac{1}{\\sqrt{2}}\n",
        "(\\lvert 0 \\rangle - \\lvert 1 \\rangle)\n",
        "$$\n",
        "\n",
        "When preparing this state using only basis states and gates, you can do that by:\n",
        "* creating an initial state that's always $\\lvert 1 \\rangle$.\n",
        "* applying a H-gate to create the given final state."
      ],
      "metadata": {
        "id": "rw2RWva3Fo2Z"
      },
      "id": "rw2RWva3Fo2Z"
    },
    {
      "cell_type": "code",
      "source": [
        "# COMPLETE THIS SOLUTION\n",
        "\n",
        "state_one = np.array([[0], [1]])\n",
        "State_minus = np.dot(H, state_one)\n",
        "print(State_minus)"
      ],
      "metadata": {
        "id": "Vd9OeDkeF5C5",
        "colab": {
          "base_uri": "https://localhost:8080/"
        },
        "outputId": "9686e00e-a651-4a43-ad89-8a05d9d32e9c"
      },
      "id": "Vd9OeDkeF5C5",
      "execution_count": null,
      "outputs": [
        {
          "output_type": "stream",
          "name": "stdout",
          "text": [
            "[[ 0.70710678]\n",
            " [-0.70710678]]\n"
          ]
        }
      ]
    },
    {
      "cell_type": "markdown",
      "id": "cd736177-ed55-48f0-b7f7-5f2bfe223be2",
      "metadata": {
        "id": "cd736177-ed55-48f0-b7f7-5f2bfe223be2"
      },
      "source": [
        "<a name=\"p4\"></a>\n",
        "\n",
        "---\n",
        "## **Part 4: Building a Statevector Simulator**\n",
        "---\n",
        "\n",
        "We would now like to create a sequence of operations that will allow us to simulate our own combinations of statevectors. We will form quantum gate using arrays, apply gates using functions, and visualize probability distributions for combinations of those gates and states."
      ]
    },
    {
      "cell_type": "markdown",
      "source": [
        "#### **Problem #4.1: Make a gate application function**\n",
        "\n",
        "\n",
        "We would like to generalize the steps used to apply any gate to any state we want based on the arrays defined in the previous sections. We will do this by defining a gate application function.\n",
        "\n",
        "Use the function given below to apply an X gate to the $\\lvert 1 \\rangle$ state."
      ],
      "metadata": {
        "id": "qmHNC-h4MIhD"
      },
      "id": "qmHNC-h4MIhD"
    },
    {
      "cell_type": "code",
      "execution_count": null,
      "id": "6192616d-b458-4177-ae11-2e206649e6df",
      "metadata": {
        "id": "6192616d-b458-4177-ae11-2e206649e6df"
      },
      "outputs": [],
      "source": [
        "def apply_gate(gate, state):\n",
        "    out_state = np.dot(gate, state)\n",
        "    return out_state"
      ]
    },
    {
      "cell_type": "code",
      "source": [
        "# COMPLETE THIS SOLUTION\n",
        "\n",
        "apply_gate(X, np.array([[1], [0]])\n",
        "           )"
      ],
      "metadata": {
        "id": "0bx__U9UnRVm",
        "colab": {
          "base_uri": "https://localhost:8080/"
        },
        "outputId": "9ac5ca63-3971-46aa-df76-3bf6261483d1"
      },
      "id": "0bx__U9UnRVm",
      "execution_count": null,
      "outputs": [
        {
          "output_type": "execute_result",
          "data": {
            "text/plain": [
              "array([[0],\n",
              "       [1]])"
            ]
          },
          "metadata": {},
          "execution_count": 44
        }
      ]
    },
    {
      "cell_type": "markdown",
      "source": [
        "#### **Problem #4.2**\n",
        "\n",
        "Apply the Z gate on basis state  $\\lvert 1 \\rangle$."
      ],
      "metadata": {
        "id": "2W4Afb41nEG-"
      },
      "id": "2W4Afb41nEG-"
    },
    {
      "cell_type": "code",
      "source": [
        "# COMPLETE THIS SOLUTION\n",
        "apply_gate(Z, np.array([[0], [1]]))\n"
      ],
      "metadata": {
        "id": "YmNbgAgvMLtV",
        "colab": {
          "base_uri": "https://localhost:8080/"
        },
        "outputId": "52eade39-a497-4648-d030-e242b8dde95d"
      },
      "id": "YmNbgAgvMLtV",
      "execution_count": null,
      "outputs": [
        {
          "output_type": "execute_result",
          "data": {
            "text/plain": [
              "array([[ 0],\n",
              "       [-1]])"
            ]
          },
          "metadata": {},
          "execution_count": 45
        }
      ]
    },
    {
      "cell_type": "markdown",
      "id": "731821ff-b51c-4535-84a5-30990a46579b",
      "metadata": {
        "id": "731821ff-b51c-4535-84a5-30990a46579b"
      },
      "source": [
        "#### **Problem #4.3: Make a function that converts statevectors to probabilities**\n",
        "\n",
        "\n",
        "\n",
        "Next, we would like to generate the probabilites of our statevectors. We will use the following function to obtain an array of probabilites."
      ]
    },
    {
      "cell_type": "code",
      "source": [
        "# COMPLETE THIS SOLUTION\n",
        "\n",
        "def convert(statevector):\n",
        "    probability_vector = []\n",
        "    for row in statevector:\n",
        "        for value in row:\n",
        "            probability = np.power(np.abs(value), 2)\n",
        "            # append probabilities into probability_vector\n",
        "            probability_vector.append(probability)\n",
        "\n",
        "    # return probability_vector as an array\n",
        "    return np.array(probability_vector)"
      ],
      "metadata": {
        "id": "eEK4iTS_n6bX"
      },
      "id": "eEK4iTS_n6bX",
      "execution_count": null,
      "outputs": []
    },
    {
      "cell_type": "markdown",
      "id": "7a0a322f-3331-4ced-b376-e7c02f2e6a45",
      "metadata": {
        "id": "7a0a322f-3331-4ced-b376-e7c02f2e6a45"
      },
      "source": [
        "#### **Problem #4.4: Test out our convert function**\n",
        "\n",
        "Apply the H gate to the basis_state $\\lvert 0 \\rangle$ by using our `apply_gate` function defined above, and display (`print`) the output of this plus state."
      ]
    },
    {
      "cell_type": "code",
      "source": [
        "# COMPLETE THIS SOLUTION\n",
        "\n",
        "plus_state = apply_gate(H, np.array([[1], [0]]))\n",
        "\n",
        "print(f\"Statevector: {plus_state}\")\n",
        "\n",
        "probability_vec = convert(plus_state)\n",
        "print(f\"Probabilities {probability_vec}\")"
      ],
      "metadata": {
        "id": "Sur-fKl3NLaP",
        "colab": {
          "base_uri": "https://localhost:8080/"
        },
        "outputId": "e5bee99a-a2b5-4a72-ce8a-9746dd79701d"
      },
      "id": "Sur-fKl3NLaP",
      "execution_count": null,
      "outputs": [
        {
          "output_type": "stream",
          "name": "stdout",
          "text": [
            "Statevector: [[0.70710678]\n",
            " [0.70710678]]\n",
            "Probabilities [0.5 0.5]\n"
          ]
        }
      ]
    },
    {
      "cell_type": "markdown",
      "id": "439c34fa-0147-484c-82ea-82c38f00b7c4",
      "metadata": {
        "id": "439c34fa-0147-484c-82ea-82c38f00b7c4"
      },
      "source": [
        "#### **Problem #4.5: Define a \"Pro-Convert\" function**\n",
        "\n",
        "\n",
        "Let's see how we could make improvements to our `convert` function\n",
        "\n",
        "This pro-convert function is the same as the convert above but using a vectorized function. This allows for it to all be run in numpy C code which is much faster."
      ]
    },
    {
      "cell_type": "code",
      "execution_count": null,
      "id": "c0a677da-6a70-4eea-8e67-cbb4fb934842",
      "metadata": {
        "id": "c0a677da-6a70-4eea-8e67-cbb4fb934842"
      },
      "outputs": [],
      "source": [
        "def pro_convert(statevector):\n",
        "    # This is exactly the same as convert but in vectorized form\n",
        "    return np.power(np.abs(statevector), 2)"
      ]
    },
    {
      "cell_type": "markdown",
      "source": [
        "Call this pro-convert to apply H gate to basis state 0."
      ],
      "metadata": {
        "id": "ypkLeSaupfAw"
      },
      "id": "ypkLeSaupfAw"
    },
    {
      "cell_type": "code",
      "source": [
        "# COMPLETE THIS SOLUTION\n",
        "\n",
        "pro_convert(apply_gate(H, np.array([[1], [0]])))"
      ],
      "metadata": {
        "id": "EPyYG7X0o98i",
        "colab": {
          "base_uri": "https://localhost:8080/"
        },
        "outputId": "32c80061-d037-4a4c-ff7d-d392e6e8e279"
      },
      "id": "EPyYG7X0o98i",
      "execution_count": null,
      "outputs": [
        {
          "output_type": "execute_result",
          "data": {
            "text/plain": [
              "array([[0.5],\n",
              "       [0.5]])"
            ]
          },
          "metadata": {},
          "execution_count": 49
        }
      ]
    },
    {
      "cell_type": "markdown",
      "source": [
        "#### **Problem #4.6**\n",
        "\n",
        "Apply pro-convert to H gate applied to $\\lvert - \\rangle$ basis state."
      ],
      "metadata": {
        "id": "xUJN1VnMNggU"
      },
      "id": "xUJN1VnMNggU"
    },
    {
      "cell_type": "code",
      "source": [
        "# COMPLETE THIS SOLUTION\n",
        "\n",
        "minus_state = np.dot(H, np.array([[0], [1]]))\n",
        "\n",
        "probability_vec = pro_convert(apply_gate(H, minus_state))\n",
        "probability_vec"
      ],
      "metadata": {
        "id": "EIhg8AphNfbl",
        "colab": {
          "base_uri": "https://localhost:8080/"
        },
        "outputId": "9c074995-6bbd-474c-8715-e939b3f9855e"
      },
      "id": "EIhg8AphNfbl",
      "execution_count": null,
      "outputs": [
        {
          "output_type": "execute_result",
          "data": {
            "text/plain": [
              "array([[5.00468047e-34],\n",
              "       [1.00000000e+00]])"
            ]
          },
          "metadata": {},
          "execution_count": 51
        }
      ]
    },
    {
      "cell_type": "markdown",
      "id": "87acc08a-c1c4-4681-a7ae-6d00d5e67eca",
      "metadata": {
        "id": "87acc08a-c1c4-4681-a7ae-6d00d5e67eca"
      },
      "source": [
        "#### **Problem #4.7: Make a function that plots Statevectors as Probability histograms**\n",
        "\n",
        "Run the code given below and observe the results."
      ]
    },
    {
      "cell_type": "code",
      "execution_count": null,
      "id": "600966b6-5d4d-4ece-8aef-1b0e29d9fbd2",
      "metadata": {
        "id": "600966b6-5d4d-4ece-8aef-1b0e29d9fbd2"
      },
      "outputs": [],
      "source": [
        "def create_histogram(prob_vec):\n",
        "    fig, ax = plt.subplots()\n",
        "    labels = [\"0\",\"1\"]\n",
        "    heights = prob_vec.reshape(-1)\n",
        "    ax.bar(labels, heights)\n",
        "    ax.set_title(\"Probability of 0 and 1 measurements\")\n",
        "    ax.set_xlabel(\"States\")\n",
        "    ax.set_ylabel(\"Probability\")\n",
        "    ax.set_ylim([0,1])\n",
        "    plt.show()"
      ]
    },
    {
      "cell_type": "code",
      "execution_count": null,
      "id": "975e0af1-71c8-4f32-a6a7-826be5845ad0",
      "metadata": {
        "id": "975e0af1-71c8-4f32-a6a7-826be5845ad0",
        "colab": {
          "base_uri": "https://localhost:8080/",
          "height": 472
        },
        "outputId": "c8c479ea-eb6e-4c8e-b57e-185d160c8d86"
      },
      "outputs": [
        {
          "output_type": "display_data",
          "data": {
            "text/plain": [
              "<Figure size 640x480 with 1 Axes>"
            ],
            "image/png": "[encoded data removed]"
          },
          "metadata": {}
        }
      ],
      "source": [
        "state = apply_gate(H, basis_state_0)\n",
        "prob_vec = pro_convert(state)\n",
        "create_histogram(prob_vec)"
      ]
    },
    {
      "cell_type": "markdown",
      "source": [
        "#### **Problem #4.8: Define the execute function**"
      ],
      "metadata": {
        "id": "pjtXUxT1J-n1"
      },
      "id": "pjtXUxT1J-n1"
    },
    {
      "cell_type": "code",
      "source": [
        "def execute(gate_list, shots=1000):\n",
        "    # 1. Create the single qubit circuit\n",
        "    qubit = np.array([[1], [0]])\n",
        "\n",
        "    # 2. Calculate the statevector of that circuit\n",
        "    for gate in gate_list:\n",
        "        qubit = apply_gate(gate, qubit)\n",
        "\n",
        "    # 3. Pick a state, given the probability\n",
        "    #       distribution (repeat this = no. of shots)\n",
        "    probs = convert(qubit).reshape(-1)\n",
        "\n",
        "    # 4. Record the counts of each state\n",
        "    counts = {\"0\": 0, \"1\": 0}\n",
        "    for i in range(shots):\n",
        "        pick = np.random.choice([\"0\",\"1\"], p=probs)\n",
        "        counts[pick] += 1\n",
        "\n",
        "    return counts"
      ],
      "metadata": {
        "id": "KEjZ74sbJ4RD"
      },
      "id": "KEjZ74sbJ4RD",
      "execution_count": null,
      "outputs": []
    },
    {
      "cell_type": "markdown",
      "source": [
        "##### **Run this example below to verify your code works.**"
      ],
      "metadata": {
        "id": "YzQzfI2yjcrV"
      },
      "id": "YzQzfI2yjcrV"
    },
    {
      "cell_type": "code",
      "execution_count": null,
      "id": "aec17a53-10ff-40e7-a9f3-2ff9de0ca95d",
      "metadata": {
        "id": "aec17a53-10ff-40e7-a9f3-2ff9de0ca95d",
        "colab": {
          "base_uri": "https://localhost:8080/",
          "height": 472
        },
        "outputId": "b4a5fadc-1cfa-4b83-a085-aff532d9ce47"
      },
      "outputs": [
        {
          "output_type": "display_data",
          "data": {
            "text/plain": [
              "<Figure size 640x480 with 1 Axes>"
            ],
            "image/png": "[encoded data removed]"
          },
          "metadata": {}
        }
      ],
      "source": [
        "counts = execute([H, Z], shots=2000)\n",
        "\n",
        "ls = list(counts.values())\n",
        "probs = ls/np.sum(ls)\n",
        "create_histogram(probs)"
      ]
    },
    {
      "cell_type": "markdown",
      "id": "c9d991df-ad9b-4187-b9b4-318af12763f3",
      "metadata": {
        "jp-MarkdownHeadingCollapsed": true,
        "tags": [],
        "id": "c9d991df-ad9b-4187-b9b4-318af12763f3"
      },
      "source": [
        "#End of notebook\n",
        "---\n",
        "© 2023 The Coding School, All rights reserved"
      ]
    }
  ],
  "metadata": {
    "kernelspec": {
      "display_name": "Python 3 (ipykernel)",
      "language": "python",
      "name": "python3"
    },
    "language_info": {
      "codemirror_mode": {
        "name": "ipython",
        "version": 3
      },
      "file_extension": ".py",
      "mimetype": "text/x-python",
      "name": "python",
      "nbconvert_exporter": "python",
      "pygments_lexer": "ipython3",
      "version": "3.9.5"
    },
    "colab": {
      "provenance": []
    }
  },
  "nbformat": 4,
  "nbformat_minor": 5
}