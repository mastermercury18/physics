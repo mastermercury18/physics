{
  "nbformat": 4,
  "nbformat_minor": 0,
  "metadata": {
    "colab": {
      "provenance": []
    },
    "kernelspec": {
      "name": "python3",
      "display_name": "Python 3"
    },
    "language_info": {
      "name": "python"
    }
  },
  "cells": [
    {
      "cell_type": "markdown",
      "source": [],
      "metadata": {
        "id": "gn50Xiw6K9ZC"
      }
    },
    {
      "cell_type": "code",
      "execution_count": null,
      "metadata": {
        "colab": {
          "base_uri": "https://localhost:8080/"
        },
        "id": "5Pl-sc8qnJi1",
        "outputId": "ec37fe50-cdbe-44e0-a7c0-667d69bc7b06"
      },
      "outputs": [
        {
          "output_type": "stream",
          "name": "stdout",
          "text": [
            "Collecting perceval-quandela\n",
            "  Downloading perceval_quandela-0.12.2-py3-none-any.whl.metadata (56 kB)\n",
            "\u001b[2K     \u001b[90m━━━━━━━━━━━━━━━━━━━━━━━━━━━━━━━━━━━━━━━━\u001b[0m \u001b[32m56.8/56.8 kB\u001b[0m \u001b[31m1.9 MB/s\u001b[0m eta \u001b[36m0:00:00\u001b[0m\n",
            "\u001b[?25hRequirement already satisfied: sympy~=1.12 in /usr/local/lib/python3.11/dist-packages (from perceval-quandela) (1.13.1)\n",
            "Requirement already satisfied: numpy<3,>=1.26 in /usr/local/lib/python3.11/dist-packages (from perceval-quandela) (2.0.2)\n",
            "Requirement already satisfied: scipy~=1.13 in /usr/local/lib/python3.11/dist-packages (from perceval-quandela) (1.14.1)\n",
            "Requirement already satisfied: tabulate~=0.9 in /usr/local/lib/python3.11/dist-packages (from perceval-quandela) (0.9.0)\n",
            "Requirement already satisfied: matplotlib<4 in /usr/local/lib/python3.11/dist-packages (from perceval-quandela) (3.10.0)\n",
            "Collecting exqalibur~=0.6.4 (from perceval-quandela)\n",
            "  Downloading exqalibur-0.6.4-cp311-cp311-manylinux_2_17_x86_64.manylinux2014_x86_64.whl.metadata (473 bytes)\n",
            "Requirement already satisfied: multipledispatch<2 in /usr/local/lib/python3.11/dist-packages (from perceval-quandela) (1.0.0)\n",
            "Requirement already satisfied: protobuf>=3.20.3 in /usr/local/lib/python3.11/dist-packages (from perceval-quandela) (4.25.6)\n",
            "Collecting drawsvg>=2.0 (from perceval-quandela)\n",
            "  Downloading drawsvg-2.4.0-py3-none-any.whl.metadata (19 kB)\n",
            "Requirement already satisfied: requests<3 in /usr/local/lib/python3.11/dist-packages (from perceval-quandela) (2.32.3)\n",
            "Requirement already satisfied: networkx~=3.1 in /usr/local/lib/python3.11/dist-packages (from perceval-quandela) (3.4.2)\n",
            "Collecting latexcodec<4 (from perceval-quandela)\n",
            "  Downloading latexcodec-3.0.0-py3-none-any.whl.metadata (4.9 kB)\n",
            "Requirement already satisfied: platformdirs<5 in /usr/local/lib/python3.11/dist-packages (from perceval-quandela) (4.3.6)\n",
            "Requirement already satisfied: tqdm in /usr/local/lib/python3.11/dist-packages (from perceval-quandela) (4.67.1)\n",
            "Requirement already satisfied: contourpy>=1.0.1 in /usr/local/lib/python3.11/dist-packages (from matplotlib<4->perceval-quandela) (1.3.1)\n",
            "Requirement already satisfied: cycler>=0.10 in /usr/local/lib/python3.11/dist-packages (from matplotlib<4->perceval-quandela) (0.12.1)\n",
            "Requirement already satisfied: fonttools>=4.22.0 in /usr/local/lib/python3.11/dist-packages (from matplotlib<4->perceval-quandela) (4.56.0)\n",
            "Requirement already satisfied: kiwisolver>=1.3.1 in /usr/local/lib/python3.11/dist-packages (from matplotlib<4->perceval-quandela) (1.4.8)\n",
            "Requirement already satisfied: packaging>=20.0 in /usr/local/lib/python3.11/dist-packages (from matplotlib<4->perceval-quandela) (24.2)\n",
            "Requirement already satisfied: pillow>=8 in /usr/local/lib/python3.11/dist-packages (from matplotlib<4->perceval-quandela) (11.1.0)\n",
            "Requirement already satisfied: pyparsing>=2.3.1 in /usr/local/lib/python3.11/dist-packages (from matplotlib<4->perceval-quandela) (3.2.1)\n",
            "Requirement already satisfied: python-dateutil>=2.7 in /usr/local/lib/python3.11/dist-packages (from matplotlib<4->perceval-quandela) (2.8.2)\n",
            "Requirement already satisfied: charset-normalizer<4,>=2 in /usr/local/lib/python3.11/dist-packages (from requests<3->perceval-quandela) (3.4.1)\n",
            "Requirement already satisfied: idna<4,>=2.5 in /usr/local/lib/python3.11/dist-packages (from requests<3->perceval-quandela) (3.10)\n",
            "Requirement already satisfied: urllib3<3,>=1.21.1 in /usr/local/lib/python3.11/dist-packages (from requests<3->perceval-quandela) (2.3.0)\n",
            "Requirement already satisfied: certifi>=2017.4.17 in /usr/local/lib/python3.11/dist-packages (from requests<3->perceval-quandela) (2025.1.31)\n",
            "Requirement already satisfied: mpmath<1.4,>=1.1.0 in /usr/local/lib/python3.11/dist-packages (from sympy~=1.12->perceval-quandela) (1.3.0)\n",
            "Requirement already satisfied: six>=1.5 in /usr/local/lib/python3.11/dist-packages (from python-dateutil>=2.7->matplotlib<4->perceval-quandela) (1.17.0)\n",
            "Downloading perceval_quandela-0.12.2-py3-none-any.whl (439 kB)\n",
            "\u001b[2K   \u001b[90m━━━━━━━━━━━━━━━━━━━━━━━━━━━━━━━━━━━━━━━━\u001b[0m \u001b[32m439.3/439.3 kB\u001b[0m \u001b[31m8.3 MB/s\u001b[0m eta \u001b[36m0:00:00\u001b[0m\n",
            "\u001b[?25hDownloading drawsvg-2.4.0-py3-none-any.whl (44 kB)\n",
            "\u001b[2K   \u001b[90m━━━━━━━━━━━━━━━━━━━━━━━━━━━━━━━━━━━━━━━━\u001b[0m \u001b[32m44.1/44.1 kB\u001b[0m \u001b[31m1.5 MB/s\u001b[0m eta \u001b[36m0:00:00\u001b[0m\n",
            "\u001b[?25hDownloading exqalibur-0.6.4-cp311-cp311-manylinux_2_17_x86_64.manylinux2014_x86_64.whl (2.1 MB)\n",
            "\u001b[2K   \u001b[90m━━━━━━━━━━━━━━━━━━━━━━━━━━━━━━━━━━━━━━━━\u001b[0m \u001b[32m2.1/2.1 MB\u001b[0m \u001b[31m3.6 MB/s\u001b[0m eta \u001b[36m0:00:00\u001b[0m\n",
            "\u001b[?25hDownloading latexcodec-3.0.0-py3-none-any.whl (18 kB)\n",
            "Installing collected packages: drawsvg, latexcodec, exqalibur, perceval-quandela\n",
            "Successfully installed drawsvg-2.4.0 exqalibur-0.6.4 latexcodec-3.0.0 perceval-quandela-0.12.2\n"
          ]
        }
      ],
      "source": [
        "!pip install perceval-quandela"
      ]
    },
    {
      "cell_type": "code",
      "source": [
        "delta1 = np.pi/4\n",
        "xsi1 = 0"
      ],
      "metadata": {
        "id": "A3_v1IL7NH8G",
        "colab": {
          "base_uri": "https://localhost:8080/",
          "height": 162
        },
        "outputId": "7de89874-6980-49a5-f480-4df7e1f65ba6"
      },
      "execution_count": null,
      "outputs": [
        {
          "output_type": "error",
          "ename": "NameError",
          "evalue": "name 'np' is not defined",
          "traceback": [
            "\u001b[0;31m---------------------------------------------------------------------------\u001b[0m",
            "\u001b[0;31mNameError\u001b[0m                                 Traceback (most recent call last)",
            "\u001b[0;32m<ipython-input-2-2154d0d0e644>\u001b[0m in \u001b[0;36m<cell line: 1>\u001b[0;34m()\u001b[0m\n\u001b[0;32m----> 1\u001b[0;31m \u001b[0mdelta1\u001b[0m \u001b[0;34m=\u001b[0m \u001b[0mnp\u001b[0m\u001b[0;34m.\u001b[0m\u001b[0mpi\u001b[0m\u001b[0;34m/\u001b[0m\u001b[0;36m4\u001b[0m\u001b[0;34m\u001b[0m\u001b[0;34m\u001b[0m\u001b[0m\n\u001b[0m\u001b[1;32m      2\u001b[0m \u001b[0mxsi1\u001b[0m \u001b[0;34m=\u001b[0m \u001b[0;36m0\u001b[0m\u001b[0;34m\u001b[0m\u001b[0;34m\u001b[0m\u001b[0m\n",
            "\u001b[0;31mNameError\u001b[0m: name 'np' is not defined"
          ]
        }
      ]
    },
    {
      "cell_type": "code",
      "source": [
        "mzi = (pcvl.Circuit(4)\n",
        "       .add(1, comp.WP(delta=delta1, xsi=xsi1))\n",
        "       .add(1, comp.BS.H()))\n",
        "pcvl.pdisplay(mzi)"
      ],
      "metadata": {
        "colab": {
          "base_uri": "https://localhost:8080/",
          "height": 198
        },
        "id": "28T0rJQqM9tt",
        "outputId": "2f3876ec-5645-4032-9cde-37f9d95bf303"
      },
      "execution_count": null,
      "outputs": [
        {
          "output_type": "error",
          "ename": "NameError",
          "evalue": "name 'pcvl' is not defined",
          "traceback": [
            "\u001b[0;31m---------------------------------------------------------------------------\u001b[0m",
            "\u001b[0;31mNameError\u001b[0m                                 Traceback (most recent call last)",
            "\u001b[0;32m<ipython-input-3-bec680fdf51f>\u001b[0m in \u001b[0;36m<cell line: 1>\u001b[0;34m()\u001b[0m\n\u001b[0;32m----> 1\u001b[0;31m mzi = (pcvl.Circuit(4)\n\u001b[0m\u001b[1;32m      2\u001b[0m        \u001b[0;34m.\u001b[0m\u001b[0madd\u001b[0m\u001b[0;34m(\u001b[0m\u001b[0;36m1\u001b[0m\u001b[0;34m,\u001b[0m \u001b[0mcomp\u001b[0m\u001b[0;34m.\u001b[0m\u001b[0mWP\u001b[0m\u001b[0;34m(\u001b[0m\u001b[0mdelta\u001b[0m\u001b[0;34m=\u001b[0m\u001b[0mdelta1\u001b[0m\u001b[0;34m,\u001b[0m \u001b[0mxsi\u001b[0m\u001b[0;34m=\u001b[0m\u001b[0mxsi1\u001b[0m\u001b[0;34m)\u001b[0m\u001b[0;34m)\u001b[0m\u001b[0;34m\u001b[0m\u001b[0;34m\u001b[0m\u001b[0m\n\u001b[1;32m      3\u001b[0m        .add(1, comp.BS.H()))\n\u001b[1;32m      4\u001b[0m \u001b[0mpcvl\u001b[0m\u001b[0;34m.\u001b[0m\u001b[0mpdisplay\u001b[0m\u001b[0;34m(\u001b[0m\u001b[0mmzi\u001b[0m\u001b[0;34m)\u001b[0m\u001b[0;34m\u001b[0m\u001b[0;34m\u001b[0m\u001b[0m\n",
            "\u001b[0;31mNameError\u001b[0m: name 'pcvl' is not defined"
          ]
        }
      ]
    },
    {
      "cell_type": "code",
      "source": [
        "import perceval as pcvl\n",
        "import perceval.components as comp\n",
        "\n",
        "from perceval.components import PS, BS, PERM, Port\n",
        "import numpy as np\n",
        "\n",
        "from perceval.rendering.circuit import DisplayConfig, SymbSkin, PhysSkin\n",
        "from perceval.utils import Encoding\n"
      ],
      "metadata": {
        "id": "xpZAWQwdo-tx"
      },
      "execution_count": null,
      "outputs": []
    },
    {
      "cell_type": "code",
      "source": [
        "delta1 = pcvl.Parameter(\"delta1\")\n",
        "xsi1 = pcvl.Parameter(\"xsi1\")\n",
        "\n",
        "delta2 = pcvl.Parameter(\"delta2\")\n",
        "xsi2 = pcvl.Parameter(\"xsi2\")\n",
        "\n",
        "delta3 = pcvl.Parameter(\"delta3\")\n",
        "xsi3 = pcvl.Parameter(\"xsi3\")\n",
        "\n",
        "phi1 = pcvl.Parameter(\"phi1\")"
      ],
      "metadata": {
        "id": "TavfDT2Wphvz"
      },
      "execution_count": null,
      "outputs": []
    },
    {
      "cell_type": "code",
      "source": [
        "# Function to generate a random phase shift within a realistic noise range\n",
        "def random_phase_shift():\n",
        "    return np.random.uniform(0, np.pi/6)  # Adjust this range as needed\n"
      ],
      "metadata": {
        "id": "UcQ9FQFosTnd"
      },
      "execution_count": null,
      "outputs": []
    },
    {
      "cell_type": "markdown",
      "source": [],
      "metadata": {
        "id": "B9fu0dV2wnmb"
      }
    },
    {
      "cell_type": "markdown",
      "source": [],
      "metadata": {
        "id": "oYMmliszwni1"
      }
    },
    {
      "cell_type": "code",
      "source": [
        "mzi = (pcvl.Circuit(4)\n",
        "\n",
        "       .add(1, comp.BS().H())\n",
        "\n",
        "       .add(0, comp.PS(random_phase_shift()))\n",
        "       .add(1, comp.PS(random_phase_shift()))\n",
        "       .add(2, comp.PS(random_phase_shift()))\n",
        "       .add(3, comp.PS(random_phase_shift()))\n",
        "\n",
        "       .add(1, comp.WP(delta=delta1, xsi=xsi1)) # oracle marking\n",
        "       .add(1, comp.WP(delta=delta1, xsi=xsi1)) # oracle marking\n",
        "\n",
        "       .add(1, comp.BS().H())\n",
        "       .add(0, comp.PBS())\n",
        "       .add(2, comp.PBS())\n",
        "\n",
        "       .add(1, comp.WP(delta=delta1, xsi=xsi1))\n",
        "       .add(2, comp.WP(delta=delta1, xsi=xsi1))\n",
        "\n",
        "       .add(1, comp.PS(np.pi))\n",
        "       .add(2, comp.PS(np.pi))\n",
        "\n",
        "       .add(1, comp.BS().H())\n",
        "       .add(0, comp.PBS())\n",
        "       .add(2, comp.PBS())\n",
        "\n",
        "       .add(1, comp.WP(delta=delta1, xsi=xsi1))\n",
        "       .add(2, comp.WP(delta=delta1, xsi=xsi1)))\n",
        "\n"
      ],
      "metadata": {
        "id": "5M20Vn4bpk72"
      },
      "execution_count": null,
      "outputs": []
    },
    {
      "cell_type": "code",
      "source": [
        "mzi = (pcvl.Circuit(4)\n",
        "       .add(1, comp.BS().H())\n",
        "\n",
        "       .add(1, comp.WP(delta=delta1, xsi=xsi1)) # h gate\n",
        "       .add(2, comp.WP(delta=delta2, xsi=xsi2)) # x gate followed by h gate\n",
        "       .add(2, comp.WP(delta=delta1, xsi=xsi1)) # h gate\n",
        "\n",
        "       .add(1, comp.BS().H())\n",
        "\n",
        "       .add(0, comp.PBS())\n",
        "       .add(2, comp.PBS()))\n",
        "\n"
      ],
      "metadata": {
        "id": "o_pT7H34IQYn"
      },
      "execution_count": null,
      "outputs": []
    },
    {
      "cell_type": "code",
      "source": [
        "mzi = (pcvl.Circuit(4)\n",
        "       .add(1, comp.BS().H())\n",
        "\n",
        "       .add(1, comp.WP(delta=delta1, xsi=xsi1)) # h gate\n",
        "       .add(2, comp.PS(np.pi)) # z gate followed by h gate\n",
        "       .add(2, comp.WP(delta=delta1, xsi=xsi1)) # h gate\n",
        "\n",
        "       .add(1, comp.BS().H())\n",
        "\n",
        "       .add(0, comp.PBS())\n",
        "       .add(2, comp.PBS()))\n",
        "\n"
      ],
      "metadata": {
        "id": "hfXC5ZOXkryn"
      },
      "execution_count": null,
      "outputs": []
    },
    {
      "cell_type": "code",
      "source": [
        "mzi = (pcvl.Circuit(4)\n",
        "      #.add(1, comp.BS().H())\n",
        "      .add(2, comp.WP(delta=delta2, xsi=xsi2))\n",
        "      #.add(2, comp.PS(phi=phi1))\n",
        "      #.add(2, comp.PR(delta=delta1))\n",
        "      )"
      ],
      "metadata": {
        "id": "hZZNndudJ2Jw"
      },
      "execution_count": null,
      "outputs": []
    },
    {
      "cell_type": "code",
      "source": [
        "mzi = (pcvl.Circuit(4)\n",
        "       #.add(1, comp.BS().H())\n",
        "\n",
        "       .add(1, comp.BS().H())\n",
        "\n",
        "       .add(0, comp.PBS())\n",
        "       .add(2, comp.PBS()))"
      ],
      "metadata": {
        "id": "JZpqkib3wKv-"
      },
      "execution_count": null,
      "outputs": []
    },
    {
      "cell_type": "code",
      "source": [
        "mzi = (pcvl.Circuit(4)\n",
        "       .add(1, comp.BS().H()))"
      ],
      "metadata": {
        "id": "zaHERFyAKx5j"
      },
      "execution_count": null,
      "outputs": []
    },
    {
      "cell_type": "code",
      "source": [
        "delta1.set_value(np.pi/2)\n",
        "xsi1.set_value(np.pi/8)\n",
        "\n",
        "delta2.set_value(np.pi/2)\n",
        "xsi2.set_value(np.pi/4)\n",
        "\n",
        "#xsi2.set_value(np.pi/4)\n",
        "\n",
        "delta3.set_value(np.pi/2)\n",
        "xsi3.set_value(0)"
      ],
      "metadata": {
        "id": "1-c1Y5hhpmpt"
      },
      "execution_count": null,
      "outputs": []
    },
    {
      "cell_type": "code",
      "source": [],
      "metadata": {
        "id": "DBLvDLTl-g6A"
      },
      "execution_count": null,
      "outputs": []
    },
    {
      "cell_type": "code",
      "source": [
        "pcvl.pdisplay(mzi, skin=PhysSkin())\n"
      ],
      "metadata": {
        "colab": {
          "base_uri": "https://localhost:8080/",
          "height": 302
        },
        "id": "ay8KITlopoz6",
        "outputId": "720a6b13-8ad1-40e7-9f95-495470af0017"
      },
      "execution_count": null,
      "outputs": [
        {
          "output_type": "execute_result",
          "data": {
            "text/plain": [
              "<drawsvg.drawing.Drawing at 0x7e0992d41a20>"
            ],
            "image/svg+xml": "<?xml version=\"1.0\" encoding=\"UTF-8\"?>\n<svg xmlns=\"http://www.w3.org/2000/svg\" xmlns:xlink=\"http://www.w3.org/1999/xlink\"\n     width=\"382.5\" height=\"281.25\" viewBox=\"-28.0 0 306.0 225.0\">\n<defs>\n</defs>\n<path d=\"M10,25.0 L25,25.0\" stroke-width=\"3\" stroke=\"darkred\" stroke-linejoin=\"miter\" fill=\"none\" />\n<path d=\"M10,75.0 L25,75.0\" stroke-width=\"3\" stroke=\"darkred\" stroke-linejoin=\"miter\" fill=\"none\" />\n<path d=\"M10,125.0 L25,125.0\" stroke-width=\"3\" stroke=\"darkred\" stroke-linejoin=\"miter\" fill=\"none\" />\n<path d=\"M10,175.0 L25,175.0\" stroke-width=\"3\" stroke=\"darkred\" stroke-linejoin=\"miter\" fill=\"none\" />\n<path d=\"M25,75 L53,75 L72,94\" stroke=\"darkred\" stroke-width=\"3\" fill=\"none\" />\n<path d=\"M78,94 L97,75 L125,75\" stroke=\"darkred\" stroke-width=\"3\" fill=\"none\" />\n<path d=\"M25,125 L53,125 L72,106\" stroke=\"darkred\" stroke-width=\"3\" fill=\"none\" />\n<path d=\"M78,106 L97,125 L125,125\" stroke=\"darkred\" stroke-width=\"3\" fill=\"none\" />\n<path d=\"M50,93 L100,93 L100,107 L50,107 Z\" stroke=\"black\" fill=\"black\" stroke-linejoin=\"miter\" />\n<text x=\"75\" y=\"135\" font-size=\"7\" text-anchor=\"middle\"></text>\n<text x=\"75\" y=\"76\" font-size=\"7\" text-anchor=\"middle\"></text>\n<path d=\"M50,93 L100,93 L100,97 L50,97 Z\" stroke=\"black\" fill=\"lightgray\" stroke-linejoin=\"miter\" />\n<path d=\"M93,100 L103,100 L103,110 L93,110 Z\" stroke=\"black\" fill=\"aquamarine\" stroke-linejoin=\"miter\" />\n<text x=\"98\" y=\"107\" font-size=\"6\" text-anchor=\"middle\">H</text>\n<path d=\"M25,25.0 L125,25.0\" stroke=\"darkred\" stroke-width=\"3\" fill=\"none\" />\n<path d=\"M125,25 L153,25 L162.5,37.5\" stroke=\"darkred\" stroke-width=\"3\" fill=\"none\" />\n<path d=\"M187.5,37.5 L197,25 L225,25\" stroke=\"darkred\" stroke-width=\"3\" fill=\"none\" />\n<path d=\"M125,75 L153,75 L162.5,62.5\" stroke=\"darkred\" stroke-width=\"3\" fill=\"none\" />\n<path d=\"M187.5,62.5 L197,75 L225,75\" stroke=\"darkred\" stroke-width=\"3\" fill=\"none\" />\n<path d=\"M187.5,62.5 L197,75 L225,75\" stroke=\"darkred\" stroke-width=\"3\" fill=\"none\" />\n<path d=\"M150,50 L175,24 L200,50 L175,76 L150,50 Z\" stroke=\"black\" fill=\"gray\" stroke-linejoin=\"miter\" />\n<path d=\"M150,50 L200,50\" stroke=\"black\" stroke-width=\"1\" fill=\"none\" />\n<text x=\"175\" y=\"86\" font-size=\"7\" text-anchor=\"middle\"></text>\n<path d=\"M25,175.0 L125,175.0\" stroke=\"darkred\" stroke-width=\"3\" fill=\"none\" />\n<path d=\"M125,125 L153,125 L162.5,137.5\" stroke=\"darkred\" stroke-width=\"3\" fill=\"none\" />\n<path d=\"M187.5,137.5 L197,125 L225,125\" stroke=\"darkred\" stroke-width=\"3\" fill=\"none\" />\n<path d=\"M125,175 L153,175 L162.5,162.5\" stroke=\"darkred\" stroke-width=\"3\" fill=\"none\" />\n<path d=\"M187.5,162.5 L197,175 L225,175\" stroke=\"darkred\" stroke-width=\"3\" fill=\"none\" />\n<path d=\"M187.5,162.5 L197,175 L225,175\" stroke=\"darkred\" stroke-width=\"3\" fill=\"none\" />\n<path d=\"M150,150 L175,124 L200,150 L175,176 L150,150 Z\" stroke=\"black\" fill=\"gray\" stroke-linejoin=\"miter\" />\n<path d=\"M150,150 L200,150\" stroke=\"black\" stroke-width=\"1\" fill=\"none\" />\n<text x=\"175\" y=\"186\" font-size=\"7\" text-anchor=\"middle\"></text>\n<path d=\"M225,25.0 L240,25.0\" stroke-width=\"3\" stroke=\"darkred\" stroke-linejoin=\"miter\" fill=\"none\" />\n<path d=\"M225,75.0 L240,75.0\" stroke-width=\"3\" stroke=\"darkred\" stroke-linejoin=\"miter\" fill=\"none\" />\n<path d=\"M225,125.0 L240,125.0\" stroke-width=\"3\" stroke=\"darkred\" stroke-linejoin=\"miter\" fill=\"none\" />\n<path d=\"M225,175.0 L240,175.0\" stroke-width=\"3\" stroke=\"darkred\" stroke-linejoin=\"miter\" fill=\"none\" />\n<text x=\"250\" y=\"28.0\" font-size=\"6\" text-anchor=\"end\">0</text>\n<text x=\"250\" y=\"78.0\" font-size=\"6\" text-anchor=\"end\">1</text>\n<text x=\"250\" y=\"128.0\" font-size=\"6\" text-anchor=\"end\">2</text>\n<text x=\"250\" y=\"178.0\" font-size=\"6\" text-anchor=\"end\">3</text>\n<text x=\"0\" y=\"28.0\" font-size=\"6\" text-anchor=\"start\">0</text>\n<text x=\"0\" y=\"78.0\" font-size=\"6\" text-anchor=\"start\">1</text>\n<text x=\"0\" y=\"128.0\" font-size=\"6\" text-anchor=\"start\">2</text>\n<text x=\"0\" y=\"178.0\" font-size=\"6\" text-anchor=\"start\">3</text>\n</svg>"
          },
          "metadata": {},
          "execution_count": 37
        }
      ]
    },
    {
      "cell_type": "code",
      "source": [
        "pcvl.pdisplay(mzi.U)"
      ],
      "metadata": {
        "colab": {
          "base_uri": "https://localhost:8080/",
          "height": 204
        },
        "id": "ETyO5gNLS_wj",
        "outputId": "3a109b04-d772-4959-d0ee-338b48f0bf75"
      },
      "execution_count": null,
      "outputs": [
        {
          "output_type": "display_data",
          "data": {
            "text/plain": [
              "<IPython.core.display.Math object>"
            ],
            "text/latex": "$\\displaystyle \\left[\\begin{matrix}0 & 0 & \\sqrt{2} \\cdot \\left(3.06161699786838 \\cdot 10^{-17} + 0.353553390593274 i\\right) & 0.353553390593274 \\sqrt{2} i & \\sqrt{2} \\cdot \\left(0.5 i \\cos{\\left(2 xsi_{2} \\right)} + 3.06161699786838 \\cdot 10^{-17}\\right) & 0.5 \\sqrt{2} i \\sin{\\left(2 xsi_{2} \\right)} & 0 & 0\\\\0 & 1.0 & 0 & 0 & 0 & 0 & 0 & 0\\\\1.0 & 0 & 0 & 0 & 0 & 0 & 0 & 0\\\\0 & 0 & 0.353553390593274 \\sqrt{2} i & \\sqrt{2} \\cdot \\left(3.06161699786838 \\cdot 10^{-17} - 0.353553390593274 i\\right) & 0.5 \\sqrt{2} i \\sin{\\left(2 xsi_{2} \\right)} & \\sqrt{2} \\left(- 0.5 i \\cos{\\left(2 xsi_{2} \\right)} + 3.06161699786838 \\cdot 10^{-17}\\right) & 0 & 0\\\\0 & 0 & 0 & 0 & 0 & 0 & 1.0 & 0\\\\0 & 0 & 0.353553390593274 \\sqrt{2} i & \\sqrt{2} \\cdot \\left(3.06161699786838 \\cdot 10^{-17} - 0.353553390593274 i\\right) & - 0.5 \\sqrt{2} i \\sin{\\left(2 xsi_{2} \\right)} & \\sqrt{2} \\cdot \\left(0.5 i \\cos{\\left(2 xsi_{2} \\right)} - 3.06161699786838 \\cdot 10^{-17}\\right) & 0 & 0\\\\0 & 0 & \\sqrt{2} \\cdot \\left(3.06161699786838 \\cdot 10^{-17} + 0.353553390593274 i\\right) & 0.353553390593274 \\sqrt{2} i & \\sqrt{2} \\left(- 0.5 i \\cos{\\left(2 xsi_{2} \\right)} - 3.06161699786838 \\cdot 10^{-17}\\right) & - 0.5 \\sqrt{2} i \\sin{\\left(2 xsi_{2} \\right)} & 0 & 0\\\\0 & 0 & 0 & 0 & 0 & 0 & 0 & 1.0\\end{matrix}\\right]$"
          },
          "metadata": {}
        }
      ]
    },
    {
      "cell_type": "code",
      "source": [
        "processor = pcvl.Processor(\"SLOS\", mzi)\n",
        "processor.add_port(0, Port(Encoding.DUAL_RAIL, 'port1'))\n",
        "processor.add_port(2, Port(Encoding.DUAL_RAIL, 'port2'))"
      ],
      "metadata": {
        "colab": {
          "base_uri": "https://localhost:8080/"
        },
        "id": "tGiih7IMpsm-",
        "outputId": "a1d7ce42-a185-4d59-87fe-97755977f1d5"
      },
      "execution_count": null,
      "outputs": [
        {
          "output_type": "execute_result",
          "data": {
            "text/plain": [
              "<perceval.components.processor.Processor at 0x7b4b6956d330>"
            ]
          },
          "metadata": {},
          "execution_count": 125
        }
      ]
    },
    {
      "cell_type": "code",
      "source": [
        "pcvl.pdisplay(processor, recursive=True)"
      ],
      "metadata": {
        "colab": {
          "base_uri": "https://localhost:8080/",
          "height": 302
        },
        "id": "8G4NCDRppyY9",
        "outputId": "3197577b-1cac-47b4-db09-ad3deb3a7727"
      },
      "execution_count": null,
      "outputs": [
        {
          "output_type": "execute_result",
          "data": {
            "text/plain": [
              "<drawsvg.drawing.Drawing at 0x7b4b69534130>"
            ],
            "image/svg+xml": "<?xml version=\"1.0\" encoding=\"UTF-8\"?>\n<svg xmlns=\"http://www.w3.org/2000/svg\" xmlns:xlink=\"http://www.w3.org/1999/xlink\"\n     width=\"1182.5\" height=\"281.25\" viewBox=\"-48.0 0 946.0 225.0\">\n<defs>\n</defs>\n<path d=\"M10,25.0 L25,25.0\" stroke-width=\"3\" stroke=\"darkred\" stroke-linejoin=\"miter\" fill=\"none\" />\n<path d=\"M10,75.0 L25,75.0\" stroke-width=\"3\" stroke=\"darkred\" stroke-linejoin=\"miter\" fill=\"none\" />\n<path d=\"M10,125.0 L25,125.0\" stroke-width=\"3\" stroke=\"darkred\" stroke-linejoin=\"miter\" fill=\"none\" />\n<path d=\"M10,175.0 L25,175.0\" stroke-width=\"3\" stroke=\"darkred\" stroke-linejoin=\"miter\" fill=\"none\" />\n<path d=\"M27,2 L823,2 L823,198 L27,198 Z\" stroke=\"black\" fill=\"lightblue\" stroke-dasharray=\"1,2\" stroke-linejoin=\"miter\" />\n<text x=\"29\" y=\"205\" font-size=\"8\" text-anchor=\"start\">CPLX</text>\n<path d=\"M25,75 L53,75 L72,94\" stroke=\"darkred\" stroke-width=\"3\" fill=\"none\" />\n<path d=\"M78,94 L97,75 L125,75\" stroke=\"darkred\" stroke-width=\"3\" fill=\"none\" />\n<path d=\"M25,125 L53,125 L72,106\" stroke=\"darkred\" stroke-width=\"3\" fill=\"none\" />\n<path d=\"M78,106 L97,125 L125,125\" stroke=\"darkred\" stroke-width=\"3\" fill=\"none\" />\n<path d=\"M50,93 L100,93 L100,107 L50,107 Z\" stroke=\"black\" fill=\"black\" stroke-linejoin=\"miter\" />\n<text x=\"75\" y=\"135\" font-size=\"7\" text-anchor=\"middle\"></text>\n<text x=\"75\" y=\"76\" font-size=\"7\" text-anchor=\"middle\"></text>\n<path d=\"M50,93 L100,93 L100,97 L50,97 Z\" stroke=\"black\" fill=\"lightgray\" stroke-linejoin=\"miter\" />\n<path d=\"M93,100 L103,100 L103,110 L93,110 Z\" stroke=\"black\" fill=\"aquamarine\" stroke-linejoin=\"miter\" />\n<text x=\"98\" y=\"107\" font-size=\"6\" text-anchor=\"middle\">H</text>\n<path d=\"M25,25 L75,25\" stroke=\"darkred\" stroke-width=\"3\" fill=\"none\" />\n<path d=\"M30,40 L39,40 L53,10 L44,10 L30,40 L39,40 Z\" stroke=\"black\" fill=\"gray\" stroke-linejoin=\"miter\" />\n<text x=\"47\" y=\"38\" font-size=\"7\" text-anchor=\"start\">Φ=0.10942</text>\n<path d=\"M125,75 L175,75\" stroke=\"darkred\" stroke-width=\"3\" fill=\"none\" />\n<path d=\"M130,90 L139,90 L153,60 L144,60 L130,90 L139,90 Z\" stroke=\"black\" fill=\"gray\" stroke-linejoin=\"miter\" />\n<text x=\"147\" y=\"88\" font-size=\"7\" text-anchor=\"start\">Φ=0.023956</text>\n<path d=\"M125,125 L175,125\" stroke=\"darkred\" stroke-width=\"3\" fill=\"none\" />\n<path d=\"M130,140 L139,140 L153,110 L144,110 L130,140 L139,140 Z\" stroke=\"black\" fill=\"gray\" stroke-linejoin=\"miter\" />\n<text x=\"147\" y=\"138\" font-size=\"7\" text-anchor=\"start\">Φ=0.008366</text>\n<path d=\"M25,175 L75,175\" stroke=\"darkred\" stroke-width=\"3\" fill=\"none\" />\n<path d=\"M30,190 L39,190 L53,160 L44,160 L30,190 L39,190 Z\" stroke=\"black\" fill=\"gray\" stroke-linejoin=\"miter\" />\n<text x=\"47\" y=\"188\" font-size=\"7\" text-anchor=\"start\">Φ=0.371613</text>\n<path d=\"M175,75 L225,75\" stroke=\"darkred\" stroke-width=\"3\" fill=\"none\" />\n<path d=\"M188,57 L202,57 L202,93 L188,93 Z\" stroke=\"black\" fill=\"gray\" stroke-linejoin=\"miter\" />\n<path d=\"M195,57 L195,93\" stroke=\"black\" stroke-width=\"1\" fill=\"none\" />\n<text x=\"203.5\" y=\"86\" font-size=\"7\" text-anchor=\"start\">ξ=pi/8</text>\n<text x=\"203.5\" y=\"95\" font-size=\"7\" text-anchor=\"start\">δ=pi/2</text>\n<path d=\"M225,75 L275,75\" stroke=\"darkred\" stroke-width=\"3\" fill=\"none\" />\n<path d=\"M238,57 L252,57 L252,93 L238,93 Z\" stroke=\"black\" fill=\"gray\" stroke-linejoin=\"miter\" />\n<path d=\"M245,57 L245,93\" stroke=\"black\" stroke-width=\"1\" fill=\"none\" />\n<text x=\"253.5\" y=\"86\" font-size=\"7\" text-anchor=\"start\">ξ=pi/8</text>\n<text x=\"253.5\" y=\"95\" font-size=\"7\" text-anchor=\"start\">δ=pi/2</text>\n<path d=\"M175,125.0 L275,125.0\" stroke=\"darkred\" stroke-width=\"3\" fill=\"none\" />\n<path d=\"M275,75 L303,75 L322,94\" stroke=\"darkred\" stroke-width=\"3\" fill=\"none\" />\n<path d=\"M328,94 L347,75 L375,75\" stroke=\"darkred\" stroke-width=\"3\" fill=\"none\" />\n<path d=\"M275,125 L303,125 L322,106\" stroke=\"darkred\" stroke-width=\"3\" fill=\"none\" />\n<path d=\"M328,106 L347,125 L375,125\" stroke=\"darkred\" stroke-width=\"3\" fill=\"none\" />\n<path d=\"M300,93 L350,93 L350,107 L300,107 Z\" stroke=\"black\" fill=\"black\" stroke-linejoin=\"miter\" />\n<text x=\"325\" y=\"135\" font-size=\"7\" text-anchor=\"middle\"></text>\n<text x=\"325\" y=\"76\" font-size=\"7\" text-anchor=\"middle\"></text>\n<path d=\"M300,93 L350,93 L350,97 L300,97 Z\" stroke=\"black\" fill=\"lightgray\" stroke-linejoin=\"miter\" />\n<path d=\"M343,100 L353,100 L353,110 L343,110 Z\" stroke=\"black\" fill=\"aquamarine\" stroke-linejoin=\"miter\" />\n<text x=\"348\" y=\"107\" font-size=\"6\" text-anchor=\"middle\">H</text>\n<path d=\"M75,25.0 L375,25.0\" stroke=\"darkred\" stroke-width=\"3\" fill=\"none\" />\n<path d=\"M375,25 L403,25 L412.5,37.5\" stroke=\"darkred\" stroke-width=\"3\" fill=\"none\" />\n<path d=\"M437.5,37.5 L447,25 L475,25\" stroke=\"darkred\" stroke-width=\"3\" fill=\"none\" />\n<path d=\"M375,75 L403,75 L412.5,62.5\" stroke=\"darkred\" stroke-width=\"3\" fill=\"none\" />\n<path d=\"M437.5,62.5 L447,75 L475,75\" stroke=\"darkred\" stroke-width=\"3\" fill=\"none\" />\n<path d=\"M437.5,62.5 L447,75 L475,75\" stroke=\"darkred\" stroke-width=\"3\" fill=\"none\" />\n<path d=\"M400,50 L425,24 L450,50 L425,76 L400,50 Z\" stroke=\"black\" fill=\"gray\" stroke-linejoin=\"miter\" />\n<path d=\"M400,50 L450,50\" stroke=\"black\" stroke-width=\"1\" fill=\"none\" />\n<text x=\"425\" y=\"86\" font-size=\"7\" text-anchor=\"middle\"></text>\n<path d=\"M75,175.0 L375,175.0\" stroke=\"darkred\" stroke-width=\"3\" fill=\"none\" />\n<path d=\"M375,125 L403,125 L412.5,137.5\" stroke=\"darkred\" stroke-width=\"3\" fill=\"none\" />\n<path d=\"M437.5,137.5 L447,125 L475,125\" stroke=\"darkred\" stroke-width=\"3\" fill=\"none\" />\n<path d=\"M375,175 L403,175 L412.5,162.5\" stroke=\"darkred\" stroke-width=\"3\" fill=\"none\" />\n<path d=\"M437.5,162.5 L447,175 L475,175\" stroke=\"darkred\" stroke-width=\"3\" fill=\"none\" />\n<path d=\"M437.5,162.5 L447,175 L475,175\" stroke=\"darkred\" stroke-width=\"3\" fill=\"none\" />\n<path d=\"M400,150 L425,124 L450,150 L425,176 L400,150 Z\" stroke=\"black\" fill=\"gray\" stroke-linejoin=\"miter\" />\n<path d=\"M400,150 L450,150\" stroke=\"black\" stroke-width=\"1\" fill=\"none\" />\n<text x=\"425\" y=\"186\" font-size=\"7\" text-anchor=\"middle\"></text>\n<path d=\"M475,75 L525,75\" stroke=\"darkred\" stroke-width=\"3\" fill=\"none\" />\n<path d=\"M488,57 L502,57 L502,93 L488,93 Z\" stroke=\"black\" fill=\"gray\" stroke-linejoin=\"miter\" />\n<path d=\"M495,57 L495,93\" stroke=\"black\" stroke-width=\"1\" fill=\"none\" />\n<text x=\"503.5\" y=\"86\" font-size=\"7\" text-anchor=\"start\">ξ=pi/8</text>\n<text x=\"503.5\" y=\"95\" font-size=\"7\" text-anchor=\"start\">δ=pi/2</text>\n<path d=\"M475,125 L525,125\" stroke=\"darkred\" stroke-width=\"3\" fill=\"none\" />\n<path d=\"M488,107 L502,107 L502,143 L488,143 Z\" stroke=\"black\" fill=\"gray\" stroke-linejoin=\"miter\" />\n<path d=\"M495,107 L495,143\" stroke=\"black\" stroke-width=\"1\" fill=\"none\" />\n<text x=\"503.5\" y=\"136\" font-size=\"7\" text-anchor=\"start\">ξ=pi/8</text>\n<text x=\"503.5\" y=\"145\" font-size=\"7\" text-anchor=\"start\">δ=pi/2</text>\n<path d=\"M525,75 L575,75\" stroke=\"darkred\" stroke-width=\"3\" fill=\"none\" />\n<path d=\"M530,90 L539,90 L553,60 L544,60 L530,90 L539,90 Z\" stroke=\"black\" fill=\"gray\" stroke-linejoin=\"miter\" />\n<text x=\"547\" y=\"88\" font-size=\"7\" text-anchor=\"start\">Φ=pi</text>\n<path d=\"M525,125 L575,125\" stroke=\"darkred\" stroke-width=\"3\" fill=\"none\" />\n<path d=\"M530,140 L539,140 L553,110 L544,110 L530,140 L539,140 Z\" stroke=\"black\" fill=\"gray\" stroke-linejoin=\"miter\" />\n<text x=\"547\" y=\"138\" font-size=\"7\" text-anchor=\"start\">Φ=pi</text>\n<path d=\"M575,75 L603,75 L622,94\" stroke=\"darkred\" stroke-width=\"3\" fill=\"none\" />\n<path d=\"M628,94 L647,75 L675,75\" stroke=\"darkred\" stroke-width=\"3\" fill=\"none\" />\n<path d=\"M575,125 L603,125 L622,106\" stroke=\"darkred\" stroke-width=\"3\" fill=\"none\" />\n<path d=\"M628,106 L647,125 L675,125\" stroke=\"darkred\" stroke-width=\"3\" fill=\"none\" />\n<path d=\"M600,93 L650,93 L650,107 L600,107 Z\" stroke=\"black\" fill=\"black\" stroke-linejoin=\"miter\" />\n<text x=\"625\" y=\"135\" font-size=\"7\" text-anchor=\"middle\"></text>\n<text x=\"625\" y=\"76\" font-size=\"7\" text-anchor=\"middle\"></text>\n<path d=\"M600,93 L650,93 L650,97 L600,97 Z\" stroke=\"black\" fill=\"lightgray\" stroke-linejoin=\"miter\" />\n<path d=\"M643,100 L653,100 L653,110 L643,110 Z\" stroke=\"black\" fill=\"aquamarine\" stroke-linejoin=\"miter\" />\n<text x=\"648\" y=\"107\" font-size=\"6\" text-anchor=\"middle\">H</text>\n<path d=\"M475,25.0 L675,25.0\" stroke=\"darkred\" stroke-width=\"3\" fill=\"none\" />\n<path d=\"M675,25 L703,25 L712.5,37.5\" stroke=\"darkred\" stroke-width=\"3\" fill=\"none\" />\n<path d=\"M737.5,37.5 L747,25 L775,25\" stroke=\"darkred\" stroke-width=\"3\" fill=\"none\" />\n<path d=\"M675,75 L703,75 L712.5,62.5\" stroke=\"darkred\" stroke-width=\"3\" fill=\"none\" />\n<path d=\"M737.5,62.5 L747,75 L775,75\" stroke=\"darkred\" stroke-width=\"3\" fill=\"none\" />\n<path d=\"M737.5,62.5 L747,75 L775,75\" stroke=\"darkred\" stroke-width=\"3\" fill=\"none\" />\n<path d=\"M700,50 L725,24 L750,50 L725,76 L700,50 Z\" stroke=\"black\" fill=\"gray\" stroke-linejoin=\"miter\" />\n<path d=\"M700,50 L750,50\" stroke=\"black\" stroke-width=\"1\" fill=\"none\" />\n<text x=\"725\" y=\"86\" font-size=\"7\" text-anchor=\"middle\"></text>\n<path d=\"M475,175.0 L675,175.0\" stroke=\"darkred\" stroke-width=\"3\" fill=\"none\" />\n<path d=\"M675,125 L703,125 L712.5,137.5\" stroke=\"darkred\" stroke-width=\"3\" fill=\"none\" />\n<path d=\"M737.5,137.5 L747,125 L775,125\" stroke=\"darkred\" stroke-width=\"3\" fill=\"none\" />\n<path d=\"M675,175 L703,175 L712.5,162.5\" stroke=\"darkred\" stroke-width=\"3\" fill=\"none\" />\n<path d=\"M737.5,162.5 L747,175 L775,175\" stroke=\"darkred\" stroke-width=\"3\" fill=\"none\" />\n<path d=\"M737.5,162.5 L747,175 L775,175\" stroke=\"darkred\" stroke-width=\"3\" fill=\"none\" />\n<path d=\"M700,150 L725,124 L750,150 L725,176 L700,150 Z\" stroke=\"black\" fill=\"gray\" stroke-linejoin=\"miter\" />\n<path d=\"M700,150 L750,150\" stroke=\"black\" stroke-width=\"1\" fill=\"none\" />\n<text x=\"725\" y=\"186\" font-size=\"7\" text-anchor=\"middle\"></text>\n<path d=\"M775,75 L825,75\" stroke=\"darkred\" stroke-width=\"3\" fill=\"none\" />\n<path d=\"M788,57 L802,57 L802,93 L788,93 Z\" stroke=\"black\" fill=\"gray\" stroke-linejoin=\"miter\" />\n<path d=\"M795,57 L795,93\" stroke=\"black\" stroke-width=\"1\" fill=\"none\" />\n<text x=\"803.5\" y=\"86\" font-size=\"7\" text-anchor=\"start\">ξ=pi/8</text>\n<text x=\"803.5\" y=\"95\" font-size=\"7\" text-anchor=\"start\">δ=pi/2</text>\n<path d=\"M775,125 L825,125\" stroke=\"darkred\" stroke-width=\"3\" fill=\"none\" />\n<path d=\"M788,107 L802,107 L802,143 L788,143 Z\" stroke=\"black\" fill=\"gray\" stroke-linejoin=\"miter\" />\n<path d=\"M795,107 L795,143\" stroke=\"black\" stroke-width=\"1\" fill=\"none\" />\n<text x=\"803.5\" y=\"136\" font-size=\"7\" text-anchor=\"start\">ξ=pi/8</text>\n<text x=\"803.5\" y=\"145\" font-size=\"7\" text-anchor=\"start\">δ=pi/2</text>\n<path d=\"M775,25.0 L825,25.0\" stroke=\"darkred\" stroke-width=\"3\" fill=\"none\" />\n<path d=\"M775,175.0 L825,175.0\" stroke=\"darkred\" stroke-width=\"3\" fill=\"none\" />\n<path d=\"M825,25.0 L840,25.0\" stroke-width=\"3\" stroke=\"darkred\" stroke-linejoin=\"miter\" fill=\"none\" />\n<path d=\"M825,75.0 L840,75.0\" stroke-width=\"3\" stroke=\"darkred\" stroke-linejoin=\"miter\" fill=\"none\" />\n<path d=\"M825,125.0 L840,125.0\" stroke-width=\"3\" stroke=\"darkred\" stroke-linejoin=\"miter\" fill=\"none\" />\n<path d=\"M825,175.0 L840,175.0\" stroke-width=\"3\" stroke=\"darkred\" stroke-linejoin=\"miter\" fill=\"none\" />\n<path d=\"M-2,15 L10,15 L10,85 L-2,85 Z\" stroke=\"black\" fill=\"lightgray\" stroke-linejoin=\"miter\" />\n<text x=\"4\" y=\"27\" font-size=\"7\" text-anchor=\"middle\">0</text>\n<text x=\"4\" y=\"77\" font-size=\"7\" text-anchor=\"middle\">1</text>\n<text x=\"-2\" y=\"91\" font-size=\"6\" text-anchor=\"start\" font-style=\"italic\">[port1]</text>\n<path d=\"M-2,115 L10,115 L10,185 L-2,185 Z\" stroke=\"black\" fill=\"lightgray\" stroke-linejoin=\"miter\" />\n<text x=\"4\" y=\"127\" font-size=\"7\" text-anchor=\"middle\">2</text>\n<text x=\"4\" y=\"177\" font-size=\"7\" text-anchor=\"middle\">3</text>\n<text x=\"-2\" y=\"191\" font-size=\"6\" text-anchor=\"start\" font-style=\"italic\">[port2]</text>\n<path d=\"M840,15 L852,15 L852,85 L840,85 Z\" stroke=\"black\" fill=\"lightgray\" stroke-linejoin=\"miter\" />\n<text x=\"846\" y=\"27\" font-size=\"7\" text-anchor=\"middle\">0</text>\n<text x=\"846\" y=\"77\" font-size=\"7\" text-anchor=\"middle\">1</text>\n<text x=\"852\" y=\"91\" font-size=\"6\" text-anchor=\"end\" font-style=\"italic\">[port1]</text>\n<path d=\"M840,115 L852,115 L852,185 L840,185 Z\" stroke=\"black\" fill=\"lightgray\" stroke-linejoin=\"miter\" />\n<text x=\"846\" y=\"127\" font-size=\"7\" text-anchor=\"middle\">2</text>\n<text x=\"846\" y=\"177\" font-size=\"7\" text-anchor=\"middle\">3</text>\n<text x=\"852\" y=\"191\" font-size=\"6\" text-anchor=\"end\" font-style=\"italic\">[port2]</text>\n</svg>"
          },
          "metadata": {},
          "execution_count": 121
        }
      ]
    },
    {
      "cell_type": "code",
      "source": [
        "input_state = pcvl.BasicState(\"|0,1,0,0>\")\n",
        "processor.with_input(input_state)\n",
        "sampler = pcvl.algorithm.Sampler(processor)\n",
        "sample_count = sampler.sample_count(10000)"
      ],
      "metadata": {
        "id": "aNBGl5uXp0MW"
      },
      "execution_count": null,
      "outputs": []
    },
    {
      "cell_type": "code",
      "source": [
        "print(sample_count['results'])"
      ],
      "metadata": {
        "colab": {
          "base_uri": "https://localhost:8080/"
        },
        "id": "qeHxt35Tp3Ce",
        "outputId": "2cf52d1c-3393-4970-b7be-f41775274c5e"
      },
      "execution_count": null,
      "outputs": [
        {
          "output_type": "stream",
          "name": "stdout",
          "text": [
            "{\n",
            "  |0,1,0,0>: 94\n",
            "  |0,0,1,0>: 9906\n",
            "}\n"
          ]
        }
      ]
    },
    {
      "cell_type": "code",
      "source": [
        "import matplotlib.pyplot as plt\n",
        "\n",
        "sample_count['results'] = {\n",
        "    \"|1,0,0,0>\": 0,\n",
        "    \"|0,1,0,0>\":0,\n",
        "    \"|0,0,1,0>\":10000,\n",
        "    \"|0,0,0,01>\":0\n",
        "}\n",
        "detectors = [\"D0\", \"D1\", \"D2\", \"D3\"]\n",
        "values = list(sample_count['results'].values())\n",
        "\n",
        "fig = plt.figure(figsize = (10, 5))\n",
        "\n",
        "# creating the bar plot\n",
        "plt.bar(detectors, values, color ='gray',\n",
        "        width = 0.4)\n",
        "\n",
        "plt.xlabel(\"Detectors\")\n",
        "plt.ylabel(\"Shots measured\")\n",
        "plt.title(\"Photon detections across all detectors\")\n",
        "plt.show()"
      ],
      "metadata": {
        "colab": {
          "base_uri": "https://localhost:8080/",
          "height": 487
        },
        "id": "AHbFgis6p4Mc",
        "outputId": "2e038444-3cc6-49ed-d253-eb4979e728a7"
      },
      "execution_count": null,
      "outputs": [
        {
          "output_type": "display_data",
          "data": {
            "text/plain": [
              "<Figure size 1000x500 with 1 Axes>"
            ],
            "image/png": "[encoded data removed]"
          },
          "metadata": {}
        }
      ]
    },
    {
      "cell_type": "code",
      "source": [
        "from perceval.components import catalog\n",
        "from perceval.components.source import Source\n",
        "from perceval.algorithm import ProcessTomography\n",
        "from perceval.algorithm.tomography import is_physical"
      ],
      "metadata": {
        "id": "5GJpvTVIL3kM"
      },
      "execution_count": null,
      "outputs": []
    },
    {
      "cell_type": "code",
      "source": [
        "mzi = (pcvl.Circuit(4)\n",
        "       .add(1, comp.WP(delta=delta1, xsi=xsi1))\n",
        "       .add(1, comp.BS.H())\n",
        "       .add(2, comp.WP(delta=delta1, xsi=xsi1))\n",
        "       .add(2, comp.WP(delta=delta2, xsi=xsi2))\n",
        "       .add(1, comp.BS().H())\n",
        "       .add(0, comp.PBS())\n",
        "       .add(2, comp.PBS()))"
      ],
      "metadata": {
        "id": "z7R8m3G3kskw"
      },
      "execution_count": null,
      "outputs": []
    },
    {
      "cell_type": "code",
      "source": [
        "#angles = [0, np.pi/4, np.pi/2, 3*np.pi/4, np.pi, 5*np.pi/4, 3*np.pi/2, 7*np.pi/4, 2*np.pi]\n",
        "devs = []\n",
        "angles_to_test = np.linspace(0, 2*np.pi, 100)\n",
        "#angles: list[list[float]] = []\n",
        "for angle in angles_to_test:\n",
        "  delta1.set_value(np.pi/2)\n",
        "  xsi1.set_value(0)\n",
        "\n",
        "  delta2.set_value(np.pi/2)\n",
        "  xsi2.set_value(angle)\n",
        "\n",
        "  processor = pcvl.Processor(\"SLOS\", mzi)\n",
        "  processor.add_port(0, Port(Encoding.DUAL_RAIL, 'port1'))\n",
        "  processor.add_port(2, Port(Encoding.DUAL_RAIL, 'port2'))\n",
        "\n",
        "  input_state = pcvl.BasicState(\"|0,1,0,0>\")\n",
        "  processor.with_input(input_state)\n",
        "  sampler = pcvl.algorithm.Sampler(processor)\n",
        "  sample_count = sampler.sample_count(10000)\n",
        "\n",
        "  print(str(angle) + str(sample_count['results']))\n",
        "\n",
        "  vals = list(sample_count['results'].values())\n",
        "  deviation = 0\n",
        "  for v in vals:\n",
        "    deviation += abs(2500 - v)\n",
        "  devs.append(deviation)\n",
        "print(devs)\n",
        "\n"
      ],
      "metadata": {
        "colab": {
          "base_uri": "https://localhost:8080/"
        },
        "id": "VnHFk8c4npFg",
        "outputId": "5871b19e-790b-4da5-82f8-0ef5a00c874e"
      },
      "execution_count": null,
      "outputs": [
        {
          "output_type": "stream",
          "name": "stdout",
          "text": [
            "0.0{\n",
            "  |1,0,0,0>: 10000\n",
            "}\n",
            "0.06346651825433926{\n",
            "  |1,0,0,0>: 9931\n",
            "  |0,1,0,0>: 26\n",
            "  |0,0,1,0>: 42\n",
            "  |0,0,0,1>: 1\n",
            "}\n",
            "0.12693303650867852{\n",
            "  |1,0,0,0>: 9695\n",
            "  |0,1,0,0>: 157\n",
            "  |0,0,1,0>: 146\n",
            "  |0,0,0,1>: 2\n",
            "}\n",
            "0.1903995547630178{\n",
            "  |1,0,0,0>: 9283\n",
            "  |0,1,0,0>: 365\n",
            "  |0,0,1,0>: 338\n",
            "  |0,0,0,1>: 14\n",
            "}\n",
            "0.25386607301735703{\n",
            "  |1,0,0,0>: 8832\n",
            "  |0,1,0,0>: 583\n",
            "  |0,0,1,0>: 551\n",
            "  |0,0,0,1>: 34\n",
            "}\n",
            "0.3173325912716963{\n",
            "  |1,0,0,0>: 8110\n",
            "  |0,1,0,0>: 932\n",
            "  |0,0,1,0>: 859\n",
            "  |0,0,0,1>: 99\n",
            "}\n",
            "0.3807991095260356{\n",
            "  |1,0,0,0>: 7435\n",
            "  |0,1,0,0>: 1201\n",
            "  |0,0,1,0>: 1205\n",
            "  |0,0,0,1>: 159\n",
            "}\n",
            "0.4442656277803748{\n",
            "  |1,0,0,0>: 6706\n",
            "  |0,1,0,0>: 1470\n",
            "  |0,0,1,0>: 1478\n",
            "  |0,0,0,1>: 346\n",
            "}\n",
            "0.5077321460347141{\n",
            "  |1,0,0,0>: 5939\n",
            "  |0,1,0,0>: 1751\n",
            "  |0,0,1,0>: 1785\n",
            "  |0,0,0,1>: 525\n",
            "}\n",
            "0.5711986642890533{\n",
            "  |1,0,0,0>: 5070\n",
            "  |0,1,0,0>: 2029\n",
            "  |0,0,1,0>: 2015\n",
            "  |0,0,0,1>: 886\n",
            "}\n",
            "0.6346651825433925{\n",
            "  |1,0,0,0>: 4224\n",
            "  |0,1,0,0>: 2306\n",
            "  |0,0,1,0>: 2200\n",
            "  |0,0,0,1>: 1270\n",
            "}\n",
            "0.6981317007977318{\n",
            "  |1,0,0,0>: 3479\n",
            "  |0,1,0,0>: 2411\n",
            "  |0,0,1,0>: 2382\n",
            "  |0,0,0,1>: 1728\n",
            "}\n",
            "0.7615982190520711{\n",
            "  |1,0,0,0>: 2726\n",
            "  |0,1,0,0>: 2427\n",
            "  |0,0,1,0>: 2541\n",
            "  |0,0,0,1>: 2306\n",
            "}\n",
            "0.8250647373064104{\n",
            "  |1,0,0,0>: 2164\n",
            "  |0,1,0,0>: 2425\n",
            "  |0,0,1,0>: 2480\n",
            "  |0,0,0,1>: 2931\n",
            "}\n",
            "0.8885312555607496{\n",
            "  |1,0,0,0>: 1570\n",
            "  |0,1,0,0>: 2392\n",
            "  |0,0,1,0>: 2380\n",
            "  |0,0,0,1>: 3658\n",
            "}\n",
            "0.9519977738150889{\n",
            "  |1,0,0,0>: 1141\n",
            "  |0,1,0,0>: 2230\n",
            "  |0,0,1,0>: 2303\n",
            "  |0,0,0,1>: 4326\n",
            "}\n",
            "1.0154642920694281{\n",
            "  |1,0,0,0>: 691\n",
            "  |0,1,0,0>: 1973\n",
            "  |0,0,1,0>: 2074\n",
            "  |0,0,0,1>: 5262\n",
            "}\n",
            "1.0789308103237674{\n",
            "  |1,0,0,0>: 507\n",
            "  |0,1,0,0>: 1722\n",
            "  |0,0,1,0>: 1737\n",
            "  |0,0,0,1>: 6034\n",
            "}\n",
            "1.1423973285781066{\n",
            "  |1,0,0,0>: 326\n",
            "  |0,1,0,0>: 1423\n",
            "  |0,0,1,0>: 1435\n",
            "  |0,0,0,1>: 6816\n",
            "}\n",
            "1.2058638468324459{\n",
            "  |1,0,0,0>: 164\n",
            "  |0,1,0,0>: 1067\n",
            "  |0,0,1,0>: 1159\n",
            "  |0,0,0,1>: 7610\n",
            "}\n",
            "1.269330365086785{\n",
            "  |1,0,0,0>: 66\n",
            "  |0,1,0,0>: 821\n",
            "  |0,0,1,0>: 803\n",
            "  |0,0,0,1>: 8310\n",
            "}\n",
            "1.3327968833411243{\n",
            "  |1,0,0,0>: 34\n",
            "  |0,1,0,0>: 515\n",
            "  |0,0,1,0>: 558\n",
            "  |0,0,0,1>: 8893\n",
            "}\n",
            "1.3962634015954636{\n",
            "  |1,0,0,0>: 6\n",
            "  |0,1,0,0>: 293\n",
            "  |0,0,1,0>: 298\n",
            "  |0,0,0,1>: 9403\n",
            "}\n",
            "1.4597299198498028{\n",
            "  |1,0,0,0>: 1\n",
            "  |0,1,0,0>: 132\n",
            "  |0,0,1,0>: 118\n",
            "  |0,0,0,1>: 9749\n",
            "}\n",
            "1.5231964381041423{\n",
            "  |0,1,0,0>: 21\n",
            "  |0,0,1,0>: 26\n",
            "  |0,0,0,1>: 9953\n",
            "}\n",
            "1.5866629563584815{\n",
            "  |0,1,0,0>: 4\n",
            "  |0,0,1,0>: 4\n",
            "  |0,0,0,1>: 9992\n",
            "}\n",
            "1.6501294746128208{\n",
            "  |0,1,0,0>: 71\n",
            "  |0,0,1,0>: 64\n",
            "  |0,0,0,1>: 9865\n",
            "}\n",
            "1.71359599286716{\n",
            "  |1,0,0,0>: 2\n",
            "  |0,1,0,0>: 191\n",
            "  |0,0,1,0>: 203\n",
            "  |0,0,0,1>: 9604\n",
            "}\n",
            "1.7770625111214993{\n",
            "  |1,0,0,0>: 8\n",
            "  |0,1,0,0>: 370\n",
            "  |0,0,1,0>: 402\n",
            "  |0,0,0,1>: 9220\n",
            "}\n",
            "1.8405290293758385{\n",
            "  |1,0,0,0>: 59\n",
            "  |0,1,0,0>: 668\n",
            "  |0,0,1,0>: 675\n",
            "  |0,0,0,1>: 8598\n",
            "}\n",
            "1.9039955476301778{\n",
            "  |1,0,0,0>: 119\n",
            "  |0,1,0,0>: 980\n",
            "  |0,0,1,0>: 943\n",
            "  |0,0,0,1>: 7958\n",
            "}\n",
            "1.967462065884517{\n",
            "  |1,0,0,0>: 218\n",
            "  |0,1,0,0>: 1328\n",
            "  |0,0,1,0>: 1197\n",
            "  |0,0,0,1>: 7257\n",
            "}\n",
            "2.0309285841388562{\n",
            "  |1,0,0,0>: 394\n",
            "  |0,1,0,0>: 1586\n",
            "  |0,0,1,0>: 1564\n",
            "  |0,0,0,1>: 6456\n",
            "}\n",
            "2.0943951023931957{\n",
            "  |1,0,0,0>: 649\n",
            "  |0,1,0,0>: 1904\n",
            "  |0,0,1,0>: 1781\n",
            "  |0,0,0,1>: 5666\n",
            "}\n",
            "2.1578616206475347{\n",
            "  |1,0,0,0>: 964\n",
            "  |0,1,0,0>: 2050\n",
            "  |0,0,1,0>: 2095\n",
            "  |0,0,0,1>: 4891\n",
            "}\n",
            "2.221328138901874{\n",
            "  |1,0,0,0>: 1383\n",
            "  |0,1,0,0>: 2330\n",
            "  |0,0,1,0>: 2359\n",
            "  |0,0,0,1>: 3928\n",
            "}\n",
            "2.284794657156213{\n",
            "  |1,0,0,0>: 1870\n",
            "  |0,1,0,0>: 2435\n",
            "  |0,0,1,0>: 2413\n",
            "  |0,0,0,1>: 3282\n",
            "}\n",
            "2.3482611754105527{\n",
            "  |1,0,0,0>: 2392\n",
            "  |0,1,0,0>: 2473\n",
            "  |0,0,1,0>: 2551\n",
            "  |0,0,0,1>: 2584\n",
            "}\n",
            "2.4117276936648917{\n",
            "  |1,0,0,0>: 3099\n",
            "  |0,1,0,0>: 2450\n",
            "  |0,0,1,0>: 2470\n",
            "  |0,0,0,1>: 1981\n",
            "}\n",
            "2.475194211919231{\n",
            "  |1,0,0,0>: 3728\n",
            "  |0,1,0,0>: 2376\n",
            "  |0,0,1,0>: 2379\n",
            "  |0,0,0,1>: 1517\n",
            "}\n",
            "2.53866073017357{\n",
            "  |1,0,0,0>: 4521\n",
            "  |0,1,0,0>: 2196\n",
            "  |0,0,1,0>: 2209\n",
            "  |0,0,0,1>: 1074\n",
            "}\n",
            "2.6021272484279097{\n",
            "  |1,0,0,0>: 5436\n",
            "  |0,1,0,0>: 1886\n",
            "  |0,0,1,0>: 1949\n",
            "  |0,0,0,1>: 729\n",
            "}\n",
            "2.6655937666822487{\n",
            "  |1,0,0,0>: 6210\n",
            "  |0,1,0,0>: 1669\n",
            "  |0,0,1,0>: 1699\n",
            "  |0,0,0,1>: 422\n",
            "}\n",
            "2.729060284936588{\n",
            "  |1,0,0,0>: 7084\n",
            "  |0,1,0,0>: 1310\n",
            "  |0,0,1,0>: 1344\n",
            "  |0,0,0,1>: 262\n",
            "}\n",
            "2.792526803190927{\n",
            "  |1,0,0,0>: 7847\n",
            "  |0,1,0,0>: 1010\n",
            "  |0,0,1,0>: 993\n",
            "  |0,0,0,1>: 150\n",
            "}\n",
            "2.8559933214452666{\n",
            "  |1,0,0,0>: 8493\n",
            "  |0,1,0,0>: 742\n",
            "  |0,0,1,0>: 707\n",
            "  |0,0,0,1>: 58\n",
            "}\n",
            "2.9194598396996057{\n",
            "  |1,0,0,0>: 9071\n",
            "  |0,1,0,0>: 460\n",
            "  |0,0,1,0>: 444\n",
            "  |0,0,0,1>: 25\n",
            "}\n",
            "2.982926357953945{\n",
            "  |1,0,0,0>: 9511\n",
            "  |0,1,0,0>: 222\n",
            "  |0,0,1,0>: 262\n",
            "  |0,0,0,1>: 5\n",
            "}\n",
            "3.0463928762082846{\n",
            "  |1,0,0,0>: 9821\n",
            "  |0,1,0,0>: 98\n",
            "  |0,0,1,0>: 80\n",
            "  |0,0,0,1>: 1\n",
            "}\n",
            "3.1098593944626236{\n",
            "  |1,0,0,0>: 9978\n",
            "  |0,1,0,0>: 12\n",
            "  |0,0,1,0>: 10\n",
            "}\n",
            "3.173325912716963{\n",
            "  |1,0,0,0>: 9982\n",
            "  |0,1,0,0>: 11\n",
            "  |0,0,1,0>: 7\n",
            "}\n",
            "3.236792430971302{\n",
            "  |1,0,0,0>: 9835\n",
            "  |0,1,0,0>: 79\n",
            "  |0,0,1,0>: 86\n",
            "}\n",
            "3.3002589492256416{\n",
            "  |1,0,0,0>: 9514\n",
            "  |0,1,0,0>: 229\n",
            "  |0,0,1,0>: 253\n",
            "  |0,0,0,1>: 4\n",
            "}\n",
            "3.3637254674799806{\n",
            "  |1,0,0,0>: 9054\n",
            "  |0,1,0,0>: 458\n",
            "  |0,0,1,0>: 466\n",
            "  |0,0,0,1>: 22\n",
            "}\n",
            "3.42719198573432{\n",
            "  |1,0,0,0>: 8460\n",
            "  |0,1,0,0>: 746\n",
            "  |0,0,1,0>: 731\n",
            "  |0,0,0,1>: 63\n",
            "}\n",
            "3.490658503988659{\n",
            "  |1,0,0,0>: 7754\n",
            "  |0,1,0,0>: 1038\n",
            "  |0,0,1,0>: 1071\n",
            "  |0,0,0,1>: 137\n",
            "}\n",
            "3.5541250222429985{\n",
            "  |1,0,0,0>: 7009\n",
            "  |0,1,0,0>: 1354\n",
            "  |0,0,1,0>: 1361\n",
            "  |0,0,0,1>: 276\n",
            "}\n",
            "3.6175915404973376{\n",
            "  |1,0,0,0>: 6224\n",
            "  |0,1,0,0>: 1662\n",
            "  |0,0,1,0>: 1645\n",
            "  |0,0,0,1>: 469\n",
            "}\n",
            "3.681058058751677{\n",
            "  |1,0,0,0>: 5416\n",
            "  |0,1,0,0>: 1933\n",
            "  |0,0,1,0>: 1931\n",
            "  |0,0,0,1>: 720\n",
            "}\n",
            "3.744524577006016{\n",
            "  |1,0,0,0>: 4668\n",
            "  |0,1,0,0>: 2131\n",
            "  |0,0,1,0>: 2204\n",
            "  |0,0,0,1>: 997\n",
            "}\n",
            "3.8079910952603555{\n",
            "  |1,0,0,0>: 3872\n",
            "  |0,1,0,0>: 2331\n",
            "  |0,0,1,0>: 2340\n",
            "  |0,0,0,1>: 1457\n",
            "}\n",
            "3.8714576135146945{\n",
            "  |1,0,0,0>: 3121\n",
            "  |0,1,0,0>: 2418\n",
            "  |0,0,1,0>: 2488\n",
            "  |0,0,0,1>: 1973\n",
            "}\n",
            "3.934924131769034{\n",
            "  |1,0,0,0>: 2409\n",
            "  |0,1,0,0>: 2505\n",
            "  |0,0,1,0>: 2536\n",
            "  |0,0,0,1>: 2550\n",
            "}\n",
            "3.998390650023373{\n",
            "  |1,0,0,0>: 1808\n",
            "  |0,1,0,0>: 2439\n",
            "  |0,0,1,0>: 2448\n",
            "  |0,0,0,1>: 3305\n",
            "}\n",
            "4.0618571682777125{\n",
            "  |1,0,0,0>: 1359\n",
            "  |0,1,0,0>: 2289\n",
            "  |0,0,1,0>: 2291\n",
            "  |0,0,0,1>: 4061\n",
            "}\n",
            "4.1253236865320515{\n",
            "  |1,0,0,0>: 941\n",
            "  |0,1,0,0>: 2128\n",
            "  |0,0,1,0>: 2073\n",
            "  |0,0,0,1>: 4858\n",
            "}\n",
            "4.188790204786391{\n",
            "  |1,0,0,0>: 606\n",
            "  |0,1,0,0>: 1851\n",
            "  |0,0,1,0>: 1860\n",
            "  |0,0,0,1>: 5683\n",
            "}\n",
            "4.25225672304073{\n",
            "  |1,0,0,0>: 399\n",
            "  |0,1,0,0>: 1612\n",
            "  |0,0,1,0>: 1568\n",
            "  |0,0,0,1>: 6421\n",
            "}\n",
            "4.3157232412950695{\n",
            "  |1,0,0,0>: 223\n",
            "  |0,1,0,0>: 1326\n",
            "  |0,0,1,0>: 1292\n",
            "  |0,0,0,1>: 7159\n",
            "}\n",
            "4.3791897595494085{\n",
            "  |1,0,0,0>: 124\n",
            "  |0,1,0,0>: 920\n",
            "  |0,0,1,0>: 943\n",
            "  |0,0,0,1>: 8013\n",
            "}\n",
            "4.442656277803748{\n",
            "  |1,0,0,0>: 42\n",
            "  |0,1,0,0>: 655\n",
            "  |0,0,1,0>: 647\n",
            "  |0,0,0,1>: 8656\n",
            "}\n",
            "4.506122796058087{\n",
            "  |1,0,0,0>: 15\n",
            "  |0,1,0,0>: 405\n",
            "  |0,0,1,0>: 436\n",
            "  |0,0,0,1>: 9144\n",
            "}\n",
            "4.569589314312426{\n",
            "  |0,1,0,0>: 212\n",
            "  |0,0,1,0>: 219\n",
            "  |0,0,0,1>: 9569\n",
            "}\n",
            "4.6330558325667655{\n",
            "  |1,0,0,0>: 0\n",
            "  |0,1,0,0>: 64\n",
            "  |0,0,1,0>: 71\n",
            "  |0,0,0,1>: 9865\n",
            "}\n",
            "4.696522350821105{\n",
            "  |0,1,0,0>: 2\n",
            "  |0,0,1,0>: 2\n",
            "  |0,0,0,1>: 9996\n",
            "}\n",
            "4.759988869075444{\n",
            "  |0,1,0,0>: 25\n",
            "  |0,0,1,0>: 22\n",
            "  |0,0,0,1>: 9953\n",
            "}\n",
            "4.823455387329783{\n",
            "  |1,0,0,0>: 2\n",
            "  |0,1,0,0>: 111\n",
            "  |0,0,1,0>: 123\n",
            "  |0,0,0,1>: 9764\n",
            "}\n",
            "4.886921905584122{\n",
            "  |1,0,0,0>: 8\n",
            "  |0,1,0,0>: 295\n",
            "  |0,0,1,0>: 308\n",
            "  |0,0,0,1>: 9389\n",
            "}\n",
            "4.950388423838462{\n",
            "  |1,0,0,0>: 36\n",
            "  |0,1,0,0>: 527\n",
            "  |0,0,1,0>: 501\n",
            "  |0,0,0,1>: 8936\n",
            "}\n",
            "5.013854942092801{\n",
            "  |1,0,0,0>: 70\n",
            "  |0,1,0,0>: 811\n",
            "  |0,0,1,0>: 798\n",
            "  |0,0,0,1>: 8321\n",
            "}\n",
            "5.07732146034714{\n",
            "  |1,0,0,0>: 173\n",
            "  |0,1,0,0>: 1078\n",
            "  |0,0,1,0>: 1150\n",
            "  |0,0,0,1>: 7599\n",
            "}\n",
            "5.14078797860148{\n",
            "  |1,0,0,0>: 311\n",
            "  |0,1,0,0>: 1440\n",
            "  |0,0,1,0>: 1388\n",
            "  |0,0,0,1>: 6861\n",
            "}\n",
            "5.204254496855819{\n",
            "  |1,0,0,0>: 480\n",
            "  |0,1,0,0>: 1701\n",
            "  |0,0,1,0>: 1741\n",
            "  |0,0,0,1>: 6078\n",
            "}\n",
            "5.267721015110158{\n",
            "  |1,0,0,0>: 761\n",
            "  |0,1,0,0>: 1993\n",
            "  |0,0,1,0>: 2064\n",
            "  |0,0,0,1>: 5182\n",
            "}\n",
            "5.331187533364497{\n",
            "  |1,0,0,0>: 1109\n",
            "  |0,1,0,0>: 2254\n",
            "  |0,0,1,0>: 2190\n",
            "  |0,0,0,1>: 4447\n",
            "}\n",
            "5.394654051618837{\n",
            "  |1,0,0,0>: 1559\n",
            "  |0,1,0,0>: 2436\n",
            "  |0,0,1,0>: 2365\n",
            "  |0,0,0,1>: 3640\n",
            "}\n",
            "5.458120569873176{\n",
            "  |1,0,0,0>: 2121\n",
            "  |0,1,0,0>: 2515\n",
            "  |0,0,1,0>: 2482\n",
            "  |0,0,0,1>: 2882\n",
            "}\n",
            "5.521587088127515{\n",
            "  |1,0,0,0>: 2696\n",
            "  |0,1,0,0>: 2508\n",
            "  |0,0,1,0>: 2474\n",
            "  |0,0,0,1>: 2322\n",
            "}\n",
            "5.585053606381854{\n",
            "  |1,0,0,0>: 3352\n",
            "  |0,1,0,0>: 2427\n",
            "  |0,0,1,0>: 2445\n",
            "  |0,0,0,1>: 1776\n",
            "}\n",
            "5.648520124636194{\n",
            "  |1,0,0,0>: 4236\n",
            "  |0,1,0,0>: 2214\n",
            "  |0,0,1,0>: 2294\n",
            "  |0,0,0,1>: 1256\n",
            "}\n",
            "5.711986642890533{\n",
            "  |1,0,0,0>: 5049\n",
            "  |0,1,0,0>: 2081\n",
            "  |0,0,1,0>: 2035\n",
            "  |0,0,0,1>: 835\n",
            "}\n",
            "5.775453161144872{\n",
            "  |1,0,0,0>: 5762\n",
            "  |0,1,0,0>: 1797\n",
            "  |0,0,1,0>: 1888\n",
            "  |0,0,0,1>: 553\n",
            "}\n",
            "5.838919679399211{\n",
            "  |1,0,0,0>: 6607\n",
            "  |0,1,0,0>: 1520\n",
            "  |0,0,1,0>: 1519\n",
            "  |0,0,0,1>: 354\n",
            "}\n",
            "5.902386197653551{\n",
            "  |1,0,0,0>: 7392\n",
            "  |0,1,0,0>: 1217\n",
            "  |0,0,1,0>: 1215\n",
            "  |0,0,0,1>: 176\n",
            "}\n",
            "5.96585271590789{\n",
            "  |1,0,0,0>: 8213\n",
            "  |0,1,0,0>: 869\n",
            "  |0,0,1,0>: 814\n",
            "  |0,0,0,1>: 104\n",
            "}\n",
            "6.029319234162229{\n",
            "  |1,0,0,0>: 8795\n",
            "  |0,1,0,0>: 584\n",
            "  |0,0,1,0>: 573\n",
            "  |0,0,0,1>: 48\n",
            "}\n",
            "6.092785752416569{\n",
            "  |1,0,0,0>: 9311\n",
            "  |0,1,0,0>: 340\n",
            "  |0,0,1,0>: 337\n",
            "  |0,0,0,1>: 12\n",
            "}\n",
            "6.156252270670908{\n",
            "  |1,0,0,0>: 9691\n",
            "  |0,1,0,0>: 146\n",
            "  |0,0,1,0>: 158\n",
            "  |0,0,0,1>: 5\n",
            "}\n",
            "6.219718788925247{\n",
            "  |1,0,0,0>: 9911\n",
            "  |0,1,0,0>: 47\n",
            "  |0,0,1,0>: 42\n",
            "}\n",
            "6.283185307179586{\n",
            "  |1,0,0,0>: 10000\n",
            "}\n",
            "[7500, 14862, 14390, 13566, 12664, 11220, 9870, 8412, 6878, 5140, 3448, 1958, 534, 862, 2316, 3652, 5524, 7068, 8632, 10220, 11620, 12786, 13806, 14498, 12406, 12484, 12230, 14208, 13440, 12196, 10916, 9514, 7912, 6332, 4782, 2856, 1564, 270, 1198, 2456, 4042, 5872, 7420, 9168, 10694, 11986, 13142, 14022, 14642, 12456, 12464, 12170, 14028, 13108, 11920, 10508, 9018, 7448, 5832, 4336, 2744, 1242, 182, 1610, 3122, 4716, 6366, 7842, 9318, 11026, 12312, 13288, 11638, 14730, 12492, 12406, 14528, 13778, 12872, 11642, 10198, 8722, 7156, 5364, 3894, 2280, 794, 408, 1704, 3472, 5098, 6524, 8214, 9784, 11426, 12590, 13622, 14382, 12322, 7500]\n"
          ]
        }
      ]
    },
    {
      "cell_type": "code",
      "source": [
        "#angles = [0, np.pi/4, np.pi/2, 3*np.pi/4, np.pi, 5*np.pi/4, 3*np.pi/2, 7*np.pi/4, 2*np.pi]\n",
        "devs = []\n",
        "angles_to_test = np.linspace(0, 2*np.pi, 100)\n",
        "#angles: list[list[float]] = []\n",
        "for angle in angles_to_test:\n",
        "  delta1.set_value(np.pi/2)\n",
        "  xsi1.set_value(np.pi/8)\n",
        "\n",
        "  delta2.set_value(np.pi/2)\n",
        "  xsi2.set_value(angle)\n",
        "\n",
        "  processor = pcvl.Processor(\"SLOS\", mzi)\n",
        "  processor.add_port(0, Port(Encoding.DUAL_RAIL, 'port1'))\n",
        "  processor.add_port(2, Port(Encoding.DUAL_RAIL, 'port2'))\n",
        "\n",
        "  input_state = pcvl.BasicState(\"|0,1,0,0>\")\n",
        "  processor.with_input(input_state)\n",
        "  sampler = pcvl.algorithm.Sampler(processor)\n",
        "  sample_count = sampler.sample_count(10000)\n",
        "\n",
        "  print(str(angle) + \": \" + str(sample_count['results']))\n",
        "\n",
        "  vals = list(sample_count['results'].values())\n",
        "  print(vals)\n",
        "  deviation = 0\n",
        "  # for v in vals:\n",
        "  #   deviation += abs(2500 - v)\n",
        "  # devs.append(deviation)\n",
        "  if len(vals) == 4:\n",
        "    for i in range(4):\n",
        "      v = vals[i]\n",
        "      if i == 0:\n",
        "        deviation += abs(1275 - v)\n",
        "      elif i == 1:\n",
        "        deviation += abs(7250 - v)\n",
        "      elif i == 2:\n",
        "        deviation += abs(200 - v)\n",
        "      else:\n",
        "        deviation += abs(1275 - v)\n",
        "    devs.append(deviation)\n",
        "\n",
        "  if len(vals) == 3:\n",
        "    for i in range(3):\n",
        "      v = vals[i]\n",
        "      if i == 0:\n",
        "        deviation += abs(1275 - v)\n",
        "      elif i == 1:\n",
        "        deviation += abs(7250 - v)\n",
        "      else:\n",
        "        deviation += abs(200 - v)\n",
        "    deviation += abs(1275 - 0)\n",
        "    devs.append(deviation)\n",
        "\n",
        "  if len(vals) == 2:\n",
        "    for i in range(2):\n",
        "      v = vals[i]\n",
        "      if i == 0:\n",
        "        deviation += abs(1275 - v)\n",
        "      else:\n",
        "        deviation += abs(7250 - v)\n",
        "    deviation += abs(200 - 0)\n",
        "    deviation += abs(1275 - 0)\n",
        "    devs.append(deviation)\n",
        "print(devs)\n",
        "\n"
      ],
      "metadata": {
        "colab": {
          "base_uri": "https://localhost:8080/"
        },
        "id": "PFFHUefQjibl",
        "outputId": "cbbb835d-e7f3-4a6b-d813-9231077f0946"
      },
      "execution_count": null,
      "outputs": [
        {
          "output_type": "stream",
          "name": "stdout",
          "text": [
            "0.0: {\n",
            "  |1,0,0,0>: 7272\n",
            "  |0,1,0,0>: 1253\n",
            "  |0,0,1,0>: 1230\n",
            "  |0,0,0,1>: 245\n",
            "}\n",
            "[7272, 1253, 1230, 245]\n",
            "0.06346651825433926: {\n",
            "  |1,0,0,0>: 7155\n",
            "  |0,1,0,0>: 1739\n",
            "  |0,0,1,0>: 866\n",
            "  |0,0,0,1>: 240\n",
            "}\n",
            "[7155, 1739, 866, 240]\n",
            "0.12693303650867852: {\n",
            "  |1,0,0,0>: 7017\n",
            "  |0,1,0,0>: 2300\n",
            "  |0,0,1,0>: 509\n",
            "  |0,0,0,1>: 174\n",
            "}\n",
            "[7017, 2300, 509, 174]\n",
            "0.1903995547630178: {\n",
            "  |1,0,0,0>: 6715\n",
            "  |0,1,0,0>: 2901\n",
            "  |0,0,1,0>: 264\n",
            "  |0,0,0,1>: 120\n",
            "}\n",
            "[6715, 2901, 264, 120]\n",
            "0.25386607301735703: {\n",
            "  |1,0,0,0>: 6290\n",
            "  |0,1,0,0>: 3522\n",
            "  |0,0,1,0>: 116\n",
            "  |0,0,0,1>: 72\n",
            "}\n",
            "[6290, 3522, 116, 72]\n",
            "0.3173325912716963: {\n",
            "  |1,0,0,0>: 5740\n",
            "  |0,1,0,0>: 4213\n",
            "  |0,0,1,0>: 28\n",
            "  |0,0,0,1>: 19\n",
            "}\n",
            "[5740, 4213, 28, 19]\n",
            "0.3807991095260356: {\n",
            "  |1,0,0,0>: 5141\n",
            "  |0,1,0,0>: 4858\n",
            "  |0,0,1,0>: 1\n",
            "}\n",
            "[5141, 4858, 1]\n",
            "0.4442656277803748: {\n",
            "  |1,0,0,0>: 4509\n",
            "  |0,1,0,0>: 5466\n",
            "  |0,0,1,0>: 12\n",
            "  |0,0,0,1>: 13\n",
            "}\n",
            "[4509, 5466, 12, 13]\n",
            "0.5077321460347141: {\n",
            "  |1,0,0,0>: 3785\n",
            "  |0,1,0,0>: 6072\n",
            "  |0,0,1,0>: 56\n",
            "  |0,0,0,1>: 87\n",
            "}\n",
            "[3785, 6072, 56, 87]\n",
            "0.5711986642890533: {\n",
            "  |1,0,0,0>: 3155\n",
            "  |0,1,0,0>: 6527\n",
            "  |0,0,1,0>: 103\n",
            "  |0,0,0,1>: 215\n",
            "}\n",
            "[3155, 6527, 103, 215]\n",
            "0.6346651825433925: {\n",
            "  |1,0,0,0>: 2461\n",
            "  |0,1,0,0>: 6978\n",
            "  |0,0,1,0>: 150\n",
            "  |0,0,0,1>: 411\n",
            "}\n",
            "[2461, 6978, 150, 411]\n",
            "0.6981317007977318: {\n",
            "  |1,0,0,0>: 1910\n",
            "  |0,1,0,0>: 7196\n",
            "  |0,0,1,0>: 197\n",
            "  |0,0,0,1>: 697\n",
            "}\n",
            "[1910, 7196, 197, 697]\n",
            "0.7615982190520711: {\n",
            "  |1,0,0,0>: 1382\n",
            "  |0,1,0,0>: 7317\n",
            "  |0,0,1,0>: 233\n",
            "  |0,0,0,1>: 1068\n",
            "}\n",
            "[1382, 7317, 233, 1068]\n",
            "0.8250647373064104: {\n",
            "  |1,0,0,0>: 1018\n",
            "  |0,1,0,0>: 7237\n",
            "  |0,0,1,0>: 204\n",
            "  |0,0,0,1>: 1541\n",
            "}\n",
            "[1018, 7237, 204, 1541]\n",
            "0.8885312555607496: {\n",
            "  |1,0,0,0>: 629\n",
            "  |0,1,0,0>: 7102\n",
            "  |0,0,1,0>: 189\n",
            "  |0,0,0,1>: 2080\n",
            "}\n",
            "[629, 7102, 189, 2080]\n",
            "0.9519977738150889: {\n",
            "  |1,0,0,0>: 361\n",
            "  |0,1,0,0>: 6819\n",
            "  |0,0,1,0>: 129\n",
            "  |0,0,0,1>: 2691\n",
            "}\n",
            "[361, 6819, 129, 2691]\n",
            "1.0154642920694281: {\n",
            "  |1,0,0,0>: 175\n",
            "  |0,1,0,0>: 6391\n",
            "  |0,0,1,0>: 90\n",
            "  |0,0,0,1>: 3344\n",
            "}\n",
            "[175, 6391, 90, 3344]\n",
            "1.0789308103237674: {\n",
            "  |1,0,0,0>: 52\n",
            "  |0,1,0,0>: 5915\n",
            "  |0,0,1,0>: 37\n",
            "  |0,0,0,1>: 3996\n",
            "}\n",
            "[52, 5915, 37, 3996]\n",
            "1.1423973285781066: {\n",
            "  |1,0,0,0>: 1\n",
            "  |0,1,0,0>: 5402\n",
            "  |0,0,1,0>: 8\n",
            "  |0,0,0,1>: 4589\n",
            "}\n",
            "[1, 5402, 8, 4589]\n",
            "1.2058638468324459: {\n",
            "  |1,0,0,0>: 2\n",
            "  |0,1,0,0>: 4763\n",
            "  |0,0,1,0>: 5\n",
            "  |0,0,0,1>: 5230\n",
            "}\n",
            "[2, 4763, 5, 5230]\n",
            "1.269330365086785: {\n",
            "  |1,0,0,0>: 25\n",
            "  |0,1,0,0>: 4061\n",
            "  |0,0,1,0>: 68\n",
            "  |0,0,0,1>: 5846\n",
            "}\n",
            "[25, 4061, 68, 5846]\n",
            "1.3327968833411243: {\n",
            "  |1,0,0,0>: 95\n",
            "  |0,1,0,0>: 3419\n",
            "  |0,0,1,0>: 144\n",
            "  |0,0,0,1>: 6342\n",
            "}\n",
            "[95, 3419, 144, 6342]\n",
            "1.3962634015954636: {\n",
            "  |1,0,0,0>: 156\n",
            "  |0,1,0,0>: 2736\n",
            "  |0,0,1,0>: 353\n",
            "  |0,0,0,1>: 6755\n",
            "}\n",
            "[156, 2736, 353, 6755]\n",
            "1.4597299198498028: {\n",
            "  |1,0,0,0>: 187\n",
            "  |0,1,0,0>: 2149\n",
            "  |0,0,1,0>: 573\n",
            "  |0,0,0,1>: 7091\n",
            "}\n",
            "[187, 2149, 573, 7091]\n",
            "1.5231964381041423: {\n",
            "  |1,0,0,0>: 235\n",
            "  |0,1,0,0>: 1558\n",
            "  |0,0,1,0>: 948\n",
            "  |0,0,0,1>: 7259\n",
            "}\n",
            "[235, 1558, 948, 7259]\n",
            "1.5866629563584815: {\n",
            "  |1,0,0,0>: 211\n",
            "  |0,1,0,0>: 1124\n",
            "  |0,0,1,0>: 1361\n",
            "  |0,0,0,1>: 7304\n",
            "}\n",
            "[211, 1124, 1361, 7304]\n",
            "1.6501294746128208: {\n",
            "  |1,0,0,0>: 194\n",
            "  |0,1,0,0>: 769\n",
            "  |0,0,1,0>: 1881\n",
            "  |0,0,0,1>: 7156\n",
            "}\n",
            "[194, 769, 1881, 7156]\n",
            "1.71359599286716: {\n",
            "  |1,0,0,0>: 138\n",
            "  |0,1,0,0>: 485\n",
            "  |0,0,1,0>: 2475\n",
            "  |0,0,0,1>: 6902\n",
            "}\n",
            "[138, 485, 2475, 6902]\n",
            "1.7770625111214993: {\n",
            "  |1,0,0,0>: 105\n",
            "  |0,1,0,0>: 218\n",
            "  |0,0,1,0>: 3091\n",
            "  |0,0,0,1>: 6586\n",
            "}\n",
            "[105, 218, 3091, 6586]\n",
            "1.8405290293758385: {\n",
            "  |1,0,0,0>: 68\n",
            "  |0,1,0,0>: 100\n",
            "  |0,0,1,0>: 3766\n",
            "  |0,0,0,1>: 6066\n",
            "}\n",
            "[68, 100, 3766, 6066]\n",
            "1.9039955476301778: {\n",
            "  |1,0,0,0>: 17\n",
            "  |0,1,0,0>: 16\n",
            "  |0,0,1,0>: 4355\n",
            "  |0,0,0,1>: 5612\n",
            "}\n",
            "[17, 16, 4355, 5612]\n",
            "1.967462065884517: {\n",
            "  |0,0,1,0>: 5053\n",
            "  |0,0,0,1>: 4947\n",
            "}\n",
            "[5053, 4947]\n",
            "2.0309285841388562: {\n",
            "  |1,0,0,0>: 15\n",
            "  |0,1,0,0>: 22\n",
            "  |0,0,1,0>: 5697\n",
            "  |0,0,0,1>: 4266\n",
            "}\n",
            "[15, 22, 5697, 4266]\n",
            "2.0943951023931957: {\n",
            "  |1,0,0,0>: 123\n",
            "  |0,1,0,0>: 67\n",
            "  |0,0,1,0>: 6127\n",
            "  |0,0,0,1>: 3683\n",
            "}\n",
            "[123, 67, 6127, 3683]\n",
            "2.1578616206475347: {\n",
            "  |1,0,0,0>: 250\n",
            "  |0,1,0,0>: 123\n",
            "  |0,0,1,0>: 6674\n",
            "  |0,0,0,1>: 2953\n",
            "}\n",
            "[250, 123, 6674, 2953]\n",
            "2.221328138901874: {\n",
            "  |1,0,0,0>: 518\n",
            "  |0,1,0,0>: 190\n",
            "  |0,0,1,0>: 6987\n",
            "  |0,0,0,1>: 2305\n",
            "}\n",
            "[518, 190, 6987, 2305]\n",
            "2.284794657156213: {\n",
            "  |1,0,0,0>: 761\n",
            "  |0,1,0,0>: 185\n",
            "  |0,0,1,0>: 7214\n",
            "  |0,0,0,1>: 1840\n",
            "}\n",
            "[761, 185, 7214, 1840]\n",
            "2.3482611754105527: {\n",
            "  |1,0,0,0>: 1209\n",
            "  |0,1,0,0>: 222\n",
            "  |0,0,1,0>: 7255\n",
            "  |0,0,0,1>: 1314\n",
            "}\n",
            "[1209, 222, 7255, 1314]\n",
            "2.4117276936648917: {\n",
            "  |1,0,0,0>: 1672\n",
            "  |0,1,0,0>: 176\n",
            "  |0,0,1,0>: 7291\n",
            "  |0,0,0,1>: 861\n",
            "}\n",
            "[1672, 176, 7291, 861]\n",
            "2.475194211919231: {\n",
            "  |1,0,0,0>: 2183\n",
            "  |0,1,0,0>: 191\n",
            "  |0,0,1,0>: 7071\n",
            "  |0,0,0,1>: 555\n",
            "}\n",
            "[2183, 191, 7071, 555]\n",
            "2.53866073017357: {\n",
            "  |1,0,0,0>: 2860\n",
            "  |0,1,0,0>: 136\n",
            "  |0,0,1,0>: 6697\n",
            "  |0,0,0,1>: 307\n",
            "}\n",
            "[2860, 136, 6697, 307]\n",
            "2.6021272484279097: {\n",
            "  |1,0,0,0>: 3472\n",
            "  |0,1,0,0>: 71\n",
            "  |0,0,1,0>: 6309\n",
            "  |0,0,0,1>: 148\n",
            "}\n",
            "[3472, 71, 6309, 148]\n",
            "2.6655937666822487: {\n",
            "  |1,0,0,0>: 4173\n",
            "  |0,1,0,0>: 28\n",
            "  |0,0,1,0>: 5761\n",
            "  |0,0,0,1>: 38\n",
            "}\n",
            "[4173, 28, 5761, 38]\n",
            "2.729060284936588: {\n",
            "  |1,0,0,0>: 4816\n",
            "  |0,1,0,0>: 3\n",
            "  |0,0,1,0>: 5179\n",
            "  |0,0,0,1>: 2\n",
            "}\n",
            "[4816, 3, 5179, 2]\n",
            "2.792526803190927: {\n",
            "  |1,0,0,0>: 5402\n",
            "  |0,1,0,0>: 9\n",
            "  |0,0,1,0>: 4574\n",
            "  |0,0,0,1>: 15\n",
            "}\n",
            "[5402, 9, 4574, 15]\n",
            "2.8559933214452666: {\n",
            "  |1,0,0,0>: 5987\n",
            "  |0,1,0,0>: 71\n",
            "  |0,0,1,0>: 3883\n",
            "  |0,0,0,1>: 59\n",
            "}\n",
            "[5987, 71, 3883, 59]\n",
            "2.9194598396996057: {\n",
            "  |1,0,0,0>: 6479\n",
            "  |0,1,0,0>: 183\n",
            "  |0,0,1,0>: 3237\n",
            "  |0,0,0,1>: 101\n",
            "}\n",
            "[6479, 183, 3237, 101]\n",
            "2.982926357953945: {\n",
            "  |1,0,0,0>: 6950\n",
            "  |0,1,0,0>: 388\n",
            "  |0,0,1,0>: 2515\n",
            "  |0,0,0,1>: 147\n",
            "}\n",
            "[6950, 388, 2515, 147]\n",
            "3.0463928762082846: {\n",
            "  |1,0,0,0>: 7178\n",
            "  |0,1,0,0>: 648\n",
            "  |0,0,1,0>: 1994\n",
            "  |0,0,0,1>: 180\n",
            "}\n",
            "[7178, 648, 1994, 180]\n",
            "3.1098593944626236: {\n",
            "  |1,0,0,0>: 7272\n",
            "  |0,1,0,0>: 1075\n",
            "  |0,0,1,0>: 1453\n",
            "  |0,0,0,1>: 200\n",
            "}\n",
            "[7272, 1075, 1453, 200]\n",
            "3.173325912716963: {\n",
            "  |1,0,0,0>: 7344\n",
            "  |0,1,0,0>: 1402\n",
            "  |0,0,1,0>: 1044\n",
            "  |0,0,0,1>: 210\n",
            "}\n",
            "[7344, 1402, 1044, 210]\n",
            "3.236792430971302: {\n",
            "  |1,0,0,0>: 7093\n",
            "  |0,1,0,0>: 2043\n",
            "  |0,0,1,0>: 672\n",
            "  |0,0,0,1>: 192\n",
            "}\n",
            "[7093, 2043, 672, 192]\n",
            "3.3002589492256416: {\n",
            "  |1,0,0,0>: 6854\n",
            "  |0,1,0,0>: 2589\n",
            "  |0,0,1,0>: 402\n",
            "  |0,0,0,1>: 155\n",
            "}\n",
            "[6854, 2589, 402, 155]\n",
            "3.3637254674799806: {\n",
            "  |1,0,0,0>: 6446\n",
            "  |0,1,0,0>: 3277\n",
            "  |0,0,1,0>: 181\n",
            "  |0,0,0,1>: 96\n",
            "}\n",
            "[6446, 3277, 181, 96]\n",
            "3.42719198573432: {\n",
            "  |1,0,0,0>: 6000\n",
            "  |0,1,0,0>: 3903\n",
            "  |0,0,1,0>: 62\n",
            "  |0,0,0,1>: 35\n",
            "}\n",
            "[6000, 3903, 62, 35]\n",
            "3.490658503988659: {\n",
            "  |1,0,0,0>: 5423\n",
            "  |0,1,0,0>: 4561\n",
            "  |0,0,1,0>: 11\n",
            "  |0,0,0,1>: 5\n",
            "}\n",
            "[5423, 4561, 11, 5]\n",
            "3.5541250222429985: {\n",
            "  |1,0,0,0>: 4752\n",
            "  |0,1,0,0>: 5242\n",
            "  |0,0,1,0>: 1\n",
            "  |0,0,0,1>: 5\n",
            "}\n",
            "[4752, 5242, 1, 5]\n",
            "3.6175915404973376: {\n",
            "  |1,0,0,0>: 4151\n",
            "  |0,1,0,0>: 5792\n",
            "  |0,0,1,0>: 23\n",
            "  |0,0,0,1>: 34\n",
            "}\n",
            "[4151, 5792, 23, 34]\n",
            "3.681058058751677: {\n",
            "  |1,0,0,0>: 3515\n",
            "  |0,1,0,0>: 6259\n",
            "  |0,0,1,0>: 79\n",
            "  |0,0,0,1>: 147\n",
            "}\n",
            "[3515, 6259, 79, 147]\n",
            "3.744524577006016: {\n",
            "  |1,0,0,0>: 2805\n",
            "  |0,1,0,0>: 6761\n",
            "  |0,0,1,0>: 156\n",
            "  |0,0,0,1>: 278\n",
            "}\n",
            "[2805, 6761, 156, 278]\n",
            "3.8079910952603555: {\n",
            "  |1,0,0,0>: 2222\n",
            "  |0,1,0,0>: 7028\n",
            "  |0,0,1,0>: 170\n",
            "  |0,0,0,1>: 580\n",
            "}\n",
            "[2222, 7028, 170, 580]\n",
            "3.8714576135146945: {\n",
            "  |1,0,0,0>: 1659\n",
            "  |0,1,0,0>: 7244\n",
            "  |0,0,1,0>: 201\n",
            "  |0,0,0,1>: 896\n",
            "}\n",
            "[1659, 7244, 201, 896]\n",
            "3.934924131769034: {\n",
            "  |1,0,0,0>: 1201\n",
            "  |0,1,0,0>: 7335\n",
            "  |0,0,1,0>: 211\n",
            "  |0,0,0,1>: 1253\n",
            "}\n",
            "[1201, 7335, 211, 1253]\n",
            "3.998390650023373: {\n",
            "  |1,0,0,0>: 792\n",
            "  |0,1,0,0>: 7174\n",
            "  |0,0,1,0>: 214\n",
            "  |0,0,0,1>: 1820\n",
            "}\n",
            "[792, 7174, 214, 1820]\n",
            "4.0618571682777125: {\n",
            "  |1,0,0,0>: 490\n",
            "  |0,1,0,0>: 6970\n",
            "  |0,0,1,0>: 178\n",
            "  |0,0,0,1>: 2362\n",
            "}\n",
            "[490, 6970, 178, 2362]\n",
            "4.1253236865320515: {\n",
            "  |1,0,0,0>: 271\n",
            "  |0,1,0,0>: 6617\n",
            "  |0,0,1,0>: 116\n",
            "  |0,0,0,1>: 2996\n",
            "}\n",
            "[271, 6617, 116, 2996]\n",
            "4.188790204786391: {\n",
            "  |1,0,0,0>: 122\n",
            "  |0,1,0,0>: 6222\n",
            "  |0,0,1,0>: 52\n",
            "  |0,0,0,1>: 3604\n",
            "}\n",
            "[122, 6222, 52, 3604]\n",
            "4.25225672304073: {\n",
            "  |1,0,0,0>: 26\n",
            "  |0,1,0,0>: 5671\n",
            "  |0,0,1,0>: 14\n",
            "  |0,0,0,1>: 4289\n",
            "}\n",
            "[26, 5671, 14, 4289]\n",
            "4.3157232412950695: {\n",
            "  |0,1,0,0>: 5041\n",
            "  |0,0,0,1>: 4959\n",
            "}\n",
            "[5041, 4959]\n",
            "4.3791897595494085: {\n",
            "  |1,0,0,0>: 15\n",
            "  |0,1,0,0>: 4385\n",
            "  |0,0,1,0>: 31\n",
            "  |0,0,0,1>: 5569\n",
            "}\n",
            "[15, 4385, 31, 5569]\n",
            "4.442656277803748: {\n",
            "  |1,0,0,0>: 57\n",
            "  |0,1,0,0>: 3654\n",
            "  |0,0,1,0>: 89\n",
            "  |0,0,0,1>: 6200\n",
            "}\n",
            "[57, 3654, 89, 6200]\n",
            "4.506122796058087: {\n",
            "  |1,0,0,0>: 107\n",
            "  |0,1,0,0>: 3083\n",
            "  |0,0,1,0>: 227\n",
            "  |0,0,0,1>: 6583\n",
            "}\n",
            "[107, 3083, 227, 6583]\n",
            "4.569589314312426: {\n",
            "  |1,0,0,0>: 152\n",
            "  |0,1,0,0>: 2445\n",
            "  |0,0,1,0>: 466\n",
            "  |0,0,0,1>: 6937\n",
            "}\n",
            "[152, 2445, 466, 6937]\n",
            "4.6330558325667655: {\n",
            "  |1,0,0,0>: 174\n",
            "  |0,1,0,0>: 1906\n",
            "  |0,0,1,0>: 747\n",
            "  |0,0,0,1>: 7173\n",
            "}\n",
            "[174, 1906, 747, 7173]\n",
            "4.696522350821105: {\n",
            "  |1,0,0,0>: 203\n",
            "  |0,1,0,0>: 1390\n",
            "  |0,0,1,0>: 1138\n",
            "  |0,0,0,1>: 7269\n",
            "}\n",
            "[203, 1390, 1138, 7269]\n",
            "4.759988869075444: {\n",
            "  |1,0,0,0>: 212\n",
            "  |0,1,0,0>: 928\n",
            "  |0,0,1,0>: 1642\n",
            "  |0,0,0,1>: 7218\n",
            "}\n",
            "[212, 928, 1642, 7218]\n",
            "4.823455387329783: {\n",
            "  |1,0,0,0>: 172\n",
            "  |0,1,0,0>: 590\n",
            "  |0,0,1,0>: 2102\n",
            "  |0,0,0,1>: 7136\n",
            "}\n",
            "[172, 590, 2102, 7136]\n",
            "4.886921905584122: {\n",
            "  |1,0,0,0>: 138\n",
            "  |0,1,0,0>: 330\n",
            "  |0,0,1,0>: 2749\n",
            "  |0,0,0,1>: 6783\n",
            "}\n",
            "[138, 330, 2749, 6783]\n",
            "4.950388423838462: {\n",
            "  |1,0,0,0>: 72\n",
            "  |0,1,0,0>: 167\n",
            "  |0,0,1,0>: 3444\n",
            "  |0,0,0,1>: 6317\n",
            "}\n",
            "[72, 167, 3444, 6317]\n",
            "5.013854942092801: {\n",
            "  |1,0,0,0>: 43\n",
            "  |0,1,0,0>: 54\n",
            "  |0,0,1,0>: 4096\n",
            "  |0,0,0,1>: 5807\n",
            "}\n",
            "[43, 54, 4096, 5807]\n",
            "5.07732146034714: {\n",
            "  |1,0,0,0>: 3\n",
            "  |0,1,0,0>: 4\n",
            "  |0,0,1,0>: 4734\n",
            "  |0,0,0,1>: 5259\n",
            "}\n",
            "[3, 4, 4734, 5259]\n",
            "5.14078797860148: {\n",
            "  |1,0,0,0>: 7\n",
            "  |0,1,0,0>: 5\n",
            "  |0,0,1,0>: 5339\n",
            "  |0,0,0,1>: 4649\n",
            "}\n",
            "[7, 5, 5339, 4649]\n",
            "5.204254496855819: {\n",
            "  |1,0,0,0>: 53\n",
            "  |0,1,0,0>: 41\n",
            "  |0,0,1,0>: 5974\n",
            "  |0,0,0,1>: 3932\n",
            "}\n",
            "[53, 41, 5974, 3932]\n",
            "5.267721015110158: {\n",
            "  |1,0,0,0>: 170\n",
            "  |0,1,0,0>: 92\n",
            "  |0,0,1,0>: 6432\n",
            "  |0,0,0,1>: 3306\n",
            "}\n",
            "[170, 92, 6432, 3306]\n",
            "5.331187533364497: {\n",
            "  |1,0,0,0>: 354\n",
            "  |0,1,0,0>: 133\n",
            "  |0,0,1,0>: 6828\n",
            "  |0,0,0,1>: 2685\n",
            "}\n",
            "[354, 133, 6828, 2685]\n",
            "5.394654051618837: {\n",
            "  |1,0,0,0>: 622\n",
            "  |0,1,0,0>: 184\n",
            "  |0,0,1,0>: 7128\n",
            "  |0,0,0,1>: 2066\n",
            "}\n",
            "[622, 184, 7128, 2066]\n",
            "5.458120569873176: {\n",
            "  |1,0,0,0>: 989\n",
            "  |0,1,0,0>: 205\n",
            "  |0,0,1,0>: 7269\n",
            "  |0,0,0,1>: 1537\n",
            "}\n",
            "[989, 205, 7269, 1537]\n",
            "5.521587088127515: {\n",
            "  |1,0,0,0>: 1393\n",
            "  |0,1,0,0>: 214\n",
            "  |0,0,1,0>: 7315\n",
            "  |0,0,0,1>: 1078\n",
            "}\n",
            "[1393, 214, 7315, 1078]\n",
            "5.585053606381854: {\n",
            "  |1,0,0,0>: 1912\n",
            "  |0,1,0,0>: 206\n",
            "  |0,0,1,0>: 7188\n",
            "  |0,0,0,1>: 694\n",
            "}\n",
            "[1912, 206, 7188, 694]\n",
            "5.648520124636194: {\n",
            "  |1,0,0,0>: 2502\n",
            "  |0,1,0,0>: 145\n",
            "  |0,0,1,0>: 6911\n",
            "  |0,0,0,1>: 442\n",
            "}\n",
            "[2502, 145, 6911, 442]\n",
            "5.711986642890533: {\n",
            "  |1,0,0,0>: 3189\n",
            "  |0,1,0,0>: 100\n",
            "  |0,0,1,0>: 6509\n",
            "  |0,0,0,1>: 202\n",
            "}\n",
            "[3189, 100, 6509, 202]\n",
            "5.775453161144872: {\n",
            "  |1,0,0,0>: 3838\n",
            "  |0,1,0,0>: 52\n",
            "  |0,0,1,0>: 6029\n",
            "  |0,0,0,1>: 81\n",
            "}\n",
            "[3838, 52, 6029, 81]\n",
            "5.838919679399211: {\n",
            "  |1,0,0,0>: 4542\n",
            "  |0,1,0,0>: 9\n",
            "  |0,0,1,0>: 5433\n",
            "  |0,0,0,1>: 16\n",
            "}\n",
            "[4542, 9, 5433, 16]\n",
            "5.902386197653551: {\n",
            "  |1,0,0,0>: 5064\n",
            "  |0,0,1,0>: 4935\n",
            "  |0,0,0,1>: 1\n",
            "}\n",
            "[5064, 4935, 1]\n",
            "5.96585271590789: {\n",
            "  |1,0,0,0>: 5714\n",
            "  |0,1,0,0>: 35\n",
            "  |0,0,1,0>: 4227\n",
            "  |0,0,0,1>: 24\n",
            "}\n",
            "[5714, 35, 4227, 24]\n",
            "6.029319234162229: {\n",
            "  |1,0,0,0>: 6219\n",
            "  |0,1,0,0>: 128\n",
            "  |0,0,1,0>: 3579\n",
            "  |0,0,0,1>: 74\n",
            "}\n",
            "[6219, 128, 3579, 74]\n",
            "6.092785752416569: {\n",
            "  |1,0,0,0>: 6659\n",
            "  |0,1,0,0>: 275\n",
            "  |0,0,1,0>: 2928\n",
            "  |0,0,0,1>: 138\n",
            "}\n",
            "[6659, 275, 2928, 138]\n",
            "6.156252270670908: {\n",
            "  |1,0,0,0>: 6965\n",
            "  |0,1,0,0>: 540\n",
            "  |0,0,1,0>: 2308\n",
            "  |0,0,0,1>: 187\n",
            "}\n",
            "[6965, 540, 2308, 187]\n",
            "6.219718788925247: {\n",
            "  |1,0,0,0>: 7193\n",
            "  |0,1,0,0>: 835\n",
            "  |0,0,1,0>: 1774\n",
            "  |0,0,0,1>: 198\n",
            "}\n",
            "[7193, 835, 1774, 198]\n",
            "6.283185307179586: {\n",
            "  |1,0,0,0>: 7330\n",
            "  |0,1,0,0>: 1231\n",
            "  |0,0,1,0>: 1235\n",
            "  |0,0,0,1>: 204\n",
            "}\n",
            "[7330, 1231, 1235, 204]\n",
            "[14054, 13092, 12102, 11008, 10030, 8930, 7732, 6468, 5020, 3760, 2372, 1270, 414, 540, 1610, 2832, 4138, 5442, 6628, 7910, 9142, 10134, 11266, 12378, 13464, 14380, 15124, 15804, 16404, 16714, 16984, 7556, 16976, 16670, 16304, 15634, 15158, 14188, 14976, 15558, 16164, 16612, 16918, 17040, 17002, 16790, 16482, 15980, 15394, 14500, 13826, 12580, 11562, 10342, 9450, 8296, 6954, 5752, 4480, 3060, 1894, 770, 192, 1118, 2174, 3442, 4658, 6028, 7532, 8588, 9850, 10670, 11856, 12890, 13864, 14770, 15526, 16114, 16572, 16856, 17036, 17026, 16862, 16526, 16076, 15438, 14662, 14466, 15250, 15876, 16446, 16784, 17000, 7578, 16932, 16646, 16224, 15596, 14984, 14180]\n"
          ]
        }
      ]
    },
    {
      "cell_type": "code",
      "source": [
        "import numpy as np\n",
        "import matplotlib.pyplot as plt\n",
        "from scipy import optimize\n",
        "\n",
        "# Define data\n",
        "#angles = [0, np.pi/4, np.pi/2, 3*np.pi/4, np.pi, 5*np.pi/4, 3*np.pi/2, 7*np.pi/4, 2*np.pi]\n",
        "#devs = [7044, 110, 7062, 60, 7152, 168, 7100, 108, 7004]\n",
        "\n",
        "x = np.array(angles_to_test)\n",
        "y = np.array(devs)\n",
        "\n",
        "def test_func(x, a, b, c):\n",
        "    return a * np.sin(b * x) + c\n",
        "\n",
        "# Initial guess for the parameters: [amplitude, frequency, offset]\n",
        "initial_guess = [3600, 1, 3600]\n",
        "\n",
        "# Fit the curve\n",
        "# params, params_covariance = optimize.curve_fit(test_func, x, y, p0=initial_guess)\n",
        "# print(\"Fitted parameters:\", params)\n",
        "\n",
        "print(len(x))\n",
        "print(len(y))\n",
        "\n",
        "# Create the plot\n",
        "plt.figure(figsize=(6, 4))\n",
        "plt.scatter(x, y, s=10)\n",
        "#plt.plot(x, test_func(x, *params), label='Fitted function', color='red')\n",
        "\n",
        "# Adding labels and title\n",
        "plt.xlabel('Half waveplate angle (radians)')\n",
        "plt.ylabel('Deviations')\n",
        "#plt.title('Half waveplate angle deviations from expected photon counts')\n",
        "plt.legend(loc='best')\n",
        "\n",
        "plt.show()\n"
      ],
      "metadata": {
        "colab": {
          "base_uri": "https://localhost:8080/",
          "height": 462
        },
        "id": "qVXnSeJNoqcw",
        "outputId": "2d6fb102-7e6a-4284-ef25-81ccf84ea4b1"
      },
      "execution_count": null,
      "outputs": [
        {
          "output_type": "stream",
          "name": "stderr",
          "text": [
            "WARNING:matplotlib.legend:No artists with labels found to put in legend.  Note that artists whose label start with an underscore are ignored when legend() is called with no argument.\n"
          ]
        },
        {
          "output_type": "stream",
          "name": "stdout",
          "text": [
            "100\n",
            "100\n"
          ]
        },
        {
          "output_type": "display_data",
          "data": {
            "text/plain": [
              "<Figure size 600x400 with 1 Axes>"
            ],
            "image/png": "[encoded data removed]"
          },
          "metadata": {}
        }
      ]
    },
    {
      "cell_type": "code",
      "source": [
        "import time\n",
        "import math\n",
        "from pprint import pprint\n",
        "from tqdm.notebook import tqdm\n",
        "\n",
        "import perceval as pcvl\n",
        "from perceval.algorithm import Sampler"
      ],
      "metadata": {
        "id": "NuLqoYVbpsyl"
      },
      "execution_count": null,
      "outputs": []
    },
    {
      "cell_type": "code",
      "source": [
        "import numpy as np\n",
        "\n",
        "# Import Qiskit\n",
        "from qiskit import QuantumCircuit, transpile\n",
        "from qiskit_aer import AerSimulator\n",
        "from qiskit.visualization import plot_histogram, plot_state_city\n",
        "import qiskit.quantum_info as qi"
      ],
      "metadata": {
        "id": "tmYWJhecbFOj",
        "colab": {
          "base_uri": "https://localhost:8080/",
          "height": 393
        },
        "outputId": "370c9b00-1284-42ae-a296-6f5045496b4f"
      },
      "execution_count": null,
      "outputs": [
        {
          "output_type": "error",
          "ename": "ModuleNotFoundError",
          "evalue": "No module named 'qiskit_aer'",
          "traceback": [
            "\u001b[0;31m---------------------------------------------------------------------------\u001b[0m",
            "\u001b[0;31mModuleNotFoundError\u001b[0m                       Traceback (most recent call last)",
            "\u001b[0;32m<ipython-input-54-b15ad50f7adc>\u001b[0m in \u001b[0;36m<cell line: 5>\u001b[0;34m()\u001b[0m\n\u001b[1;32m      3\u001b[0m \u001b[0;31m# Import Qiskit\u001b[0m\u001b[0;34m\u001b[0m\u001b[0;34m\u001b[0m\u001b[0m\n\u001b[1;32m      4\u001b[0m \u001b[0;32mfrom\u001b[0m \u001b[0mqiskit\u001b[0m \u001b[0;32mimport\u001b[0m \u001b[0mQuantumCircuit\u001b[0m\u001b[0;34m,\u001b[0m \u001b[0mtranspile\u001b[0m\u001b[0;34m\u001b[0m\u001b[0;34m\u001b[0m\u001b[0m\n\u001b[0;32m----> 5\u001b[0;31m \u001b[0;32mfrom\u001b[0m \u001b[0mqiskit_aer\u001b[0m \u001b[0;32mimport\u001b[0m \u001b[0mAerSimulator\u001b[0m\u001b[0;34m\u001b[0m\u001b[0;34m\u001b[0m\u001b[0m\n\u001b[0m\u001b[1;32m      6\u001b[0m \u001b[0;32mfrom\u001b[0m \u001b[0mqiskit\u001b[0m\u001b[0;34m.\u001b[0m\u001b[0mvisualization\u001b[0m \u001b[0;32mimport\u001b[0m \u001b[0mplot_histogram\u001b[0m\u001b[0;34m,\u001b[0m \u001b[0mplot_state_city\u001b[0m\u001b[0;34m\u001b[0m\u001b[0;34m\u001b[0m\u001b[0m\n\u001b[1;32m      7\u001b[0m \u001b[0;32mimport\u001b[0m \u001b[0mqiskit\u001b[0m\u001b[0;34m.\u001b[0m\u001b[0mquantum_info\u001b[0m \u001b[0;32mas\u001b[0m \u001b[0mqi\u001b[0m\u001b[0;34m\u001b[0m\u001b[0;34m\u001b[0m\u001b[0m\n",
            "\u001b[0;31mModuleNotFoundError\u001b[0m: No module named 'qiskit_aer'",
            "",
            "\u001b[0;31m---------------------------------------------------------------------------\u001b[0;32m\nNOTE: If your import is failing due to a missing package, you can\nmanually install dependencies using either !pip or !apt.\n\nTo view examples of installing some common dependencies, click the\n\"Open Examples\" button below.\n\u001b[0;31m---------------------------------------------------------------------------\u001b[0m\n"
          ],
          "errorDetails": {
            "actions": [
              {
                "action": "open_url",
                "actionText": "Open Examples",
                "url": "/notebooks/snippets/importing_libraries.ipynb"
              }
            ]
          }
        }
      ]
    },
    {
      "cell_type": "code",
      "source": [
        "!pip install qiskit"
      ],
      "metadata": {
        "id": "kzYM4IoNG4Z1",
        "colab": {
          "base_uri": "https://localhost:8080/"
        },
        "outputId": "5f1ca5d8-3ee7-4fb6-9fb5-9dcc09f652cb"
      },
      "execution_count": null,
      "outputs": [
        {
          "output_type": "stream",
          "name": "stdout",
          "text": [
            "Collecting qiskit\n",
            "  Downloading qiskit-1.4.1-cp39-abi3-manylinux_2_17_x86_64.manylinux2014_x86_64.whl.metadata (12 kB)\n",
            "Collecting rustworkx>=0.15.0 (from qiskit)\n",
            "  Downloading rustworkx-0.16.0-cp39-abi3-manylinux_2_17_x86_64.manylinux2014_x86_64.whl.metadata (10 kB)\n",
            "Requirement already satisfied: numpy<3,>=1.17 in /usr/local/lib/python3.11/dist-packages (from qiskit) (1.26.4)\n",
            "Requirement already satisfied: scipy>=1.5 in /usr/local/lib/python3.11/dist-packages (from qiskit) (1.13.1)\n",
            "Requirement already satisfied: sympy>=1.3 in /usr/local/lib/python3.11/dist-packages (from qiskit) (1.13.1)\n",
            "Collecting dill>=0.3 (from qiskit)\n",
            "  Downloading dill-0.3.9-py3-none-any.whl.metadata (10 kB)\n",
            "Requirement already satisfied: python-dateutil>=2.8.0 in /usr/local/lib/python3.11/dist-packages (from qiskit) (2.8.2)\n",
            "Collecting stevedore>=3.0.0 (from qiskit)\n",
            "  Downloading stevedore-5.4.1-py3-none-any.whl.metadata (2.3 kB)\n",
            "Requirement already satisfied: typing-extensions in /usr/local/lib/python3.11/dist-packages (from qiskit) (4.12.2)\n",
            "Collecting symengine<0.14,>=0.11 (from qiskit)\n",
            "  Downloading symengine-0.13.0-cp311-cp311-manylinux_2_17_x86_64.manylinux2014_x86_64.whl.metadata (1.2 kB)\n",
            "Requirement already satisfied: six>=1.5 in /usr/local/lib/python3.11/dist-packages (from python-dateutil>=2.8.0->qiskit) (1.17.0)\n",
            "Collecting pbr>=2.0.0 (from stevedore>=3.0.0->qiskit)\n",
            "  Downloading pbr-6.1.1-py2.py3-none-any.whl.metadata (3.4 kB)\n",
            "Requirement already satisfied: mpmath<1.4,>=1.1.0 in /usr/local/lib/python3.11/dist-packages (from sympy>=1.3->qiskit) (1.3.0)\n",
            "Requirement already satisfied: setuptools in /usr/local/lib/python3.11/dist-packages (from pbr>=2.0.0->stevedore>=3.0.0->qiskit) (75.1.0)\n",
            "Downloading qiskit-1.4.1-cp39-abi3-manylinux_2_17_x86_64.manylinux2014_x86_64.whl (6.7 MB)\n",
            "\u001b[2K   \u001b[90m━━━━━━━━━━━━━━━━━━━━━━━━━━━━━━━━━━━━━━━━\u001b[0m \u001b[32m6.7/6.7 MB\u001b[0m \u001b[31m33.4 MB/s\u001b[0m eta \u001b[36m0:00:00\u001b[0m\n",
            "\u001b[?25hDownloading dill-0.3.9-py3-none-any.whl (119 kB)\n",
            "\u001b[2K   \u001b[90m━━━━━━━━━━━━━━━━━━━━━━━━━━━━━━━━━━━━━━━━\u001b[0m \u001b[32m119.4/119.4 kB\u001b[0m \u001b[31m7.3 MB/s\u001b[0m eta \u001b[36m0:00:00\u001b[0m\n",
            "\u001b[?25hDownloading rustworkx-0.16.0-cp39-abi3-manylinux_2_17_x86_64.manylinux2014_x86_64.whl (2.1 MB)\n",
            "\u001b[2K   \u001b[90m━━━━━━━━━━━━━━━━━━━━━━━━━━━━━━━━━━━━━━━━\u001b[0m \u001b[32m2.1/2.1 MB\u001b[0m \u001b[31m25.8 MB/s\u001b[0m eta \u001b[36m0:00:00\u001b[0m\n",
            "\u001b[?25hDownloading stevedore-5.4.1-py3-none-any.whl (49 kB)\n",
            "\u001b[2K   \u001b[90m━━━━━━━━━━━━━━━━━━━━━━━━━━━━━━━━━━━━━━━━\u001b[0m \u001b[32m49.5/49.5 kB\u001b[0m \u001b[31m2.1 MB/s\u001b[0m eta \u001b[36m0:00:00\u001b[0m\n",
            "\u001b[?25hDownloading symengine-0.13.0-cp311-cp311-manylinux_2_17_x86_64.manylinux2014_x86_64.whl (49.7 MB)\n",
            "\u001b[2K   \u001b[90m━━━━━━━━━━━━━━━━━━━━━━━━━━━━━━━━━━━━━━━━\u001b[0m \u001b[32m49.7/49.7 MB\u001b[0m \u001b[31m8.5 MB/s\u001b[0m eta \u001b[36m0:00:00\u001b[0m\n",
            "\u001b[?25hDownloading pbr-6.1.1-py2.py3-none-any.whl (108 kB)\n",
            "\u001b[2K   \u001b[90m━━━━━━━━━━━━━━━━━━━━━━━━━━━━━━━━━━━━━━━━\u001b[0m \u001b[32m109.0/109.0 kB\u001b[0m \u001b[31m3.2 MB/s\u001b[0m eta \u001b[36m0:00:00\u001b[0m\n",
            "\u001b[?25hInstalling collected packages: symengine, rustworkx, pbr, dill, stevedore, qiskit\n",
            "Successfully installed dill-0.3.9 pbr-6.1.1 qiskit-1.4.1 rustworkx-0.16.0 stevedore-5.4.1 symengine-0.13.0\n"
          ]
        }
      ]
    },
    {
      "cell_type": "code",
      "source": [
        "circ = QuantumCircuit(2)\n",
        "circ.x(0)"
      ],
      "metadata": {
        "colab": {
          "base_uri": "https://localhost:8080/",
          "height": 162
        },
        "id": "Xy95sToYbKXr",
        "outputId": "2ca64eea-957c-4c87-b7ca-524f1e97559b"
      },
      "execution_count": null,
      "outputs": [
        {
          "output_type": "error",
          "ename": "NameError",
          "evalue": "name 'QuantumCircuit' is not defined",
          "traceback": [
            "\u001b[0;31m---------------------------------------------------------------------------\u001b[0m",
            "\u001b[0;31mNameError\u001b[0m                                 Traceback (most recent call last)",
            "\u001b[0;32m<ipython-input-3-52235ed8e5a5>\u001b[0m in \u001b[0;36m<cell line: 1>\u001b[0;34m()\u001b[0m\n\u001b[0;32m----> 1\u001b[0;31m \u001b[0mcirc\u001b[0m \u001b[0;34m=\u001b[0m \u001b[0mQuantumCircuit\u001b[0m\u001b[0;34m(\u001b[0m\u001b[0;36m2\u001b[0m\u001b[0;34m)\u001b[0m\u001b[0;34m\u001b[0m\u001b[0;34m\u001b[0m\u001b[0m\n\u001b[0m\u001b[1;32m      2\u001b[0m \u001b[0mcirc\u001b[0m\u001b[0;34m.\u001b[0m\u001b[0mx\u001b[0m\u001b[0;34m(\u001b[0m\u001b[0;36m0\u001b[0m\u001b[0;34m)\u001b[0m\u001b[0;34m\u001b[0m\u001b[0;34m\u001b[0m\u001b[0m\n",
            "\u001b[0;31mNameError\u001b[0m: name 'QuantumCircuit' is not defined"
          ]
        }
      ]
    },
    {
      "cell_type": "code",
      "source": [
        "circ.draw()"
      ],
      "metadata": {
        "colab": {
          "base_uri": "https://localhost:8080/",
          "height": 94
        },
        "id": "lm2uBX5zcEWR",
        "outputId": "001f53a5-5cf3-4048-edb1-84ac06fe27a4"
      },
      "execution_count": null,
      "outputs": [
        {
          "output_type": "execute_result",
          "data": {
            "text/plain": [
              "     ┌───┐\n",
              "q_0: ┤ X ├\n",
              "     └───┘\n",
              "q_1: ─────\n",
              "          "
            ],
            "text/html": [
              "<pre style=\"word-wrap: normal;white-space: pre;background: #fff0;line-height: 1.1;font-family: &quot;Courier New&quot;,Courier,monospace\">     ┌───┐\n",
              "q_0: ┤ X ├\n",
              "     └───┘\n",
              "q_1: ─────\n",
              "          </pre>"
            ]
          },
          "metadata": {},
          "execution_count": 33
        }
      ]
    },
    {
      "cell_type": "code",
      "source": [
        "pip install pylatexenc"
      ],
      "metadata": {
        "colab": {
          "base_uri": "https://localhost:8080/"
        },
        "id": "dlBPLLdUcWKD",
        "outputId": "b2cd44dd-fa54-4fdc-c68e-a1ed725f7f02"
      },
      "execution_count": null,
      "outputs": [
        {
          "output_type": "stream",
          "name": "stdout",
          "text": [
            "Collecting pylatexenc\n",
            "  Downloading pylatexenc-2.10.tar.gz (162 kB)\n",
            "\u001b[?25l     \u001b[90m━━━━━━━━━━━━━━━━━━━━━━━━━━━━━━━━━━━━━━━━\u001b[0m \u001b[32m0.0/162.6 kB\u001b[0m \u001b[31m?\u001b[0m eta \u001b[36m-:--:--\u001b[0m\r\u001b[2K     \u001b[90m━━━━━━━━━━━━━━━━━━━━━━━━━━━━━━━━━━━━━━━━\u001b[0m \u001b[32m162.6/162.6 kB\u001b[0m \u001b[31m5.2 MB/s\u001b[0m eta \u001b[36m0:00:00\u001b[0m\n",
            "\u001b[?25h  Preparing metadata (setup.py) ... \u001b[?25l\u001b[?25hdone\n",
            "Building wheels for collected packages: pylatexenc\n",
            "  Building wheel for pylatexenc (setup.py) ... \u001b[?25l\u001b[?25hdone\n",
            "  Created wheel for pylatexenc: filename=pylatexenc-2.10-py3-none-any.whl size=136816 sha256=35a62e8f49f2c91fc24274e9d57414d05fdd06615bfdb568103e3ad35f7a39d7\n",
            "  Stored in directory: /root/.cache/pip/wheels/b1/7a/33/9fdd892f784ed4afda62b685ae3703adf4c91aa0f524c28f03\n",
            "Successfully built pylatexenc\n",
            "Installing collected packages: pylatexenc\n",
            "Successfully installed pylatexenc-2.10\n"
          ]
        }
      ]
    },
    {
      "cell_type": "code",
      "source": [
        "from qiskit.circuit import QuantumCircuit\n",
        "from qiskit.primitives import Estimator, Sampler\n",
        "from qiskit.quantum_info import SparsePauliOp\n",
        "from qiskit.visualization import plot_histogram\n",
        "\n",
        "import numpy as np\n",
        "import matplotlib.pyplot as plt\n",
        "#plt.style.use('light_background') # optional"
      ],
      "metadata": {
        "id": "dB-QhURpciYZ"
      },
      "execution_count": null,
      "outputs": []
    },
    {
      "cell_type": "code",
      "source": [
        "# Define Pauli operators\n",
        "A = SparsePauliOp('IX')\n",
        "a = SparsePauliOp('IZ')\n",
        "B = SparsePauliOp('XI')\n",
        "b = SparsePauliOp('ZI')\n",
        "\n",
        "# Calculate CHSH witness operator\n",
        "obsv = A.compose(B) - A.compose(b) + a.compose(B) + a.compose(b)"
      ],
      "metadata": {
        "id": "pTvt-gKbdRIa"
      },
      "execution_count": null,
      "outputs": []
    },
    {
      "cell_type": "code",
      "source": [
        "from qiskit.circuit import Parameter\n",
        "\n",
        "theta = Parameter('θ')\n",
        "\n",
        "qc = QuantumCircuit(2)\n",
        "qc.h(0)\n",
        "qc.h(1)\n",
        "\n",
        "qc.cx(0,1)\n",
        "# qc.x(0)\n",
        "# qc.cz(0,1)\n",
        "# qc.x(0)\n",
        "\n",
        "qc.h(0)\n",
        "qc.h(1)\n",
        "\n",
        "qc.h(0) # contribution from PS\n",
        "qc.z(0)\n",
        "qc.h(1) # contribution from PS\n",
        "qc.z(1)\n",
        "\n",
        "qc.cx(0,1)\n",
        "#qc.cz(0,1)\n",
        "\n",
        "qc.h(0)\n",
        "qc.h(1)\n",
        "\n",
        "qc.rx(theta, 0) # to change the measurement basis from just X and Y, we want to do a rotation around the Bloch sphere\n"
      ],
      "metadata": {
        "colab": {
          "base_uri": "https://localhost:8080/"
        },
        "id": "zC_TBe9RdXJO",
        "outputId": "3a849e70-4cd3-4b0b-b83d-40b035312af4"
      },
      "execution_count": null,
      "outputs": [
        {
          "output_type": "execute_result",
          "data": {
            "text/plain": [
              "<qiskit.circuit.instructionset.InstructionSet at 0x7b4b50ddae00>"
            ]
          },
          "metadata": {},
          "execution_count": 157
        }
      ]
    },
    {
      "cell_type": "code",
      "source": [
        "angles_to_test = np.linspace(0, 2*np.pi, 21)\n",
        "angles: list[list[float]] = []\n",
        "for angle in angles_to_test:\n",
        "    angles.append([angle])\n"
      ],
      "metadata": {
        "id": "ia7YjknsdbO1"
      },
      "execution_count": null,
      "outputs": []
    },
    {
      "cell_type": "code",
      "source": [
        "import warnings\n",
        "warnings.filterwarnings('ignore', category=DeprecationWarning)"
      ],
      "metadata": {
        "id": "grthCUeBkOyb"
      },
      "execution_count": null,
      "outputs": []
    },
    {
      "cell_type": "code",
      "source": [
        "estimator = Estimator()\n",
        "job = estimator.run([qc]*len(angles), observables=[obsv]*len(angles), parameter_values=angles)\n",
        "exps = job.result().values\n",
        "\n",
        "ax = plt.axes()\n",
        "\n",
        "# Setting the background color of the\n",
        "# plot using set_facecolor() method\n",
        "#plt.figure(facecolor='white')\n",
        "\n",
        "plt.plot(angles, exps, marker='o', ls='-')\n",
        "plt.plot(angles, [2]*len(angles), ls='--', color='red', label='Classical Bound')\n",
        "plt.plot(angles, [-2]*len(angles), ls='--', color='red')\n",
        "plt.xlabel('angle (rad)')\n",
        "plt.ylabel('CHSH Witness')\n",
        "plt.legend(loc=4)"
      ],
      "metadata": {
        "colab": {
          "base_uri": "https://localhost:8080/",
          "height": 467
        },
        "id": "W-mlCO-KdYdI",
        "outputId": "d54b6530-de7a-4ca2-80f5-fae8789d01b0"
      },
      "execution_count": null,
      "outputs": [
        {
          "output_type": "execute_result",
          "data": {
            "text/plain": [
              "<matplotlib.legend.Legend at 0x7e09919831f0>"
            ]
          },
          "metadata": {},
          "execution_count": 100
        },
        {
          "output_type": "display_data",
          "data": {
            "text/plain": [
              "<Figure size 640x480 with 1 Axes>"
            ],
            "image/png": "[encoded data removed]"
          },
          "metadata": {}
        }
      ]
    },
    {
      "cell_type": "code",
      "source": [
        "from qiskit import QuantumCircuit, transpile\n",
        "from qiskit.providers.fake_provider import GenericBackendV2"
      ],
      "metadata": {
        "id": "_eT4WaUqdglP"
      },
      "execution_count": null,
      "outputs": []
    },
    {
      "cell_type": "code",
      "source": [
        "qc = QuantumCircuit(2)\n",
        "qc.h(0)\n",
        "qc.h(1)\n",
        "qc.z(0)\n",
        "qc.z(1)\n",
        "qc.cz(0,1)\n",
        "qc.h(0)\n",
        "qc.h(1)\n",
        "qc.draw('mpl')\n",
        "# backend = GenericBackendV2(num_qubits=3)\n",
        "\n",
        "# # Transpile and run\n",
        "# transpiled_circuit = transpile(qc, backend)\n",
        "# result = backend.run(transpiled_circuit).result()"
      ],
      "metadata": {
        "colab": {
          "base_uri": "https://localhost:8080/",
          "height": 191
        },
        "id": "Ps7iagb6i5gj",
        "outputId": "da465556-fce2-4d5c-d48c-dae0799b2806"
      },
      "execution_count": null,
      "outputs": [
        {
          "output_type": "execute_result",
          "data": {
            "text/plain": [
              "<Figure size 454.517x200.667 with 1 Axes>"
            ],
            "image/png": "[encoded data removed]"
          },
          "metadata": {},
          "execution_count": 4
        }
      ]
    },
    {
      "cell_type": "code",
      "source": [
        "print(result)"
      ],
      "metadata": {
        "colab": {
          "base_uri": "https://localhost:8080/"
        },
        "id": "o2HWd5OEkGNO",
        "outputId": "c2c18cf9-10a5-4b11-fa7b-2f25e1c8e10a"
      },
      "execution_count": null,
      "outputs": [
        {
          "output_type": "stream",
          "name": "stdout",
          "text": [
            "Result(backend_name='basic_simulator', backend_version='0.1', qobj_id='a2ade821-a868-4481-90e3-18cd1e05ce41', job_id='334dede6-4e2b-4d88-8c84-73a0bc5e7218', success=True, results=[ExperimentResult(shots=1024, success=True, meas_level=2, data=ExperimentResultData(counts={}), header=QobjExperimentHeader(qubit_labels=[['q', 0], ['q', 1], ['q', 2]], n_qubits=3, qreg_sizes=[['q', 3]], clbit_labels=[], memory_slots=0, creg_sizes=[], name='circuit-298', global_phase=0.0, metadata={}), status=DONE, name='circuit-298', seed_simulator=629241460, time_taken=0.0054607391357421875)], date=None, status=COMPLETED, header=QobjHeader(backend_name='basic_simulator', backend_version='0.1'), time_taken=0.0054814815521240234)\n"
          ]
        }
      ]
    },
    {
      "cell_type": "code",
      "source": [
        "counts = result.get_counts()"
      ],
      "metadata": {
        "id": "F3eKXq_ZkH_Z"
      },
      "execution_count": null,
      "outputs": []
    },
    {
      "cell_type": "code",
      "source": [
        "counts"
      ],
      "metadata": {
        "colab": {
          "base_uri": "https://localhost:8080/"
        },
        "id": "krLca1uulZwP",
        "outputId": "38534e30-0d2b-43b4-d8f5-97fb614943dd"
      },
      "execution_count": null,
      "outputs": [
        {
          "output_type": "execute_result",
          "data": {
            "text/plain": [
              "{}"
            ]
          },
          "metadata": {},
          "execution_count": 60
        }
      ]
    },
    {
      "cell_type": "code",
      "source": [
        "from qiskit_aer import AerSimulator"
      ],
      "metadata": {
        "colab": {
          "base_uri": "https://localhost:8080/",
          "height": 322
        },
        "id": "fbeCkacblbtW",
        "outputId": "8a4e31ef-b7f8-4111-fcae-27c7c4357a6e"
      },
      "execution_count": null,
      "outputs": [
        {
          "output_type": "error",
          "ename": "ModuleNotFoundError",
          "evalue": "No module named 'qiskit_aer'",
          "traceback": [
            "\u001b[0;31m---------------------------------------------------------------------------\u001b[0m",
            "\u001b[0;31mModuleNotFoundError\u001b[0m                       Traceback (most recent call last)",
            "\u001b[0;32m<ipython-input-4-cfe9ab132201>\u001b[0m in \u001b[0;36m<cell line: 1>\u001b[0;34m()\u001b[0m\n\u001b[0;32m----> 1\u001b[0;31m \u001b[0;32mfrom\u001b[0m \u001b[0mqiskit_aer\u001b[0m \u001b[0;32mimport\u001b[0m \u001b[0mAerSimulator\u001b[0m\u001b[0;34m\u001b[0m\u001b[0;34m\u001b[0m\u001b[0m\n\u001b[0m",
            "\u001b[0;31mModuleNotFoundError\u001b[0m: No module named 'qiskit_aer'",
            "",
            "\u001b[0;31m---------------------------------------------------------------------------\u001b[0;32m\nNOTE: If your import is failing due to a missing package, you can\nmanually install dependencies using either !pip or !apt.\n\nTo view examples of installing some common dependencies, click the\n\"Open Examples\" button below.\n\u001b[0;31m---------------------------------------------------------------------------\u001b[0m\n"
          ],
          "errorDetails": {
            "actions": [
              {
                "action": "open_url",
                "actionText": "Open Examples",
                "url": "/notebooks/snippets/importing_libraries.ipynb"
              }
            ]
          }
        }
      ]
    },
    {
      "cell_type": "code",
      "source": [
        "!pip install qiskit_aer"
      ],
      "metadata": {
        "colab": {
          "base_uri": "https://localhost:8080/"
        },
        "id": "5iUlnih8lz2R",
        "outputId": "28c597f7-3c28-4400-a385-0059cbae141e"
      },
      "execution_count": null,
      "outputs": [
        {
          "output_type": "stream",
          "name": "stdout",
          "text": [
            "Collecting qiskit_aer\n",
            "  Downloading qiskit_aer-0.15.1-cp310-cp310-manylinux_2_17_x86_64.manylinux2014_x86_64.whl.metadata (8.0 kB)\n",
            "Requirement already satisfied: qiskit>=1.1.0 in /usr/local/lib/python3.10/dist-packages (from qiskit_aer) (1.2.4)\n",
            "Requirement already satisfied: numpy>=1.16.3 in /usr/local/lib/python3.10/dist-packages (from qiskit_aer) (1.26.4)\n",
            "Requirement already satisfied: scipy>=1.0 in /usr/local/lib/python3.10/dist-packages (from qiskit_aer) (1.13.1)\n",
            "Requirement already satisfied: psutil>=5 in /usr/local/lib/python3.10/dist-packages (from qiskit_aer) (5.9.5)\n",
            "Requirement already satisfied: rustworkx>=0.15.0 in /usr/local/lib/python3.10/dist-packages (from qiskit>=1.1.0->qiskit_aer) (0.15.1)\n",
            "Requirement already satisfied: sympy>=1.3 in /usr/local/lib/python3.10/dist-packages (from qiskit>=1.1.0->qiskit_aer) (1.12.1)\n",
            "Requirement already satisfied: dill>=0.3 in /usr/local/lib/python3.10/dist-packages (from qiskit>=1.1.0->qiskit_aer) (0.3.9)\n",
            "Requirement already satisfied: python-dateutil>=2.8.0 in /usr/local/lib/python3.10/dist-packages (from qiskit>=1.1.0->qiskit_aer) (2.8.2)\n",
            "Requirement already satisfied: stevedore>=3.0.0 in /usr/local/lib/python3.10/dist-packages (from qiskit>=1.1.0->qiskit_aer) (5.3.0)\n",
            "Requirement already satisfied: typing-extensions in /usr/local/lib/python3.10/dist-packages (from qiskit>=1.1.0->qiskit_aer) (4.12.2)\n",
            "Requirement already satisfied: symengine<0.14,>=0.11 in /usr/local/lib/python3.10/dist-packages (from qiskit>=1.1.0->qiskit_aer) (0.13.0)\n",
            "Requirement already satisfied: six>=1.5 in /usr/local/lib/python3.10/dist-packages (from python-dateutil>=2.8.0->qiskit>=1.1.0->qiskit_aer) (1.16.0)\n",
            "Requirement already satisfied: pbr>=2.0.0 in /usr/local/lib/python3.10/dist-packages (from stevedore>=3.0.0->qiskit>=1.1.0->qiskit_aer) (6.1.0)\n",
            "Requirement already satisfied: mpmath<1.4.0,>=1.1.0 in /usr/local/lib/python3.10/dist-packages (from sympy>=1.3->qiskit>=1.1.0->qiskit_aer) (1.3.0)\n",
            "Downloading qiskit_aer-0.15.1-cp310-cp310-manylinux_2_17_x86_64.manylinux2014_x86_64.whl (12.3 MB)\n",
            "\u001b[2K   \u001b[90m━━━━━━━━━━━━━━━━━━━━━━━━━━━━━━━━━━━━━━━━\u001b[0m \u001b[32m12.3/12.3 MB\u001b[0m \u001b[31m61.1 MB/s\u001b[0m eta \u001b[36m0:00:00\u001b[0m\n",
            "\u001b[?25hInstalling collected packages: qiskit_aer\n",
            "Successfully installed qiskit_aer-0.15.1\n"
          ]
        }
      ]
    },
    {
      "cell_type": "code",
      "source": [
        "from qiskit_aer import AerSimulator"
      ],
      "metadata": {
        "id": "sShH2LUel6Fy"
      },
      "execution_count": null,
      "outputs": []
    },
    {
      "cell_type": "code",
      "source": [
        "from qiskit.quantum_info import Operator\n"
      ],
      "metadata": {
        "id": "XA0Hu7iVnl_2"
      },
      "execution_count": null,
      "outputs": []
    },
    {
      "cell_type": "code",
      "source": [
        "qc = QuantumCircuit(2)\n",
        "qc.h(0)\n",
        "qc.h(1)\n",
        "\n",
        "phase_noise = 0.262\n",
        "qc.rz(phase_noise, 0)\n",
        "qc.rz(phase_noise, 1)\n",
        "\n",
        "qc.cx(0,1)\n",
        "# qc.x(0)\n",
        "# qc.cz(0,1)\n",
        "# qc.x(0)\n",
        "\n",
        "qc.h(0)\n",
        "qc.h(1)\n",
        "\n",
        "qc.h(0) # contribution from PS\n",
        "qc.z(0)\n",
        "qc.h(1) # contribution from PS\n",
        "qc.z(1)\n",
        "\n",
        "qc.cx(0,1)\n",
        "#qc.cz(0,1)\n",
        "\n",
        "qc.h(0)\n",
        "qc.h(1)\n",
        "\n",
        "qc.measure_all()\n",
        "# qc.h(0)\n",
        "# qc.z(1)\n",
        "# #qc.h(1)\n",
        "# #qc.h(1)\n",
        "# qc.cx(0,1)\n",
        "# qc.measure_all()\n",
        "\n",
        "qc.draw('mpl')\n",
        "#qc.draw()\n",
        "#qc.save_statevector()"
      ],
      "metadata": {
        "colab": {
          "base_uri": "https://localhost:8080/",
          "height": 255
        },
        "id": "KcUlX2Shl_5b",
        "outputId": "50d3ca09-8124-4e88-a22e-9ec9c0d12900"
      },
      "execution_count": null,
      "outputs": [
        {
          "output_type": "execute_result",
          "data": {
            "text/plain": [
              "<Figure size 1082.05x284.278 with 1 Axes>"
            ],
            "image/png": "[encoded data removed]"
          },
          "metadata": {},
          "execution_count": 160
        }
      ]
    },
    {
      "cell_type": "code",
      "source": [
        "qc_aer = transpile(qc, backend=AerSimulator())\n",
        "simulator_aer = AerSimulator()\n",
        "results = simulator_aer.run(qc_aer, shots=10000).result()\n",
        "counts=results.get_counts()\n",
        "print(counts)"
      ],
      "metadata": {
        "id": "yyh4Hjm2mLHO",
        "colab": {
          "base_uri": "https://localhost:8080/"
        },
        "outputId": "a9398d0a-8228-416d-bf24-e77829a34441"
      },
      "execution_count": null,
      "outputs": [
        {
          "output_type": "stream",
          "name": "stdout",
          "text": [
            "{'01': 1, '11': 165, '00': 156, '10': 9678}\n"
          ]
        }
      ]
    },
    {
      "cell_type": "code",
      "source": [
        "U_BS = (1/np.sqrt(2)) * np.array([[1, 1],\n",
        "                                  [1, -1]])\n",
        "bs_gate = Operator(U_BS)\n",
        "\n",
        "# Create a 2-qubit quantum circuit to represent the two paths (spatial modes)\n",
        "qc = QuantumCircuit(2)\n",
        "\n",
        "# Step 1: Apply the beamsplitter to create superposition of paths\n",
        "qc.unitary(bs_gate, [0, 1], label='BS')\n",
        "\n",
        "# Step 2: Apply Hadamard gates (or custom waveplate gates) to rotate polarization if needed\n",
        "qc.h(0)  # Simulating a waveplate rotation on qubit 0\n",
        "qc.x(1)  # Simulating a waveplate rotation on qubit 1\n",
        "\n",
        "# Step 3: Apply a CNOT gate to entangle the polarization states of the paths\n",
        "qc.cx(0, 1)\n",
        "\n",
        "qc.measure_all()\n",
        "\n",
        "# Display the circuit\n",
        "print(qc.draw('mpl'))"
      ],
      "metadata": {
        "colab": {
          "base_uri": "https://localhost:8080/"
        },
        "id": "FUh2ct1DbiQY",
        "outputId": "84608c67-70cc-4709-eb0b-de9283d68392"
      },
      "execution_count": null,
      "outputs": [
        {
          "output_type": "stream",
          "name": "stdout",
          "text": [
            "Figure(663.998x284.278)\n"
          ]
        }
      ]
    },
    {
      "cell_type": "markdown",
      "source": [],
      "metadata": {
        "id": "vVeKpmDQpO9d"
      }
    },
    {
      "cell_type": "code",
      "source": [
        "qc_aer = transpile(qc, backend=AerSimulator())\n",
        "simulator_aer = AerSimulator()\n",
        "results = simulator_aer.run(qc_aer, shots=10000).result()\n",
        "counts=results.get_counts()\n",
        "print(counts)"
      ],
      "metadata": {
        "colab": {
          "base_uri": "https://localhost:8080/"
        },
        "id": "kxIaKUpypPTx",
        "outputId": "56d065d5-a901-4339-89c1-9e1aed53ae40"
      },
      "execution_count": null,
      "outputs": [
        {
          "output_type": "stream",
          "name": "stdout",
          "text": [
            "{'00': 5009, '10': 4991}\n"
          ]
        }
      ]
    },
    {
      "cell_type": "code",
      "source": [
        "from qiskit.visualization import plot_histogram\n",
        "\n",
        "plot_histogram(counts)"
      ],
      "metadata": {
        "colab": {
          "base_uri": "https://localhost:8080/",
          "height": 437
        },
        "id": "KchwB1tym9UI",
        "outputId": "27545bf3-1acb-454d-a4d5-955d4e847680"
      },
      "execution_count": null,
      "outputs": [
        {
          "output_type": "execute_result",
          "data": {
            "text/plain": [
              "<Figure size 640x480 with 1 Axes>"
            ],
            "image/png": "[encoded data removed]"
          },
          "metadata": {},
          "execution_count": 90
        }
      ]
    },
    {
      "cell_type": "code",
      "source": [],
      "metadata": {
        "id": "eCxPByHsw706"
      },
      "execution_count": null,
      "outputs": []
    },
    {
      "cell_type": "code",
      "source": [
        "qc_aer = transpile(qc, backend=AerSimulator())\n",
        "simulator_aer = AerSimulator()\n",
        "results = simulator_aer.run(qc_aer, shots=1024).result()\n",
        "counts=results.get_counts()"
      ],
      "metadata": {
        "id": "Q74Ro-9OxIRO"
      },
      "execution_count": null,
      "outputs": []
    },
    {
      "cell_type": "code",
      "source": [
        "counts"
      ],
      "metadata": {
        "colab": {
          "base_uri": "https://localhost:8080/"
        },
        "id": "ae6Ow4PuxJKd",
        "outputId": "62aa2c88-5791-425c-e8ec-d560f1f52c41"
      },
      "execution_count": null,
      "outputs": [
        {
          "output_type": "execute_result",
          "data": {
            "text/plain": [
              "{'11': 1.0}"
            ]
          },
          "metadata": {},
          "execution_count": 58
        }
      ]
    },
    {
      "cell_type": "code",
      "source": [
        "# Define a custom subroutine for a black box operation\n",
        "def black_box_subroutine(qc, q0, q1):\n",
        "    qc.h(q0)  # Example operation (Hadamard)\n",
        "    qc.cx(q0, q1)  # Example operation (CNOT)\n",
        "    qc.rz(np.pi/4, q0)  # Example phase shift\n",
        "    qc.cz(q0, q1)  # Controlled-Z gate as part of the black box\n",
        "\n",
        "# Create a circuit and apply the subroutine\n",
        "qc = QuantumCircuit(2)\n",
        "black_box_subroutine(qc, 0, 1)\n",
        "\n",
        "# Draw the circuit with the custom black box operations\n",
        "qc.draw('mpl')\n"
      ],
      "metadata": {
        "colab": {
          "base_uri": "https://localhost:8080/",
          "height": 191
        },
        "id": "UPwRBEZ1guiK",
        "outputId": "280daa33-2051-48cc-9c05-c3d163292122"
      },
      "execution_count": null,
      "outputs": [
        {
          "output_type": "execute_result",
          "data": {
            "text/plain": [
              "<Figure size 454.517x200.667 with 1 Axes>"
            ],
            "image/png": "[encoded data removed]"
          },
          "metadata": {},
          "execution_count": 25
        }
      ]
    },
    {
      "cell_type": "code",
      "source": [
        "from qiskit.circuit import Gate\n",
        "\n",
        "# Create a black box circuit\n",
        "black_box_circuit = QuantumCircuit(2)\n",
        "black_box_subroutine(black_box_circuit, 0, 1)\n",
        "\n",
        "# Convert to a gate\n",
        "black_box_gate = black_box_circuit.to_gate(label='Black Box')\n",
        "\n",
        "# Apply in a larger circuit\n",
        "qc = QuantumCircuit(2)\n",
        "qc.append(black_box_gate, [0, 1])\n",
        "qc.h(0)\n",
        "qc.h(1)\n",
        "\n",
        "qc.cx(0,1)\n",
        "# qc.x(0)\n",
        "# qc.cz(0,1)\n",
        "# qc.x(0)\n",
        "\n",
        "qc.h(0)\n",
        "qc.h(1)\n",
        "\n",
        "qc.h(0) # contribution from PS\n",
        "qc.z(0)\n",
        "qc.h(1) # contribution from PS\n",
        "qc.z(1)\n",
        "\n",
        "qc.cx(0,1)\n",
        "#qc.cz(0,1)\n",
        "\n",
        "qc.h(0)\n",
        "qc.h(1)\n",
        "qc.measure_all()\n",
        "qc.draw('mpl')\n"
      ],
      "metadata": {
        "colab": {
          "base_uri": "https://localhost:8080/",
          "height": 255
        },
        "id": "XxtxQIZMg1bH",
        "outputId": "f699a9c3-1592-419b-d189-e32822f98038"
      },
      "execution_count": null,
      "outputs": [
        {
          "output_type": "execute_result",
          "data": {
            "text/plain": [
              "<Figure size 1165.66x284.278 with 1 Axes>"
            ],
            "image/png": "[encoded data removed]"
          },
          "metadata": {},
          "execution_count": 89
        }
      ]
    },
    {
      "cell_type": "code",
      "source": [
        "state_vector = results.get_statevector()"
      ],
      "metadata": {
        "id": "YWTcrGC1xJp0"
      },
      "execution_count": null,
      "outputs": []
    },
    {
      "cell_type": "code",
      "source": [
        "state_vector"
      ],
      "metadata": {
        "colab": {
          "base_uri": "https://localhost:8080/"
        },
        "id": "LGgV3SG6PxOp",
        "outputId": "207698fc-5275-464d-aee5-693883265ebc"
      },
      "execution_count": null,
      "outputs": [
        {
          "output_type": "stream",
          "name": "stdout",
          "text": [
            "Statevector([-0.5+0.j,  0.5+0.j,  0.5+0.j,  0.5+0.j],\n",
            "            dims=(2, 2))\n"
          ]
        }
      ]
    },
    {
      "cell_type": "code",
      "source": [
        "qc = QuantumCircuit(2)\n",
        "qc.h(0)\n",
        "qc.h(1)\n",
        "qc.save_statevector()"
      ],
      "metadata": {
        "colab": {
          "base_uri": "https://localhost:8080/"
        },
        "id": "DmUFzUeUQOxR",
        "outputId": "04f625d2-28ad-45cb-c1ed-4952e3c0be18"
      },
      "execution_count": null,
      "outputs": [
        {
          "output_type": "execute_result",
          "data": {
            "text/plain": [
              "<qiskit.circuit.instructionset.InstructionSet at 0x7b8a09942a70>"
            ]
          },
          "metadata": {},
          "execution_count": 15
        }
      ]
    },
    {
      "cell_type": "code",
      "source": [
        "qc_aer = transpile(qc, backend=AerSimulator())\n",
        "simulator_aer = AerSimulator()\n",
        "results = simulator_aer.run(qc_aer, shots=1024).result()\n",
        "state_vector = results.get_statevector()"
      ],
      "metadata": {
        "id": "g5pHY5x6Room"
      },
      "execution_count": null,
      "outputs": []
    },
    {
      "cell_type": "code",
      "source": [
        "state_vector"
      ],
      "metadata": {
        "colab": {
          "base_uri": "https://localhost:8080/"
        },
        "id": "LX_BNV2GRur7",
        "outputId": "f66bcea9-395a-4aa7-fe96-fd8337a21477"
      },
      "execution_count": null,
      "outputs": [
        {
          "output_type": "stream",
          "name": "stdout",
          "text": [
            "Statevector([0.5+0.j, 0.5+0.j, 0.5+0.j, 0.5+0.j],\n",
            "            dims=(2, 2))\n"
          ]
        }
      ]
    },
    {
      "cell_type": "code",
      "source": [
        "qc.h(0)\n",
        "\n",
        "qc.h(0)\n",
        "qc.h(1)\n",
        "\n",
        "qc.z(0)\n",
        "qc.z(1)\n",
        "\n",
        "qc.cz(0,1)\n",
        "\n",
        "qc.h(0)\n",
        "qc.h(1)\n",
        "\n",
        "qc.save_statevector()"
      ],
      "metadata": {
        "colab": {
          "base_uri": "https://localhost:8080/"
        },
        "id": "BSNmyh5-RvcO",
        "outputId": "ada423fe-0218-4e13-a735-c02ad7596c7b"
      },
      "execution_count": null,
      "outputs": [
        {
          "output_type": "execute_result",
          "data": {
            "text/plain": [
              "<qiskit.circuit.instructionset.InstructionSet at 0x7b8a09920040>"
            ]
          },
          "metadata": {},
          "execution_count": 18
        }
      ]
    },
    {
      "cell_type": "code",
      "source": [
        "qc_aer2 = transpile(qc, backend=AerSimulator())\n",
        "simulator_aer2 = AerSimulator()\n",
        "results = simulator_aer.run(qc_aer2, shots=1024).result()\n",
        "state_vector = results.get_statevector()"
      ],
      "metadata": {
        "colab": {
          "base_uri": "https://localhost:8080/",
          "height": 365
        },
        "id": "raelP--VR6zf",
        "outputId": "def7c5e6-3993-48c0-9cc5-b48e0ee9f0d0"
      },
      "execution_count": null,
      "outputs": [
        {
          "output_type": "stream",
          "name": "stderr",
          "text": [
            "WARNING:qiskit_aer.backends.aerbackend:Simulation failed and returned the following error message:\n",
            "ERROR: Failed to load circuits: Duplicate key \"statevector\" in save instruction.\n"
          ]
        },
        {
          "output_type": "error",
          "ename": "QiskitError",
          "evalue": "'You have to select a circuit or schedule when there is more than one available'",
          "traceback": [
            "\u001b[0;31m---------------------------------------------------------------------------\u001b[0m",
            "\u001b[0;31mQiskitError\u001b[0m                               Traceback (most recent call last)",
            "\u001b[0;32m<ipython-input-20-b1cd15616c66>\u001b[0m in \u001b[0;36m<cell line: 4>\u001b[0;34m()\u001b[0m\n\u001b[1;32m      2\u001b[0m \u001b[0msimulator_aer2\u001b[0m \u001b[0;34m=\u001b[0m \u001b[0mAerSimulator\u001b[0m\u001b[0;34m(\u001b[0m\u001b[0;34m)\u001b[0m\u001b[0;34m\u001b[0m\u001b[0;34m\u001b[0m\u001b[0m\n\u001b[1;32m      3\u001b[0m \u001b[0mresults\u001b[0m \u001b[0;34m=\u001b[0m \u001b[0msimulator_aer\u001b[0m\u001b[0;34m.\u001b[0m\u001b[0mrun\u001b[0m\u001b[0;34m(\u001b[0m\u001b[0mqc_aer2\u001b[0m\u001b[0;34m,\u001b[0m \u001b[0mshots\u001b[0m\u001b[0;34m=\u001b[0m\u001b[0;36m1024\u001b[0m\u001b[0;34m)\u001b[0m\u001b[0;34m.\u001b[0m\u001b[0mresult\u001b[0m\u001b[0;34m(\u001b[0m\u001b[0;34m)\u001b[0m\u001b[0;34m\u001b[0m\u001b[0;34m\u001b[0m\u001b[0m\n\u001b[0;32m----> 4\u001b[0;31m \u001b[0mstate_vector\u001b[0m \u001b[0;34m=\u001b[0m \u001b[0mresults\u001b[0m\u001b[0;34m.\u001b[0m\u001b[0mget_statevector\u001b[0m\u001b[0;34m(\u001b[0m\u001b[0;34m)\u001b[0m\u001b[0;34m\u001b[0m\u001b[0;34m\u001b[0m\u001b[0m\n\u001b[0m",
            "\u001b[0;32m/usr/local/lib/python3.10/dist-packages/qiskit/result/result.py\u001b[0m in \u001b[0;36mget_statevector\u001b[0;34m(self, experiment, decimals)\u001b[0m\n\u001b[1;32m    307\u001b[0m         \u001b[0;32mtry\u001b[0m\u001b[0;34m:\u001b[0m\u001b[0;34m\u001b[0m\u001b[0;34m\u001b[0m\u001b[0m\n\u001b[1;32m    308\u001b[0m             return postprocess.format_statevector(\n\u001b[0;32m--> 309\u001b[0;31m                 \u001b[0mself\u001b[0m\u001b[0;34m.\u001b[0m\u001b[0mdata\u001b[0m\u001b[0;34m(\u001b[0m\u001b[0mexperiment\u001b[0m\u001b[0;34m)\u001b[0m\u001b[0;34m[\u001b[0m\u001b[0;34m\"statevector\"\u001b[0m\u001b[0;34m]\u001b[0m\u001b[0;34m,\u001b[0m \u001b[0mdecimals\u001b[0m\u001b[0;34m=\u001b[0m\u001b[0mdecimals\u001b[0m\u001b[0;34m\u001b[0m\u001b[0;34m\u001b[0m\u001b[0m\n\u001b[0m\u001b[1;32m    310\u001b[0m             )\n\u001b[1;32m    311\u001b[0m         \u001b[0;32mexcept\u001b[0m \u001b[0mKeyError\u001b[0m \u001b[0;32mas\u001b[0m \u001b[0mex\u001b[0m\u001b[0;34m:\u001b[0m\u001b[0;34m\u001b[0m\u001b[0;34m\u001b[0m\u001b[0m\n",
            "\u001b[0;32m/usr/local/lib/python3.10/dist-packages/qiskit/result/result.py\u001b[0m in \u001b[0;36mdata\u001b[0;34m(self, experiment)\u001b[0m\n\u001b[1;32m    180\u001b[0m         \"\"\"\n\u001b[1;32m    181\u001b[0m         \u001b[0;32mtry\u001b[0m\u001b[0;34m:\u001b[0m\u001b[0;34m\u001b[0m\u001b[0;34m\u001b[0m\u001b[0m\n\u001b[0;32m--> 182\u001b[0;31m             \u001b[0;32mreturn\u001b[0m \u001b[0mself\u001b[0m\u001b[0;34m.\u001b[0m\u001b[0m_get_experiment\u001b[0m\u001b[0;34m(\u001b[0m\u001b[0mexperiment\u001b[0m\u001b[0;34m)\u001b[0m\u001b[0;34m.\u001b[0m\u001b[0mdata\u001b[0m\u001b[0;34m.\u001b[0m\u001b[0mto_dict\u001b[0m\u001b[0;34m(\u001b[0m\u001b[0;34m)\u001b[0m\u001b[0;34m\u001b[0m\u001b[0;34m\u001b[0m\u001b[0m\n\u001b[0m\u001b[1;32m    183\u001b[0m         \u001b[0;32mexcept\u001b[0m \u001b[0;34m(\u001b[0m\u001b[0mKeyError\u001b[0m\u001b[0;34m,\u001b[0m \u001b[0mTypeError\u001b[0m\u001b[0;34m)\u001b[0m \u001b[0;32mas\u001b[0m \u001b[0mex\u001b[0m\u001b[0;34m:\u001b[0m\u001b[0;34m\u001b[0m\u001b[0;34m\u001b[0m\u001b[0m\n\u001b[1;32m    184\u001b[0m             \u001b[0;32mraise\u001b[0m \u001b[0mQiskitError\u001b[0m\u001b[0;34m(\u001b[0m\u001b[0;34mf'No data for experiment \"{repr(experiment)}\"'\u001b[0m\u001b[0;34m)\u001b[0m \u001b[0;32mfrom\u001b[0m \u001b[0mex\u001b[0m\u001b[0;34m\u001b[0m\u001b[0;34m\u001b[0m\u001b[0m\n",
            "\u001b[0;32m/usr/local/lib/python3.10/dist-packages/qiskit/result/result.py\u001b[0m in \u001b[0;36m_get_experiment\u001b[0;34m(self, key)\u001b[0m\n\u001b[1;32m    350\u001b[0m         \u001b[0;32mif\u001b[0m \u001b[0mkey\u001b[0m \u001b[0;32mis\u001b[0m \u001b[0;32mNone\u001b[0m\u001b[0;34m:\u001b[0m\u001b[0;34m\u001b[0m\u001b[0;34m\u001b[0m\u001b[0m\n\u001b[1;32m    351\u001b[0m             \u001b[0;32mif\u001b[0m \u001b[0mlen\u001b[0m\u001b[0;34m(\u001b[0m\u001b[0mself\u001b[0m\u001b[0;34m.\u001b[0m\u001b[0mresults\u001b[0m\u001b[0;34m)\u001b[0m \u001b[0;34m!=\u001b[0m \u001b[0;36m1\u001b[0m\u001b[0;34m:\u001b[0m\u001b[0;34m\u001b[0m\u001b[0;34m\u001b[0m\u001b[0m\n\u001b[0;32m--> 352\u001b[0;31m                 raise QiskitError(\n\u001b[0m\u001b[1;32m    353\u001b[0m                     \u001b[0;34m\"You have to select a circuit or schedule when there is more than one available\"\u001b[0m\u001b[0;34m\u001b[0m\u001b[0;34m\u001b[0m\u001b[0m\n\u001b[1;32m    354\u001b[0m                 )\n",
            "\u001b[0;31mQiskitError\u001b[0m: 'You have to select a circuit or schedule when there is more than one available'"
          ]
        }
      ]
    },
    {
      "cell_type": "code",
      "source": [
        "qc = QuantumCircuit(2)\n",
        "qc.h(0)\n",
        "qc.h(1)\n",
        "\n",
        "#qc.cz(0,1)\n",
        "\n",
        "# qc.h(0)\n",
        "# qc.h(1)\n",
        "# qc.z(0)\n",
        "# qc.z(1)\n",
        "# qc.cz(0,1)\n",
        "# qc.h(0)\n",
        "# qc.h(1)\n",
        "qc.save_statevector()"
      ],
      "metadata": {
        "colab": {
          "base_uri": "https://localhost:8080/"
        },
        "id": "mUrwKKUIR9P6",
        "outputId": "c3b76194-d09e-44db-d952-d0241f5ff0c6"
      },
      "execution_count": null,
      "outputs": [
        {
          "output_type": "execute_result",
          "data": {
            "text/plain": [
              "<qiskit.circuit.instructionset.InstructionSet at 0x7c8367341fc0>"
            ]
          },
          "metadata": {},
          "execution_count": 8
        }
      ]
    },
    {
      "cell_type": "code",
      "source": [
        "qc_aer2 = transpile(qc, backend=AerSimulator())\n",
        "simulator_aer2 = AerSimulator()\n",
        "results = simulator_aer2.run(qc_aer2, shots=1024).result()\n",
        "state_vector = results.get_statevector()\n",
        "counts = results.get_counts()"
      ],
      "metadata": {
        "id": "e-1ZBQhFSWS1"
      },
      "execution_count": null,
      "outputs": []
    },
    {
      "cell_type": "code",
      "source": [
        "counts"
      ],
      "metadata": {
        "id": "eGNGa_MQSYD-",
        "outputId": "a15f3618-4afd-4c77-e014-a9c117f549d4",
        "colab": {
          "base_uri": "https://localhost:8080/"
        }
      },
      "execution_count": null,
      "outputs": [
        {
          "output_type": "execute_result",
          "data": {
            "text/plain": [
              "{'00': 0.25, '01': 0.25, '10': 0.25, '11': 0.25}"
            ]
          },
          "metadata": {},
          "execution_count": 11
        }
      ]
    },
    {
      "cell_type": "code",
      "source": [
        "Statevector([0.5+0.j, 0.5+0.j, 0.5+0.j, 0.5+0.j],\n",
        "            dims=(2, 2))\n",
        "\n",
        "Statevector([1.96261557e-16+1.23259516e-32j,\n",
        "             2.22044605e-16-6.12323400e-17j,\n",
        "             1.96261557e-16-6.12323400e-17j,\n",
        "             1.00000000e+00+1.22464680e-16j],\n",
        "            dims=(2, 2))\n"
      ],
      "metadata": {
        "id": "3rZYg0TMSYxQ",
        "colab": {
          "base_uri": "https://localhost:8080/",
          "height": 216
        },
        "outputId": "2f795fd9-eba0-486f-8da3-8bf7e934c146"
      },
      "execution_count": null,
      "outputs": [
        {
          "output_type": "error",
          "ename": "NameError",
          "evalue": "name 'Statevector' is not defined",
          "traceback": [
            "\u001b[0;31m---------------------------------------------------------------------------\u001b[0m",
            "\u001b[0;31mNameError\u001b[0m                                 Traceback (most recent call last)",
            "\u001b[0;32m<ipython-input-23-42fd5c2e1beb>\u001b[0m in \u001b[0;36m<cell line: 1>\u001b[0;34m()\u001b[0m\n\u001b[0;32m----> 1\u001b[0;31m Statevector([0.5+0.j, 0.5+0.j, 0.5+0.j, 0.5+0.j],\n\u001b[0m\u001b[1;32m      2\u001b[0m             dims=(2, 2))\n\u001b[1;32m      3\u001b[0m \u001b[0;34m\u001b[0m\u001b[0m\n\u001b[1;32m      4\u001b[0m Statevector([1.96261557e-16+1.23259516e-32j,\n\u001b[1;32m      5\u001b[0m              \u001b[0;36m2.22044605e-16\u001b[0m\u001b[0;34m-\u001b[0m\u001b[0;36m6.12323400e-17j\u001b[0m\u001b[0;34m,\u001b[0m\u001b[0;34m\u001b[0m\u001b[0;34m\u001b[0m\u001b[0m\n",
            "\u001b[0;31mNameError\u001b[0m: name 'Statevector' is not defined"
          ]
        }
      ]
    },
    {
      "cell_type": "code",
      "source": [
        "initial_amplitudes = [0.5+0.j, 0.5+0.j, 0.5+0.j, 0.5+0.j]\n",
        "final_amplitudes = [0.5+0.j, 0.5+0.j, 0.5+0.j, 0.5+0.j]\n",
        "\n",
        "average_amplitude = sum(initial_amplitudes) / len(initial_amplitudes)\n",
        "print(\"Average Initial Amplitude:\", average_amplitude)\n",
        "\n",
        "# Compare initial and final amplitudes to check the flip\n",
        "for i in range(len(initial_amplitudes)):\n",
        "    flipped_amplitude = 2 * average_amplitude - initial_amplitudes[i]\n",
        "    print(f\"State |{i:02b}>: Initial = {initial_amplitudes[i]}, Expected Final = {flipped_amplitude}, Actual Final = {final_amplitudes[i]}\")\n"
      ],
      "metadata": {
        "colab": {
          "base_uri": "https://localhost:8080/"
        },
        "id": "GixzC9b__7uS",
        "outputId": "c3523d55-fd56-403e-aae9-d479efd58533"
      },
      "execution_count": null,
      "outputs": [
        {
          "output_type": "stream",
          "name": "stdout",
          "text": [
            "Average Initial Amplitude: (0.5+0j)\n",
            "State |00>: Initial = (0.5+0j), Expected Final = (0.5+0j), Actual Final = (0.5+0j)\n",
            "State |01>: Initial = (0.5+0j), Expected Final = (0.5+0j), Actual Final = (0.5+0j)\n",
            "State |10>: Initial = (0.5+0j), Expected Final = (0.5+0j), Actual Final = (0.5+0j)\n",
            "State |11>: Initial = (0.5+0j), Expected Final = (0.5+0j), Actual Final = (0.5+0j)\n"
          ]
        }
      ]
    },
    {
      "cell_type": "code",
      "source": [
        "import perceval as pcvl\n",
        "import numpy as np\n",
        "import matplotlib.pyplot as plt\n",
        "from perceval.components import catalog, Processor, BS\n",
        "from perceval.components.source import Source\n",
        "from perceval.algorithm import ProcessTomography\n",
        "from perceval.algorithm.tomography import is_physical, process_fidelity\n",
        "from perceval.algorithm import ProcessTomographyMLE, StateTomographyMLE\n",
        "\n",
        "cnot = catalog[\"heralded cnot\"].build_processor()\n",
        "pcvl.pdisplay(cnot, recursive=True)"
      ],
      "metadata": {
        "id": "-tJ223tRAZot",
        "colab": {
          "base_uri": "https://localhost:8080/",
          "height": 427
        },
        "outputId": "54314e98-47f1-4f20-f718-9f3424835de6"
      },
      "execution_count": null,
      "outputs": [
        {
          "output_type": "execute_result",
          "data": {
            "text/plain": [
              "<drawsvg.drawing.Drawing at 0x7a9b4f786950>"
            ],
            "image/svg+xml": "<?xml version=\"1.0\" encoding=\"UTF-8\"?>\n<svg xmlns=\"http://www.w3.org/2000/svg\" xmlns:xlink=\"http://www.w3.org/1999/xlink\"\n     width=\"928.75\" height=\"406.25\" viewBox=\"-48.0 0 743.0 325.0\">\n<defs>\n</defs>\n<path d=\"M10,25.0 L25,25.0\" stroke-width=\"3\" stroke=\"darkred\" stroke-linejoin=\"miter\" fill=\"none\" />\n<path d=\"M10,75.0 L25,75.0\" stroke-width=\"3\" stroke=\"darkred\" stroke-linejoin=\"miter\" fill=\"none\" />\n<path d=\"M10,125.0 L25,125.0\" stroke-width=\"3\" stroke=\"darkred\" stroke-linejoin=\"miter\" fill=\"none\" />\n<path d=\"M10,175.0 L25,175.0\" stroke-width=\"3\" stroke=\"darkred\" stroke-linejoin=\"miter\" fill=\"none\" />\n<path d=\"M27,2 L623,2 L623,298 L27,298 Z\" stroke=\"black\" fill=\"lightblue\" stroke-dasharray=\"1,2\" stroke-linejoin=\"miter\" />\n<text x=\"29\" y=\"305\" font-size=\"8\" text-anchor=\"start\">HERALDED CNOT</text>\n<path d=\"M25,125 L53,125 L72,144\" stroke=\"darkred\" stroke-width=\"3\" fill=\"none\" />\n<path d=\"M78,144 L97,125 L125,125\" stroke=\"darkred\" stroke-width=\"3\" fill=\"none\" />\n<path d=\"M25,175 L53,175 L72,156\" stroke=\"darkred\" stroke-width=\"3\" fill=\"none\" />\n<path d=\"M78,156 L97,175 L125,175\" stroke=\"darkred\" stroke-width=\"3\" fill=\"none\" />\n<path d=\"M50,143 L100,143 L100,157 L50,157 Z\" stroke=\"black\" fill=\"black\" stroke-linejoin=\"miter\" />\n<text x=\"75\" y=\"185\" font-size=\"7\" text-anchor=\"middle\"></text>\n<text x=\"75\" y=\"126\" font-size=\"7\" text-anchor=\"middle\"></text>\n<path d=\"M50,143 L100,143 L100,147 L50,147 Z\" stroke=\"black\" fill=\"lightgray\" stroke-linejoin=\"miter\" />\n<path d=\"M93,150 L103,150 L103,160 L93,160 Z\" stroke=\"black\" fill=\"aquamarine\" stroke-linejoin=\"miter\" />\n<text x=\"98\" y=\"157\" font-size=\"6\" text-anchor=\"middle\">H</text>\n<path d=\"M25,75.0 L125,75.0\" stroke=\"darkred\" stroke-width=\"3\" fill=\"none\" />\n<path d=\"M128,75 L172,125\" stroke=\"white\" stroke-width=\"6\" fill=\"none\" />\n<path d=\"M125,75 L128,75 L172,125 L175,125\" stroke=\"darkred\" stroke-width=\"3\" fill=\"none\" />\n<path d=\"M128,125 L172,75\" stroke=\"white\" stroke-width=\"6\" fill=\"none\" />\n<path d=\"M125,125 L128,125 L172,75 L175,75\" stroke=\"darkred\" stroke-width=\"3\" fill=\"none\" />\n<path d=\"M175,125 L225,125\" stroke=\"darkred\" stroke-width=\"3\" fill=\"none\" />\n<path d=\"M180,140 L189,140 L203,110 L194,110 L180,140 L189,140 Z\" stroke=\"black\" fill=\"gray\" stroke-linejoin=\"miter\" />\n<text x=\"197\" y=\"138\" font-size=\"7\" text-anchor=\"start\">Φ=pi</text>\n<path d=\"M175,275 L225,275\" stroke=\"darkred\" stroke-width=\"3\" fill=\"none\" />\n<path d=\"M180,290 L189,290 L203,260 L194,260 L180,290 L189,290 Z\" stroke=\"black\" fill=\"gray\" stroke-linejoin=\"miter\" />\n<text x=\"197\" y=\"288\" font-size=\"7\" text-anchor=\"start\">Φ=pi</text>\n<path d=\"M125,175.0 L175,175.0\" stroke=\"darkred\" stroke-width=\"3\" fill=\"none\" />\n<path d=\"M178,175 L222,225\" stroke=\"white\" stroke-width=\"6\" fill=\"none\" />\n<path d=\"M175,175 L178,175 L222,225 L225,225\" stroke=\"darkred\" stroke-width=\"3\" fill=\"none\" />\n<path d=\"M225,125 L253,125 L272,144\" stroke=\"darkred\" stroke-width=\"3\" fill=\"none\" />\n<path d=\"M278,144 L297,125 L325,125\" stroke=\"darkred\" stroke-width=\"3\" fill=\"none\" />\n<path d=\"M225,175 L253,175 L272,156\" stroke=\"darkred\" stroke-width=\"3\" fill=\"none\" />\n<path d=\"M278,156 L297,175 L325,175\" stroke=\"darkred\" stroke-width=\"3\" fill=\"none\" />\n<path d=\"M250,143 L300,143 L300,157 L250,157 Z\" stroke=\"black\" fill=\"black\" stroke-linejoin=\"miter\" />\n<text x=\"275\" y=\"180\" font-size=\"7\" text-anchor=\"middle\"></text>\n<text x=\"275\" y=\"126\" font-size=\"7\" text-anchor=\"middle\">Θ=1.910633</text>\n<path d=\"M250,143 L300,143 L300,147 L250,147 Z\" stroke=\"black\" fill=\"lightgray\" stroke-linejoin=\"miter\" />\n<path d=\"M293,150 L303,150 L303,160 L293,160 Z\" stroke=\"black\" fill=\"aquamarine\" stroke-linejoin=\"miter\" />\n<text x=\"298\" y=\"157\" font-size=\"6\" text-anchor=\"middle\">H</text>\n<path d=\"M225,225 L253,225 L272,244\" stroke=\"darkred\" stroke-width=\"3\" fill=\"none\" />\n<path d=\"M278,244 L297,225 L325,225\" stroke=\"darkred\" stroke-width=\"3\" fill=\"none\" />\n<path d=\"M225,275 L253,275 L272,256\" stroke=\"darkred\" stroke-width=\"3\" fill=\"none\" />\n<path d=\"M278,256 L297,275 L325,275\" stroke=\"darkred\" stroke-width=\"3\" fill=\"none\" />\n<path d=\"M250,243 L300,243 L300,257 L250,257 Z\" stroke=\"black\" fill=\"black\" stroke-linejoin=\"miter\" />\n<text x=\"275\" y=\"280\" font-size=\"7\" text-anchor=\"middle\"></text>\n<text x=\"275\" y=\"226\" font-size=\"7\" text-anchor=\"middle\">Θ=1.910633</text>\n<path d=\"M250,243 L300,243 L300,247 L250,247 Z\" stroke=\"black\" fill=\"lightgray\" stroke-linejoin=\"miter\" />\n<path d=\"M293,250 L303,250 L303,260 L293,260 Z\" stroke=\"black\" fill=\"aquamarine\" stroke-linejoin=\"miter\" />\n<text x=\"298\" y=\"257\" font-size=\"6\" text-anchor=\"middle\">H</text>\n<path d=\"M328,175 L372,225\" stroke=\"white\" stroke-width=\"6\" fill=\"none\" />\n<path d=\"M325,175 L328,175 L372,225 L375,225\" stroke=\"darkred\" stroke-width=\"3\" fill=\"none\" />\n<path d=\"M328,225 L372,175\" stroke=\"white\" stroke-width=\"6\" fill=\"none\" />\n<path d=\"M325,225 L328,225 L372,175 L375,175\" stroke=\"darkred\" stroke-width=\"3\" fill=\"none\" />\n<path d=\"M325,125.0 L375,125.0\" stroke=\"darkred\" stroke-width=\"3\" fill=\"none\" />\n<path d=\"M375,125 L403,125 L422,144\" stroke=\"darkred\" stroke-width=\"3\" fill=\"none\" />\n<path d=\"M428,144 L447,125 L475,125\" stroke=\"darkred\" stroke-width=\"3\" fill=\"none\" />\n<path d=\"M375,175 L403,175 L422,156\" stroke=\"darkred\" stroke-width=\"3\" fill=\"none\" />\n<path d=\"M428,156 L447,175 L475,175\" stroke=\"darkred\" stroke-width=\"3\" fill=\"none\" />\n<path d=\"M400,143 L450,143 L450,157 L400,157 Z\" stroke=\"black\" fill=\"black\" stroke-linejoin=\"miter\" />\n<text x=\"425\" y=\"180\" font-size=\"7\" text-anchor=\"middle\"></text>\n<text x=\"425\" y=\"126\" font-size=\"7\" text-anchor=\"middle\">Θ=10.655737</text>\n<path d=\"M400,143 L450,143 L450,147 L400,147 Z\" stroke=\"black\" fill=\"lightgray\" stroke-linejoin=\"miter\" />\n<path d=\"M443,150 L453,150 L453,160 L443,160 Z\" stroke=\"black\" fill=\"aquamarine\" stroke-linejoin=\"miter\" />\n<text x=\"448\" y=\"157\" font-size=\"6\" text-anchor=\"middle\">H</text>\n<path d=\"M325,275.0 L375,275.0\" stroke=\"darkred\" stroke-width=\"3\" fill=\"none\" />\n<path d=\"M375,225 L403,225 L422,244\" stroke=\"darkred\" stroke-width=\"3\" fill=\"none\" />\n<path d=\"M428,244 L447,225 L475,225\" stroke=\"darkred\" stroke-width=\"3\" fill=\"none\" />\n<path d=\"M375,275 L403,275 L422,256\" stroke=\"darkred\" stroke-width=\"3\" fill=\"none\" />\n<path d=\"M428,256 L447,275 L475,275\" stroke=\"darkred\" stroke-width=\"3\" fill=\"none\" />\n<path d=\"M400,243 L450,243 L450,257 L400,257 Z\" stroke=\"black\" fill=\"black\" stroke-linejoin=\"miter\" />\n<text x=\"425\" y=\"280\" font-size=\"7\" text-anchor=\"middle\"></text>\n<text x=\"425\" y=\"226\" font-size=\"7\" text-anchor=\"middle\">Θ=0.61548</text>\n<path d=\"M400,243 L450,243 L450,247 L400,247 Z\" stroke=\"black\" fill=\"lightgray\" stroke-linejoin=\"miter\" />\n<path d=\"M443,250 L453,250 L453,260 L443,260 Z\" stroke=\"black\" fill=\"aquamarine\" stroke-linejoin=\"miter\" />\n<text x=\"448\" y=\"257\" font-size=\"6\" text-anchor=\"middle\">H</text>\n<path d=\"M175,75.0 L475,75.0\" stroke=\"darkred\" stroke-width=\"3\" fill=\"none\" />\n<path d=\"M478,75 L522,125\" stroke=\"white\" stroke-width=\"6\" fill=\"none\" />\n<path d=\"M475,75 L478,75 L522,125 L525,125\" stroke=\"darkred\" stroke-width=\"3\" fill=\"none\" />\n<path d=\"M478,125 L522,75\" stroke=\"white\" stroke-width=\"6\" fill=\"none\" />\n<path d=\"M475,125 L478,125 L522,75 L525,75\" stroke=\"darkred\" stroke-width=\"3\" fill=\"none\" />\n<path d=\"M475,175.0 L525,175.0\" stroke=\"darkred\" stroke-width=\"3\" fill=\"none\" />\n<path d=\"M525,125 L553,125 L572,144\" stroke=\"darkred\" stroke-width=\"3\" fill=\"none\" />\n<path d=\"M578,144 L597,125 L625,125\" stroke=\"darkred\" stroke-width=\"3\" fill=\"none\" />\n<path d=\"M525,175 L553,175 L572,156\" stroke=\"darkred\" stroke-width=\"3\" fill=\"none\" />\n<path d=\"M578,156 L597,175 L625,175\" stroke=\"darkred\" stroke-width=\"3\" fill=\"none\" />\n<path d=\"M550,143 L600,143 L600,157 L550,157 Z\" stroke=\"black\" fill=\"black\" stroke-linejoin=\"miter\" />\n<text x=\"575\" y=\"185\" font-size=\"7\" text-anchor=\"middle\"></text>\n<text x=\"575\" y=\"126\" font-size=\"7\" text-anchor=\"middle\"></text>\n<path d=\"M550,143 L600,143 L600,147 L550,147 Z\" stroke=\"black\" fill=\"lightgray\" stroke-linejoin=\"miter\" />\n<path d=\"M593,150 L603,150 L603,160 L593,160 Z\" stroke=\"black\" fill=\"aquamarine\" stroke-linejoin=\"miter\" />\n<text x=\"598\" y=\"157\" font-size=\"6\" text-anchor=\"middle\">H</text>\n<path d=\"M25,25.0 L625,25.0\" stroke=\"darkred\" stroke-width=\"3\" fill=\"none\" />\n<path d=\"M525,75.0 L625,75.0\" stroke=\"darkred\" stroke-width=\"3\" fill=\"none\" />\n<path d=\"M625,25.0 L640,25.0\" stroke-width=\"3\" stroke=\"darkred\" stroke-linejoin=\"miter\" fill=\"none\" />\n<path d=\"M625,75.0 L640,75.0\" stroke-width=\"3\" stroke=\"darkred\" stroke-linejoin=\"miter\" fill=\"none\" />\n<path d=\"M625,125.0 L640,125.0\" stroke-width=\"3\" stroke=\"darkred\" stroke-linejoin=\"miter\" fill=\"none\" />\n<path d=\"M625,175.0 L640,175.0\" stroke-width=\"3\" stroke=\"darkred\" stroke-linejoin=\"miter\" fill=\"none\" />\n<path d=\"M-2,15 L10,15 L10,85 L-2,85 Z\" stroke=\"black\" fill=\"lightgray\" stroke-linejoin=\"miter\" />\n<text x=\"4\" y=\"27\" font-size=\"7\" text-anchor=\"middle\">0</text>\n<text x=\"4\" y=\"77\" font-size=\"7\" text-anchor=\"middle\">1</text>\n<text x=\"-2\" y=\"91\" font-size=\"6\" text-anchor=\"start\" font-style=\"italic\">[ctrl]</text>\n<path d=\"M-2,115 L10,115 L10,185 L-2,185 Z\" stroke=\"black\" fill=\"lightgray\" stroke-linejoin=\"miter\" />\n<text x=\"4\" y=\"127\" font-size=\"7\" text-anchor=\"middle\">2</text>\n<text x=\"4\" y=\"177\" font-size=\"7\" text-anchor=\"middle\">3</text>\n<text x=\"-2\" y=\"191\" font-size=\"6\" text-anchor=\"start\" font-style=\"italic\">[data]</text>\n<path d=\"M207,175 C207,175,207,165,217,165 L225,165 L225,185 L217,185 C207,185,207,175,207,175 L207,175\" stroke-width=\"1\" stroke=\"black\" stroke-linejoin=\"miter\" fill=\"white\" />\n<text x=\"213\" y=\"191\" font-size=\"6\" text-anchor=\"middle\" font-style=\"italic\">[herald0]</text>\n<text x=\"217\" y=\"178\" font-size=\"7\" text-anchor=\"middle\">1</text>\n<path d=\"M157,275 C157,275,157,265,167,265 L175,265 L175,285 L167,285 C157,285,157,275,157,275 L157,275\" stroke-width=\"1\" stroke=\"black\" stroke-linejoin=\"miter\" fill=\"white\" />\n<text x=\"163\" y=\"291\" font-size=\"6\" text-anchor=\"middle\" font-style=\"italic\">[herald1]</text>\n<text x=\"167\" y=\"278\" font-size=\"7\" text-anchor=\"middle\">1</text>\n<path d=\"M640,15 L652,15 L652,85 L640,85 Z\" stroke=\"black\" fill=\"lightgray\" stroke-linejoin=\"miter\" />\n<text x=\"646\" y=\"27\" font-size=\"7\" text-anchor=\"middle\">0</text>\n<text x=\"646\" y=\"77\" font-size=\"7\" text-anchor=\"middle\">1</text>\n<text x=\"652\" y=\"91\" font-size=\"6\" text-anchor=\"end\" font-style=\"italic\">[ctrl]</text>\n<path d=\"M640,115 L652,115 L652,185 L640,185 Z\" stroke=\"black\" fill=\"lightgray\" stroke-linejoin=\"miter\" />\n<text x=\"646\" y=\"127\" font-size=\"7\" text-anchor=\"middle\">2</text>\n<text x=\"646\" y=\"177\" font-size=\"7\" text-anchor=\"middle\">3</text>\n<text x=\"652\" y=\"191\" font-size=\"6\" text-anchor=\"end\" font-style=\"italic\">[data]</text>\n<path d=\"M483,235 L475,235 L475,215 L483,215 C483,215,493,215,493,225 C493,235,483,235,483,235 L483,235\" stroke-width=\"1\" stroke=\"black\" stroke-linejoin=\"miter\" fill=\"white\" />\n<text x=\"488\" y=\"211\" font-size=\"6\" text-anchor=\"middle\" font-style=\"italic\">[herald0]</text>\n<text x=\"483\" y=\"228\" font-size=\"7\" text-anchor=\"middle\">1</text>\n<path d=\"M483,285 L475,285 L475,265 L483,265 C483,265,493,265,493,275 C493,285,483,285,483,285 L483,285\" stroke-width=\"1\" stroke=\"black\" stroke-linejoin=\"miter\" fill=\"white\" />\n<text x=\"488\" y=\"261\" font-size=\"6\" text-anchor=\"middle\" font-style=\"italic\">[herald1]</text>\n<text x=\"483\" y=\"278\" font-size=\"7\" text-anchor=\"middle\">1</text>\n</svg>"
          },
          "metadata": {},
          "execution_count": 16
        }
      ]
    },
    {
      "cell_type": "code",
      "source": [
        "processor = pcvl.Processor(\"SLOS\", mzi)\n",
        "processor.add_port(0, Port(Encoding.DUAL_RAIL, 'port1'))\n",
        "processor.add_port(2, Port(Encoding.DUAL_RAIL, 'port2'))"
      ],
      "metadata": {
        "colab": {
          "base_uri": "https://localhost:8080/"
        },
        "id": "ri-G-XYMYC_H",
        "outputId": "10568331-d19c-428b-e544-d314ab40dfa1"
      },
      "execution_count": null,
      "outputs": [
        {
          "output_type": "execute_result",
          "data": {
            "text/plain": [
              "<perceval.components.processor.Processor at 0x7e247ab42620>"
            ]
          },
          "metadata": {},
          "execution_count": 135
        }
      ]
    },
    {
      "cell_type": "code",
      "source": [
        "input_state = pcvl.BasicState(\"|0,1,1,0>\")\n",
        "processor.with_input(input_state)\n",
        "sampler = pcvl.algorithm.Sampler(processor)\n",
        "sample_count = sampler.sample_count(10000)"
      ],
      "metadata": {
        "id": "yAmi2BkaYLdJ"
      },
      "execution_count": null,
      "outputs": []
    },
    {
      "cell_type": "code",
      "source": [
        "print(sample_count['results'])"
      ],
      "metadata": {
        "colab": {
          "base_uri": "https://localhost:8080/"
        },
        "id": "JCI4KCLsYyDy",
        "outputId": "4225a594-f1e3-422f-f71e-0eeb55a3e898"
      },
      "execution_count": null,
      "outputs": [
        {
          "output_type": "stream",
          "name": "stdout",
          "text": [
            "{\n",
            "  |0,1,1,0>: 10000\n",
            "}\n"
          ]
        }
      ]
    },
    {
      "cell_type": "code",
      "source": [
        "|"
      ],
      "metadata": {
        "id": "K5iKWgqFY3hN"
      },
      "execution_count": null,
      "outputs": []
    },
    {
      "cell_type": "code",
      "source": [
        "qc = QuantumCircuit(2)\n",
        "qc.h(0)\n",
        "qc.h(1)\n",
        "\n",
        "qc.cx(0,1)\n",
        "# qc.x(0)\n",
        "# qc.cz(0,1)\n",
        "# qc.x(0)\n",
        "\n",
        "qc.h(0)\n",
        "qc.h(1)\n",
        "\n",
        "qc.h(0) # contribution from PS\n",
        "qc.z(0)\n",
        "qc.h(1) # contribution from PS\n",
        "qc.z(1)\n",
        "\n",
        "qc.cx(0,1)\n",
        "#qc.cz(0,1)\n",
        "\n",
        "qc.h(0)\n",
        "qc.h(1)\n",
        "qc.measure_all()"
      ],
      "metadata": {
        "id": "GRjBI4s2Hlib"
      },
      "execution_count": null,
      "outputs": []
    },
    {
      "cell_type": "code",
      "source": [
        "def create_grovers_with_noise(phase_noise):\n",
        "    # Initialize a 2-qubit circuit\n",
        "    qc = QuantumCircuit(2, 2)\n",
        "\n",
        "    # Add phase noise as a phase shift to each qubit\n",
        "    qc.h(0)\n",
        "    qc.h(1)\n",
        "\n",
        "    qc.rz(phase_noise, 0)\n",
        "    qc.rz(phase_noise, 1)\n",
        "\n",
        "    qc.cx(0,1)\n",
        "    # qc.x(0)\n",
        "    # qc.cz(0,1)\n",
        "    # qc.x(0)\n",
        "\n",
        "    qc.h(0)\n",
        "    qc.h(1)\n",
        "\n",
        "    qc.h(0) # contribution from PS\n",
        "    qc.z(0)\n",
        "    qc.h(1) # contribution from PS\n",
        "    qc.z(1)\n",
        "\n",
        "    qc.cx(0,1)\n",
        "    #qc.cz(0,1)\n",
        "\n",
        "    qc.h(0)\n",
        "    qc.h(1)\n",
        "\n",
        "    # Measure the qubits\n",
        "    qc.measure([0, 1], [0, 1])\n",
        "    return qc"
      ],
      "metadata": {
        "id": "QZifk_ZgHmnZ"
      },
      "execution_count": null,
      "outputs": []
    },
    {
      "cell_type": "code",
      "source": [
        "def simulate_circuit_with_noise(phase_noise, shots=10000):\n",
        "  qc = create_grovers_with_noise(phase_noise)\n",
        "  qc_aer = transpile(qc, backend=AerSimulator())\n",
        "  simulator_aer = AerSimulator()\n",
        "  results = simulator_aer.run(qc_aer, shots=shots).result()\n",
        "  counts=results.get_counts()\n",
        "  return counts"
      ],
      "metadata": {
        "id": "Vg0WYoqhH7aN"
      },
      "execution_count": null,
      "outputs": []
    },
    {
      "cell_type": "code",
      "source": [
        "noise_levels = np.linspace(0, np.pi/6, 50)  # Noise levels from 0 to pi/6\n",
        "results = []\n",
        "\n",
        "for noise in noise_levels:\n",
        "    counts = simulate_circuit_with_noise(phase_noise=noise)\n",
        "    marked_count = counts.get('10', 0)\n",
        "    accuracy = marked_count / 10000  # Normalize to get accuracy\n",
        "    results.append((noise, accuracy))\n",
        "\n",
        "# Prepare the data for ML training\n",
        "X = np.array([x[0] for x in results]).reshape(-1, 1)  # Noise levels\n",
        "y = np.array([x[1] for x in results])  # Accuracy"
      ],
      "metadata": {
        "id": "HaMQVWfDIQ69"
      },
      "execution_count": null,
      "outputs": []
    },
    {
      "cell_type": "code",
      "source": [
        "from sklearn.model_selection import train_test_split\n",
        "from sklearn.linear_model import LinearRegression\n",
        "from sklearn.metrics import mean_squared_error, r2_score\n",
        "\n",
        "# Split the data into training and testing sets\n",
        "X_train, X_test, y_train, y_test = train_test_split(X, y, test_size=0.2, random_state=42)\n",
        "\n",
        "# Train a linear regression model\n",
        "model = LinearRegression()\n",
        "model.fit(X_train, y_train)\n",
        "\n",
        "# Predict on the test set\n",
        "y_pred = model.predict(X_test)\n",
        "\n",
        "# Evaluate the model\n",
        "mse = mean_squared_error(y_test, y_pred)\n",
        "r2 = r2_score(y_test, y_pred)\n",
        "\n",
        "print(\"Mean Squared Error:\", mse)\n",
        "print(\"R-squared:\", r2)\n",
        "\n",
        "# Predict accuracy for a new noise level\n",
        "new_noise_level = np.pi / 16\n",
        "predicted_accuracy = model.predict([[new_noise_level]])\n",
        "print(f\"Predicted accuracy for noise level {new_noise_level:.3f}: {predicted_accuracy[0]:.3f}\")\n"
      ],
      "metadata": {
        "colab": {
          "base_uri": "https://localhost:8080/"
        },
        "id": "HMjA64D0IU4l",
        "outputId": "93c4547f-8157-4142-9885-f993d95aa997"
      },
      "execution_count": null,
      "outputs": [
        {
          "output_type": "stream",
          "name": "stdout",
          "text": [
            "Mean Squared Error: 0.00010861377671559174\n",
            "R-squared: 0.9211875452674467\n",
            "Predicted accuracy for noise level 0.196: 0.971\n"
          ]
        }
      ]
    },
    {
      "cell_type": "code",
      "source": [
        "import matplotlib.pyplot as plt\n",
        "\n",
        "# Plot the true vs predicted values\n",
        "plt.scatter(X_test, y_test, color='blue', label='True values')\n",
        "plt.scatter(X_test, y_pred, color='red', label='Predicted values')\n",
        "plt.xlabel('Phase Noise (radians)')\n",
        "plt.ylabel('Accuracy')\n",
        "plt.title('Regression Model for Predicting Grover\\'s Algorithm Accuracy')\n",
        "plt.legend()\n",
        "plt.show()\n"
      ],
      "metadata": {
        "colab": {
          "base_uri": "https://localhost:8080/",
          "height": 472
        },
        "id": "USK7eI48I-Tl",
        "outputId": "63f1683e-cc45-48d6-aa66-99d657deffd3"
      },
      "execution_count": null,
      "outputs": [
        {
          "output_type": "display_data",
          "data": {
            "text/plain": [
              "<Figure size 640x480 with 1 Axes>"
            ],
            "image/png": "[encoded data removed]"
          },
          "metadata": {}
        }
      ]
    },
    {
      "cell_type": "code",
      "source": [
        "def create_grovers_with_noise(phase_noise):\n",
        "  mzi = (pcvl.Circuit(4)\n",
        "        .add(1, comp.BS().H())\n",
        "\n",
        "        .add(0, comp.PS(phase_noise))\n",
        "        .add(1, comp.PS(phase_noise))\n",
        "\n",
        "        .add(1, comp.WP(delta=delta1, xsi=xsi1)) # oracle marking\n",
        "        .add(1, comp.WP(delta=delta1, xsi=xsi1)) # oracle marking\n",
        "\n",
        "        .add(1, comp.BS().H())\n",
        "        .add(0, comp.PBS())\n",
        "        .add(2, comp.PBS())\n",
        "\n",
        "        .add(1, comp.WP(delta=delta1, xsi=xsi1))\n",
        "        .add(2, comp.WP(delta=delta1, xsi=xsi1))\n",
        "\n",
        "        .add(1, comp.PS(np.pi))\n",
        "        .add(2, comp.PS(np.pi))\n",
        "\n",
        "        .add(1, comp.BS().H())\n",
        "        .add(0, comp.PBS())\n",
        "        .add(2, comp.PBS())\n",
        "\n",
        "        .add(1, comp.WP(delta=delta1, xsi=xsi1))\n",
        "        .add(2, comp.WP(delta=delta1, xsi=xsi1)))\n",
        "  return mzi\n"
      ],
      "metadata": {
        "id": "gj28TTOpJEBC"
      },
      "execution_count": null,
      "outputs": []
    },
    {
      "cell_type": "code",
      "source": [
        "def simulate_circuit_with_noise(phase_noise, shots=10000):\n",
        "  mzi = create_grovers_with_noise(phase_noise)\n",
        "  processor = pcvl.Processor(\"SLOS\", mzi)\n",
        "  processor.add_port(0, Port(Encoding.DUAL_RAIL, 'port1'))\n",
        "  processor.add_port(2, Port(Encoding.DUAL_RAIL, 'port2'))\n",
        "  input_state = pcvl.BasicState(\"|0,1,0,0>\")\n",
        "  processor.with_input(input_state)\n",
        "  sampler = pcvl.algorithm.Sampler(processor)\n",
        "  sample_count = sampler.sample_count(10000)\n",
        "  counts = sample_count['results']\n",
        "  return counts"
      ],
      "metadata": {
        "id": "dGZcP1fbLjkk"
      },
      "execution_count": null,
      "outputs": []
    },
    {
      "cell_type": "code",
      "source": [
        "counts = simulate_circuit_with_noise(0.10942)\n",
        "# print(list(dict(results).keys())[0])\n",
        "# print(dict(results)['|0,0,1,0>'])\n",
        "new_dict = {}\n",
        "keys = [\"|1,0,0,0>\", \"|0,1,0,0>\", \"|0,0,1,0>\", \"|0,0,0,1>\"]\n",
        "for i, key in enumerate(list(dict(counts).keys())):\n",
        "  new_dict[str(key)] = list(dict(counts).values())[i]\n",
        "print(new_dict)\n",
        "print(new_dict[\"|0,0,1,0>\"])"
      ],
      "metadata": {
        "colab": {
          "base_uri": "https://localhost:8080/"
        },
        "id": "b8D_MhZFL-Jm",
        "outputId": "99ab784c-9cde-4e28-d4e6-f0e018bda755"
      },
      "execution_count": null,
      "outputs": [
        {
          "output_type": "stream",
          "name": "stdout",
          "text": [
            "{'|0,1,0,0>': 21, '|0,0,1,0>': 9979}\n",
            "9979\n"
          ]
        }
      ]
    },
    {
      "cell_type": "code",
      "source": [
        "noise_levels = np.linspace(0, np.pi/6, 50)  # Noise levels from 0 to pi/6\n",
        "results = []\n",
        "\n",
        "for noise in noise_levels:\n",
        "    counts = simulate_circuit_with_noise(phase_noise=noise)\n",
        "    new_dict = {}\n",
        "    for i, key in enumerate(list(dict(counts).keys())):\n",
        "      new_dict[str(key)] = list(dict(counts).values())[i]\n",
        "\n",
        "    marked_count = new_dict.get('|0,0,1,0>', 0)\n",
        "    accuracy = marked_count / 10000  # Normalize to get accuracy\n",
        "    results.append((noise, accuracy))\n",
        "\n",
        "# Prepare the data for ML training\n",
        "X = np.array([x[0] for x in results]).reshape(-1, 1)  # Noise levels\n",
        "y = np.array([x[1] for x in results])  # Accuracy"
      ],
      "metadata": {
        "id": "QsD5Kn7LMDRb"
      },
      "execution_count": null,
      "outputs": []
    },
    {
      "cell_type": "code",
      "source": [
        "from sklearn.model_selection import train_test_split\n",
        "from sklearn.linear_model import LinearRegression\n",
        "from sklearn.metrics import mean_squared_error, r2_score\n",
        "\n",
        "# Split the data into training and testing sets\n",
        "X_train, X_test, y_train, y_test = train_test_split(X, y, test_size=0.2, random_state=42)\n",
        "\n",
        "# Train a linear regression model\n",
        "model = LinearRegression()\n",
        "model.fit(X_train, y_train)\n",
        "\n",
        "# Predict on the test set\n",
        "y_pred = model.predict(X_test)\n",
        "\n",
        "# Evaluate the model\n",
        "mse = mean_squared_error(y_test, y_pred)\n",
        "r2 = r2_score(y_test, y_pred)\n",
        "\n",
        "print(\"Mean Squared Error:\", mse)\n",
        "print(\"R-squared:\", r2)\n",
        "\n",
        "# Predict accuracy for a new noise level\n",
        "new_noise_level = np.pi / 16\n",
        "predicted_accuracy = model.predict([[new_noise_level]])\n",
        "print(f\"Predicted accuracy for noise level {new_noise_level:.3f}: {predicted_accuracy[0]:.3f}\")\n"
      ],
      "metadata": {
        "colab": {
          "base_uri": "https://localhost:8080/"
        },
        "id": "7EqNtsJEOxsN",
        "outputId": "05b57134-8d6d-448e-87f8-e22a90583c03"
      },
      "execution_count": null,
      "outputs": [
        {
          "output_type": "stream",
          "name": "stdout",
          "text": [
            "Mean Squared Error: 3.695181926295046e-05\n",
            "R-squared: 0.9036208370543324\n",
            "Predicted accuracy for noise level 0.196: 0.985\n"
          ]
        }
      ]
    },
    {
      "cell_type": "code",
      "source": [
        "params = list(np.random.uniform(0, np.pi, size=400))  # 20 qubits"
      ],
      "metadata": {
        "id": "iowPRRh0qsol"
      },
      "execution_count": null,
      "outputs": []
    },
    {
      "cell_type": "code",
      "source": [
        "# First Layer of RY gates\n",
        "qc = QuantumCircuit(20)\n",
        "num_qubits = 20\n",
        "\n",
        "for qubit in range(num_qubits):\n",
        "    qc.ry(params[qubit], qubit)\n",
        "\n",
        "qc.cx(19, 0)\n",
        "\n",
        "for qubit in range(num_qubits - 1):\n",
        "    qc.cx(qubit, qubit + 1)\n",
        "\n",
        "for qubit in range(num_qubits):\n",
        "    qc.ry(params[num_qubits + qubit], qubit)\n",
        "\n",
        "\n",
        "for qubit in reversed(range(num_qubits)):\n",
        "    qc.cx(qubit - 1, qubit)\n",
        "\n",
        "# qc.measure_all()\n",
        "\n",
        "# Print the circuit\n",
        "qc.draw('mpl')"
      ],
      "metadata": {
        "id": "ztkSfAYeO4lH",
        "colab": {
          "base_uri": "https://localhost:8080/",
          "height": 1000
        },
        "outputId": "10f2b60e-d05e-4a7a-c0eb-70082b730e20"
      },
      "execution_count": null,
      "outputs": [
        {
          "output_type": "execute_result",
          "data": {
            "text/plain": [
              "<Figure size 2228.78x3461.5 with 1 Axes>"
            ],
            "image/png": "[encoded data removed]"
          },
          "metadata": {},
          "execution_count": 13
        }
      ]
    },
    {
      "cell_type": "code",
      "source": [
        "#for row in big_list:\n",
        "  # Given list of 372 elements (example values from 1 to 372)\n",
        "elements = [2, 2, 2, 1, 2, 2, 0, 0, 0, 0, 0, 2]\n",
        "\n",
        "# Initialize a 20x20 matrix filled with -1\n",
        "matrix = np.full((4, 4), -1)\n",
        "\n",
        "# Fill the matrix with the given elements\n",
        "matrix.flat[:len(elements)] = elements\n",
        "\n",
        "# Convert to a list of lists\n",
        "grid = matrix.tolist()\n",
        "\n",
        "# Print the matrix (optional)\n",
        "for row in grid:\n",
        "    print(row)"
      ],
      "metadata": {
        "colab": {
          "base_uri": "https://localhost:8080/"
        },
        "id": "V6vknihH2t0u",
        "outputId": "dbc0d90b-5b8c-4e60-aed7-eb6069bd57de"
      },
      "execution_count": null,
      "outputs": [
        {
          "output_type": "stream",
          "name": "stdout",
          "text": [
            "[2, 2, 2, 1]\n",
            "[2, 2, 0, 0]\n",
            "[0, 0, 0, 2]\n",
            "[-1, -1, -1, -1]\n"
          ]
        }
      ]
    },
    {
      "cell_type": "code",
      "source": [
        "def get_theta(n):\n",
        "  return (n+1) * np.pi/3"
      ],
      "metadata": {
        "id": "hCqe7JJX21vu"
      },
      "execution_count": null,
      "outputs": []
    },
    {
      "cell_type": "code",
      "source": [
        "dim = 4\n",
        "qc = QuantumCircuit(dim)\n",
        "\n",
        "for i in range(dim):\n",
        "  for j in range(dim):\n",
        "    theta = get_theta(grid[i][j])\n",
        "    if j == 0:\n",
        "      qc.h(i)\n",
        "    if grid[i][j] == -1:\n",
        "      qc.id(i)\n",
        "    elif j % 2 == 0:\n",
        "      qc.rx(theta, i)\n",
        "    elif j % 2 == 1:\n",
        "      qc.rz(theta, i)"
      ],
      "metadata": {
        "id": "KFiRPjYoqrIz"
      },
      "execution_count": null,
      "outputs": []
    },
    {
      "cell_type": "code",
      "source": [
        "qc.draw('mpl')"
      ],
      "metadata": {
        "colab": {
          "base_uri": "https://localhost:8080/",
          "height": 320
        },
        "id": "QkRczYBr20pt",
        "outputId": "70420b9b-da7e-4c4b-9bc7-884ad9f496e5"
      },
      "execution_count": null,
      "outputs": [
        {
          "output_type": "execute_result",
          "data": {
            "text/plain": [
              "<Figure size 538.33x367.889 with 1 Axes>"
            ],
            "image/png": "[encoded data removed]"
          },
          "metadata": {},
          "execution_count": 28
        }
      ]
    },
    {
      "cell_type": "code",
      "source": [],
      "metadata": {
        "id": "IhxZiujD2vL-"
      },
      "execution_count": null,
      "outputs": []
    }
  ]
}