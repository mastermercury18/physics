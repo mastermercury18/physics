{
  "nbformat": 4,
  "nbformat_minor": 0,
  "metadata": {
    "colab": {
      "provenance": [],
      "collapsed_sections": [
        "RGNVXnRsVJPw",
        "Xu1OQeRKkHUy",
        "aiSc_I7Boja9",
        "oe_LzgWLdCZL"
      ],
      "toc_visible": true
    },
    "kernelspec": {
      "name": "python3",
      "display_name": "Python 3"
    },
    "language_info": {
      "name": "python"
    }
  },
  "cells": [
    {
      "cell_type": "markdown",
      "metadata": {
        "id": "EN-xuGnTAFTS"
      },
      "source": [
        "# **Lab 10: Ιmplementing BB84 - Part II**\n",
        "---\n",
        "\n",
        "### **Description**\n",
        "In today's lab, we will explore the role of Eve in BB84.\n",
        "\n",
        "<br>\n",
        "\n",
        "### **Structure**\n",
        "**Part 1**: [Alice and Bob](#p1)\n",
        "\n",
        "**Part 2**: [Alice, Bob, and Eve's Measurement Attack](#p2)\n",
        "\n",
        "**Part 3**: [Alice, Bob, and Eve's Intercept and Resent Attack](#p3)\n",
        "\n",
        "**Part 4**: [Alice, Bob, and Eve's Entanglement Attack](#p4)\n",
        "\n",
        "\n",
        "\n",
        "<br>\n",
        "\n",
        "### **Learning Objectives**\n",
        "By the end of this lab, you will:\n",
        "\n",
        "* Recognize how to implement BB84 in cirq, particularly including a measurement attack by Eve.\n",
        "\n",
        "* Recognize how to adjust Eve’s attack in BB84 in cirq.\n",
        "\n",
        "<br>\n",
        "\n",
        "### **Resources**\n",
        "* [BB84 Cheat Sheet](https://docs.google.com/document/d/1FTBVWQsRVPvuP5e4lo3D62F0NOyfA1qIIPrDnocV6nc/edit)\n",
        "\n",
        "<br>\n",
        "\n",
        "**Before starting, run the code below to import all necessary functions and libraries.**"
      ]
    },
    {
      "cell_type": "code",
      "execution_count": null,
      "metadata": {
        "id": "K96jXNozAFTW",
        "colab": {
          "base_uri": "https://localhost:8080/"
        },
        "outputId": "5b667803-33f0-4396-9bdc-ef7669e11807"
      },
      "outputs": [
        {
          "output_type": "stream",
          "name": "stdout",
          "text": [
            "\u001b[2K     \u001b[90m━━━━━━━━━━━━━━━━━━━━━━━━━━━━━━━━━━━━━━━━\u001b[0m \u001b[32m1.8/1.8 MB\u001b[0m \u001b[31m10.7 MB/s\u001b[0m eta \u001b[36m0:00:00\u001b[0m\n",
            "\u001b[2K     \u001b[90m━━━━━━━━━━━━━━━━━━━━━━━━━━━━━━━━━━━━━━━━\u001b[0m \u001b[32m143.1/143.1 kB\u001b[0m \u001b[31m13.3 MB/s\u001b[0m eta \u001b[36m0:00:00\u001b[0m\n",
            "\u001b[2K     \u001b[90m━━━━━━━━━━━━━━━━━━━━━━━━━━━━━━━━━━━━━━━━\u001b[0m \u001b[32m598.8/598.8 kB\u001b[0m \u001b[31m18.4 MB/s\u001b[0m eta \u001b[36m0:00:00\u001b[0m\n",
            "\u001b[2K     \u001b[90m━━━━━━━━━━━━━━━━━━━━━━━━━━━━━━━━━━━━━━━━\u001b[0m \u001b[32m60.9/60.9 kB\u001b[0m \u001b[31m8.0 MB/s\u001b[0m eta \u001b[36m0:00:00\u001b[0m\n",
            "\u001b[2K     \u001b[90m━━━━━━━━━━━━━━━━━━━━━━━━━━━━━━━━━━━━━━━━\u001b[0m \u001b[32m66.2/66.2 kB\u001b[0m \u001b[31m8.5 MB/s\u001b[0m eta \u001b[36m0:00:00\u001b[0m\n",
            "\u001b[2K     \u001b[90m━━━━━━━━━━━━━━━━━━━━━━━━━━━━━━━━━━━━━━━━\u001b[0m \u001b[32m596.5/596.5 kB\u001b[0m \u001b[31m20.5 MB/s\u001b[0m eta \u001b[36m0:00:00\u001b[0m\n",
            "\u001b[2K     \u001b[90m━━━━━━━━━━━━━━━━━━━━━━━━━━━━━━━━━━━━━━━━\u001b[0m \u001b[32m223.8/223.8 kB\u001b[0m \u001b[31m15.0 MB/s\u001b[0m eta \u001b[36m0:00:00\u001b[0m\n",
            "\u001b[2K     \u001b[90m━━━━━━━━━━━━━━━━━━━━━━━━━━━━━━━━━━━━━━━━\u001b[0m \u001b[32m229.9/229.9 kB\u001b[0m \u001b[31m20.4 MB/s\u001b[0m eta \u001b[36m0:00:00\u001b[0m\n",
            "\u001b[?25h  Preparing metadata (setup.py) ... \u001b[?25l\u001b[?25hdone\n",
            "\u001b[2K     \u001b[90m━━━━━━━━━━━━━━━━━━━━━━━━━━━━━━━━━━━━━━━━\u001b[0m \u001b[32m151.7/151.7 kB\u001b[0m \u001b[31m18.0 MB/s\u001b[0m eta \u001b[36m0:00:00\u001b[0m\n",
            "\u001b[2K     \u001b[90m━━━━━━━━━━━━━━━━━━━━━━━━━━━━━━━━━━━━━━━━\u001b[0m \u001b[32m45.6/45.6 kB\u001b[0m \u001b[31m6.0 MB/s\u001b[0m eta \u001b[36m0:00:00\u001b[0m\n",
            "\u001b[?25h  Preparing metadata (setup.py) ... \u001b[?25l\u001b[?25hdone\n",
            "\u001b[2K     \u001b[90m━━━━━━━━━━━━━━━━━━━━━━━━━━━━━━━━━━━━━━━━\u001b[0m \u001b[32m1.6/1.6 MB\u001b[0m \u001b[31m28.0 MB/s\u001b[0m eta \u001b[36m0:00:00\u001b[0m\n",
            "\u001b[2K     \u001b[90m━━━━━━━━━━━━━━━━━━━━━━━━━━━━━━━━━━━━━━━━\u001b[0m \u001b[32m151.7/151.7 kB\u001b[0m \u001b[31m19.8 MB/s\u001b[0m eta \u001b[36m0:00:00\u001b[0m\n",
            "\u001b[2K     \u001b[90m━━━━━━━━━━━━━━━━━━━━━━━━━━━━━━━━━━━━━━━━\u001b[0m \u001b[32m151.7/151.7 kB\u001b[0m \u001b[31m19.0 MB/s\u001b[0m eta \u001b[36m0:00:00\u001b[0m\n",
            "\u001b[2K     \u001b[90m━━━━━━━━━━━━━━━━━━━━━━━━━━━━━━━━━━━━━━━━\u001b[0m \u001b[32m147.4/147.4 kB\u001b[0m \u001b[31m19.8 MB/s\u001b[0m eta \u001b[36m0:00:00\u001b[0m\n",
            "\u001b[2K     \u001b[90m━━━━━━━━━━━━━━━━━━━━━━━━━━━━━━━━━━━━━━━━\u001b[0m \u001b[32m147.4/147.4 kB\u001b[0m \u001b[31m19.5 MB/s\u001b[0m eta \u001b[36m0:00:00\u001b[0m\n",
            "\u001b[2K     \u001b[90m━━━━━━━━━━━━━━━━━━━━━━━━━━━━━━━━━━━━━━━━\u001b[0m \u001b[32m147.4/147.4 kB\u001b[0m \u001b[31m13.1 MB/s\u001b[0m eta \u001b[36m0:00:00\u001b[0m\n",
            "\u001b[2K     \u001b[90m━━━━━━━━━━━━━━━━━━━━━━━━━━━━━━━━━━━━━━━━\u001b[0m \u001b[32m142.7/142.7 kB\u001b[0m \u001b[31m19.3 MB/s\u001b[0m eta \u001b[36m0:00:00\u001b[0m\n",
            "\u001b[2K     \u001b[90m━━━━━━━━━━━━━━━━━━━━━━━━━━━━━━━━━━━━━━━━\u001b[0m \u001b[32m84.7/84.7 kB\u001b[0m \u001b[31m11.5 MB/s\u001b[0m eta \u001b[36m0:00:00\u001b[0m\n",
            "\u001b[2K     \u001b[90m━━━━━━━━━━━━━━━━━━━━━━━━━━━━━━━━━━━━━━━━\u001b[0m \u001b[32m83.6/83.6 kB\u001b[0m \u001b[31m10.5 MB/s\u001b[0m eta \u001b[36m0:00:00\u001b[0m\n",
            "\u001b[2K     \u001b[90m━━━━━━━━━━━━━━━━━━━━━━━━━━━━━━━━━━━━━━━━\u001b[0m \u001b[32m83.3/83.3 kB\u001b[0m \u001b[31m10.7 MB/s\u001b[0m eta \u001b[36m0:00:00\u001b[0m\n",
            "\u001b[2K     \u001b[90m━━━━━━━━━━━━━━━━━━━━━━━━━━━━━━━━━━━━━━━━\u001b[0m \u001b[32m83.4/83.4 kB\u001b[0m \u001b[31m11.8 MB/s\u001b[0m eta \u001b[36m0:00:00\u001b[0m\n",
            "\u001b[2K     \u001b[90m━━━━━━━━━━━━━━━━━━━━━━━━━━━━━━━━━━━━━━━━\u001b[0m \u001b[32m83.2/83.2 kB\u001b[0m \u001b[31m12.0 MB/s\u001b[0m eta \u001b[36m0:00:00\u001b[0m\n",
            "\u001b[2K     \u001b[90m━━━━━━━━━━━━━━━━━━━━━━━━━━━━━━━━━━━━━━━━\u001b[0m \u001b[32m82.5/82.5 kB\u001b[0m \u001b[31m11.1 MB/s\u001b[0m eta \u001b[36m0:00:00\u001b[0m\n",
            "\u001b[2K     \u001b[90m━━━━━━━━━━━━━━━━━━━━━━━━━━━━━━━━━━━━━━━━\u001b[0m \u001b[32m81.0/81.0 kB\u001b[0m \u001b[31m10.8 MB/s\u001b[0m eta \u001b[36m0:00:00\u001b[0m\n",
            "\u001b[2K     \u001b[90m━━━━━━━━━━━━━━━━━━━━━━━━━━━━━━━━━━━━━━━━\u001b[0m \u001b[32m81.0/81.0 kB\u001b[0m \u001b[31m11.9 MB/s\u001b[0m eta \u001b[36m0:00:00\u001b[0m\n",
            "\u001b[2K     \u001b[90m━━━━━━━━━━━━━━━━━━━━━━━━━━━━━━━━━━━━━━━━\u001b[0m \u001b[32m80.8/80.8 kB\u001b[0m \u001b[31m10.9 MB/s\u001b[0m eta \u001b[36m0:00:00\u001b[0m\n",
            "\u001b[2K     \u001b[90m━━━━━━━━━━━━━━━━━━━━━━━━━━━━━━━━━━━━━━━━\u001b[0m \u001b[32m80.7/80.7 kB\u001b[0m \u001b[31m7.9 MB/s\u001b[0m eta \u001b[36m0:00:00\u001b[0m\n",
            "\u001b[2K     \u001b[90m━━━━━━━━━━━━━━━━━━━━━━━━━━━━━━━━━━━━━━━━\u001b[0m \u001b[32m81.5/81.5 kB\u001b[0m \u001b[31m9.2 MB/s\u001b[0m eta \u001b[36m0:00:00\u001b[0m\n",
            "\u001b[2K     \u001b[90m━━━━━━━━━━━━━━━━━━━━━━━━━━━━━━━━━━━━━━━━\u001b[0m \u001b[32m90.4/90.4 kB\u001b[0m \u001b[31m12.4 MB/s\u001b[0m eta \u001b[36m0:00:00\u001b[0m\n",
            "\u001b[2K     \u001b[90m━━━━━━━━━━━━━━━━━━━━━━━━━━━━━━━━━━━━━━━━\u001b[0m \u001b[32m117.7/117.7 kB\u001b[0m \u001b[31m15.1 MB/s\u001b[0m eta \u001b[36m0:00:00\u001b[0m\n",
            "\u001b[2K     \u001b[90m━━━━━━━━━━━━━━━━━━━━━━━━━━━━━━━━━━━━━━━━\u001b[0m \u001b[32m60.6/60.6 kB\u001b[0m \u001b[31m7.6 MB/s\u001b[0m eta \u001b[36m0:00:00\u001b[0m\n",
            "\u001b[2K     \u001b[90m━━━━━━━━━━━━━━━━━━━━━━━━━━━━━━━━━━━━━━━━\u001b[0m \u001b[32m71.5/71.5 kB\u001b[0m \u001b[31m9.4 MB/s\u001b[0m eta \u001b[36m0:00:00\u001b[0m\n",
            "\u001b[2K     \u001b[90m━━━━━━━━━━━━━━━━━━━━━━━━━━━━━━━━━━━━━━━━\u001b[0m \u001b[32m1.7/1.7 MB\u001b[0m \u001b[31m32.8 MB/s\u001b[0m eta \u001b[36m0:00:00\u001b[0m\n",
            "\u001b[2K     \u001b[90m━━━━━━━━━━━━━━━━━━━━━━━━━━━━━━━━━━━━━━━━\u001b[0m \u001b[32m116.4/116.4 kB\u001b[0m \u001b[31m15.4 MB/s\u001b[0m eta \u001b[36m0:00:00\u001b[0m\n",
            "\u001b[2K     \u001b[90m━━━━━━━━━━━━━━━━━━━━━━━━━━━━━━━━━━━━━━━━\u001b[0m \u001b[32m69.6/69.6 kB\u001b[0m \u001b[31m8.1 MB/s\u001b[0m eta \u001b[36m0:00:00\u001b[0m\n",
            "\u001b[2K     \u001b[90m━━━━━━━━━━━━━━━━━━━━━━━━━━━━━━━━━━━━━━━━\u001b[0m \u001b[32m526.7/526.7 kB\u001b[0m \u001b[31m30.4 MB/s\u001b[0m eta \u001b[36m0:00:00\u001b[0m\n",
            "\u001b[2K     \u001b[90m━━━━━━━━━━━━━━━━━━━━━━━━━━━━━━━━━━━━━━━━\u001b[0m \u001b[32m58.3/58.3 kB\u001b[0m \u001b[31m8.9 MB/s\u001b[0m eta \u001b[36m0:00:00\u001b[0m\n",
            "\u001b[?25h  Building wheel for lark (setup.py) ... \u001b[?25l\u001b[?25hdone\n",
            "  Building wheel for rpcq (setup.py) ... \u001b[?25l\u001b[?25hdone\n",
            "\u001b[31mERROR: pip's dependency resolver does not currently take into account all the packages that are installed. This behaviour is the source of the following dependency conflicts.\n",
            "lida 0.0.10 requires fastapi, which is not installed.\n",
            "lida 0.0.10 requires kaleido, which is not installed.\n",
            "lida 0.0.10 requires python-multipart, which is not installed.\n",
            "lida 0.0.10 requires uvicorn, which is not installed.\n",
            "referencing 0.31.1 requires attrs>=22.2.0, but you have attrs 21.4.0 which is incompatible.\u001b[0m\u001b[31m\n",
            "\u001b[0m"
          ]
        }
      ],
      "source": [
        "!pip install cirq --quiet\n",
        "import cirq\n",
        "from random import choices\n",
        "import binascii"
      ]
    },
    {
      "cell_type": "markdown",
      "source": [
        "<a name=\"p1\"></a>\n",
        "\n",
        "---\n",
        "## **Part 1: Alice and Bob**\n",
        "---\n",
        "\n",
        "The entire BB84 protocol between Alice and Bob is implemented below."
      ],
      "metadata": {
        "id": "MiiuFV_ZRkY-"
      }
    },
    {
      "cell_type": "markdown",
      "source": [
        "---\n",
        "### **Part 1.1: Setup**\n",
        "---"
      ],
      "metadata": {
        "id": "w2DDlHS-4wAO"
      }
    },
    {
      "cell_type": "markdown",
      "source": [
        "#### **Problem #1.1.1**\n",
        "\n",
        "**Together**, let's define a dictionary called `encode_gates` that specify which gates to apply based on the bit value. Then, let's define a dictionary called `basis_gates` that specify which gates to apply based on the basis. Finally, let's create a list of `NamedQubit`s that is `num_bits` long and has the prefix `q`."
      ],
      "metadata": {
        "id": "BYgRaiSIhTVN"
      }
    },
    {
      "cell_type": "code",
      "source": [
        "encode_gates = {0: cirq.I, 1: cirq.X}\n",
        "basis_gates = {'Z': cirq.I, 'X': cirq.H}\n",
        "\n",
        "num_bits = 10\n",
        "qubits = cirq.NamedQubit.range(num_bits, prefix = 'q')"
      ],
      "metadata": {
        "id": "iUwOKTr3gggO"
      },
      "execution_count": null,
      "outputs": []
    },
    {
      "cell_type": "markdown",
      "source": [
        "---\n",
        "### **Part 1.2: Implementing the Steps**\n",
        "---"
      ],
      "metadata": {
        "id": "gxxdwrtwiWf6"
      }
    },
    {
      "cell_type": "markdown",
      "source": [
        "---\n",
        "#### **Phase #1: Alice Sends**\n",
        "---"
      ],
      "metadata": {
        "id": "SeWOI-h_tssM"
      }
    },
    {
      "cell_type": "markdown",
      "source": [
        "#### **Step #1: Alice Randomly Chooses Bits**\n",
        "\n",
        "**Together**, let's use python's `choices(...)` function to create Alice's key of random bits that is `num_bits` long."
      ],
      "metadata": {
        "id": "RGNVXnRsVJPw"
      }
    },
    {
      "cell_type": "code",
      "source": [
        "alice_key = choices([0,1], k=10)# COMPLETE THIS CODE\n",
        "\n",
        "print('Alice\\'s initial key: ', alice_key)"
      ],
      "metadata": {
        "id": "NVqLgkxLgtPH",
        "colab": {
          "base_uri": "https://localhost:8080/"
        },
        "outputId": "79a73214-28df-4444-cc6d-25f20bab7449"
      },
      "execution_count": null,
      "outputs": [
        {
          "output_type": "stream",
          "name": "stdout",
          "text": [
            "Alice's initial key:  [1, 1, 1, 0, 0, 1, 1, 0, 1, 1]\n"
          ]
        }
      ]
    },
    {
      "cell_type": "markdown",
      "source": [
        "<a name=\"s2\"></a>\n",
        "\n",
        "#### **Step #2: Alice Randomly Chooses Bases**\n",
        "\n",
        "**Together**, let's use python's `choices(...)` function to create Alice's `num_bits` basis choices."
      ],
      "metadata": {
        "id": "Xu1OQeRKkHUy"
      }
    },
    {
      "cell_type": "code",
      "source": [
        "alice_bases = choices([\"Z\",\"X\"], k=10)\n",
        "\n",
        "print('\\nAlice\\'s randomly chosen bases: ', alice_bases)"
      ],
      "metadata": {
        "id": "XBAcPgJYg0Ar",
        "colab": {
          "base_uri": "https://localhost:8080/"
        },
        "outputId": "850f6d48-1268-45c5-d8eb-f030504cce1e"
      },
      "execution_count": null,
      "outputs": [
        {
          "output_type": "stream",
          "name": "stdout",
          "text": [
            "\n",
            "Alice's randomly chosen bases:  ['Z', 'X', 'Z', 'Z', 'X', 'X', 'X', 'X', 'Z', 'Z']\n"
          ]
        }
      ]
    },
    {
      "cell_type": "markdown",
      "source": [
        "<a name=\"s3\"></a>\n",
        "\n",
        "#### **Step #3: Alice Creates Qubits**\n",
        "\n",
        "**Together**, create Alice's qubits based on her choice of bit and basis. Complete the code below so that the appropriate gates are appended to `alice_circuit` within the loop."
      ],
      "metadata": {
        "id": "aiSc_I7Boja9"
      }
    },
    {
      "cell_type": "code",
      "source": [
        "alice_circuit = cirq.Circuit()\n",
        "\n",
        "for bit in range(num_bits):\n",
        "\n",
        "  encode_value = alice_key[bit]\n",
        "  encode_gate = encode_gates[encode_value] # COMPLETE THIS CODE\n",
        "\n",
        "  basis_value = alice_bases[bit]\n",
        "  basis_gate = basis_gates[basis_value] # COMPLETE THIS CODE\n",
        "\n",
        "  qubit = qubits[bit]\n",
        "  alice_circuit.append(encode_gate(qubit))# COMPLETE THIS CODE\n",
        "  alice_circuit.append(basis_gate(qubit))# COMPLETE THIS CODE"
      ],
      "metadata": {
        "id": "r7tJZTVUg6C6"
      },
      "execution_count": null,
      "outputs": []
    },
    {
      "cell_type": "markdown",
      "source": [
        "<a name=\"s4\"></a>\n",
        "\n",
        "#### **Step #4: Alice Sends the Qubits to Bob**\n",
        "\n",
        "This step doesn't require us to do anything in Python. However, in real life, this would be where Alice sends Bob the qubits through a public quantum channel."
      ],
      "metadata": {
        "id": "hYcLBs2ZpWDM"
      }
    },
    {
      "cell_type": "markdown",
      "source": [
        "---\n",
        "#### **Phase #2: Bob Receives**\n",
        "---"
      ],
      "metadata": {
        "id": "Jro_FaGztxFG"
      }
    },
    {
      "cell_type": "markdown",
      "source": [
        "<a name=\"s5\"></a>\n",
        "\n",
        "#### **Step #5: Bob Randomly Chooses Bases**\n",
        "\n",
        "**Independently**, randomly choose Bob's `num_bits` bases and apply the appropriate gates to the qubits he received, `qubits`. Complete the code below to accomplish this for each qubit."
      ],
      "metadata": {
        "id": "YB9I1uc3xwPw"
      }
    },
    {
      "cell_type": "code",
      "source": [
        "bob_bases = choices([\"Z\",\"X\"], k=10)# COMPLETE THIS CODE\n",
        "\n",
        "\n",
        "bob_circuit = cirq.Circuit()\n",
        "\n",
        "for i in range(num_bits):# COMPLETE THIS CODE\n",
        "\n",
        "  basis_value = bob_bases[i]# COMPLETE THIS CODE\n",
        "  basis_gate = basis_gates[basis_value] # COMPLETE THIS CODE\n",
        "\n",
        "  qubit = qubits[i]# COMPLETE THIS CODE\n",
        "  bob_circuit.append(basis_gate(qubit))# COMPLETE THIS CODE"
      ],
      "metadata": {
        "id": "J6Ysgw5lhwLy"
      },
      "execution_count": null,
      "outputs": []
    },
    {
      "cell_type": "markdown",
      "source": [
        "<a name=\"s6\"></a>\n",
        "\n",
        "#### **Step #6: Bob Measures the Qubits**\n",
        "\n",
        "**Independently**, make a measurement of all of the qubits for Bob. Complete the code below to append this action to `bob_circuit`. Ensure the measure method is given the parameter `key = 'bob key'` so that we can easily retrieve this result later."
      ],
      "metadata": {
        "id": "d5VXtTWs0RW2"
      }
    },
    {
      "cell_type": "code",
      "source": [
        "bob_circuit.append(cirq.measure(qubits, key = 'bob key'))\n",
        "print(bob_circuit)"
      ],
      "metadata": {
        "id": "UAd0Qvwkh8Lp",
        "colab": {
          "base_uri": "https://localhost:8080/"
        },
        "outputId": "9c9323fe-1c45-44f9-9f02-965ef93b139b"
      },
      "execution_count": null,
      "outputs": [
        {
          "output_type": "stream",
          "name": "stdout",
          "text": [
            "q0: ───H───M('bob key')───\n",
            "           │\n",
            "q1: ───I───M──────────────\n",
            "           │\n",
            "q2: ───H───M──────────────\n",
            "           │\n",
            "q3: ───I───M──────────────\n",
            "           │\n",
            "q4: ───H───M──────────────\n",
            "           │\n",
            "q5: ───H───M──────────────\n",
            "           │\n",
            "q6: ───I───M──────────────\n",
            "           │\n",
            "q7: ───H───M──────────────\n",
            "           │\n",
            "q8: ───I───M──────────────\n",
            "           │\n",
            "q9: ───H───M──────────────\n"
          ]
        }
      ]
    },
    {
      "cell_type": "markdown",
      "source": [
        "<a name=\"s7\"></a>\n",
        "\n",
        "#### **Step #7: Bob Creates a Key**\n",
        "\n",
        "**Independently**, create a key for Bob from the mesurement result of each qubit.\n",
        "\n",
        "<br>\n",
        "\n",
        "**Run the code below to accomplish this step.**"
      ],
      "metadata": {
        "id": "WabxRy4p02i1"
      }
    },
    {
      "cell_type": "code",
      "source": [
        "bb84_circuit = alice_circuit + bob_circuit\n",
        "\n",
        "sim = cirq.Simulator()\n",
        "results = sim.run(bb84_circuit)\n",
        "bob_key = results.measurements['bob key'][0]\n",
        "\n",
        "print('\\nBob\\'s initial key: ', bob_key)"
      ],
      "metadata": {
        "id": "iCSy7NntiGpd",
        "colab": {
          "base_uri": "https://localhost:8080/"
        },
        "outputId": "3ead4f91-3917-47db-ee4a-b864d0ac387c"
      },
      "execution_count": null,
      "outputs": [
        {
          "output_type": "stream",
          "name": "stdout",
          "text": [
            "\n",
            "Bob's initial key:  [0 0 0 0 0 1 1 0 1 0]\n"
          ]
        }
      ]
    },
    {
      "cell_type": "markdown",
      "source": [
        "---\n",
        "#### **Phase #3: Alice and Bob Compare**\n",
        "---"
      ],
      "metadata": {
        "id": "zRSajhVHIE1E"
      }
    },
    {
      "cell_type": "markdown",
      "source": [
        "<a name=\"s8\"></a>\n",
        "\n",
        "#### **Step #8: Alice and Bob Compare Bases**\n",
        "\n",
        "**Independently**, compare Alice's and Bob's randomly selected bases.\n",
        "\n",
        "**Run the code below to accomplish this step.**"
      ],
      "metadata": {
        "id": "Hs20un7c1S1j"
      }
    },
    {
      "cell_type": "code",
      "source": [
        "final_alice_key = []\n",
        "final_bob_key = []\n",
        "\n",
        "for bit in range(num_bits):\n",
        "\n",
        "  if alice_bases[bit] == bob_bases[bit]:\n",
        "    final_alice_key.append(alice_key[bit])\n",
        "    final_bob_key.append(bob_key[bit])\n",
        "\n",
        "print('\\nAlice\\'s key: ', final_alice_key)\n",
        "print('Bob\\'s key: ', final_bob_key)"
      ],
      "metadata": {
        "id": "iHDoJMMgiOsG",
        "colab": {
          "base_uri": "https://localhost:8080/"
        },
        "outputId": "f5937b7f-fe3b-4925-f3c6-080d266d88a0"
      },
      "execution_count": null,
      "outputs": [
        {
          "output_type": "stream",
          "name": "stdout",
          "text": [
            "\n",
            "Alice's key:  [0, 0, 1, 0, 1]\n",
            "Bob's key:  [0, 0, 1, 0, 1]\n"
          ]
        }
      ]
    },
    {
      "cell_type": "markdown",
      "source": [
        "<a name=\"s9\"></a>\n",
        "\n",
        "#### **Step #9: Alice and Bob Compare the First Bits in Their Key**\n",
        "\n",
        "**Independently**, compare the first few bits in Alice's and Bob's key to ensure the protocol was successful.\n",
        "\n",
        "<br>\n",
        "\n",
        "**Run the code below to accomplish this.**"
      ],
      "metadata": {
        "id": "LacthwPG1xW4"
      }
    },
    {
      "cell_type": "code",
      "source": [
        "num_bits_to_compare = int(len(final_alice_key) * .5)\n",
        "if final_alice_key[0:num_bits_to_compare] == final_bob_key[0:num_bits_to_compare]:\n",
        "  final_alice_key = final_alice_key[num_bits_to_compare:]\n",
        "  final_bob_key = final_bob_key[num_bits_to_compare:]\n",
        "\n",
        "  print('\\n\\nWe can use our keys!')\n",
        "  print('Alice Key: ', final_alice_key)\n",
        "  print('Bob Key: ', final_bob_key)\n",
        "\n",
        "else:\n",
        "  print('\\n\\nEve was listening, we need to use a different channel!')"
      ],
      "metadata": {
        "id": "5mv42rjYidR9",
        "colab": {
          "base_uri": "https://localhost:8080/"
        },
        "outputId": "dd49816f-572b-4975-d090-b49b488d13b5"
      },
      "execution_count": null,
      "outputs": [
        {
          "output_type": "stream",
          "name": "stdout",
          "text": [
            "\n",
            "\n",
            "We can use our keys!\n",
            "Alice Key:  [1, 0, 1]\n",
            "Bob Key:  [1, 0, 1]\n"
          ]
        }
      ]
    },
    {
      "cell_type": "markdown",
      "source": [
        "<a name=\"p2\"></a>\n",
        "\n",
        "---\n",
        "## **Part 2: Alice, Bob, and Eve's Measurement Attack**\n",
        "---\n",
        "\n",
        "Now, we will modify this code to introduce Eve, who will be performing a measurement attack."
      ],
      "metadata": {
        "id": "E7017BduYQfO"
      }
    },
    {
      "cell_type": "markdown",
      "source": [
        "### **Part 2.1: The Setup**"
      ],
      "metadata": {
        "id": "2KB68kh8YQfa"
      }
    },
    {
      "cell_type": "markdown",
      "source": [
        "#### **Problem #2.1.1**\n",
        "\n",
        "**Together**, let's define a dictionary called `encode_gates` that specify which gates to apply based on the bit value. Then, let's define a dictionary called `basis_gates` that specify which gates to apply based on the basis. Finally, let's create a list of `NamedQubit`s that is `num_bits` long and has the prefix `q`."
      ],
      "metadata": {
        "id": "6ai3eH036F4k"
      }
    },
    {
      "cell_type": "code",
      "source": [
        "encode_gates = {0: cirq.I, 1: cirq.X}  # COMPLETE THIS CODE\n",
        "basis_gates = {'Z': cirq.I, 'X': cirq.H} # COMPLETE THIS CODE\n",
        "\n",
        "num_bits = 10\n",
        "qubits = cirq.NamedQubit.range(num_bits, prefix = 'q')"
      ],
      "metadata": {
        "id": "ICEM9gnJij3x"
      },
      "execution_count": null,
      "outputs": []
    },
    {
      "cell_type": "markdown",
      "source": [
        "### **Part 2.2: Implementing the Steps**"
      ],
      "metadata": {
        "id": "K38JnXPlf8Ah"
      }
    },
    {
      "cell_type": "markdown",
      "source": [
        "---\n",
        "#### **Phase #1: Alice Sends**\n",
        "---"
      ],
      "metadata": {
        "id": "M2_j35ISYQfb"
      }
    },
    {
      "cell_type": "markdown",
      "source": [
        "<a name=\"s1\"></a>\n",
        "\n",
        "#### **Step #1: Alice Randomly Chooses Bits**\n",
        "\n",
        "**Together**, let's use python's `choices(...)` function to create Alice's key of random bits that is `num_bits` long."
      ],
      "metadata": {
        "id": "1bpPkqDB60ii"
      }
    },
    {
      "cell_type": "code",
      "source": [
        "alice_key = choices([0,1], k=10)# COMPLETE THIS CODE\n",
        "\n",
        "print('Alice\\'s initial key: ', alice_key)"
      ],
      "metadata": {
        "id": "MIncmYvmiu65",
        "colab": {
          "base_uri": "https://localhost:8080/"
        },
        "outputId": "12c8b62c-12b8-4803-ede8-9b40a2c23923"
      },
      "execution_count": null,
      "outputs": [
        {
          "output_type": "stream",
          "name": "stdout",
          "text": [
            "Alice's initial key:  [1, 0, 1, 1, 0, 0, 1, 0, 1, 1]\n"
          ]
        }
      ]
    },
    {
      "cell_type": "markdown",
      "source": [
        "<a name=\"s2\"></a>\n",
        "\n",
        "#### **Step #2: Alice Randomly Chooses Bases**\n",
        "\n",
        "**Together**, let's use python's `choices(...)` function to create Alice's `num_bits` basis choices."
      ],
      "metadata": {
        "id": "WpH1xVfE60is"
      }
    },
    {
      "cell_type": "code",
      "source": [
        "alice_bases = choices([\"Z\",\"X\"],k=10)# COMPLETE THIS CODE\n",
        "\n",
        "print('\\nAlice\\'s randomly chosen bases: ', alice_bases)"
      ],
      "metadata": {
        "id": "6S4ooUlri2FQ",
        "colab": {
          "base_uri": "https://localhost:8080/"
        },
        "outputId": "1a95c930-bf7f-4f6e-b711-3e4d613f826a"
      },
      "execution_count": null,
      "outputs": [
        {
          "output_type": "stream",
          "name": "stdout",
          "text": [
            "\n",
            "Alice's randomly chosen bases:  ['Z', 'X', 'X', 'Z', 'Z', 'X', 'X', 'Z', 'X', 'X']\n"
          ]
        }
      ]
    },
    {
      "cell_type": "markdown",
      "source": [
        "<a name=\"s3\"></a>\n",
        "\n",
        "#### **Step #3: Alice Creates Qubits**\n",
        "\n",
        "**Independently**, create Alice's qubits based on her choice of bit and basis. Complete the code below so that the appropriate gates are appended to `alice_circuit` within the loop."
      ],
      "metadata": {
        "id": "PZdGJ45u60is"
      }
    },
    {
      "cell_type": "code",
      "source": [
        "alice_circuit = cirq.Circuit()\n",
        "\n",
        "for bit in range(num_bits):\n",
        "\n",
        "  encode_value = alice_key[bit]\n",
        "  encode_gate = encode_gates[encode_value] # COMPLETE THIS CODE\n",
        "\n",
        "  basis_value = alice_bases[bit]\n",
        "  basis_gate = basis_gates[basis_value] # COMPLETE THIS CODE\n",
        "\n",
        "  qubit = qubits[bit]\n",
        "  alice_circuit.append(encode_gate(qubit))# COMPLETE THIS CODE\n",
        "  alice_circuit.append(basis_gate(qubit))# COMPLETE THIS CODE"
      ],
      "metadata": {
        "id": "O3KxJLVNkq_C"
      },
      "execution_count": null,
      "outputs": []
    },
    {
      "cell_type": "markdown",
      "source": [
        "<a name=\"s4\"></a>\n",
        "\n",
        "#### **Step #4: Alice Sends the Qubits to Bob**\n",
        "\n",
        "This step doesn't require us to do anything in Python. However, in real life, this would be where Alice sends Bob the qubits through a public quantum channel."
      ],
      "metadata": {
        "id": "OQva_98460it"
      }
    },
    {
      "cell_type": "markdown",
      "source": [
        "---\n",
        "#### **Phase #2: Eve Receives**\n",
        "---"
      ],
      "metadata": {
        "id": "9pUoOgTsYXik"
      }
    },
    {
      "cell_type": "markdown",
      "source": [
        "<a name=\"s4\"></a>\n",
        "\n",
        "#### **Step #5: Eve Randomly Chooses Bases**\n",
        "\n",
        "For this attack, Eve does not try to guess bases, so no code is required."
      ],
      "metadata": {
        "id": "HnDmRCcn7JHV"
      }
    },
    {
      "cell_type": "markdown",
      "source": [
        "#### **Step #6: Eve Measures the Qubits**\n",
        "**Independently**, make a measurement of all of the qubits for Eve. Complete the code below to append this action to `eve_circuit`. Ensure the measure method is given the parameter `key = 'eve key'` so that we can easily retrieve this result later."
      ],
      "metadata": {
        "id": "wVPf8vH27fCu"
      }
    },
    {
      "cell_type": "code",
      "source": [
        "eve_circuit = cirq.Circuit()\n",
        "eve_circuit.append(cirq.measure(qubits, key = 'eve key'))# COMPLETE THIS CODE"
      ],
      "metadata": {
        "id": "vOUWQiHmlEmo"
      },
      "execution_count": null,
      "outputs": []
    },
    {
      "cell_type": "markdown",
      "source": [
        "#### **Step #7: Eve Creates a Key**\n",
        "\n",
        "**Independently**, create a key for Eve from the mesurement result of each qubit.\n",
        "\n",
        "<br>\n",
        "\n",
        "**Run the code below to accomplish this step.**"
      ],
      "metadata": {
        "id": "4lz0icX38BPV"
      }
    },
    {
      "cell_type": "code",
      "source": [
        "eve_intercept_circuit = alice_circuit + eve_circuit\n",
        "\n",
        "sim = cirq.Simulator()\n",
        "results = sim.run(eve_intercept_circuit)\n",
        "eve_key = results.measurements['eve key'][0]\n",
        "\n",
        "print('\\nEve\\'s initial key: ', eve_key)"
      ],
      "metadata": {
        "id": "FAbNTbDKlNoV",
        "colab": {
          "base_uri": "https://localhost:8080/"
        },
        "outputId": "c8ee62f7-548b-43ba-fe75-2477fd4edb83"
      },
      "execution_count": null,
      "outputs": [
        {
          "output_type": "stream",
          "name": "stdout",
          "text": [
            "\n",
            "Eve's initial key:  [1 1 0 1 0 1 1 0 1 0]\n"
          ]
        }
      ]
    },
    {
      "cell_type": "markdown",
      "source": [
        "#### **Eve Repeats Step #3 to Fool Bob**\n",
        "\n",
        "**Run the code below to accomplish this step.**"
      ],
      "metadata": {
        "id": "eng5dYXx9uoM"
      }
    },
    {
      "cell_type": "code",
      "source": [
        "alice_circuit = cirq.Circuit()\n",
        "\n",
        "for bit in range(num_bits):\n",
        "\n",
        "  encode_value = eve_key[bit]\n",
        "  encode_gate = encode_gates[encode_value]\n",
        "\n",
        "  qubit = qubits[bit]\n",
        "  alice_circuit.append(encode_gate(qubit))\n",
        "\n",
        "print('\\nAlice\\'s Phase 1 circuit after Eve\\'s interception:\\n', alice_circuit)"
      ],
      "metadata": {
        "id": "XKjpZbs0lSX_",
        "colab": {
          "base_uri": "https://localhost:8080/"
        },
        "outputId": "5429f112-f4d7-40a3-f8fe-97682de2ba79"
      },
      "execution_count": null,
      "outputs": [
        {
          "output_type": "stream",
          "name": "stdout",
          "text": [
            "\n",
            "Alice's Phase 1 circuit after Eve's interception:\n",
            " q0: ───X───\n",
            "\n",
            "q1: ───X───\n",
            "\n",
            "q2: ───I───\n",
            "\n",
            "q3: ───X───\n",
            "\n",
            "q4: ───I───\n",
            "\n",
            "q5: ───X───\n",
            "\n",
            "q6: ───X───\n",
            "\n",
            "q7: ───I───\n",
            "\n",
            "q8: ───X───\n",
            "\n",
            "q9: ───I───\n"
          ]
        }
      ]
    },
    {
      "cell_type": "markdown",
      "source": [
        "---\n",
        "#### **Phase #2: Bob Receives**\n",
        "---"
      ],
      "metadata": {
        "id": "l9ZOX9ZbYQfc"
      }
    },
    {
      "cell_type": "markdown",
      "source": [
        "<a name=\"s5\"></a>\n",
        "\n",
        "#### **Step #5: Bob Randomly Chooses Bases**\n",
        "\n",
        "**Independently**, randomly choose Bob's `num_bits` bases and apply the appropriate gates to the qubits he received, `qubits`. Complete the code below to accomplish this for each qubit."
      ],
      "metadata": {
        "id": "c-1f7crm-YYC"
      }
    },
    {
      "cell_type": "code",
      "source": [
        "bob_bases = choices([\"Z\",\"X\"], k=10)# COMPLETE THIS CODE\n",
        "\n",
        "\n",
        "bob_circuit = cirq.Circuit()\n",
        "\n",
        "for i in range(num_bits):# COMPLETE THIS CODE\n",
        "\n",
        "  basis_value = bob_bases[i]# COMPLETE THIS CODE\n",
        "  basis_gate = basis_gates[basis_value] # COMPLETE THIS CODE\n",
        "\n",
        "  qubit = qubits[i]# COMPLETE THIS CODE\n",
        "  bob_circuit.append(basis_gate(qubit))# COMPLETE THIS CODE"
      ],
      "metadata": {
        "id": "CBYbE_WBlZH3"
      },
      "execution_count": null,
      "outputs": []
    },
    {
      "cell_type": "markdown",
      "source": [
        "<a name=\"s6\"></a>\n",
        "\n",
        "#### **Step #6: Bob Measures the Qubits**\n",
        "\n",
        "**Independently**, make a measurement of all of the qubits for Bob. Complete the code below to append this action to `bob_circuit`. Ensure the measure method is given the parameter `key = 'bob key'` so that we can easily retrieve this result later."
      ],
      "metadata": {
        "id": "_EdHG8n6-YYD"
      }
    },
    {
      "cell_type": "code",
      "source": [
        "bob_circuit.append(cirq.measure(qubits, key = 'bob key'))# COMPLETE THIS CODE\n",
        "\n",
        "print(bob_circuit)"
      ],
      "metadata": {
        "id": "3PNIw6oIliqF",
        "colab": {
          "base_uri": "https://localhost:8080/"
        },
        "outputId": "9ee3abaf-60d7-43c2-c995-7f1d85b095ff"
      },
      "execution_count": null,
      "outputs": [
        {
          "output_type": "stream",
          "name": "stdout",
          "text": [
            "q0: ───I───M('bob key')───\n",
            "           │\n",
            "q1: ───I───M──────────────\n",
            "           │\n",
            "q2: ───H───M──────────────\n",
            "           │\n",
            "q3: ───I───M──────────────\n",
            "           │\n",
            "q4: ───H───M──────────────\n",
            "           │\n",
            "q5: ───I───M──────────────\n",
            "           │\n",
            "q6: ───I───M──────────────\n",
            "           │\n",
            "q7: ───H───M──────────────\n",
            "           │\n",
            "q8: ───I───M──────────────\n",
            "           │\n",
            "q9: ───I───M──────────────\n"
          ]
        }
      ]
    },
    {
      "cell_type": "markdown",
      "source": [
        "<a name=\"s7\"></a>\n",
        "\n",
        "#### **Step #7: Bob Creates a Key**\n",
        "\n",
        "**Independently**, create a key for Bob from the mesurement result of each qubit.\n",
        "\n",
        "<br>\n",
        "\n",
        "**Run the code below to accomplish this step.**"
      ],
      "metadata": {
        "id": "nGi3UyWp-YYD"
      }
    },
    {
      "cell_type": "code",
      "source": [
        "bb84_circuit = alice_circuit + bob_circuit\n",
        "\n",
        "sim = cirq.Simulator()\n",
        "results = sim.run(bb84_circuit)\n",
        "bob_key = results.measurements['bob key'][0]\n",
        "\n",
        "print('\\nBob\\'s initial key: ', bob_key)"
      ],
      "metadata": {
        "id": "UQspoDlVl1AC",
        "colab": {
          "base_uri": "https://localhost:8080/"
        },
        "outputId": "a6ec7c9f-a277-48c2-9479-25a41799aec7"
      },
      "execution_count": null,
      "outputs": [
        {
          "output_type": "stream",
          "name": "stdout",
          "text": [
            "\n",
            "Bob's initial key:  [1 1 1 1 1 1 1 0 1 0]\n"
          ]
        }
      ]
    },
    {
      "cell_type": "markdown",
      "source": [
        "---\n",
        "#### **Phase #3: Alice and Bob Compare**\n",
        "---"
      ],
      "metadata": {
        "id": "Q8lSBlFtYQfc"
      }
    },
    {
      "cell_type": "markdown",
      "source": [
        "<a name=\"s8\"></a>\n",
        "\n",
        "#### **Step #8: Alice and Bob Compare Bases**\n",
        "\n",
        "**Independently**, compare Alice's and Bob's randomly selected bases. Complete the code below to accomplish this.\n",
        "\n",
        "**Run the code below to accomplish this step.**"
      ],
      "metadata": {
        "id": "HBTWn55i-t9H"
      }
    },
    {
      "cell_type": "code",
      "source": [
        "final_alice_key = []\n",
        "final_bob_key = []\n",
        "final_eve_key = []\n",
        "\n",
        "for bit in range(num_bits):\n",
        "\n",
        "  if alice_bases[bit] == bob_bases[bit]:\n",
        "    final_alice_key.append(alice_key[bit])\n",
        "    final_bob_key.append(bob_key[bit])\n",
        "    final_eve_key.append(eve_key[bit])\n",
        "\n",
        "print('\\nAlice\\'s key: ', final_alice_key)\n",
        "print('Bob\\'s key: ', final_bob_key)\n",
        "print('Eve\\'s key: ', final_eve_key)"
      ],
      "metadata": {
        "id": "k-BdGVPCl7Y9",
        "colab": {
          "base_uri": "https://localhost:8080/"
        },
        "outputId": "76fba16a-2543-46f5-b3d0-d65fa7290247"
      },
      "execution_count": null,
      "outputs": [
        {
          "output_type": "stream",
          "name": "stdout",
          "text": [
            "\n",
            "Alice's key:  [1, 1, 1]\n",
            "Bob's key:  [1, 1, 1]\n",
            "Eve's key:  [1, 0, 1]\n"
          ]
        }
      ]
    },
    {
      "cell_type": "markdown",
      "source": [
        "<a name=\"s9\"></a>\n",
        "\n",
        "#### **Step #9: Alice and Bob Compare the First Bits in Their Key**\n",
        "\n",
        "**Independently**, compare the first few bits in Alice's and Bob's key to ensure the protocol was successful.\n",
        "\n",
        "<br>\n",
        "\n",
        "**Run the code below to accomplish this.**"
      ],
      "metadata": {
        "id": "HmIFV2XD-t9d"
      }
    },
    {
      "cell_type": "code",
      "source": [
        "num_bits_to_compare = int(len(final_alice_key) * .5)\n",
        "if final_alice_key[0:num_bits_to_compare] == final_bob_key[0:num_bits_to_compare]:\n",
        "  final_alice_key = final_alice_key[num_bits_to_compare:]\n",
        "  final_bob_key = final_bob_key[num_bits_to_compare:]\n",
        "  final_eve_key = final_eve_key[num_bits_to_compare:]\n",
        "\n",
        "  print('\\n\\nWe can use our keys!')\n",
        "  print('Alice Key: ', final_alice_key)\n",
        "  print('Bob Key: ', final_bob_key)\n",
        "  print('Eve Key: ', final_eve_key)\n",
        "\n",
        "else:\n",
        "  print('\\n\\nEve was listening, we need to use a different channel!')"
      ],
      "metadata": {
        "id": "OFkLWgfFmKHj",
        "colab": {
          "base_uri": "https://localhost:8080/"
        },
        "outputId": "9ebf57ab-5278-4c87-e3ad-1e7688754031"
      },
      "execution_count": null,
      "outputs": [
        {
          "output_type": "stream",
          "name": "stdout",
          "text": [
            "\n",
            "\n",
            "We can use our keys!\n",
            "Alice Key:  [1, 1]\n",
            "Bob Key:  [1, 1]\n",
            "Eve Key:  [0, 1]\n"
          ]
        }
      ]
    },
    {
      "cell_type": "markdown",
      "source": [
        "<a name=\"p3\"></a>\n",
        "\n",
        "---\n",
        "## **Part 3: Alice, Bob, and Eve's Intercept and Resend Attack**\n",
        "---\n",
        "\n",
        "Now, we will modify this code so that Eve performs an Intercept and Resend attack."
      ],
      "metadata": {
        "id": "oe_LzgWLdCZL"
      }
    },
    {
      "cell_type": "markdown",
      "source": [
        "### **Part 3.1: The Setup**"
      ],
      "metadata": {
        "id": "4T1zpmHKDzU8"
      }
    },
    {
      "cell_type": "markdown",
      "source": [
        "#### **Problem #3.1.1**\n",
        "\n",
        "**Independently**, let's define a dictionary called `encode_gates` that specify which gates to apply based on the bit value. Then, let's define a dictionary called `basis_gates` that specify which gates to apply based on the basis. Finally, let's create a list of `NamedQubit`s that is `num_bits` long and has the prefix `q`."
      ],
      "metadata": {
        "id": "NOqNMIRzDzVR"
      }
    },
    {
      "cell_type": "code",
      "source": [
        "encode_gates = {0: cirq.I, 1: cirq.X}\n",
        "basis_gates = {'Z': cirq.I, 'X': cirq.H}\n",
        "\n",
        "num_bits = 100\n",
        "qubits = cirq.NamedQubit.range(num_bits, prefix = 'q')"
      ],
      "metadata": {
        "id": "-z3IRD_Gm-U1"
      },
      "execution_count": null,
      "outputs": []
    },
    {
      "cell_type": "markdown",
      "source": [
        "### **Part 3.2: Implementing the Steps**"
      ],
      "metadata": {
        "id": "hzE_EsaegGZp"
      }
    },
    {
      "cell_type": "markdown",
      "source": [
        "---\n",
        "#### **Phase #1: Alice Sends**\n",
        "---"
      ],
      "metadata": {
        "id": "PgLJpjN6DzVR"
      }
    },
    {
      "cell_type": "markdown",
      "source": [
        "<a name=\"s1\"></a>\n",
        "\n",
        "#### **Step #1: Alice Randomly Chooses Bits**\n",
        "\n",
        "**Independently**, let's use python's `choices(...)` function to create Alice's key of random bits that is `num_bits` long."
      ],
      "metadata": {
        "id": "86Z7T2FODzVR"
      }
    },
    {
      "cell_type": "code",
      "source": [
        "alice_key = choices([0,1], k=100)# COMPLETE THIS CODE\n",
        "\n",
        "print('Alice\\'s initial key: ', alice_key)"
      ],
      "metadata": {
        "id": "cPrSYDJLnJzl",
        "colab": {
          "base_uri": "https://localhost:8080/"
        },
        "outputId": "f9d1fea8-843c-45e8-ca4d-44e634308a95"
      },
      "execution_count": null,
      "outputs": [
        {
          "output_type": "stream",
          "name": "stdout",
          "text": [
            "Alice's initial key:  [1, 1, 1, 1, 0, 0, 0, 0, 1, 1, 0, 1, 0, 1, 0, 1, 0, 1, 0, 1, 1, 0, 0, 0, 1, 0, 1, 0, 1, 0, 0, 0, 1, 0, 0, 0, 0, 1, 0, 1, 1, 1, 1, 1, 0, 0, 0, 0, 1, 0, 0, 1, 1, 1, 0, 1, 0, 1, 0, 1, 1, 0, 0, 0, 0, 0, 0, 1, 1, 0, 1, 0, 0, 1, 1, 0, 0, 0, 1, 1, 0, 0, 0, 0, 1, 1, 0, 0, 1, 1, 1, 1, 1, 1, 1, 1, 1, 0, 1, 0]\n"
          ]
        }
      ]
    },
    {
      "cell_type": "markdown",
      "source": [
        "<a name=\"s2\"></a>\n",
        "\n",
        "#### **Step #2: Alice Randomly Chooses Bases**\n",
        "\n",
        "**Independently**, let's use python's `choices(...)` function to create Alice's `num_bits` basis choices."
      ],
      "metadata": {
        "id": "vSVL0vT1DzVS"
      }
    },
    {
      "cell_type": "code",
      "source": [
        "alice_bases = choices([\"Z\", \"X\"], k=100)# COMPLETE THIS CODE\n",
        "\n",
        "print('\\nAlice\\'s randomly chosen bases: ', alice_bases)"
      ],
      "metadata": {
        "id": "hsOLfIAenOIC",
        "colab": {
          "base_uri": "https://localhost:8080/"
        },
        "outputId": "d3aceec5-b134-47f4-d150-6e162bc8164b"
      },
      "execution_count": null,
      "outputs": [
        {
          "output_type": "stream",
          "name": "stdout",
          "text": [
            "\n",
            "Alice's randomly chosen bases:  ['Z', 'X', 'Z', 'X', 'X', 'X', 'X', 'X', 'X', 'Z', 'Z', 'X', 'X', 'Z', 'X', 'X', 'Z', 'X', 'Z', 'X', 'X', 'Z', 'Z', 'X', 'X', 'X', 'X', 'Z', 'Z', 'X', 'Z', 'Z', 'Z', 'Z', 'X', 'Z', 'Z', 'Z', 'X', 'X', 'Z', 'Z', 'X', 'Z', 'X', 'X', 'X', 'X', 'X', 'X', 'X', 'Z', 'Z', 'Z', 'X', 'Z', 'X', 'Z', 'X', 'Z', 'Z', 'Z', 'X', 'Z', 'X', 'X', 'X', 'Z', 'X', 'Z', 'Z', 'Z', 'Z', 'Z', 'X', 'Z', 'Z', 'Z', 'X', 'Z', 'Z', 'X', 'X', 'X', 'X', 'Z', 'Z', 'X', 'Z', 'Z', 'Z', 'X', 'X', 'X', 'Z', 'X', 'X', 'Z', 'X', 'X']\n"
          ]
        }
      ]
    },
    {
      "cell_type": "markdown",
      "source": [
        "<a name=\"s3\"></a>\n",
        "\n",
        "#### **Step #3: Alice Creates Qubits**\n",
        "\n",
        "**Independently**, create Alice's qubits based on her choice of bit and basis. Complete the code below so that the appropriate gates are appended to `alice_circuit` within the loop."
      ],
      "metadata": {
        "id": "IyK2aWndDzVS"
      }
    },
    {
      "cell_type": "code",
      "source": [
        "alice_circuit = cirq.Circuit()\n",
        "\n",
        "for bit in range(num_bits):\n",
        "  encode_value = alice_key[bit]\n",
        "  encode_gate = encode_gates[encode_value] # COMPLETE THIS CODE\n",
        "\n",
        "  basis_value = alice_bases[bit]\n",
        "  basis_gate = basis_gates[basis_value] # COMPLETE THIS CODE\n",
        "\n",
        "  qubit = qubits[bit]\n",
        "  alice_circuit.append(encode_gate(qubit))# COMPLETE THIS CODE\n",
        "  alice_circuit.append(basis_gate(qubit))# COMPLETE THIS CODE"
      ],
      "metadata": {
        "id": "OUpH18GNnZNk"
      },
      "execution_count": null,
      "outputs": []
    },
    {
      "cell_type": "markdown",
      "source": [
        "<a name=\"s4\"></a>\n",
        "\n",
        "#### **Step #4: Alice Sends the Qubits to Bob**\n",
        "\n",
        "This step doesn't require us to do anything in Python. However, in real life, this would be where Alice sends Bob the qubits through a public quantum channel."
      ],
      "metadata": {
        "id": "TszgudotDzVS"
      }
    },
    {
      "cell_type": "markdown",
      "source": [
        "---\n",
        "#### **Phase #2: Eve Receives**\n",
        "---"
      ],
      "metadata": {
        "id": "dm6-Co2ydCZN"
      }
    },
    {
      "cell_type": "markdown",
      "source": [
        "#### **Step #5: Eve Randomly Chooses Bases**\n",
        "\n",
        "**Independently**, randomly choose Eve's `num_bits` bases and apply the appropriate gates to the qubits she received, `qubits`. Complete the code below to accomplish this for each qubit."
      ],
      "metadata": {
        "id": "c0wdN6DQKhdk"
      }
    },
    {
      "cell_type": "code",
      "source": [
        "eve_bases = choices([\"Z\", \"X\"], k=100)# COMPLETE THIS CODE\n",
        "print('Eve\\'s randomly chosen bases: ', eve_bases)\n",
        "\n",
        "eve_circuit = cirq.Circuit()\n",
        "\n",
        "for i in range(num_bits):# COMPLETE THIS CODE\n",
        "\n",
        "  basis_value = eve_bases[i]# COMPLETE THIS CODE\n",
        "  basis_gate = basis_gates[basis_value] # COMPLETE THIS CODE\n",
        "\n",
        "  qubit = qubits[i]# COMPLETE THIS CODE\n",
        "  eve_circuit.append(basis_gate(qubit))# COMPLETE THIS CODE"
      ],
      "metadata": {
        "id": "kmreEBr2oCWT",
        "colab": {
          "base_uri": "https://localhost:8080/"
        },
        "outputId": "7fe4fc8d-635c-4263-dc09-183c18cd5599"
      },
      "execution_count": null,
      "outputs": [
        {
          "output_type": "stream",
          "name": "stdout",
          "text": [
            "Eve's randomly chosen bases:  ['X', 'X', 'X', 'X', 'Z', 'Z', 'Z', 'Z', 'X', 'X', 'X', 'Z', 'X', 'Z', 'X', 'Z', 'Z', 'X', 'X', 'Z', 'Z', 'X', 'X', 'Z', 'Z', 'Z', 'Z', 'Z', 'X', 'X', 'X', 'Z', 'X', 'Z', 'X', 'X', 'Z', 'X', 'Z', 'X', 'X', 'X', 'X', 'Z', 'X', 'Z', 'X', 'Z', 'X', 'X', 'Z', 'X', 'Z', 'X', 'Z', 'Z', 'X', 'Z', 'X', 'Z', 'Z', 'X', 'Z', 'Z', 'Z', 'X', 'X', 'Z', 'X', 'Z', 'X', 'X', 'Z', 'Z', 'X', 'Z', 'Z', 'X', 'Z', 'Z', 'Z', 'Z', 'Z', 'Z', 'X', 'Z', 'Z', 'X', 'Z', 'Z', 'X', 'Z', 'X', 'X', 'X', 'X', 'Z', 'X', 'X', 'X']\n"
          ]
        }
      ]
    },
    {
      "cell_type": "markdown",
      "source": [
        "#### **Step #6: Eve Measures the Qubits**\n",
        "**Independently**, make a measurement of all of the qubits for Eve. Complete the code below to append this action to `eve_circuit`. Ensure the measure method is given the parameter `key = 'eve key'` so that we can easily retrieve this result later."
      ],
      "metadata": {
        "id": "T4-KdV_ILJme"
      }
    },
    {
      "cell_type": "code",
      "source": [
        "eve_circuit.append(eve_circuit.append(cirq.measure(qubits, key = 'eve key')))"
      ],
      "metadata": {
        "id": "BYL21RfKoqcM",
        "colab": {
          "base_uri": "https://localhost:8080/",
          "height": 292
        },
        "outputId": "7cf048c1-b02d-4377-9686-8573388a6b2e"
      },
      "execution_count": null,
      "outputs": [
        {
          "output_type": "error",
          "ename": "TypeError",
          "evalue": "ignored",
          "traceback": [
            "\u001b[0;31m---------------------------------------------------------------------------\u001b[0m",
            "\u001b[0;31mTypeError\u001b[0m                                 Traceback (most recent call last)",
            "\u001b[0;32m<ipython-input-53-c82766ef6b20>\u001b[0m in \u001b[0;36m<cell line: 1>\u001b[0;34m()\u001b[0m\n\u001b[0;32m----> 1\u001b[0;31m \u001b[0meve_circuit\u001b[0m\u001b[0;34m.\u001b[0m\u001b[0mappend\u001b[0m\u001b[0;34m(\u001b[0m\u001b[0meve_circuit\u001b[0m\u001b[0;34m.\u001b[0m\u001b[0mappend\u001b[0m\u001b[0;34m(\u001b[0m\u001b[0mcirq\u001b[0m\u001b[0;34m.\u001b[0m\u001b[0mmeasure\u001b[0m\u001b[0;34m(\u001b[0m\u001b[0mqubits\u001b[0m\u001b[0;34m,\u001b[0m \u001b[0mkey\u001b[0m \u001b[0;34m=\u001b[0m \u001b[0;34m'eve key'\u001b[0m\u001b[0;34m)\u001b[0m\u001b[0;34m)\u001b[0m\u001b[0;34m)\u001b[0m\u001b[0;34m\u001b[0m\u001b[0;34m\u001b[0m\u001b[0m\n\u001b[0m",
            "\u001b[0;32m/usr/local/lib/python3.10/dist-packages/cirq/circuits/circuit.py\u001b[0m in \u001b[0;36mappend\u001b[0;34m(self, moment_or_operation_tree, strategy)\u001b[0m\n\u001b[1;32m   2424\u001b[0m             \u001b[0mstrategy\u001b[0m\u001b[0;34m:\u001b[0m \u001b[0mHow\u001b[0m \u001b[0mto\u001b[0m \u001b[0mpick\u001b[0m\u001b[0;34m/\u001b[0m\u001b[0mcreate\u001b[0m \u001b[0mthe\u001b[0m \u001b[0mmoment\u001b[0m \u001b[0mto\u001b[0m \u001b[0mput\u001b[0m \u001b[0moperations\u001b[0m \u001b[0minto\u001b[0m\u001b[0;34m.\u001b[0m\u001b[0;34m\u001b[0m\u001b[0;34m\u001b[0m\u001b[0m\n\u001b[1;32m   2425\u001b[0m         \"\"\"\n\u001b[0;32m-> 2426\u001b[0;31m         \u001b[0mself\u001b[0m\u001b[0;34m.\u001b[0m\u001b[0minsert\u001b[0m\u001b[0;34m(\u001b[0m\u001b[0mlen\u001b[0m\u001b[0;34m(\u001b[0m\u001b[0mself\u001b[0m\u001b[0;34m.\u001b[0m\u001b[0m_moments\u001b[0m\u001b[0;34m)\u001b[0m\u001b[0;34m,\u001b[0m \u001b[0mmoment_or_operation_tree\u001b[0m\u001b[0;34m,\u001b[0m \u001b[0mstrategy\u001b[0m\u001b[0;34m)\u001b[0m\u001b[0;34m\u001b[0m\u001b[0;34m\u001b[0m\u001b[0m\n\u001b[0m\u001b[1;32m   2427\u001b[0m \u001b[0;34m\u001b[0m\u001b[0m\n\u001b[1;32m   2428\u001b[0m     def clear_operations_touching(\n",
            "\u001b[0;32m/usr/local/lib/python3.10/dist-packages/cirq/circuits/circuit.py\u001b[0m in \u001b[0;36minsert\u001b[0;34m(self, index, moment_or_operation_tree, strategy)\u001b[0m\n\u001b[1;32m   2138\u001b[0m         \u001b[0;31m# limit index to 0..len(self._moments), also deal with indices smaller 0\u001b[0m\u001b[0;34m\u001b[0m\u001b[0;34m\u001b[0m\u001b[0m\n\u001b[1;32m   2139\u001b[0m         \u001b[0mk\u001b[0m \u001b[0;34m=\u001b[0m \u001b[0mmax\u001b[0m\u001b[0;34m(\u001b[0m\u001b[0mmin\u001b[0m\u001b[0;34m(\u001b[0m\u001b[0mindex\u001b[0m \u001b[0;32mif\u001b[0m \u001b[0mindex\u001b[0m \u001b[0;34m>=\u001b[0m \u001b[0;36m0\u001b[0m \u001b[0;32melse\u001b[0m \u001b[0mlen\u001b[0m\u001b[0;34m(\u001b[0m\u001b[0mself\u001b[0m\u001b[0;34m.\u001b[0m\u001b[0m_moments\u001b[0m\u001b[0;34m)\u001b[0m \u001b[0;34m+\u001b[0m \u001b[0mindex\u001b[0m\u001b[0;34m,\u001b[0m \u001b[0mlen\u001b[0m\u001b[0;34m(\u001b[0m\u001b[0mself\u001b[0m\u001b[0;34m.\u001b[0m\u001b[0m_moments\u001b[0m\u001b[0;34m)\u001b[0m\u001b[0;34m)\u001b[0m\u001b[0;34m,\u001b[0m \u001b[0;36m0\u001b[0m\u001b[0;34m)\u001b[0m\u001b[0;34m\u001b[0m\u001b[0;34m\u001b[0m\u001b[0m\n\u001b[0;32m-> 2140\u001b[0;31m         \u001b[0;32mfor\u001b[0m \u001b[0mmoment_or_op\u001b[0m \u001b[0;32min\u001b[0m \u001b[0mlist\u001b[0m\u001b[0;34m(\u001b[0m\u001b[0mops\u001b[0m\u001b[0;34m.\u001b[0m\u001b[0mflatten_to_ops_or_moments\u001b[0m\u001b[0;34m(\u001b[0m\u001b[0mmoment_or_operation_tree\u001b[0m\u001b[0;34m)\u001b[0m\u001b[0;34m)\u001b[0m\u001b[0;34m:\u001b[0m\u001b[0;34m\u001b[0m\u001b[0;34m\u001b[0m\u001b[0m\n\u001b[0m\u001b[1;32m   2141\u001b[0m             \u001b[0;32mif\u001b[0m \u001b[0misinstance\u001b[0m\u001b[0;34m(\u001b[0m\u001b[0mmoment_or_op\u001b[0m\u001b[0;34m,\u001b[0m \u001b[0mMoment\u001b[0m\u001b[0;34m)\u001b[0m\u001b[0;34m:\u001b[0m\u001b[0;34m\u001b[0m\u001b[0;34m\u001b[0m\u001b[0m\n\u001b[1;32m   2142\u001b[0m                 \u001b[0mself\u001b[0m\u001b[0;34m.\u001b[0m\u001b[0m_moments\u001b[0m\u001b[0;34m.\u001b[0m\u001b[0minsert\u001b[0m\u001b[0;34m(\u001b[0m\u001b[0mk\u001b[0m\u001b[0;34m,\u001b[0m \u001b[0mmoment_or_op\u001b[0m\u001b[0;34m)\u001b[0m\u001b[0;34m\u001b[0m\u001b[0;34m\u001b[0m\u001b[0m\n",
            "\u001b[0;32m/usr/local/lib/python3.10/dist-packages/cirq/ops/op_tree.py\u001b[0m in \u001b[0;36mflatten_to_ops_or_moments\u001b[0;34m(root)\u001b[0m\n\u001b[1;32m    134\u001b[0m             \u001b[0;32myield\u001b[0m \u001b[0;32mfrom\u001b[0m \u001b[0mflatten_to_ops_or_moments\u001b[0m\u001b[0;34m(\u001b[0m\u001b[0msubtree\u001b[0m\u001b[0;34m)\u001b[0m\u001b[0;34m\u001b[0m\u001b[0;34m\u001b[0m\u001b[0m\n\u001b[1;32m    135\u001b[0m     \u001b[0;32melse\u001b[0m\u001b[0;34m:\u001b[0m\u001b[0;34m\u001b[0m\u001b[0;34m\u001b[0m\u001b[0m\n\u001b[0;32m--> 136\u001b[0;31m         \u001b[0m_bad_op_tree\u001b[0m\u001b[0;34m(\u001b[0m\u001b[0mroot\u001b[0m\u001b[0;34m)\u001b[0m\u001b[0;34m\u001b[0m\u001b[0;34m\u001b[0m\u001b[0m\n\u001b[0m\u001b[1;32m    137\u001b[0m \u001b[0;34m\u001b[0m\u001b[0m\n\u001b[1;32m    138\u001b[0m \u001b[0;34m\u001b[0m\u001b[0m\n",
            "\u001b[0;32m/usr/local/lib/python3.10/dist-packages/cirq/ops/op_tree.py\u001b[0m in \u001b[0;36m_bad_op_tree\u001b[0;34m(root)\u001b[0m\n\u001b[1;32m    189\u001b[0m \u001b[0;34m\u001b[0m\u001b[0m\n\u001b[1;32m    190\u001b[0m \u001b[0;32mdef\u001b[0m \u001b[0m_bad_op_tree\u001b[0m\u001b[0;34m(\u001b[0m\u001b[0mroot\u001b[0m\u001b[0;34m:\u001b[0m \u001b[0mOP_TREE\u001b[0m\u001b[0;34m)\u001b[0m \u001b[0;34m->\u001b[0m \u001b[0mNoReturn\u001b[0m\u001b[0;34m:\u001b[0m\u001b[0;34m\u001b[0m\u001b[0;34m\u001b[0m\u001b[0m\n\u001b[0;32m--> 191\u001b[0;31m     \u001b[0;32mraise\u001b[0m \u001b[0mTypeError\u001b[0m\u001b[0;34m(\u001b[0m\u001b[0;34mf'Not an Operation or Iterable: {type(root)} {root}'\u001b[0m\u001b[0;34m)\u001b[0m\u001b[0;34m\u001b[0m\u001b[0;34m\u001b[0m\u001b[0m\n\u001b[0m",
            "\u001b[0;31mTypeError\u001b[0m: Not an Operation or Iterable: <class 'NoneType'> None"
          ]
        }
      ]
    },
    {
      "cell_type": "markdown",
      "source": [
        "#### **Step #7: Eve Creates a Key**\n",
        "\n",
        "**Independently**, create a key for Eve from the mesurement result of each qubit.\n",
        "\n",
        "<br>\n",
        "\n",
        "**Run the code below to accomplish this step.**"
      ],
      "metadata": {
        "id": "WP5jyFq7LJmo"
      }
    },
    {
      "cell_type": "code",
      "source": [
        "eve_intercept_circuit = alice_circuit + eve_circuit\n",
        "\n",
        "sim = cirq.Simulator()\n",
        "results = sim.run(eve_intercept_circuit)\n",
        "eve_key = results.measurements['eve key'][0]\n",
        "\n",
        "print('\\nEve\\'s initial key: ', eve_key)"
      ],
      "metadata": {
        "id": "ywT_EOXMo5Ym"
      },
      "execution_count": null,
      "outputs": []
    },
    {
      "cell_type": "markdown",
      "source": [
        "#### **Eve Repeats Step #3 to Fool Bob**\n",
        "\n",
        "**Run the code below to accomplish this step.**"
      ],
      "metadata": {
        "id": "qw3FsjoBLJmo"
      }
    },
    {
      "cell_type": "code",
      "source": [
        "alice_circuit = cirq.Circuit()\n",
        "\n",
        "for bit in range(num_bits):\n",
        "\n",
        "  encode_value = eve_key[bit]\n",
        "  encode_gate = encode_gates[encode_value]\n",
        "\n",
        "  basis_value = eve_bases[bit]\n",
        "  basis_gate = basis_gates[basis_value]\n",
        "\n",
        "  qubit = qubits[bit]\n",
        "  alice_circuit.append(encode_gate(qubit))\n",
        "  alice_circuit.append(basis_gate(qubit))\n",
        "\n",
        "print('\\nAlice\\'s Phase 1 circuit after Eve\\'s interception:\\n', alice_circuit)"
      ],
      "metadata": {
        "id": "mZaopKOTo9RP"
      },
      "execution_count": null,
      "outputs": []
    },
    {
      "cell_type": "markdown",
      "source": [
        "---\n",
        "#### **Phase #2: Bob Receives**\n",
        "---"
      ],
      "metadata": {
        "id": "yJzigkmrdCZO"
      }
    },
    {
      "cell_type": "markdown",
      "source": [
        "<a name=\"s5\"></a>\n",
        "\n",
        "#### **Step #5: Bob Randomly Chooses Bases**\n",
        "\n",
        "**Independently**, randomly choose Bob's `num_bits` bases and apply the appropriate gates to the qubits he received, `qubits`. Complete the code below to accomplish this for each qubit."
      ],
      "metadata": {
        "id": "LUj8m8oXOj7E"
      }
    },
    {
      "cell_type": "code",
      "source": [
        "bob_bases = choices(# COMPLETE THIS CODE\n",
        "\n",
        "\n",
        "bob_circuit = cirq.Circuit()\n",
        "\n",
        "for # COMPLETE THIS CODE\n",
        "\n",
        "  basis_value = # COMPLETE THIS CODE\n",
        "  basis_gate = # COMPLETE THIS CODE\n",
        "\n",
        "  qubit = # COMPLETE THIS CODE\n",
        "  bob_circuit.append(# COMPLETE THIS CODE"
      ],
      "metadata": {
        "id": "DqlLzKxypB20"
      },
      "execution_count": null,
      "outputs": []
    },
    {
      "cell_type": "markdown",
      "source": [
        "<a name=\"s6\"></a>\n",
        "\n",
        "#### **Step #6: Bob Measures the Qubits**\n",
        "\n",
        "**Independently**, make a measurement of all of the qubits for Bob. Complete the code below to append this action to `bob_circuit`. Ensure the measure method is given the parameter `key = 'bob key'` so that we can easily retrieve this result later."
      ],
      "metadata": {
        "id": "0Ow_vOq6Oj7P"
      }
    },
    {
      "cell_type": "code",
      "source": [
        "bob_circuit.append(# COMPLETE THIS CODE\n",
        "\n",
        "print(bob_circuit)"
      ],
      "metadata": {
        "id": "4Z8c27ZPpJp-"
      },
      "execution_count": null,
      "outputs": []
    },
    {
      "cell_type": "markdown",
      "source": [
        "<a name=\"s7\"></a>\n",
        "\n",
        "#### **Step #7: Bob Creates a Key**\n",
        "\n",
        "**Independently**, create a key for Bob from the mesurement result of each qubit.\n",
        "\n",
        "<br>\n",
        "\n",
        "**Run the code below to accomplish this step.**"
      ],
      "metadata": {
        "id": "FpN71b4yOj7P"
      }
    },
    {
      "cell_type": "code",
      "source": [
        "bb84_circuit = alice_circuit + bob_circuit\n",
        "\n",
        "sim = cirq.Simulator()\n",
        "results = sim.run(bb84_circuit)\n",
        "bob_key = results.measurements['bob key'][0]\n",
        "\n",
        "print('\\nBob\\'s initial key: ', bob_key)"
      ],
      "metadata": {
        "id": "8XUPYUfkpOly"
      },
      "execution_count": null,
      "outputs": []
    },
    {
      "cell_type": "markdown",
      "source": [
        "---\n",
        "#### **Phase #3: Alice and Bob Compare**\n",
        "---"
      ],
      "metadata": {
        "id": "cYlfBZ-_dCZO"
      }
    },
    {
      "cell_type": "markdown",
      "source": [
        "<a name=\"s8\"></a>\n",
        "\n",
        "#### **Step #8: Alice and Bob Compare Bases**\n",
        "\n",
        "**Independently**, compare Alice's and Bob's randomly selected bases.\n",
        "\n",
        "**Run the code below to accomplish this step.**"
      ],
      "metadata": {
        "id": "slAYObAROy6j"
      }
    },
    {
      "cell_type": "code",
      "source": [
        "final_alice_key = []\n",
        "final_bob_key = []\n",
        "final_eve_key = []\n",
        "\n",
        "for bit in range(num_bits):\n",
        "\n",
        "  if alice_bases[bit] == bob_bases[bit]:\n",
        "    final_alice_key.append(alice_key[bit])\n",
        "    final_bob_key.append(bob_key[bit])\n",
        "    final_eve_key.append(eve_key[bit])\n",
        "\n",
        "print('\\nAlice\\'s key: ', final_alice_key)\n",
        "print('Bob\\'s key: ', final_bob_key)\n",
        "print('Eve\\'s key: ', final_eve_key)"
      ],
      "metadata": {
        "id": "GOqfsm7zpSLR"
      },
      "execution_count": null,
      "outputs": []
    },
    {
      "cell_type": "markdown",
      "source": [
        "<a name=\"s9\"></a>\n",
        "\n",
        "#### **Step #9: Alice and Bob Compare the First Bits in Their Key**\n",
        "\n",
        "**Independently**, compare the first few bits in Alice's and Bob's key to ensure the protocol was successful.\n",
        "\n",
        "<br>\n",
        "\n",
        "**Run the code below to accomplish this.**"
      ],
      "metadata": {
        "id": "zJ30bCUzOy61"
      }
    },
    {
      "cell_type": "code",
      "source": [
        "num_bits_to_compare = int(len(final_alice_key) * .5)\n",
        "if final_alice_key[0:num_bits_to_compare] == final_bob_key[0:num_bits_to_compare]:\n",
        "  final_alice_key = final_alice_key[num_bits_to_compare:]\n",
        "  final_bob_key = final_bob_key[num_bits_to_compare:]\n",
        "  final_eve_key = final_eve_key[num_bits_to_compare:]\n",
        "\n",
        "  print('\\n\\nWe can use our keys!')\n",
        "  print('Alice Key: ', final_alice_key)\n",
        "  print('Bob Key: ', final_bob_key)\n",
        "  print('Eve Key: ', final_eve_key)\n",
        "\n",
        "else:\n",
        "  print('\\n\\nEve was listening, we need to use a different channel!')"
      ],
      "metadata": {
        "id": "BgI6DbHapfLx"
      },
      "execution_count": null,
      "outputs": []
    },
    {
      "cell_type": "markdown",
      "metadata": {
        "id": "7dzC09dLlEhm"
      },
      "source": [
        "# End of Notebook\n",
        "\n",
        "---\n",
        "© 2023 The Coding School, All rights reserved"
      ]
    }
  ]
}