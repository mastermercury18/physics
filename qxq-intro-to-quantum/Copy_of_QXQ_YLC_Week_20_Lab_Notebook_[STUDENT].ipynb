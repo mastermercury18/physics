{
  "cells": [
    {
      "cell_type": "markdown",
      "metadata": {
        "id": "mbZXQ3rA3NwL"
      },
      "source": [
        "# **Lab 20: Building a Quantum Simulator**\n",
        "---\n",
        "\n",
        "### **Description**\n",
        "In this week's lab, we will see how to build our own quantum simulator using a new library: numpy.\n",
        "\n",
        "<br>\n",
        "\n",
        "### **Structure**\n",
        "**Part 1**: [NumPy Arrays](#p1)\n",
        "> **Part 1.1**: [General NumPy Arrays](#p1.1)\n",
        "\n",
        "> **Part 1.2**: [States and Gates as NumPy Arrays](#p1.2)\n",
        "\n",
        "**Part 2**: [The Quantum Simulator](#p2)\n",
        "> **Part 2.1**: [Single Qubit Simulator](#p2.1)\n",
        "\n",
        "> **Part 2.2**: [[ADVANCED] Multiple Qubit Simulator](#p2.2)\n",
        "\n",
        "<br>\n",
        "\n",
        "### **Learning Objectives**\n",
        "By the end of this lab, we will:\n",
        "* Recognize the basics of working with numpy arrays.\n",
        "\n",
        "* Recognize how a simulator can be built using numpy.\n",
        "\n",
        "\n",
        "<br>\n",
        "\n",
        "### **Resources**\n",
        "* [NumPy Simulator Cheat Sheet](https://docs.google.com/document/d/1kbO2xuZwD5LRyOmB5hOsMtbPxGdNC0ufdcXEACn_us0/edit?usp=sharing)\n",
        "\n",
        "* [Cirq Cheat Sheet](https://docs.google.com/document/d/1j0vEwtS6fK-tD1DWAPry4tJdxEiq8fwMtXuYNGRhK_M)\n",
        "\n",
        "<br>\n",
        "\n",
        "**Before starting, run the code below to import all necessary functions and libraries.**\n"
      ]
    },
    {
      "cell_type": "code",
      "execution_count": null,
      "metadata": {
        "id": "7mL39rtbK-kK"
      },
      "outputs": [],
      "source": [
        "import random\n",
        "import matplotlib.pyplot as plt\n",
        "import numpy as np\n",
        "\n",
        "def binary_labels(num_qubits):\n",
        "    return [bin(x)[2:].zfill(num_qubits) for x in range(2 ** num_qubits)]"
      ]
    },
    {
      "cell_type": "markdown",
      "metadata": {
        "id": "_8OK2SgiLEqC"
      },
      "source": [
        "<a name=\"p1\"><a>\n",
        "\n",
        "---\n",
        "\n",
        "## **Part 1: NumPy Arrays**\n",
        "\n",
        "---"
      ]
    },
    {
      "cell_type": "markdown",
      "metadata": {
        "id": "ljJg3yLavVuU"
      },
      "source": [
        "<a name=\"p1.1\"></a>\n",
        "\n",
        "---\n",
        "\n",
        "### **Part 1.1: General NumPy Arrays**\n",
        "\n",
        "---"
      ]
    },
    {
      "cell_type": "markdown",
      "metadata": {
        "id": "JGNTrtNE9U1J"
      },
      "source": [
        "#### **Problem #1.1.1**\n",
        "\n",
        "**Together**, let's create a numpy array from this list."
      ]
    },
    {
      "cell_type": "code",
      "execution_count": null,
      "metadata": {
        "id": "PAyX7rpgMatl",
        "colab": {
          "base_uri": "https://localhost:8080/"
        },
        "outputId": "026ab0f5-02ca-4149-9adc-2a4790cb548e"
      },
      "outputs": [
        {
          "output_type": "stream",
          "name": "stdout",
          "text": [
            "[0, 1, 2, 3, 4]\n",
            "[0 1 2 3 4]\n"
          ]
        }
      ],
      "source": [
        "example_list = [0,1,2,3,4]\n",
        "\n",
        "numpy_array = np.array(example_list)\n",
        "\n",
        "print(example_list)\n",
        "print(numpy_array)"
      ]
    },
    {
      "cell_type": "markdown",
      "metadata": {
        "id": "tll9yjgBjFwg"
      },
      "source": [
        "#### **Problem #1.1.2**\n",
        "\n",
        "**Together**, let's add the two arrays provided."
      ]
    },
    {
      "cell_type": "code",
      "execution_count": null,
      "metadata": {
        "id": "K2PHa-Lbt1t4",
        "colab": {
          "base_uri": "https://localhost:8080/"
        },
        "outputId": "c085c666-873c-4d87-b32b-e77fa3905702"
      },
      "outputs": [
        {
          "output_type": "execute_result",
          "data": {
            "text/plain": [
              "array([7. , 0.5, 0. ])"
            ]
          },
          "metadata": {},
          "execution_count": 3
        }
      ],
      "source": [
        "array_1 = np.array([1, 0, -1])\n",
        "array_2 = np.array([6, 0.5, 1])\n",
        "# COMPLETE THIS CODE\n",
        "array_1 + array_2"
      ]
    },
    {
      "cell_type": "markdown",
      "metadata": {
        "id": "fXu5Wxhit5pk"
      },
      "source": [
        "#### **Problem #1.1.3**\n",
        "\n",
        "**Together**, let's square the provided array and output the result."
      ]
    },
    {
      "cell_type": "code",
      "execution_count": null,
      "metadata": {
        "id": "yf4I3A7tt5py",
        "colab": {
          "base_uri": "https://localhost:8080/"
        },
        "outputId": "6a5736fe-c241-4eac-a361-b740788f5db0"
      },
      "outputs": [
        {
          "output_type": "execute_result",
          "data": {
            "text/plain": [
              "array([  0,   4,  16,  36,  64, 100, 144])"
            ]
          },
          "metadata": {},
          "execution_count": 4
        }
      ],
      "source": [
        "example_list = [0, 2, 4, 6, 8, 10, 12]\n",
        "\n",
        "numpy_array = np.array(example_list)\n",
        "\n",
        "# COMPLETE THIS CODE\n",
        "numpy_array ** 2"
      ]
    },
    {
      "cell_type": "markdown",
      "metadata": {
        "id": "LqLE20h4u_Wq"
      },
      "source": [
        "#### **Problem #1.1.4**\n",
        "\n",
        "**Together**, let's create a numpy array representing the matrix below and output the element at index 2.\n",
        "\n",
        "<br>\n",
        "\n",
        "\n",
        "$\\begin{bmatrix} 0 & 1 & 2 & 3 \\\\ 0 & 0 & 1 & 0 \\\\ -1.5 & 2 & 3 & 4 \\end{bmatrix}$"
      ]
    },
    {
      "cell_type": "code",
      "execution_count": null,
      "metadata": {
        "id": "xqDAWJ9xu_W0",
        "colab": {
          "base_uri": "https://localhost:8080/"
        },
        "outputId": "acc9e174-40b2-4576-f42e-521f778557de"
      },
      "outputs": [
        {
          "output_type": "execute_result",
          "data": {
            "text/plain": [
              "array([[ 0. ,  1. ,  2. ,  3. ],\n",
              "       [ 0. ,  0. ,  1. ,  0. ],\n",
              "       [-1.5,  2. ,  3. ,  4. ]])"
            ]
          },
          "metadata": {},
          "execution_count": 6
        }
      ],
      "source": [
        "my_matrix = np.array([[0, 1, 2, 3], [0, 0, 1, 0], [-1.5, 2, 3, 4]]) # COMPLETE THIS CODE\n",
        "\n",
        "# COMPLETE THIS CODE\n",
        "my_matrix"
      ]
    },
    {
      "cell_type": "markdown",
      "metadata": {
        "id": "RumubxDkMQq5"
      },
      "source": [
        "#### **Problem #1.1.5**\n",
        "\n",
        "**Independently**, create a numpy array with 10 numbers of your choice in a single row and print the result."
      ]
    },
    {
      "cell_type": "code",
      "execution_count": null,
      "metadata": {
        "id": "7EfDV8ChMQq5",
        "colab": {
          "base_uri": "https://localhost:8080/"
        },
        "outputId": "623bb505-fbbf-4daf-dcff-648a8ce689ee"
      },
      "outputs": [
        {
          "output_type": "execute_result",
          "data": {
            "text/plain": [
              "array([ 1,  2,  3,  4,  5,  6,  7,  8,  9, 10])"
            ]
          },
          "metadata": {},
          "execution_count": 7
        }
      ],
      "source": [
        "# COMPLETE THIS CODE\n",
        "my_array = np.array([1, 2, 3, 4, 5, 6, 7, 8, 9, 10])\n",
        "my_array"
      ]
    },
    {
      "cell_type": "markdown",
      "metadata": {
        "id": "Vp-ctdwnjkR1"
      },
      "source": [
        "#### **Problem #1.1.6**\n",
        "\n",
        "**Independently**, complete the code below to square the array you made above and add it to the provided array."
      ]
    },
    {
      "cell_type": "code",
      "execution_count": null,
      "metadata": {
        "id": "ei_Q3daSjkSB",
        "colab": {
          "base_uri": "https://localhost:8080/"
        },
        "outputId": "fdfef09f-ff5c-47ff-c74e-77f1300a7503"
      },
      "outputs": [
        {
          "output_type": "execute_result",
          "data": {
            "text/plain": [
              "array([  1,   4,   9,  16,  25,  36,  49,  64,  81, 100])"
            ]
          },
          "metadata": {},
          "execution_count": 8
        }
      ],
      "source": [
        "square_array = my_array ** 2\n",
        "\n",
        "square_array# COMPLETE THIS CODE"
      ]
    },
    {
      "cell_type": "markdown",
      "metadata": {
        "id": "03JxgkJzwg51"
      },
      "source": [
        "#### **Problem #1.1.7**\n",
        "\n",
        "**Independently**, create a numpy array representing the matrix below and output the element at index 1.\n",
        "\n",
        "\n",
        "<br>\n",
        "\n",
        "\n",
        "$\\begin{bmatrix} 0 & 1 \\\\ 1 & 0 \\end{bmatrix}$"
      ]
    },
    {
      "cell_type": "code",
      "execution_count": null,
      "metadata": {
        "id": "3A5CB-Dvwg6C",
        "colab": {
          "base_uri": "https://localhost:8080/"
        },
        "outputId": "15bb72b9-ced0-4153-bb16-1245965d9802"
      },
      "outputs": [
        {
          "output_type": "execute_result",
          "data": {
            "text/plain": [
              "array([1, 0])"
            ]
          },
          "metadata": {},
          "execution_count": 9
        }
      ],
      "source": [
        "box_array = np.array([[0,1], [1,0]])\n",
        "box_array[1]"
      ]
    },
    {
      "cell_type": "markdown",
      "metadata": {
        "id": "jk2kdBkpxZPZ"
      },
      "source": [
        "---\n",
        "\n",
        "#### **Wait for your instructor to continue.**\n",
        "\n",
        "---"
      ]
    },
    {
      "cell_type": "markdown",
      "metadata": {
        "id": "n8PRdL97M_By"
      },
      "source": [
        "#### **Problem #1.1.8**\n",
        "\n",
        "**Together**, let's calculate two dot products with the given arrays:\n",
        "\n",
        "1. array 1 dotted with array 2\n",
        "2. array 2 dotted with array 1\n",
        "\n",
        "<br>\n",
        "\n",
        "**NOTE**: Pay attention to whether the results are the same or different."
      ]
    },
    {
      "cell_type": "code",
      "execution_count": null,
      "metadata": {
        "id": "bZTUEFkjxVwP"
      },
      "outputs": [],
      "source": [
        "array_1 = np.array([0, 1, 2])\n",
        "array_2 = np.array([1, 1, 1])"
      ]
    },
    {
      "cell_type": "code",
      "execution_count": null,
      "metadata": {
        "id": "VAha-pwcM_By",
        "colab": {
          "base_uri": "https://localhost:8080/"
        },
        "outputId": "e0f0d323-e209-4bcd-b730-4a4cb5c419ab"
      },
      "outputs": [
        {
          "output_type": "execute_result",
          "data": {
            "text/plain": [
              "5.0"
            ]
          },
          "metadata": {},
          "execution_count": 10
        }
      ],
      "source": [
        "np.dot(array_1, array_2)"
      ]
    },
    {
      "cell_type": "code",
      "execution_count": null,
      "metadata": {
        "id": "IQ729TLyO2bs",
        "colab": {
          "base_uri": "https://localhost:8080/"
        },
        "outputId": "d42c2c69-c821-4701-a23c-ab4d3ff21990"
      },
      "outputs": [
        {
          "output_type": "execute_result",
          "data": {
            "text/plain": [
              "5.0"
            ]
          },
          "metadata": {},
          "execution_count": 11
        }
      ],
      "source": [
        "# COMPLETE THIS CODE\n",
        "np.dot(array_2, array_1)"
      ]
    },
    {
      "cell_type": "markdown",
      "metadata": {
        "id": "aqDmnQ0OOcuM"
      },
      "source": [
        "#### **Problem #1.1.9**\n",
        "\n",
        "**Together**, let's calculate two dot products with the given arrays:\n",
        "\n",
        "1. array 1 dotted with array 2\n",
        "2. array 2 dotted with array 1\n",
        "\n",
        "\n",
        "<br>\n",
        "\n",
        "**NOTE**: Pay attention to whether the results are the same or different."
      ]
    },
    {
      "cell_type": "code",
      "execution_count": null,
      "metadata": {
        "id": "St8MGPJgO-h-"
      },
      "outputs": [],
      "source": [
        "array_1 = np.array([0, 1, 2])\n",
        "array_2 = np.array([[1, 1, 1], [0, 0, 0], [0, 1, 2]])"
      ]
    },
    {
      "cell_type": "code",
      "execution_count": null,
      "metadata": {
        "id": "GUGdwyAROcuO",
        "colab": {
          "base_uri": "https://localhost:8080/"
        },
        "outputId": "148bdafb-9744-4eed-ec5f-e62c6f202482"
      },
      "outputs": [
        {
          "output_type": "execute_result",
          "data": {
            "text/plain": [
              "array([0, 2, 4])"
            ]
          },
          "metadata": {},
          "execution_count": 14
        }
      ],
      "source": [
        "# COMPLETE THIS CODE\n",
        "np.dot(array_1, array_2)"
      ]
    },
    {
      "cell_type": "code",
      "execution_count": null,
      "metadata": {
        "id": "lHfSa_ByPI2w",
        "colab": {
          "base_uri": "https://localhost:8080/"
        },
        "outputId": "9052cc0e-0069-4a38-ed90-67d9e3a1e5a1"
      },
      "outputs": [
        {
          "output_type": "execute_result",
          "data": {
            "text/plain": [
              "array([3, 0, 5])"
            ]
          },
          "metadata": {},
          "execution_count": 15
        }
      ],
      "source": [
        "# COMPLETE THIS CODE\n",
        "np.dot(array_2, array_1)"
      ]
    },
    {
      "cell_type": "markdown",
      "metadata": {
        "id": "TZdryoWfyF7L"
      },
      "source": [
        "#### **Problem #1.1.10**\n",
        "\n",
        "**Independently**, calculate three dot products with the given arrays:\n",
        "\n",
        "1. array 1 dotted with array 2\n",
        "2. array 1 dotted with itself\n",
        "3. array 2 dotted with itself\n",
        "\n",
        "<br>\n",
        "\n",
        "**NOTE**: Pay attention to whether the results are the same or different."
      ]
    },
    {
      "cell_type": "code",
      "execution_count": null,
      "metadata": {
        "id": "9mL02uvkyF7W"
      },
      "outputs": [],
      "source": [
        "array_1 = np.array([1, 0])\n",
        "array_2 = np.array([1, 1])"
      ]
    },
    {
      "cell_type": "code",
      "execution_count": null,
      "metadata": {
        "id": "fGHvk6jnyF7W",
        "colab": {
          "base_uri": "https://localhost:8080/"
        },
        "outputId": "e76a9f53-5f85-48ce-c605-76c8f4307b42"
      },
      "outputs": [
        {
          "output_type": "execute_result",
          "data": {
            "text/plain": [
              "1"
            ]
          },
          "metadata": {},
          "execution_count": 20
        }
      ],
      "source": [
        "np.dot(array_1, array_2)"
      ]
    },
    {
      "cell_type": "code",
      "execution_count": null,
      "metadata": {
        "id": "qb3BOZYyyF7W",
        "colab": {
          "base_uri": "https://localhost:8080/"
        },
        "outputId": "741e9f65-1c7c-4741-8e89-a1b82413ff83"
      },
      "outputs": [
        {
          "output_type": "execute_result",
          "data": {
            "text/plain": [
              "1"
            ]
          },
          "metadata": {},
          "execution_count": 21
        }
      ],
      "source": [
        "# COMPLETE THIS CODE\n",
        "np.dot(array_1, array_1)"
      ]
    },
    {
      "cell_type": "code",
      "execution_count": null,
      "metadata": {
        "id": "h7SKl20myT4E",
        "colab": {
          "base_uri": "https://localhost:8080/"
        },
        "outputId": "2a44d87a-4200-43a2-c48a-8f833d3cd69a"
      },
      "outputs": [
        {
          "output_type": "execute_result",
          "data": {
            "text/plain": [
              "2"
            ]
          },
          "metadata": {},
          "execution_count": 22
        }
      ],
      "source": [
        "# COMPLETE THIS CODE\n",
        "np.dot(array_2, array_2)"
      ]
    },
    {
      "cell_type": "markdown",
      "metadata": {
        "id": "IlP8Fjefyc51"
      },
      "source": [
        "#### **Problem #1.1.11**\n",
        "\n",
        "**Independently**, calculate three dot products with the given arrays:\n",
        "\n",
        "1. array 1 dotted with array 2\n",
        "2. array 2 dotted with array 1\n",
        "2. array 2 dotted with itself\n",
        "\n",
        "<br>\n",
        "\n",
        "**NOTE**: Pay attention to whether the results are the same or different."
      ]
    },
    {
      "cell_type": "code",
      "execution_count": null,
      "metadata": {
        "id": "rzeqglF2yc6A"
      },
      "outputs": [],
      "source": [
        "array_1 = np.array([1, 2])\n",
        "array_2 = np.array([[3, 4], [5, 6]])"
      ]
    },
    {
      "cell_type": "code",
      "execution_count": null,
      "metadata": {
        "id": "FxG8feOiyc6B",
        "colab": {
          "base_uri": "https://localhost:8080/"
        },
        "outputId": "e8ea662a-e45d-42df-d550-daf111537cba"
      },
      "outputs": [
        {
          "output_type": "execute_result",
          "data": {
            "text/plain": [
              "array([13, 16])"
            ]
          },
          "metadata": {},
          "execution_count": 24
        }
      ],
      "source": [
        "np.dot(array_1, array_2) # COMPLETE THIS CODE"
      ]
    },
    {
      "cell_type": "code",
      "execution_count": null,
      "metadata": {
        "id": "TCYCwhZjyc6B",
        "colab": {
          "base_uri": "https://localhost:8080/"
        },
        "outputId": "c992298c-098c-4205-9f7a-c9ea67aeb08b"
      },
      "outputs": [
        {
          "output_type": "execute_result",
          "data": {
            "text/plain": [
              "array([11, 17])"
            ]
          },
          "metadata": {},
          "execution_count": 26
        }
      ],
      "source": [
        "# COMPLETE THIS CODE\n",
        "np.dot(array_2,array_1)"
      ]
    },
    {
      "cell_type": "markdown",
      "metadata": {
        "id": "NDrGz16sLRv_"
      },
      "source": [
        "<a name=\"p1.2\"><a>\n",
        "\n",
        "---\n",
        "\n",
        "### **Part 1.2: States and Gates as NumPy Arrays**\n",
        "\n",
        "---"
      ]
    },
    {
      "cell_type": "markdown",
      "metadata": {
        "id": "mFuGCvGz03XH"
      },
      "source": [
        "#### **Problem #1.2.1**\n",
        "\n",
        "**Together**, let's create numpy arrays representing the $|0\\rangle$ and $|1\\rangle$ states and print them out."
      ]
    },
    {
      "cell_type": "code",
      "execution_count": null,
      "metadata": {
        "id": "ZaYO1ffR05kK"
      },
      "outputs": [],
      "source": [
        "zero_state = np.array([1, 0])\n",
        "one_state = np.array([0, 1])"
      ]
    },
    {
      "cell_type": "code",
      "execution_count": null,
      "metadata": {
        "id": "PTFZZUVn1V7D",
        "colab": {
          "base_uri": "https://localhost:8080/"
        },
        "outputId": "dd8a90b6-675b-4da9-faec-b1f86488d8c8"
      },
      "outputs": [
        {
          "output_type": "execute_result",
          "data": {
            "text/plain": [
              "array([1, 0])"
            ]
          },
          "metadata": {},
          "execution_count": 28
        }
      ],
      "source": [
        "zero_state"
      ]
    },
    {
      "cell_type": "code",
      "execution_count": null,
      "metadata": {
        "id": "d8ML0bI31Wdv",
        "colab": {
          "base_uri": "https://localhost:8080/"
        },
        "outputId": "a141339e-c049-4fe0-92b2-74520d076535"
      },
      "outputs": [
        {
          "output_type": "execute_result",
          "data": {
            "text/plain": [
              "array([0, 1])"
            ]
          },
          "metadata": {},
          "execution_count": 29
        }
      ],
      "source": [
        "one_state"
      ]
    },
    {
      "cell_type": "markdown",
      "metadata": {
        "id": "lKE1x-TRHsdx"
      },
      "source": [
        "#### **Problem #1.2.2**\n",
        "\n",
        "**Together**, let's create a numpy arrays representing the state $\\frac{1}{\\sqrt 3}(|0\\rangle + \\sqrt 2|1\\rangle)$ and print it out."
      ]
    },
    {
      "cell_type": "code",
      "execution_count": null,
      "metadata": {
        "id": "PnU9jTwxHsd9",
        "colab": {
          "base_uri": "https://localhost:8080/"
        },
        "outputId": "687e640b-145e-4299-c62d-770410cb576c"
      },
      "outputs": [
        {
          "output_type": "execute_result",
          "data": {
            "text/plain": [
              "array([0.57735027, 0.81649658])"
            ]
          },
          "metadata": {},
          "execution_count": 34
        }
      ],
      "source": [
        "# state = (1/3**(1/2) * (zero_state)) + (2 ** (1/2) * (one_state))# COMPLETE THIS CODE\n",
        "# state\n",
        "state = 1/3 ** (1/2) * (zero_state + 2 ** (1/2) * one_state)\n",
        "state"
      ]
    },
    {
      "cell_type": "markdown",
      "metadata": {
        "id": "ukmmYWRC1at0"
      },
      "source": [
        "#### **Problem #1.2.3**\n",
        "\n",
        "**Together**, let's take two dot products:\n",
        "\n",
        "1. The $|0\\rangle$ state with itself\n",
        "2. The $|0\\rangle$ state with the $|1\\rangle$ state"
      ]
    },
    {
      "cell_type": "code",
      "execution_count": null,
      "metadata": {
        "id": "TJxmRi3h1at7"
      },
      "outputs": [],
      "source": [
        "np.dot(# COMPLETE THIS CODE"
      ]
    },
    {
      "cell_type": "code",
      "execution_count": null,
      "metadata": {
        "id": "5b1AH0bM1at7"
      },
      "outputs": [],
      "source": [
        "# COMPLETE THIS CODE"
      ]
    },
    {
      "cell_type": "markdown",
      "metadata": {
        "id": "2ohCXO6U1svE"
      },
      "source": [
        "#### **Problem #1.2.4**\n",
        "\n",
        "**Independently**, create numpy arrays representing the $|+\\rangle$ and $|-\\rangle$ states and print them out."
      ]
    },
    {
      "cell_type": "code",
      "execution_count": null,
      "metadata": {
        "id": "6Z9nDNP31svR",
        "colab": {
          "base_uri": "https://localhost:8080/"
        },
        "outputId": "58e333d4-55d1-4127-c402-3dd9a0e5d7c2"
      },
      "outputs": [
        {
          "output_type": "execute_result",
          "data": {
            "text/plain": [
              "array([ 0.70710678, -0.70710678])"
            ]
          },
          "metadata": {},
          "execution_count": 40
        }
      ],
      "source": [
        "plus_state = 1/(2)**(1/2) * (zero_state + one_state)# COMPLETE THIS CODE\n",
        "plus_state\n",
        "minus_state = 1/(2)**(1/2) * (zero_state - one_state)\n",
        "minus_state"
      ]
    },
    {
      "cell_type": "code",
      "execution_count": null,
      "metadata": {
        "id": "GclJ4Vm-1svR"
      },
      "outputs": [],
      "source": [
        "plus_state"
      ]
    },
    {
      "cell_type": "code",
      "execution_count": null,
      "metadata": {
        "id": "XdTceSGj1svR"
      },
      "outputs": [],
      "source": [
        "minus_state"
      ]
    },
    {
      "cell_type": "markdown",
      "metadata": {
        "id": "cXWQa8AVIWhv"
      },
      "source": [
        "#### **Problem #1.2.5**\n",
        "\n",
        "**Independently**, create a numpy array representing the state $\\frac{1}{5}(3|+\\rangle + 4|-\\rangle)$ and print it out."
      ]
    },
    {
      "cell_type": "code",
      "execution_count": null,
      "metadata": {
        "id": "6dsMOYOjIWh7"
      },
      "outputs": [],
      "source": [
        "# COMPLETE THIS CODE"
      ]
    },
    {
      "cell_type": "markdown",
      "metadata": {
        "id": "01jQH5YN1_qK"
      },
      "source": [
        "#### **Problem #1.2.6**\n",
        "\n",
        "**Independently**, take the following dot products:\n",
        "\n",
        "1. The $|+\\rangle$ state with itself\n",
        "2. The $|+\\rangle$ state with the $|0\\rangle$ state\n",
        "3. The $|-\\rangle$ state with the $|1\\rangle$ state\n",
        "4. The $|+\\rangle$ state with the $|-\\rangle$ state"
      ]
    },
    {
      "cell_type": "code",
      "execution_count": null,
      "metadata": {
        "id": "e7Tor-vA1_qU"
      },
      "outputs": [],
      "source": [
        "# COMPLETE THIS CODE"
      ]
    },
    {
      "cell_type": "code",
      "execution_count": null,
      "metadata": {
        "id": "uxUKKzPW1_qU"
      },
      "outputs": [],
      "source": [
        "# COMPLETE THIS CODE"
      ]
    },
    {
      "cell_type": "code",
      "execution_count": null,
      "metadata": {
        "id": "Me05P-WL1_qU"
      },
      "outputs": [],
      "source": [
        "# COMPLETE THIS CODE"
      ]
    },
    {
      "cell_type": "code",
      "execution_count": null,
      "metadata": {
        "id": "25tM57212Qjr"
      },
      "outputs": [],
      "source": [
        "# COMPLETE THIS CODE"
      ]
    },
    {
      "cell_type": "markdown",
      "metadata": {
        "id": "IyFzDjIJ2d3Z"
      },
      "source": [
        "---\n",
        "\n",
        "#### **Wait for your instructor to continue.**\n",
        "\n",
        "---"
      ]
    },
    {
      "cell_type": "markdown",
      "metadata": {
        "id": "KLE1UlXL3nTf"
      },
      "source": [
        "#### **Problem #1.2.7**\n",
        "\n",
        "**Together**, let's create a numpy array representing the X gate and take the dot product of the X gate with the $|1\\rangle$ state.\n",
        "\n",
        "<br>\n",
        "\n",
        "**NOTE**: The matrix for the X gate is:\n",
        "$\\begin{bmatrix} 0 & 1 \\\\ 1 & 0 \\end{bmatrix}$"
      ]
    },
    {
      "cell_type": "code",
      "execution_count": null,
      "metadata": {
        "id": "wYh7L0VE38gw",
        "colab": {
          "base_uri": "https://localhost:8080/"
        },
        "outputId": "163c581c-c1e0-40cc-dcfd-2ec5bde2a91c"
      },
      "outputs": [
        {
          "output_type": "execute_result",
          "data": {
            "text/plain": [
              "array([1, 0])"
            ]
          },
          "metadata": {},
          "execution_count": 36
        }
      ],
      "source": [
        "x_gate = np.array([[0,1], [1,0]])# COMPLETE THIS CODE\n",
        "\n",
        "np.dot(x_gate, one_state)# COMPLETE THIS CODE"
      ]
    },
    {
      "cell_type": "markdown",
      "metadata": {
        "id": "V2X4ct6E4xMc"
      },
      "source": [
        "#### **Problem #1.2.8**\n",
        "\n",
        "**Independently**, create a numpy array representing the Identity gate and take the dot product of the Identity gate with the $|0\\rangle$ state.\n",
        "\n",
        "<br>\n",
        "\n",
        "**NOTE**: The matrix for the Identity gate is:\n",
        "$\\begin{bmatrix} 1 & 0 \\\\ 0 & 1 \\end{bmatrix}$"
      ]
    },
    {
      "cell_type": "code",
      "execution_count": null,
      "metadata": {
        "id": "iMf1ZBpA4xMd",
        "colab": {
          "base_uri": "https://localhost:8080/"
        },
        "outputId": "7fdf466d-1fe4-4227-eaff-196ac03c1a9b"
      },
      "outputs": [
        {
          "output_type": "execute_result",
          "data": {
            "text/plain": [
              "array([1, 0])"
            ]
          },
          "metadata": {},
          "execution_count": 37
        }
      ],
      "source": [
        "id_gate = np.array([[1,0], [0,1]])\n",
        "np.dot(id_gate, zero_state)\n",
        "# COMPLETE THIS CODE"
      ]
    },
    {
      "cell_type": "markdown",
      "metadata": {
        "id": "Y_hMcgVQ4JNC"
      },
      "source": [
        "#### **Problem #1.2.9**\n",
        "\n",
        "**Independently**, create a numpy array representing the H gate and take the dot product of the H gate with the $|1\\rangle$ state.\n",
        "\n",
        "<br>\n",
        "\n",
        "**NOTE**: The matrix for the H gate is:\n",
        "$\\frac{1}{\\sqrt 2} \\begin{bmatrix} 1 & 1 \\\\ 1 & -1 \\end{bmatrix}$"
      ]
    },
    {
      "cell_type": "code",
      "execution_count": null,
      "metadata": {
        "id": "Ei6ejsQ14JNC",
        "colab": {
          "base_uri": "https://localhost:8080/"
        },
        "outputId": "5f5531c3-299c-4bfc-9a12-c2390c4041fc"
      },
      "outputs": [
        {
          "output_type": "execute_result",
          "data": {
            "text/plain": [
              "array([ 0.70710678, -0.70710678])"
            ]
          },
          "metadata": {},
          "execution_count": 38
        }
      ],
      "source": [
        "h_gate = 1/2**(1/2) * np.array([[1, 1], [1, -1]])# COMPLETE THIS CODE\n",
        "\n",
        "# COMPLETE THIS CODE\n",
        "np.dot(h_gate, one_state)"
      ]
    },
    {
      "cell_type": "markdown",
      "metadata": {
        "id": "NSuUV9BQ-mjl"
      },
      "source": [
        "#### **Problem #1.2.10**\n",
        "\n",
        "**Independently**, take the dot product of the H gate with the $|-\\rangle$ state."
      ]
    },
    {
      "cell_type": "code",
      "execution_count": null,
      "metadata": {
        "id": "VdbWrKTq-mjx",
        "colab": {
          "base_uri": "https://localhost:8080/"
        },
        "outputId": "6bcd55e5-b5a5-4221-c9c5-e27d4ce10d78"
      },
      "outputs": [
        {
          "output_type": "execute_result",
          "data": {
            "text/plain": [
              "array([2.23711432e-17, 1.00000000e+00])"
            ]
          },
          "metadata": {},
          "execution_count": 41
        }
      ],
      "source": [
        "# COMPLETE THIS CODE\n",
        "np.dot(h_gate, minus_state)"
      ]
    },
    {
      "cell_type": "markdown",
      "metadata": {
        "id": "TscGsxQe4sjY"
      },
      "source": [
        "---\n",
        "\n",
        "#### **Wait for your instructor to continue.**\n",
        "\n",
        "---"
      ]
    },
    {
      "cell_type": "markdown",
      "metadata": {
        "id": "nNapoDJu4toi"
      },
      "source": [
        "#### **Problem #1.2.11**\n",
        "\n",
        "**Together**, let's calculate the probability of measuring 0 in the $|+\\rangle$ state.\n",
        "\n",
        "<br>\n",
        "\n"
      ]
    },
    {
      "cell_type": "code",
      "execution_count": null,
      "metadata": {
        "id": "Ok772kDm4tow",
        "colab": {
          "base_uri": "https://localhost:8080/"
        },
        "outputId": "321759ba-462b-49b6-e87e-dedf517404f6"
      },
      "outputs": [
        {
          "output_type": "execute_result",
          "data": {
            "text/plain": [
              "0.4999999999999999"
            ]
          },
          "metadata": {},
          "execution_count": 42
        }
      ],
      "source": [
        "probabilities = plus_state ** 2 # COMPLETE THIS CODE\n",
        "probabilities[0]"
      ]
    },
    {
      "cell_type": "markdown",
      "metadata": {
        "id": "XbrfNBht_Qkg"
      },
      "source": [
        "#### **Problem #1.2.12**\n",
        "\n",
        "**Together**, let's calculate the probability of measuring 1 after applying the H gate to the minus state.\n",
        "\n",
        "<br>\n",
        "\n"
      ]
    },
    {
      "cell_type": "code",
      "execution_count": null,
      "metadata": {
        "id": "ewbN1aLU_Qkq",
        "colab": {
          "base_uri": "https://localhost:8080/"
        },
        "outputId": "a68cad22-b4e4-43ad-eb99-d43cde35b52e"
      },
      "outputs": [
        {
          "output_type": "execute_result",
          "data": {
            "text/plain": [
              "0.4999999999999999"
            ]
          },
          "metadata": {},
          "execution_count": 43
        }
      ],
      "source": [
        "probabilities = minus_state ** 2\n",
        "probabilities[1]"
      ]
    },
    {
      "cell_type": "markdown",
      "metadata": {
        "id": "09aWPc4zI7_T"
      },
      "source": [
        "#### **Problem #1.2.13**\n",
        "\n",
        "**Independently**, calculate the probability of measuring 0 in the state $\\frac{1}{5}(3|0\\rangle + 4|1\\rangle)$.\n",
        "\n",
        "<br>\n",
        "\n"
      ]
    },
    {
      "cell_type": "code",
      "execution_count": null,
      "metadata": {
        "id": "l_fY4YdAI7_f",
        "colab": {
          "base_uri": "https://localhost:8080/"
        },
        "outputId": "07e9b1f7-58db-4f50-a737-9937d2a283ee"
      },
      "outputs": [
        {
          "output_type": "execute_result",
          "data": {
            "text/plain": [
              "0.3600000000000001"
            ]
          },
          "metadata": {},
          "execution_count": 45
        }
      ],
      "source": [
        "state = (1/5) * (3 * zero_state + 4 * one_state)\n",
        "\n",
        "probabilities = state ** 2\n",
        "probabilities[0]"
      ]
    },
    {
      "cell_type": "markdown",
      "metadata": {
        "id": "X6OPNJFXLR5p"
      },
      "source": [
        "<a name=\"p2\"><a>\n",
        "\n",
        "---\n",
        "\n",
        "## **Part 2: The Quantum Simulator**\n",
        "\n",
        "---"
      ]
    },
    {
      "cell_type": "markdown",
      "metadata": {
        "id": "sGUC8fxiJR72"
      },
      "source": [
        "<a name = \"p2.1\"></a>\n",
        "\n",
        "---\n",
        "\n",
        "### **Part 2.1: Single Qubit Simulator**\n",
        "\n",
        "---\n",
        "\n",
        "**Run the code below to ensure all the states and gates from above are defined.**"
      ]
    },
    {
      "cell_type": "code",
      "execution_count": null,
      "metadata": {
        "id": "qbSiHxhZAFBF"
      },
      "outputs": [],
      "source": [
        "zero_state = np.array([1, 0])\n",
        "one_state = np.array([0, 1])\n",
        "plus_state = 1/2**(1/2) * np.array([1, 1])\n",
        "minus_state = 1/2**(1/2) * np.array([1, -1])\n",
        "\n",
        "\n",
        "id_gate = np.array([[1, 0], [0, 1]])\n",
        "x_gate = np.array([[0, 1], [1, 0]])\n",
        "h_gate = 1/2**(1/2) * np.array([[1, 1], [1, -1]])"
      ]
    },
    {
      "cell_type": "markdown",
      "metadata": {
        "id": "JcgDnhZPBJ9N"
      },
      "source": [
        "#### **Problem #2.1.1**\n",
        "\n",
        "**Together**, let's combine what we've learned above to produce a list of measurement probabilities after applying the gates in the `circuit` list to the zero state."
      ]
    },
    {
      "cell_type": "code",
      "execution_count": null,
      "metadata": {
        "id": "rbJ2Bev-CKWw",
        "colab": {
          "base_uri": "https://localhost:8080/"
        },
        "outputId": "00f5acc9-691a-4a55-8f07-a993e171273f"
      },
      "outputs": [
        {
          "output_type": "stream",
          "name": "stdout",
          "text": [
            "[0.70710678 0.70710678]\n"
          ]
        },
        {
          "output_type": "execute_result",
          "data": {
            "text/plain": [
              "array([0.5, 0.5])"
            ]
          },
          "metadata": {},
          "execution_count": 47
        }
      ],
      "source": [
        "state = zero_state\n",
        "circuit = [x_gate, h_gate]\n",
        "\n",
        "for gate in circuit:\n",
        "\n",
        "  state = np.dot(zero_state, gate)\n",
        "\n",
        "print(state)\n",
        "\n",
        "probabilities = state ** 2\n",
        "probabilities"
      ]
    },
    {
      "cell_type": "markdown",
      "metadata": {
        "id": "7dzC09dLlEhm"
      },
      "source": [
        "#End of notebook\n",
        "---\n",
        "© 2024 The Coding School, All rights reserved"
      ]
    }
  ],
  "metadata": {
    "colab": {
      "collapsed_sections": [
        "LqLE20h4u_Wq",
        "RumubxDkMQq5",
        "n8PRdL97M_By",
        "aqDmnQ0OOcuM",
        "TZdryoWfyF7L",
        "IlP8Fjefyc51",
        "mFuGCvGz03XH",
        "lKE1x-TRHsdx",
        "ukmmYWRC1at0",
        "2ohCXO6U1svE",
        "cXWQa8AVIWhv",
        "01jQH5YN1_qK",
        "JcgDnhZPBJ9N",
        "HbWZsQ0BKgbf",
        "wzz5gm4fK2Wg",
        "mGxBg_O2K55T",
        "JAa7X3sHLXBj",
        "n1qTqx2MLmQz",
        "N4Nl4SamLtDG",
        "-5DmFf9dMaim"
      ],
      "provenance": [],
      "toc_visible": true
    },
    "kernelspec": {
      "display_name": "Python 3",
      "name": "python3"
    },
    "language_info": {
      "name": "python"
    }
  },
  "nbformat": 4,
  "nbformat_minor": 0
}