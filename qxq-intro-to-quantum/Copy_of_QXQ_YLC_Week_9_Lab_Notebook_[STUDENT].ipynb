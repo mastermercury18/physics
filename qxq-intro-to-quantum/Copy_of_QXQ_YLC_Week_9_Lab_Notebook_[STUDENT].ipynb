{
  "nbformat": 4,
  "nbformat_minor": 0,
  "metadata": {
    "colab": {
      "provenance": [],
      "toc_visible": true
    },
    "kernelspec": {
      "name": "python3",
      "display_name": "Python 3"
    },
    "language_info": {
      "name": "python"
    }
  },
  "cells": [
    {
      "cell_type": "markdown",
      "metadata": {
        "id": "EN-xuGnTAFTS"
      },
      "source": [
        "# **Lab 9: Ιmplementing BB84 - Part I**\n",
        "---\n",
        "\n",
        "### **Description**\n",
        "In today's lab, you will learn how to implement the BB84 protocol between Alice and Bob using cirq.\n",
        "\n",
        "<br>\n",
        "\n",
        "### **Lab Structure**\n",
        "**Part 1**: [Learning the Tools](#p1)\n",
        ">\n",
        "> **Part 1.1**: [Python's `choices(...)`](#p1.1)\n",
        ">\n",
        "> **Part 1.2**: [Python Dictionaries](#p1.2)\n",
        ">\n",
        "> **Part 1.3**: [Python Loops](#p1.3)\n",
        "\n",
        "**Part 2**: [Implementing BB84 in Python](#p2)\n",
        ">\n",
        "> **Part 2.1**: [The Set Up](#p2.1)\n",
        ">\n",
        "> **Part 2.2**: [Implementing the Steps](#p2.2)\n",
        "\n",
        "\n",
        "<br>\n",
        "\n",
        "### **Learning Objectives**\n",
        "By the end of this lab, you will:\n",
        "* Recognize how to use three useful python tools: the choices function, dictionaries, and loops.\n",
        "\n",
        "* Recognize how to implement the steps of BB84 between Alice and Bob using cirq.\n",
        "\n",
        "<br>\n",
        "\n",
        "### **Resources**\n",
        "* [BB84 Cheat Sheet](https://docs.google.com/document/d/1FTBVWQsRVPvuP5e4lo3D62F0NOyfA1qIIPrDnocV6nc/edit)\n",
        "\n",
        "<br>\n",
        "\n",
        "**Before starting, run the code below to import all necessary functions and libraries.**"
      ]
    },
    {
      "cell_type": "code",
      "execution_count": null,
      "metadata": {
        "id": "K96jXNozAFTW",
        "colab": {
          "base_uri": "https://localhost:8080/"
        },
        "outputId": "316884c6-eb40-4674-d511-189644cce056"
      },
      "outputs": [
        {
          "output_type": "stream",
          "name": "stdout",
          "text": [
            "\u001b[2K     \u001b[90m━━━━━━━━━━━━━━━━━━━━━━━━━━━━━━━━━━━━━━━━\u001b[0m \u001b[32m1.8/1.8 MB\u001b[0m \u001b[31m10.8 MB/s\u001b[0m eta \u001b[36m0:00:00\u001b[0m\n",
            "\u001b[2K     \u001b[90m━━━━━━━━━━━━━━━━━━━━━━━━━━━━━━━━━━━━━━━━\u001b[0m \u001b[32m143.1/143.1 kB\u001b[0m \u001b[31m12.4 MB/s\u001b[0m eta \u001b[36m0:00:00\u001b[0m\n",
            "\u001b[2K     \u001b[90m━━━━━━━━━━━━━━━━━━━━━━━━━━━━━━━━━━━━━━━━\u001b[0m \u001b[32m598.8/598.8 kB\u001b[0m \u001b[31m19.0 MB/s\u001b[0m eta \u001b[36m0:00:00\u001b[0m\n",
            "\u001b[2K     \u001b[90m━━━━━━━━━━━━━━━━━━━━━━━━━━━━━━━━━━━━━━━━\u001b[0m \u001b[32m60.9/60.9 kB\u001b[0m \u001b[31m7.0 MB/s\u001b[0m eta \u001b[36m0:00:00\u001b[0m\n",
            "\u001b[2K     \u001b[90m━━━━━━━━━━━━━━━━━━━━━━━━━━━━━━━━━━━━━━━━\u001b[0m \u001b[32m66.2/66.2 kB\u001b[0m \u001b[31m7.3 MB/s\u001b[0m eta \u001b[36m0:00:00\u001b[0m\n",
            "\u001b[2K     \u001b[90m━━━━━━━━━━━━━━━━━━━━━━━━━━━━━━━━━━━━━━━━\u001b[0m \u001b[32m596.5/596.5 kB\u001b[0m \u001b[31m19.6 MB/s\u001b[0m eta \u001b[36m0:00:00\u001b[0m\n",
            "\u001b[2K     \u001b[90m━━━━━━━━━━━━━━━━━━━━━━━━━━━━━━━━━━━━━━━━\u001b[0m \u001b[32m223.8/223.8 kB\u001b[0m \u001b[31m18.3 MB/s\u001b[0m eta \u001b[36m0:00:00\u001b[0m\n",
            "\u001b[2K     \u001b[90m━━━━━━━━━━━━━━━━━━━━━━━━━━━━━━━━━━━━━━━━\u001b[0m \u001b[32m229.9/229.9 kB\u001b[0m \u001b[31m20.2 MB/s\u001b[0m eta \u001b[36m0:00:00\u001b[0m\n",
            "\u001b[?25h  Preparing metadata (setup.py) ... \u001b[?25l\u001b[?25hdone\n",
            "\u001b[2K     \u001b[90m━━━━━━━━━━━━━━━━━━━━━━━━━━━━━━━━━━━━━━━━\u001b[0m \u001b[32m151.7/151.7 kB\u001b[0m \u001b[31m17.6 MB/s\u001b[0m eta \u001b[36m0:00:00\u001b[0m\n",
            "\u001b[2K     \u001b[90m━━━━━━━━━━━━━━━━━━━━━━━━━━━━━━━━━━━━━━━━\u001b[0m \u001b[32m45.6/45.6 kB\u001b[0m \u001b[31m5.8 MB/s\u001b[0m eta \u001b[36m0:00:00\u001b[0m\n",
            "\u001b[?25h  Preparing metadata (setup.py) ... \u001b[?25l\u001b[?25hdone\n",
            "\u001b[2K     \u001b[90m━━━━━━━━━━━━━━━━━━━━━━━━━━━━━━━━━━━━━━━━\u001b[0m \u001b[32m1.6/1.6 MB\u001b[0m \u001b[31m28.8 MB/s\u001b[0m eta \u001b[36m0:00:00\u001b[0m\n",
            "\u001b[2K     \u001b[90m━━━━━━━━━━━━━━━━━━━━━━━━━━━━━━━━━━━━━━━━\u001b[0m \u001b[32m151.7/151.7 kB\u001b[0m \u001b[31m15.9 MB/s\u001b[0m eta \u001b[36m0:00:00\u001b[0m\n",
            "\u001b[2K     \u001b[90m━━━━━━━━━━━━━━━━━━━━━━━━━━━━━━━━━━━━━━━━\u001b[0m \u001b[32m151.7/151.7 kB\u001b[0m \u001b[31m15.5 MB/s\u001b[0m eta \u001b[36m0:00:00\u001b[0m\n",
            "\u001b[2K     \u001b[90m━━━━━━━━━━━━━━━━━━━━━━━━━━━━━━━━━━━━━━━━\u001b[0m \u001b[32m147.4/147.4 kB\u001b[0m \u001b[31m15.3 MB/s\u001b[0m eta \u001b[36m0:00:00\u001b[0m\n",
            "\u001b[2K     \u001b[90m━━━━━━━━━━━━━━━━━━━━━━━━━━━━━━━━━━━━━━━━\u001b[0m \u001b[32m147.4/147.4 kB\u001b[0m \u001b[31m16.0 MB/s\u001b[0m eta \u001b[36m0:00:00\u001b[0m\n",
            "\u001b[2K     \u001b[90m━━━━━━━━━━━━━━━━━━━━━━━━━━━━━━━━━━━━━━━━\u001b[0m \u001b[32m147.4/147.4 kB\u001b[0m \u001b[31m17.8 MB/s\u001b[0m eta \u001b[36m0:00:00\u001b[0m\n",
            "\u001b[2K     \u001b[90m━━━━━━━━━━━━━━━━━━━━━━━━━━━━━━━━━━━━━━━━\u001b[0m \u001b[32m142.7/142.7 kB\u001b[0m \u001b[31m14.8 MB/s\u001b[0m eta \u001b[36m0:00:00\u001b[0m\n",
            "\u001b[2K     \u001b[90m━━━━━━━━━━━━━━━━━━━━━━━━━━━━━━━━━━━━━━━━\u001b[0m \u001b[32m84.7/84.7 kB\u001b[0m \u001b[31m8.9 MB/s\u001b[0m eta \u001b[36m0:00:00\u001b[0m\n",
            "\u001b[2K     \u001b[90m━━━━━━━━━━━━━━━━━━━━━━━━━━━━━━━━━━━━━━━━\u001b[0m \u001b[32m83.6/83.6 kB\u001b[0m \u001b[31m10.8 MB/s\u001b[0m eta \u001b[36m0:00:00\u001b[0m\n",
            "\u001b[2K     \u001b[90m━━━━━━━━━━━━━━━━━━━━━━━━━━━━━━━━━━━━━━━━\u001b[0m \u001b[32m83.3/83.3 kB\u001b[0m \u001b[31m9.3 MB/s\u001b[0m eta \u001b[36m0:00:00\u001b[0m\n",
            "\u001b[2K     \u001b[90m━━━━━━━━━━━━━━━━━━━━━━━━━━━━━━━━━━━━━━━━\u001b[0m \u001b[32m83.4/83.4 kB\u001b[0m \u001b[31m9.8 MB/s\u001b[0m eta \u001b[36m0:00:00\u001b[0m\n",
            "\u001b[2K     \u001b[90m━━━━━━━━━━━━━━━━━━━━━━━━━━━━━━━━━━━━━━━━\u001b[0m \u001b[32m83.2/83.2 kB\u001b[0m \u001b[31m8.7 MB/s\u001b[0m eta \u001b[36m0:00:00\u001b[0m\n",
            "\u001b[2K     \u001b[90m━━━━━━━━━━━━━━━━━━━━━━━━━━━━━━━━━━━━━━━━\u001b[0m \u001b[32m82.5/82.5 kB\u001b[0m \u001b[31m10.3 MB/s\u001b[0m eta \u001b[36m0:00:00\u001b[0m\n",
            "\u001b[2K     \u001b[90m━━━━━━━━━━━━━━━━━━━━━━━━━━━━━━━━━━━━━━━━\u001b[0m \u001b[32m81.0/81.0 kB\u001b[0m \u001b[31m8.2 MB/s\u001b[0m eta \u001b[36m0:00:00\u001b[0m\n",
            "\u001b[2K     \u001b[90m━━━━━━━━━━━━━━━━━━━━━━━━━━━━━━━━━━━━━━━━\u001b[0m \u001b[32m81.0/81.0 kB\u001b[0m \u001b[31m8.6 MB/s\u001b[0m eta \u001b[36m0:00:00\u001b[0m\n",
            "\u001b[2K     \u001b[90m━━━━━━━━━━━━━━━━━━━━━━━━━━━━━━━━━━━━━━━━\u001b[0m \u001b[32m80.8/80.8 kB\u001b[0m \u001b[31m7.8 MB/s\u001b[0m eta \u001b[36m0:00:00\u001b[0m\n",
            "\u001b[2K     \u001b[90m━━━━━━━━━━━━━━━━━━━━━━━━━━━━━━━━━━━━━━━━\u001b[0m \u001b[32m80.7/80.7 kB\u001b[0m \u001b[31m8.9 MB/s\u001b[0m eta \u001b[36m0:00:00\u001b[0m\n",
            "\u001b[2K     \u001b[90m━━━━━━━━━━━━━━━━━━━━━━━━━━━━━━━━━━━━━━━━\u001b[0m \u001b[32m81.5/81.5 kB\u001b[0m \u001b[31m9.1 MB/s\u001b[0m eta \u001b[36m0:00:00\u001b[0m\n",
            "\u001b[2K     \u001b[90m━━━━━━━━━━━━━━━━━━━━━━━━━━━━━━━━━━━━━━━━\u001b[0m \u001b[32m90.4/90.4 kB\u001b[0m \u001b[31m10.3 MB/s\u001b[0m eta \u001b[36m0:00:00\u001b[0m\n",
            "\u001b[2K     \u001b[90m━━━━━━━━━━━━━━━━━━━━━━━━━━━━━━━━━━━━━━━━\u001b[0m \u001b[32m117.7/117.7 kB\u001b[0m \u001b[31m13.8 MB/s\u001b[0m eta \u001b[36m0:00:00\u001b[0m\n",
            "\u001b[2K     \u001b[90m━━━━━━━━━━━━━━━━━━━━━━━━━━━━━━━━━━━━━━━━\u001b[0m \u001b[32m60.6/60.6 kB\u001b[0m \u001b[31m7.5 MB/s\u001b[0m eta \u001b[36m0:00:00\u001b[0m\n",
            "\u001b[2K     \u001b[90m━━━━━━━━━━━━━━━━━━━━━━━━━━━━━━━━━━━━━━━━\u001b[0m \u001b[32m71.5/71.5 kB\u001b[0m \u001b[31m8.4 MB/s\u001b[0m eta \u001b[36m0:00:00\u001b[0m\n",
            "\u001b[2K     \u001b[90m━━━━━━━━━━━━━━━━━━━━━━━━━━━━━━━━━━━━━━━━\u001b[0m \u001b[32m1.7/1.7 MB\u001b[0m \u001b[31m33.7 MB/s\u001b[0m eta \u001b[36m0:00:00\u001b[0m\n",
            "\u001b[2K     \u001b[90m━━━━━━━━━━━━━━━━━━━━━━━━━━━━━━━━━━━━━━━━\u001b[0m \u001b[32m116.4/116.4 kB\u001b[0m \u001b[31m12.6 MB/s\u001b[0m eta \u001b[36m0:00:00\u001b[0m\n",
            "\u001b[2K     \u001b[90m━━━━━━━━━━━━━━━━━━━━━━━━━━━━━━━━━━━━━━━━\u001b[0m \u001b[32m69.6/69.6 kB\u001b[0m \u001b[31m8.1 MB/s\u001b[0m eta \u001b[36m0:00:00\u001b[0m\n",
            "\u001b[2K     \u001b[90m━━━━━━━━━━━━━━━━━━━━━━━━━━━━━━━━━━━━━━━━\u001b[0m \u001b[32m526.7/526.7 kB\u001b[0m \u001b[31m30.9 MB/s\u001b[0m eta \u001b[36m0:00:00\u001b[0m\n",
            "\u001b[2K     \u001b[90m━━━━━━━━━━━━━━━━━━━━━━━━━━━━━━━━━━━━━━━━\u001b[0m \u001b[32m58.3/58.3 kB\u001b[0m \u001b[31m6.9 MB/s\u001b[0m eta \u001b[36m0:00:00\u001b[0m\n",
            "\u001b[?25h  Building wheel for lark (setup.py) ... \u001b[?25l\u001b[?25hdone\n",
            "  Building wheel for rpcq (setup.py) ... \u001b[?25l\u001b[?25hdone\n",
            "\u001b[31mERROR: pip's dependency resolver does not currently take into account all the packages that are installed. This behaviour is the source of the following dependency conflicts.\n",
            "lida 0.0.10 requires fastapi, which is not installed.\n",
            "lida 0.0.10 requires kaleido, which is not installed.\n",
            "lida 0.0.10 requires python-multipart, which is not installed.\n",
            "lida 0.0.10 requires uvicorn, which is not installed.\n",
            "referencing 0.31.1 requires attrs>=22.2.0, but you have attrs 21.4.0 which is incompatible.\u001b[0m\u001b[31m\n",
            "\u001b[0m"
          ]
        }
      ],
      "source": [
        "!pip install cirq --quiet\n",
        "import cirq\n",
        "\n",
        "from random import choices"
      ]
    },
    {
      "cell_type": "markdown",
      "source": [
        "<a name=\"p2\"></a>\n",
        "\n",
        "---\n",
        "## **Part 2: Implementing BB84 in Python**\n",
        "---"
      ],
      "metadata": {
        "id": "ab55dvbqUUiM"
      }
    },
    {
      "cell_type": "markdown",
      "source": [
        "<a name=\"p2.1\"></a>\n",
        "\n",
        "---\n",
        "### **Part 2.1: The Set Up**\n",
        "---"
      ],
      "metadata": {
        "id": "OlnXiY5fuo4Y"
      }
    },
    {
      "cell_type": "markdown",
      "source": [
        "#### **Problem #2.1.1**\n",
        "\n",
        "**Together**, let's define a dictionary called `encode_gates` that specify which gates to apply based on the bit value. In other words, create the following key, value pairs:\n",
        "\n",
        "* `0`: `cirq.I`\n",
        "* `1`: `cirq.X`"
      ],
      "metadata": {
        "id": "BXL34RPyuKGa"
      }
    },
    {
      "cell_type": "code",
      "source": [
        "encode_gates = {0: cirq.I, 1: cirq.X} # COMPLETE THIS CODE"
      ],
      "metadata": {
        "id": "YleRMoZLuKGn"
      },
      "execution_count": null,
      "outputs": []
    },
    {
      "cell_type": "markdown",
      "source": [
        "#### **Problem #2.1.2**\n",
        "\n",
        "**Together**, let's define a dictionary called `basis_gates` that specify which gates to apply based on the basis. In other words, create the following key, value pairs:\n",
        "\n",
        "* `'Z'`: `cirq.I`\n",
        "* `'X'`: `cirq.H`"
      ],
      "metadata": {
        "id": "794rMsvGugyZ"
      }
    },
    {
      "cell_type": "code",
      "source": [
        "basis_gates = {'Z': cirq.I, 'X': cirq.H} # COMPLETE THIS CODE"
      ],
      "metadata": {
        "id": "YWYmajMeugym"
      },
      "execution_count": null,
      "outputs": []
    },
    {
      "cell_type": "markdown",
      "source": [
        "#### **Problem #2.1.3**\n",
        "\n",
        "**Together**, let's create a list of `NamedQubit`s that is `num_bits` long and has the prefix `q`."
      ],
      "metadata": {
        "id": "obSivlGdu7SL"
      }
    },
    {
      "cell_type": "code",
      "source": [
        "num_bits = 5\n",
        "qubits =  cirq.NamedQubit.range(num_bits, prefix = \"q\")\n",
        "qubits"
      ],
      "metadata": {
        "id": "PqoEzmjgu7Sl",
        "colab": {
          "base_uri": "https://localhost:8080/"
        },
        "outputId": "2c8587da-3e29-4903-c218-bd3f342a833d"
      },
      "execution_count": null,
      "outputs": [
        {
          "output_type": "execute_result",
          "data": {
            "text/plain": [
              "[cirq.NamedQubit('q0'),\n",
              " cirq.NamedQubit('q1'),\n",
              " cirq.NamedQubit('q2'),\n",
              " cirq.NamedQubit('q3'),\n",
              " cirq.NamedQubit('q4')]"
            ]
          },
          "metadata": {},
          "execution_count": 73
        }
      ]
    },
    {
      "cell_type": "markdown",
      "source": [
        "<a name=\"p2.2\"></a>\n",
        "\n",
        "---\n",
        "### **Part 2.2: Implementing the Steps**\n",
        "---"
      ],
      "metadata": {
        "id": "R4SKqBrDvIpu"
      }
    },
    {
      "cell_type": "markdown",
      "source": [
        "<a name=\"s1\"></a>\n",
        "\n",
        "#### **Step #1: Alice Randomly Chooses Bits**\n",
        "\n",
        "Let's start by using python's `choices(...)` function to create Alice's key of random bits that is `num_bits` long."
      ],
      "metadata": {
        "id": "RGNVXnRsVJPw"
      }
    },
    {
      "cell_type": "code",
      "execution_count": null,
      "metadata": {
        "id": "HIvctDslAFTY",
        "colab": {
          "base_uri": "https://localhost:8080/"
        },
        "outputId": "edd717b2-2bf7-49a4-b2d9-2ba65fbe1655"
      },
      "outputs": [
        {
          "output_type": "stream",
          "name": "stdout",
          "text": [
            "[1, 0, 0, 1, 0]\n"
          ]
        }
      ],
      "source": [
        "alice_key = choices([0, 1], k=num_bits)\n",
        "\n",
        "# COMPLETE THIS CODE\n",
        "\n",
        "print(alice_key)"
      ]
    },
    {
      "cell_type": "markdown",
      "source": [
        "<a name=\"s2\"></a>\n",
        "\n",
        "#### **Step #2: Alice Randomly Chooses Bases**\n",
        "\n",
        "Next, let's use python's `choices(...)` function to create Alice's `num_bits` basis choices."
      ],
      "metadata": {
        "id": "pE8itZjgYTZK"
      }
    },
    {
      "cell_type": "code",
      "execution_count": null,
      "metadata": {
        "id": "jSi9wTiSYTZU",
        "colab": {
          "base_uri": "https://localhost:8080/"
        },
        "outputId": "61a530a5-5bb3-43f3-a3b9-b7f6f05cec6c"
      },
      "outputs": [
        {
          "output_type": "stream",
          "name": "stdout",
          "text": [
            "['Z', 'X', 'X', 'X', 'Z']\n"
          ]
        }
      ],
      "source": [
        "alice_bases = choices(['Z', 'X'], k=num_bits)\n",
        "\n",
        "print(alice_bases)"
      ]
    },
    {
      "cell_type": "markdown",
      "source": [
        "<a name=\"s3\"></a>\n",
        "\n",
        "#### **Step #3: Alice Creates Qubits**\n",
        "\n",
        "In this step, Alice creates her qubits based on her choice of bit and basis. Complete the code below so that the appropriate gates are appended to `alice_circuit` within the loop."
      ],
      "metadata": {
        "id": "4H1IFYzZZLwc"
      }
    },
    {
      "cell_type": "code",
      "execution_count": null,
      "metadata": {
        "id": "WT-1YzpcZLw5",
        "colab": {
          "base_uri": "https://localhost:8080/"
        },
        "outputId": "13c9eefc-4430-493b-dfae-242712e5b015"
      },
      "outputs": [
        {
          "output_type": "stream",
          "name": "stdout",
          "text": [
            "q0: ───X───I───\n",
            "\n",
            "q1: ───I───H───\n",
            "\n",
            "q2: ───I───H───\n",
            "\n",
            "q3: ───X───H───\n",
            "\n",
            "q4: ───I───I───\n"
          ]
        }
      ],
      "source": [
        "alice_circuit = cirq.Circuit()\n",
        "\n",
        "for bit in range(num_bits):# COMPLETE THIS CODE\n",
        "\n",
        "  encode_value = alice_key[bit]\n",
        "  encode_gate = encode_gates[encode_value] # COMPLETE THIS CODE\n",
        "\n",
        "  basis_value = alice_bases[bit]\n",
        "  basis_gate = basis_gates[basis_value] # COMPLETE THIS CODE\n",
        "\n",
        "  qubit = qubits[bit] # COMPLETE THIS CODE\n",
        "  alice_circuit.append(encode_gate(qubit))# COMPLETE THIS CODE\n",
        "  alice_circuit.append(basis_gate(qubit))# COMPLETE THIS CODE\n",
        "\n",
        "print(alice_circuit)"
      ]
    },
    {
      "cell_type": "markdown",
      "source": [
        "<a name=\"s4\"></a>\n",
        "\n",
        "#### **Step #4: Alice Sends the Qubits to Bob**\n",
        "\n",
        "This step doesn't require us to do anything in Python. However, in real life, this would be where Alice sends Bob the qubits through a public quantum channel."
      ],
      "metadata": {
        "id": "HJ_zutURbpVZ"
      }
    },
    {
      "cell_type": "markdown",
      "source": [
        "<a name=\"s5\"></a>\n",
        "\n",
        "#### **Step #5: Bob Randomly Chooses Bases**\n",
        "\n",
        "Now, Bob will randomly pick `num_bits` bases and apply the appropriate gates to the qubits he received, `qubits`. Complete the code below to accomplish this for each qubit."
      ],
      "metadata": {
        "id": "ipUeaRgNb-Pc"
      }
    },
    {
      "cell_type": "code",
      "source": [
        "bob_bases = choices([\"Z\", \"X\"], k=num_bits)# COMPLETE THIS CODE\n",
        "\n",
        "\n",
        "bob_circuit = cirq.Circuit()\n",
        "\n",
        "for i in range(num_bits): # COMPLETE THIS CODE\n",
        "\n",
        "  basis_value = bob_bases[i] # COMPLETE THIS CODE\n",
        "  basis_gate = basis_gates[basis_value] # COMPLETE THIS CODE\n",
        "\n",
        "  qubit = qubits[bit]# COMPLETE THIS CODE\n",
        "  bob_circuit.append(basis_gate(qubit))# COMPLETE THIS CODE\n",
        "\n",
        "print(bob_circuit)"
      ],
      "metadata": {
        "id": "76L0KI3icfuZ",
        "colab": {
          "base_uri": "https://localhost:8080/"
        },
        "outputId": "e7e8e931-1b4f-472d-9149-53347174e4a1"
      },
      "execution_count": null,
      "outputs": [
        {
          "output_type": "stream",
          "name": "stdout",
          "text": [
            "q4: ───H───I───H───H───I───\n"
          ]
        }
      ]
    },
    {
      "cell_type": "markdown",
      "source": [
        "<a name=\"s6\"></a>\n",
        "\n",
        "#### **Step #6: Bob Measures the Qubits**\n",
        "\n",
        "Now, Bob will make a measurement of all of the qubits. Complete the code below to append this action to `bob_circuit`. Ensure the measure method is given the parameter `key = 'bob key'` so that we can easily retrieve this result later."
      ],
      "metadata": {
        "id": "SYDAI3GLeijE"
      }
    },
    {
      "cell_type": "code",
      "source": [
        "bob_circuit.append(cirq.measure(qubits, key = 'bob key')) # COMPLETE THIS CODE, key = '# COMPLETE THIS CODE\n",
        "\n",
        "print(bob_circuit)"
      ],
      "metadata": {
        "id": "x-4a5ubueijO",
        "colab": {
          "base_uri": "https://localhost:8080/"
        },
        "outputId": "f5d5b61c-04c6-4432-926c-ce6c46fb458e"
      },
      "execution_count": null,
      "outputs": [
        {
          "output_type": "stream",
          "name": "stdout",
          "text": [
            "q0: ───────────────────────M('bob key')───\n",
            "                           │\n",
            "q1: ───────────────────────M──────────────\n",
            "                           │\n",
            "q2: ───────────────────────M──────────────\n",
            "                           │\n",
            "q3: ───────────────────────M──────────────\n",
            "                           │\n",
            "q4: ───H───I───H───H───I───M──────────────\n"
          ]
        }
      ]
    },
    {
      "cell_type": "markdown",
      "source": [
        "<a name=\"s7\"></a>\n",
        "\n",
        "#### **Step #7: Bob Creates a Key**\n",
        "\n",
        "Now, Bob will create his key from the mesurement result of each qubit.\n",
        "\n",
        "<br>\n",
        "\n",
        "**Run the code below to accomplish this step.**"
      ],
      "metadata": {
        "id": "MPLUATPCxK7N"
      }
    },
    {
      "cell_type": "code",
      "source": [
        "bb84_circuit = alice_circuit + bob_circuit\n",
        "\n",
        "sim = cirq.Simulator()\n",
        "results = sim.run(bb84_circuit)\n",
        "bob_key = results.measurements['bob key'][0]\n",
        "\n",
        "print(bob_key)"
      ],
      "metadata": {
        "colab": {
          "base_uri": "https://localhost:8080/"
        },
        "id": "FSryZjg2xK7O",
        "outputId": "66555a34-73f7-46ed-a138-a3d51d98850b"
      },
      "execution_count": null,
      "outputs": [
        {
          "output_type": "stream",
          "name": "stdout",
          "text": [
            "[1 1 0 0 1]\n"
          ]
        }
      ]
    },
    {
      "cell_type": "markdown",
      "source": [
        "<a name=\"s8\"></a>\n",
        "\n",
        "#### **Step #8: Alice and Bob Compare Bases**\n",
        "\n",
        "In this step, Alice and Bob will compare their randomly selected bases. Complete the code below to accomplish this."
      ],
      "metadata": {
        "id": "IC8j0TYnf6H9"
      }
    },
    {
      "cell_type": "code",
      "source": [
        "final_alice_key = []\n",
        "final_bob_key = []\n",
        "\n",
        "for bit in range(num_bits): # COMPLETE THIS CODE\n",
        "\n",
        "  if alice_bases[bit] == bob_bases[bit]:\n",
        "    final_alice_key.append(alice_key[bit])\n",
        "    final_bob_key.append(bob_key[bit])\n",
        "\n",
        "print(final_alice_key)\n",
        "print(final_bob_key)"
      ],
      "metadata": {
        "id": "iJUk3lI7f6H-",
        "colab": {
          "base_uri": "https://localhost:8080/"
        },
        "outputId": "ee602dc0-4a3e-46ad-f966-52c0cec1c9e5"
      },
      "execution_count": null,
      "outputs": [
        {
          "output_type": "stream",
          "name": "stdout",
          "text": [
            "[0, 1, 0]\n",
            "[0, 0, 1]\n"
          ]
        }
      ]
    },
    {
      "cell_type": "markdown",
      "source": [
        "<a name=\"s9\"></a>\n",
        "\n",
        "#### **Step #9: Alice and Bob Compare the First Bits in Their Key**\n",
        "\n",
        "In this step, Alice and Bob will compare the first few bits in their key to ensure the protocol was successful.\n",
        "\n",
        "<br>\n",
        "\n",
        "**Run the code below to accomplish this.**"
      ],
      "metadata": {
        "id": "YoqZgLAUg28G"
      }
    },
    {
      "cell_type": "code",
      "source": [
        "if final_alice_key[0] == final_bob_key[0]:\n",
        "  final_alice_key = final_alice_key[1:]\n",
        "  final_bob_key = final_bob_key[1:]\n",
        "\n",
        "  print('We can use our keys!')\n",
        "  print('Alice Key: ', final_alice_key)\n",
        "  print('Bob Key: ', final_bob_key)\n",
        "\n",
        "else:\n",
        "  print('Eve was listening, we need to use a different channel!')"
      ],
      "metadata": {
        "id": "cRXIdCIng28H",
        "colab": {
          "base_uri": "https://localhost:8080/"
        },
        "outputId": "f1886156-ff24-4a2f-e12f-59c7170f19ac"
      },
      "execution_count": null,
      "outputs": [
        {
          "output_type": "stream",
          "name": "stdout",
          "text": [
            "We can use our keys!\n",
            "Alice Key:  [1, 0]\n",
            "Bob Key:  [0, 1]\n"
          ]
        }
      ]
    },
    {
      "cell_type": "markdown",
      "metadata": {
        "id": "7dzC09dLlEhm"
      },
      "source": [
        "# End of Notebook\n",
        "\n",
        "---\n",
        "© 2023 The Coding School, All rights reserved"
      ]
    }
  ]
}